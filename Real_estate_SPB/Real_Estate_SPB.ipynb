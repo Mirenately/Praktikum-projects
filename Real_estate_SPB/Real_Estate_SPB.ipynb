{
 "cells": [
  {
   "cell_type": "markdown",
   "metadata": {},
   "source": [
    "# Исследование объявлений о продаже квартир\n",
    "\n",
    "Мы исследуем архив объявлений о продаже квартир в Санкт-Петербурге и соседних населённых пунктов за несколько лет. Нужно научиться определять рыночную стоимость объектов недвижимости. Задача исследования - сформировать характеристику типичного объекта продажи, а также выделить факторы, влияющие на его стоимость.\n",
    "\n",
    "\n",
    "По каждой квартире на продажу доступны два вида данных. Первые вписаны пользователем, вторые — получены автоматически на основе картографических данных. Например, расстояние до центра, аэропорта, ближайшего парка и водоёма. "
   ]
  },
  {
   "cell_type": "markdown",
   "metadata": {},
   "source": [
    "#### Структура исследования\n",
    "\n",
    "1) <a href='#info1'>Общая информация</a>\n",
    "\n",
    "- <a href='#info2'>Вывод</a>\n",
    "\n",
    "2) <a href='#info3'> Предобработка данных </a>\n",
    "\n",
    "- <a href= '#info4'>Вывод </a>\n",
    "\n",
    "3) <a href='#info5'>Добавление расчетных данных в таблицу</a>\n",
    "\n",
    "- <a href='#info6'>Вывод</a>\n",
    "\n",
    "4) <a href='#info7'>Исследовательский анализ данных</a>\n",
    "\n",
    "- <a href='#info8'>Исследование цены, числа комнат, высоты потолков, площади</a>\n",
    "- <a href='#info9'>Исследование сроков продажи квартиры</a>\n",
    "- <a href='#info10'>Факторы, влияющие на стоимость квартиры</a>\n",
    "- <a href='#info11'>Данные по 10 лидерам</a>\n",
    "- <a href='#info12'>Определение центра</a>\n",
    "- <a href='#info13'>Сравнение показателей по центру и всему г. Санкт-Петербург</a>\n",
    "\n",
    "5) <a href='#info14'>Итог</a>"
   ]
  },
  {
   "cell_type": "markdown",
   "metadata": {},
   "source": [
    "Для анализа предоставлены следующие группы данных:\n",
    "1. Информация о квартире - данные о количестве комнат, площади, высоте потолков и т.п.;\n",
    "2. Информация о расположении квартиры - расстояние до ближайшего водоёма;\n",
    "3. Информация об объявлении, размещенном на сайте - число фотографий, дата публикации, длительность размещения объявления.\n"
   ]
  },
  {
   "cell_type": "markdown",
   "metadata": {},
   "source": [
    "### Шаг 1. Откройте файл с данными и изучите общую информацию. <a id=info1></a>"
   ]
  },
  {
   "cell_type": "code",
   "execution_count": 1,
   "metadata": {
    "scrolled": false
   },
   "outputs": [
    {
     "name": "stdout",
     "output_type": "stream",
     "text": [
      "<class 'pandas.core.frame.DataFrame'>\n",
      "RangeIndex: 23699 entries, 0 to 23698\n",
      "Data columns (total 22 columns):\n",
      "total_images            23699 non-null int64\n",
      "last_price              23699 non-null float64\n",
      "total_area              23699 non-null float64\n",
      "first_day_exposition    23699 non-null object\n",
      "rooms                   23699 non-null int64\n",
      "ceiling_height          14504 non-null float64\n",
      "floors_total            23613 non-null float64\n",
      "living_area             21796 non-null float64\n",
      "floor                   23699 non-null int64\n",
      "is_apartment            2775 non-null object\n",
      "studio                  23699 non-null bool\n",
      "open_plan               23699 non-null bool\n",
      "kitchen_area            21421 non-null float64\n",
      "balcony                 12180 non-null float64\n",
      "locality_name           23650 non-null object\n",
      "airports_nearest        18157 non-null float64\n",
      "cityCenters_nearest     18180 non-null float64\n",
      "parks_around3000        18181 non-null float64\n",
      "parks_nearest           8079 non-null float64\n",
      "ponds_around3000        18181 non-null float64\n",
      "ponds_nearest           9110 non-null float64\n",
      "days_exposition         20518 non-null float64\n",
      "dtypes: bool(2), float64(14), int64(3), object(3)\n",
      "memory usage: 3.7+ MB\n"
     ]
    }
   ],
   "source": [
    "import pandas as pd\n",
    "\n",
    "real_estate.info()"
   ]
  },
  {
   "cell_type": "code",
   "execution_count": 2,
   "metadata": {},
   "outputs": [],
   "source": [
    "import matplotlib.pyplot as plt"
   ]
  },
  {
   "cell_type": "code",
   "execution_count": 3,
   "metadata": {},
   "outputs": [
    {
     "data": {
      "text/html": [
       "<div>\n",
       "<style scoped>\n",
       "    .dataframe tbody tr th:only-of-type {\n",
       "        vertical-align: middle;\n",
       "    }\n",
       "\n",
       "    .dataframe tbody tr th {\n",
       "        vertical-align: top;\n",
       "    }\n",
       "\n",
       "    .dataframe thead th {\n",
       "        text-align: right;\n",
       "    }\n",
       "</style>\n",
       "<table border=\"1\" class=\"dataframe\">\n",
       "  <thead>\n",
       "    <tr style=\"text-align: right;\">\n",
       "      <th></th>\n",
       "      <th>total_images</th>\n",
       "      <th>last_price</th>\n",
       "      <th>total_area</th>\n",
       "      <th>first_day_exposition</th>\n",
       "      <th>rooms</th>\n",
       "      <th>ceiling_height</th>\n",
       "      <th>floors_total</th>\n",
       "      <th>living_area</th>\n",
       "      <th>floor</th>\n",
       "      <th>is_apartment</th>\n",
       "      <th>...</th>\n",
       "      <th>kitchen_area</th>\n",
       "      <th>balcony</th>\n",
       "      <th>locality_name</th>\n",
       "      <th>airports_nearest</th>\n",
       "      <th>cityCenters_nearest</th>\n",
       "      <th>parks_around3000</th>\n",
       "      <th>parks_nearest</th>\n",
       "      <th>ponds_around3000</th>\n",
       "      <th>ponds_nearest</th>\n",
       "      <th>days_exposition</th>\n",
       "    </tr>\n",
       "  </thead>\n",
       "  <tbody>\n",
       "    <tr>\n",
       "      <td>0</td>\n",
       "      <td>20</td>\n",
       "      <td>13000000.0</td>\n",
       "      <td>108.0</td>\n",
       "      <td>2019-03-07T00:00:00</td>\n",
       "      <td>3</td>\n",
       "      <td>2.70</td>\n",
       "      <td>16.0</td>\n",
       "      <td>51.0</td>\n",
       "      <td>8</td>\n",
       "      <td>NaN</td>\n",
       "      <td>...</td>\n",
       "      <td>25.0</td>\n",
       "      <td>NaN</td>\n",
       "      <td>Санкт-Петербург</td>\n",
       "      <td>18863.0</td>\n",
       "      <td>16028.0</td>\n",
       "      <td>1.0</td>\n",
       "      <td>482.0</td>\n",
       "      <td>2.0</td>\n",
       "      <td>755.0</td>\n",
       "      <td>NaN</td>\n",
       "    </tr>\n",
       "    <tr>\n",
       "      <td>1</td>\n",
       "      <td>7</td>\n",
       "      <td>3350000.0</td>\n",
       "      <td>40.4</td>\n",
       "      <td>2018-12-04T00:00:00</td>\n",
       "      <td>1</td>\n",
       "      <td>NaN</td>\n",
       "      <td>11.0</td>\n",
       "      <td>18.6</td>\n",
       "      <td>1</td>\n",
       "      <td>NaN</td>\n",
       "      <td>...</td>\n",
       "      <td>11.0</td>\n",
       "      <td>2.0</td>\n",
       "      <td>посёлок Шушары</td>\n",
       "      <td>12817.0</td>\n",
       "      <td>18603.0</td>\n",
       "      <td>0.0</td>\n",
       "      <td>NaN</td>\n",
       "      <td>0.0</td>\n",
       "      <td>NaN</td>\n",
       "      <td>81.0</td>\n",
       "    </tr>\n",
       "    <tr>\n",
       "      <td>2</td>\n",
       "      <td>10</td>\n",
       "      <td>5196000.0</td>\n",
       "      <td>56.0</td>\n",
       "      <td>2015-08-20T00:00:00</td>\n",
       "      <td>2</td>\n",
       "      <td>NaN</td>\n",
       "      <td>5.0</td>\n",
       "      <td>34.3</td>\n",
       "      <td>4</td>\n",
       "      <td>NaN</td>\n",
       "      <td>...</td>\n",
       "      <td>8.3</td>\n",
       "      <td>0.0</td>\n",
       "      <td>Санкт-Петербург</td>\n",
       "      <td>21741.0</td>\n",
       "      <td>13933.0</td>\n",
       "      <td>1.0</td>\n",
       "      <td>90.0</td>\n",
       "      <td>2.0</td>\n",
       "      <td>574.0</td>\n",
       "      <td>558.0</td>\n",
       "    </tr>\n",
       "    <tr>\n",
       "      <td>3</td>\n",
       "      <td>0</td>\n",
       "      <td>64900000.0</td>\n",
       "      <td>159.0</td>\n",
       "      <td>2015-07-24T00:00:00</td>\n",
       "      <td>3</td>\n",
       "      <td>NaN</td>\n",
       "      <td>14.0</td>\n",
       "      <td>NaN</td>\n",
       "      <td>9</td>\n",
       "      <td>NaN</td>\n",
       "      <td>...</td>\n",
       "      <td>NaN</td>\n",
       "      <td>0.0</td>\n",
       "      <td>Санкт-Петербург</td>\n",
       "      <td>28098.0</td>\n",
       "      <td>6800.0</td>\n",
       "      <td>2.0</td>\n",
       "      <td>84.0</td>\n",
       "      <td>3.0</td>\n",
       "      <td>234.0</td>\n",
       "      <td>424.0</td>\n",
       "    </tr>\n",
       "    <tr>\n",
       "      <td>4</td>\n",
       "      <td>2</td>\n",
       "      <td>10000000.0</td>\n",
       "      <td>100.0</td>\n",
       "      <td>2018-06-19T00:00:00</td>\n",
       "      <td>2</td>\n",
       "      <td>3.03</td>\n",
       "      <td>14.0</td>\n",
       "      <td>32.0</td>\n",
       "      <td>13</td>\n",
       "      <td>NaN</td>\n",
       "      <td>...</td>\n",
       "      <td>41.0</td>\n",
       "      <td>NaN</td>\n",
       "      <td>Санкт-Петербург</td>\n",
       "      <td>31856.0</td>\n",
       "      <td>8098.0</td>\n",
       "      <td>2.0</td>\n",
       "      <td>112.0</td>\n",
       "      <td>1.0</td>\n",
       "      <td>48.0</td>\n",
       "      <td>121.0</td>\n",
       "    </tr>\n",
       "  </tbody>\n",
       "</table>\n",
       "<p>5 rows × 22 columns</p>\n",
       "</div>"
      ],
      "text/plain": [
       "   total_images  last_price  total_area first_day_exposition  rooms  \\\n",
       "0            20  13000000.0       108.0  2019-03-07T00:00:00      3   \n",
       "1             7   3350000.0        40.4  2018-12-04T00:00:00      1   \n",
       "2            10   5196000.0        56.0  2015-08-20T00:00:00      2   \n",
       "3             0  64900000.0       159.0  2015-07-24T00:00:00      3   \n",
       "4             2  10000000.0       100.0  2018-06-19T00:00:00      2   \n",
       "\n",
       "   ceiling_height  floors_total  living_area  floor is_apartment  ...  \\\n",
       "0            2.70          16.0         51.0      8          NaN  ...   \n",
       "1             NaN          11.0         18.6      1          NaN  ...   \n",
       "2             NaN           5.0         34.3      4          NaN  ...   \n",
       "3             NaN          14.0          NaN      9          NaN  ...   \n",
       "4            3.03          14.0         32.0     13          NaN  ...   \n",
       "\n",
       "   kitchen_area  balcony    locality_name  airports_nearest  \\\n",
       "0          25.0      NaN  Санкт-Петербург           18863.0   \n",
       "1          11.0      2.0   посёлок Шушары           12817.0   \n",
       "2           8.3      0.0  Санкт-Петербург           21741.0   \n",
       "3           NaN      0.0  Санкт-Петербург           28098.0   \n",
       "4          41.0      NaN  Санкт-Петербург           31856.0   \n",
       "\n",
       "  cityCenters_nearest  parks_around3000  parks_nearest  ponds_around3000  \\\n",
       "0             16028.0               1.0          482.0               2.0   \n",
       "1             18603.0               0.0            NaN               0.0   \n",
       "2             13933.0               1.0           90.0               2.0   \n",
       "3              6800.0               2.0           84.0               3.0   \n",
       "4              8098.0               2.0          112.0               1.0   \n",
       "\n",
       "   ponds_nearest  days_exposition  \n",
       "0          755.0              NaN  \n",
       "1            NaN             81.0  \n",
       "2          574.0            558.0  \n",
       "3          234.0            424.0  \n",
       "4           48.0            121.0  \n",
       "\n",
       "[5 rows x 22 columns]"
      ]
     },
     "execution_count": 3,
     "metadata": {},
     "output_type": "execute_result"
    }
   ],
   "source": [
    "real_estate.head()"
   ]
  },
  {
   "cell_type": "markdown",
   "metadata": {},
   "source": [
    "Данные по рынку недвижимости представлены в таблице со следующими характеристиками: **23699** записей в **22** столбцах (4 типа данных bool, float, int и object).\n",
    "\n",
    "Категориальные данные - **locality_name**\n",
    "\n",
    "Количественные данные - **total_images, last_price, total_area, rooms, ceiling_height, floors_total, living_area, floor, kitchen_area, airports_nearest, cityCenters_nearest, parks_around3000, parks_nearest, ponds_around3000, ponds_nearest, days_exposition, first_day_exposition**\n",
    "\n",
    "Логические данные - **is_apartment, studio**\n",
    "\n",
    "Первичный осмотр выявил следующие проблемы:\n",
    "\n",
    "1. **first_day_exposition** - указан в формате object (необходимо перевести столбец в datetime)\n",
    "2. Наличие пропусков в столбцах - **ceiling_height, floors_total, living_area, is_apartment, kitchen_area, balcony, locality_name, airport_nearest, cityCenters_nearest, parks_around3000, parks_nearest, ponds_around3000, ponds_nearest, days_exposition**\n",
    "(14 столбцов из 22)\n",
    "3. Выявлено несколько столбцов с несоответствующими типами данных. ('last price', 'floors_total',  'balcony' - для удобства расчетов следует перевести в int, 'is_apartment' - необходимо перевести в формат bool)\n",
    "\n",
    "Поскольку пропущенных значений в данных много, нужно выяснить их природу и определить степень влияния на итоговый анализ. Рассмотрим таблицу подробнее для выявления скрытых ошибок. Сначала исследуем столбцы, в которых отсутствуют пропуски.\n",
    "\n",
    "**1)** Рассмотрим столбец 'total_images':"
   ]
  },
  {
   "cell_type": "code",
   "execution_count": 4,
   "metadata": {
    "scrolled": true
   },
   "outputs": [
    {
     "data": {
      "text/plain": [
       "count    23699.000000\n",
       "mean         9.858475\n",
       "std          5.682529\n",
       "min          0.000000\n",
       "25%          6.000000\n",
       "50%          9.000000\n",
       "75%         14.000000\n",
       "max         50.000000\n",
       "Name: total_images, dtype: float64"
      ]
     },
     "execution_count": 4,
     "metadata": {},
     "output_type": "execute_result"
    }
   ],
   "source": [
    "real_estate['total_images'].describe()"
   ]
  },
  {
   "cell_type": "code",
   "execution_count": 5,
   "metadata": {
    "scrolled": true
   },
   "outputs": [
    {
     "data": {
      "text/plain": [
       "<matplotlib.axes._subplots.AxesSubplot at 0x7fb293f19610>"
      ]
     },
     "execution_count": 5,
     "metadata": {},
     "output_type": "execute_result"
    },
    {
     "data": {
      "image/png": "[encoded data removed]",
      "text/plain": [
       "<Figure size 432x288 with 1 Axes>"
      ]
     },
     "metadata": {
      "needs_background": "light"
     },
     "output_type": "display_data"
    }
   ],
   "source": [
    "real_estate['total_images'].hist(bins=50)"
   ]
  },
  {
   "cell_type": "code",
   "execution_count": 6,
   "metadata": {},
   "outputs": [
    {
     "data": {
      "text/html": [
       "<div>\n",
       "<style scoped>\n",
       "    .dataframe tbody tr th:only-of-type {\n",
       "        vertical-align: middle;\n",
       "    }\n",
       "\n",
       "    .dataframe tbody tr th {\n",
       "        vertical-align: top;\n",
       "    }\n",
       "\n",
       "    .dataframe thead th {\n",
       "        text-align: right;\n",
       "    }\n",
       "</style>\n",
       "<table border=\"1\" class=\"dataframe\">\n",
       "  <thead>\n",
       "    <tr style=\"text-align: right;\">\n",
       "      <th></th>\n",
       "      <th>total_images</th>\n",
       "      <th>last_price</th>\n",
       "      <th>total_area</th>\n",
       "      <th>first_day_exposition</th>\n",
       "      <th>rooms</th>\n",
       "      <th>ceiling_height</th>\n",
       "      <th>floors_total</th>\n",
       "      <th>living_area</th>\n",
       "      <th>floor</th>\n",
       "      <th>is_apartment</th>\n",
       "      <th>...</th>\n",
       "      <th>kitchen_area</th>\n",
       "      <th>balcony</th>\n",
       "      <th>locality_name</th>\n",
       "      <th>airports_nearest</th>\n",
       "      <th>cityCenters_nearest</th>\n",
       "      <th>parks_around3000</th>\n",
       "      <th>parks_nearest</th>\n",
       "      <th>ponds_around3000</th>\n",
       "      <th>ponds_nearest</th>\n",
       "      <th>days_exposition</th>\n",
       "    </tr>\n",
       "  </thead>\n",
       "  <tbody>\n",
       "    <tr>\n",
       "      <td>9778</td>\n",
       "      <td>50</td>\n",
       "      <td>11000000.0</td>\n",
       "      <td>87.0</td>\n",
       "      <td>2017-10-25T00:00:00</td>\n",
       "      <td>2</td>\n",
       "      <td>NaN</td>\n",
       "      <td>25.0</td>\n",
       "      <td>32.5</td>\n",
       "      <td>11</td>\n",
       "      <td>NaN</td>\n",
       "      <td>...</td>\n",
       "      <td>31.0</td>\n",
       "      <td>5.0</td>\n",
       "      <td>Санкт-Петербург</td>\n",
       "      <td>9586.0</td>\n",
       "      <td>11649.0</td>\n",
       "      <td>0.0</td>\n",
       "      <td>NaN</td>\n",
       "      <td>0.0</td>\n",
       "      <td>NaN</td>\n",
       "      <td>3.0</td>\n",
       "    </tr>\n",
       "    <tr>\n",
       "      <td>12667</td>\n",
       "      <td>50</td>\n",
       "      <td>20500000.0</td>\n",
       "      <td>76.0</td>\n",
       "      <td>2017-12-10T00:00:00</td>\n",
       "      <td>3</td>\n",
       "      <td>NaN</td>\n",
       "      <td>20.0</td>\n",
       "      <td>47.0</td>\n",
       "      <td>16</td>\n",
       "      <td>NaN</td>\n",
       "      <td>...</td>\n",
       "      <td>29.0</td>\n",
       "      <td>NaN</td>\n",
       "      <td>Санкт-Петербург</td>\n",
       "      <td>50812.0</td>\n",
       "      <td>16141.0</td>\n",
       "      <td>0.0</td>\n",
       "      <td>NaN</td>\n",
       "      <td>0.0</td>\n",
       "      <td>NaN</td>\n",
       "      <td>5.0</td>\n",
       "    </tr>\n",
       "    <tr>\n",
       "      <td>17396</td>\n",
       "      <td>50</td>\n",
       "      <td>14500000.0</td>\n",
       "      <td>119.7</td>\n",
       "      <td>2017-12-02T00:00:00</td>\n",
       "      <td>4</td>\n",
       "      <td>4.0</td>\n",
       "      <td>4.0</td>\n",
       "      <td>87.5</td>\n",
       "      <td>3</td>\n",
       "      <td>NaN</td>\n",
       "      <td>...</td>\n",
       "      <td>13.5</td>\n",
       "      <td>NaN</td>\n",
       "      <td>Санкт-Петербург</td>\n",
       "      <td>24375.0</td>\n",
       "      <td>2410.0</td>\n",
       "      <td>1.0</td>\n",
       "      <td>551.0</td>\n",
       "      <td>2.0</td>\n",
       "      <td>617.0</td>\n",
       "      <td>106.0</td>\n",
       "    </tr>\n",
       "  </tbody>\n",
       "</table>\n",
       "<p>3 rows × 22 columns</p>\n",
       "</div>"
      ],
      "text/plain": [
       "       total_images  last_price  total_area first_day_exposition  rooms  \\\n",
       "9778             50  11000000.0        87.0  2017-10-25T00:00:00      2   \n",
       "12667            50  20500000.0        76.0  2017-12-10T00:00:00      3   \n",
       "17396            50  14500000.0       119.7  2017-12-02T00:00:00      4   \n",
       "\n",
       "       ceiling_height  floors_total  living_area  floor is_apartment  ...  \\\n",
       "9778              NaN          25.0         32.5     11          NaN  ...   \n",
       "12667             NaN          20.0         47.0     16          NaN  ...   \n",
       "17396             4.0           4.0         87.5      3          NaN  ...   \n",
       "\n",
       "       kitchen_area  balcony    locality_name  airports_nearest  \\\n",
       "9778           31.0      5.0  Санкт-Петербург            9586.0   \n",
       "12667          29.0      NaN  Санкт-Петербург           50812.0   \n",
       "17396          13.5      NaN  Санкт-Петербург           24375.0   \n",
       "\n",
       "      cityCenters_nearest  parks_around3000  parks_nearest  ponds_around3000  \\\n",
       "9778              11649.0               0.0            NaN               0.0   \n",
       "12667             16141.0               0.0            NaN               0.0   \n",
       "17396              2410.0               1.0          551.0               2.0   \n",
       "\n",
       "       ponds_nearest  days_exposition  \n",
       "9778             NaN              3.0  \n",
       "12667            NaN              5.0  \n",
       "17396          617.0            106.0  \n",
       "\n",
       "[3 rows x 22 columns]"
      ]
     },
     "execution_count": 6,
     "metadata": {},
     "output_type": "execute_result"
    }
   ],
   "source": [
    "real_estate.query('total_images == 50')"
   ]
  },
  {
   "cell_type": "markdown",
   "metadata": {},
   "source": [
    "Данные о прикрепленных фотографиях представлены в полном объеме, пропусков в столбце 'total_images' нет. На гистограмме заметно 3 пика значений: 0 (не было предоставлено фотографий), 10 и 20. Судя по пику на 20, можно предположить наличие технического ограничения на количество загрузок.\n",
    "Также присутствует несколько выбивающихся значений, однако серьёзных отклонений не обнаружено.\n",
    "\n",
    "**2)** Переходим к рассмотрению 'last_price' "
   ]
  },
  {
   "cell_type": "code",
   "execution_count": 7,
   "metadata": {
    "scrolled": true
   },
   "outputs": [
    {
     "name": "stdout",
     "output_type": "stream",
     "text": [
      "Минимальная цена: 12190.0\n",
      "Средняя цена: 6541548.771551542\n",
      "Максимальная цена: 763000000.0\n",
      "Медианная цена: 4650000.0\n"
     ]
    }
   ],
   "source": [
    "print('Минимальная цена:', real_estate['last_price'].min())\n",
    "print('Средняя цена:', real_estate['last_price'].mean())\n",
    "print('Максимальная цена:', real_estate['last_price'].max())\n",
    "print('Медианная цена:', real_estate['last_price'].median())"
   ]
  },
  {
   "cell_type": "code",
   "execution_count": 8,
   "metadata": {
    "scrolled": false
   },
   "outputs": [
    {
     "data": {
      "image/png": "[encoded data removed]",
      "text/plain": [
       "<Figure size 432x288 with 1 Axes>"
      ]
     },
     "metadata": {
      "needs_background": "light"
     },
     "output_type": "display_data"
    },
    {
     "data": {
      "text/plain": [
       "<matplotlib.axes._subplots.AxesSubplot at 0x7fb255a59310>"
      ]
     },
     "execution_count": 8,
     "metadata": {},
     "output_type": "execute_result"
    },
    {
     "data": {
      "image/png": "[encoded data removed]",
      "text/plain": [
       "<Figure size 432x288 with 1 Axes>"
      ]
     },
     "metadata": {
      "needs_background": "light"
     },
     "output_type": "display_data"
    }
   ],
   "source": [
    "real_estate['last_price'].hist(bins=100, range = (0, 10000000))\n",
    "plt.show()\n",
    "real_estate['last_price'].hist(bins=100, range = (50000000, real_estate['last_price'].max()))"
   ]
  },
  {
   "cell_type": "code",
   "execution_count": 9,
   "metadata": {},
   "outputs": [
    {
     "data": {
      "text/html": [
       "<div>\n",
       "<style scoped>\n",
       "    .dataframe tbody tr th:only-of-type {\n",
       "        vertical-align: middle;\n",
       "    }\n",
       "\n",
       "    .dataframe tbody tr th {\n",
       "        vertical-align: top;\n",
       "    }\n",
       "\n",
       "    .dataframe thead th {\n",
       "        text-align: right;\n",
       "    }\n",
       "</style>\n",
       "<table border=\"1\" class=\"dataframe\">\n",
       "  <thead>\n",
       "    <tr style=\"text-align: right;\">\n",
       "      <th></th>\n",
       "      <th>total_images</th>\n",
       "      <th>last_price</th>\n",
       "      <th>total_area</th>\n",
       "      <th>first_day_exposition</th>\n",
       "      <th>rooms</th>\n",
       "      <th>ceiling_height</th>\n",
       "      <th>floors_total</th>\n",
       "      <th>living_area</th>\n",
       "      <th>floor</th>\n",
       "      <th>is_apartment</th>\n",
       "      <th>...</th>\n",
       "      <th>kitchen_area</th>\n",
       "      <th>balcony</th>\n",
       "      <th>locality_name</th>\n",
       "      <th>airports_nearest</th>\n",
       "      <th>cityCenters_nearest</th>\n",
       "      <th>parks_around3000</th>\n",
       "      <th>parks_nearest</th>\n",
       "      <th>ponds_around3000</th>\n",
       "      <th>ponds_nearest</th>\n",
       "      <th>days_exposition</th>\n",
       "    </tr>\n",
       "  </thead>\n",
       "  <tbody>\n",
       "    <tr>\n",
       "      <td>12971</td>\n",
       "      <td>19</td>\n",
       "      <td>763000000.0</td>\n",
       "      <td>400.0</td>\n",
       "      <td>2017-09-30T00:00:00</td>\n",
       "      <td>7</td>\n",
       "      <td>NaN</td>\n",
       "      <td>10.0</td>\n",
       "      <td>250.0</td>\n",
       "      <td>10</td>\n",
       "      <td>NaN</td>\n",
       "      <td>...</td>\n",
       "      <td>NaN</td>\n",
       "      <td>2.0</td>\n",
       "      <td>Санкт-Петербург</td>\n",
       "      <td>25108.0</td>\n",
       "      <td>3956.0</td>\n",
       "      <td>1.0</td>\n",
       "      <td>530.0</td>\n",
       "      <td>3.0</td>\n",
       "      <td>756.0</td>\n",
       "      <td>33.0</td>\n",
       "    </tr>\n",
       "  </tbody>\n",
       "</table>\n",
       "<p>1 rows × 22 columns</p>\n",
       "</div>"
      ],
      "text/plain": [
       "       total_images   last_price  total_area first_day_exposition  rooms  \\\n",
       "12971            19  763000000.0       400.0  2017-09-30T00:00:00      7   \n",
       "\n",
       "       ceiling_height  floors_total  living_area  floor is_apartment  ...  \\\n",
       "12971             NaN          10.0        250.0     10          NaN  ...   \n",
       "\n",
       "       kitchen_area  balcony    locality_name  airports_nearest  \\\n",
       "12971           NaN      2.0  Санкт-Петербург           25108.0   \n",
       "\n",
       "      cityCenters_nearest  parks_around3000  parks_nearest  ponds_around3000  \\\n",
       "12971              3956.0               1.0          530.0               3.0   \n",
       "\n",
       "       ponds_nearest  days_exposition  \n",
       "12971          756.0             33.0  \n",
       "\n",
       "[1 rows x 22 columns]"
      ]
     },
     "execution_count": 9,
     "metadata": {},
     "output_type": "execute_result"
    }
   ],
   "source": [
    "real_estate.query('last_price == last_price.max()')"
   ]
  },
  {
   "cell_type": "markdown",
   "metadata": {},
   "source": [
    "В столбце 'last_price' не обнаружено пропусков и аномальных значений (нулевых, отрицательных). Распределение данных похоже на нормальное. Максимальные значения влияют на среднее, завышая его на 2 млн. по сравненю с медианой.\n",
    "В целом проблемы с исходными данными отсутствуют.\n",
    "\n",
    "**3)** Рассмотрим данные по площади квартир в столбце 'total_area'"
   ]
  },
  {
   "cell_type": "code",
   "execution_count": 10,
   "metadata": {},
   "outputs": [
    {
     "data": {
      "text/plain": [
       "count    23699.000000\n",
       "mean        60.348651\n",
       "std         35.654083\n",
       "min         12.000000\n",
       "25%         40.000000\n",
       "50%         52.000000\n",
       "75%         69.900000\n",
       "max        900.000000\n",
       "Name: total_area, dtype: float64"
      ]
     },
     "execution_count": 10,
     "metadata": {},
     "output_type": "execute_result"
    }
   ],
   "source": [
    "real_estate['total_area'].describe()"
   ]
  },
  {
   "cell_type": "code",
   "execution_count": 11,
   "metadata": {},
   "outputs": [
    {
     "name": "stdout",
     "output_type": "stream",
     "text": [
      "Число квартир, площадью больше 100 кв.м.: 1836\n",
      "Доля квартир, площадью больше 100 кв. м.: 7.75%\n"
     ]
    }
   ],
   "source": [
    "print('Число квартир, площадью больше 100 кв.м.:',real_estate[real_estate['total_area'] > 100]['total_area'].count())\n",
    "print('Доля квартир, площадью больше 100 кв. м.: {:.2%}'.format(real_estate[real_estate['total_area'] > 100]['total_area'].count()/len(real_estate['total_area'])))"
   ]
  },
  {
   "cell_type": "code",
   "execution_count": 12,
   "metadata": {
    "scrolled": true
   },
   "outputs": [
    {
     "data": {
      "text/plain": [
       "<matplotlib.axes._subplots.AxesSubplot at 0x7fb255b7a5d0>"
      ]
     },
     "execution_count": 12,
     "metadata": {},
     "output_type": "execute_result"
    },
    {
     "data": {
      "image/png": "[encoded data removed]",
      "text/plain": [
       "<Figure size 432x288 with 1 Axes>"
      ]
     },
     "metadata": {
      "needs_background": "light"
     },
     "output_type": "display_data"
    }
   ],
   "source": [
    "real_estate['total_area'].hist(bins=100, range = (0, 105))"
   ]
  },
  {
   "cell_type": "markdown",
   "metadata": {},
   "source": [
    "В столбце 'real_estate' не обнаружено пропусков. Доля данных, выбивающихся за Q3*1,5 составляет 7,75%. В выборке присутствует несколько квартир с аномально высокой ценой, однако в целом проблемы с исходными данными отсутствуют.\n",
    "\n",
    "4) Столбец 'rooms' - количество комнат."
   ]
  },
  {
   "cell_type": "code",
   "execution_count": 13,
   "metadata": {
    "scrolled": false
   },
   "outputs": [
    {
     "data": {
      "text/plain": [
       "1     8047\n",
       "2     7940\n",
       "3     5814\n",
       "4     1180\n",
       "5      326\n",
       "0      197\n",
       "6      105\n",
       "7       59\n",
       "8       12\n",
       "9        8\n",
       "10       3\n",
       "14       2\n",
       "11       2\n",
       "19       1\n",
       "12       1\n",
       "16       1\n",
       "15       1\n",
       "Name: rooms, dtype: int64"
      ]
     },
     "execution_count": 13,
     "metadata": {},
     "output_type": "execute_result"
    }
   ],
   "source": [
    "real_estate['rooms'].value_counts()"
   ]
  },
  {
   "cell_type": "code",
   "execution_count": 14,
   "metadata": {},
   "outputs": [
    {
     "data": {
      "text/plain": [
       "<matplotlib.axes._subplots.AxesSubplot at 0x7fb2558aab10>"
      ]
     },
     "execution_count": 14,
     "metadata": {},
     "output_type": "execute_result"
    },
    {
     "data": {
      "image/png": "[encoded data removed]",
      "text/plain": [
       "<Figure size 432x288 with 1 Axes>"
      ]
     },
     "metadata": {
      "needs_background": "light"
     },
     "output_type": "display_data"
    }
   ],
   "source": [
    "real_estate[real_estate['rooms'] == 0]['total_area'].hist(bins=200)"
   ]
  },
  {
   "cell_type": "markdown",
   "metadata": {},
   "source": [
    "В данных о количестве комнат (столбец 'rooms'). Основная часть выборки сосредоточена среди значений 1-4, что объясняется спецификой жилого фонда в России.\n",
    "В 197 случаях появляется значение 0 комнат. При этом большинство таких помещений имеет площадь около 30 кв. м. Возможно, что в подобных жилых помещениях не выделялись отдельные комнаты. Полагаем целесообразным  для дальнейших расчетовперевести их в статус однокомнатных.\n",
    "\n",
    "5) 'first_day_exposition' - дата размещения объявления на сайте"
   ]
  },
  {
   "cell_type": "code",
   "execution_count": 15,
   "metadata": {},
   "outputs": [
    {
     "data": {
      "text/plain": [
       "0    2019-03-07T00:00:00\n",
       "1    2018-12-04T00:00:00\n",
       "2    2015-08-20T00:00:00\n",
       "3    2015-07-24T00:00:00\n",
       "4    2018-06-19T00:00:00\n",
       "5    2018-09-10T00:00:00\n",
       "6    2017-11-02T00:00:00\n",
       "7    2019-04-18T00:00:00\n",
       "8    2018-05-23T00:00:00\n",
       "9    2017-02-26T00:00:00\n",
       "Name: first_day_exposition, dtype: object"
      ]
     },
     "execution_count": 15,
     "metadata": {},
     "output_type": "execute_result"
    }
   ],
   "source": [
    "real_estate['first_day_exposition'].head(10)"
   ]
  },
  {
   "cell_type": "markdown",
   "metadata": {},
   "source": [
    "Столбец 'first_day_exposition' содержит значения в формате object. Для дальнейшего анализа необходимо перевести их в datetime. \n",
    "\n",
    "6) Рассмотрим столбцы, в которых содержатся логические данные - 'studio', 'open_plan'"
   ]
  },
  {
   "cell_type": "code",
   "execution_count": 16,
   "metadata": {},
   "outputs": [
    {
     "name": "stdout",
     "output_type": "stream",
     "text": [
      "[False  True]\n",
      "False    23550\n",
      "True       149\n",
      "Name: studio, dtype: int64\n"
     ]
    }
   ],
   "source": [
    "print(real_estate['studio'].unique())\n",
    "print(real_estate['studio'].value_counts())"
   ]
  },
  {
   "cell_type": "code",
   "execution_count": 17,
   "metadata": {},
   "outputs": [
    {
     "name": "stdout",
     "output_type": "stream",
     "text": [
      "[False  True]\n",
      "False    23632\n",
      "True        67\n",
      "Name: open_plan, dtype: int64\n"
     ]
    }
   ],
   "source": [
    "print(real_estate['open_plan'].unique())\n",
    "print(real_estate['open_plan'].value_counts())"
   ]
  },
  {
   "cell_type": "markdown",
   "metadata": {},
   "source": [
    "В столбцах 'open_plan', 'studio' проблем не обнаружено.\n",
    "\n",
    "Перейдём к исследованию данных с пропусками."
   ]
  },
  {
   "cell_type": "markdown",
   "metadata": {},
   "source": [
    "### Данные с пропусками"
   ]
  },
  {
   "cell_type": "markdown",
   "metadata": {},
   "source": [
    "1) Исследуем столбец 'ceiling_height'"
   ]
  },
  {
   "cell_type": "code",
   "execution_count": 18,
   "metadata": {},
   "outputs": [
    {
     "data": {
      "text/plain": [
       "count    14504.000000\n",
       "mean         2.771499\n",
       "std          1.261056\n",
       "min          1.000000\n",
       "25%          2.520000\n",
       "50%          2.650000\n",
       "75%          2.800000\n",
       "max        100.000000\n",
       "Name: ceiling_height, dtype: float64"
      ]
     },
     "execution_count": 18,
     "metadata": {},
     "output_type": "execute_result"
    }
   ],
   "source": [
    "real_estate['ceiling_height'].describe()"
   ]
  },
  {
   "cell_type": "code",
   "execution_count": 19,
   "metadata": {},
   "outputs": [
    {
     "data": {
      "text/plain": [
       "4.20      10\n",
       "27.00      8\n",
       "25.00      7\n",
       "4.50       7\n",
       "8.00       3\n",
       "4.40       3\n",
       "4.10       3\n",
       "5.30       2\n",
       "4.70       2\n",
       "4.19       2\n",
       "4.45       2\n",
       "32.00      2\n",
       "4.06       1\n",
       "4.25       1\n",
       "24.00      1\n",
       "26.00      1\n",
       "5.50       1\n",
       "4.37       1\n",
       "5.00       1\n",
       "14.00      1\n",
       "10.30      1\n",
       "20.00      1\n",
       "6.00       1\n",
       "8.30       1\n",
       "100.00     1\n",
       "4.14       1\n",
       "4.65       1\n",
       "5.20       1\n",
       "4.80       1\n",
       "4.30       1\n",
       "5.80       1\n",
       "22.60      1\n",
       "5.60       1\n",
       "4.15       1\n",
       "4.90       1\n",
       "27.50      1\n",
       "Name: ceiling_height, dtype: int64"
      ]
     },
     "execution_count": 19,
     "metadata": {},
     "output_type": "execute_result"
    }
   ],
   "source": [
    "real_estate[real_estate['ceiling_height'] > 4]['ceiling_height'].value_counts()"
   ]
  },
  {
   "cell_type": "code",
   "execution_count": 20,
   "metadata": {},
   "outputs": [
    {
     "name": "stdout",
     "output_type": "stream",
     "text": [
      "Число пропущенных значений в столбце \"ceiling_height\" : 9195\n",
      "Доля пропущенных значений: 38.80%\n"
     ]
    }
   ],
   "source": [
    "print('Число пропущенных значений в столбце \"ceiling_height\"', ':', real_estate['ceiling_height'].isna().sum())\n",
    "print('Доля пропущенных значений: {:.2%}'.format(real_estate['ceiling_height'].isna().sum()/len(real_estate['ceiling_height'])))"
   ]
  },
  {
   "cell_type": "code",
   "execution_count": 21,
   "metadata": {
    "scrolled": false
   },
   "outputs": [
    {
     "data": {
      "text/html": [
       "<div>\n",
       "<style scoped>\n",
       "    .dataframe tbody tr th:only-of-type {\n",
       "        vertical-align: middle;\n",
       "    }\n",
       "\n",
       "    .dataframe tbody tr th {\n",
       "        vertical-align: top;\n",
       "    }\n",
       "\n",
       "    .dataframe thead th {\n",
       "        text-align: right;\n",
       "    }\n",
       "</style>\n",
       "<table border=\"1\" class=\"dataframe\">\n",
       "  <thead>\n",
       "    <tr style=\"text-align: right;\">\n",
       "      <th></th>\n",
       "      <th>total_images</th>\n",
       "      <th>last_price</th>\n",
       "      <th>total_area</th>\n",
       "      <th>first_day_exposition</th>\n",
       "      <th>rooms</th>\n",
       "      <th>ceiling_height</th>\n",
       "      <th>floors_total</th>\n",
       "      <th>living_area</th>\n",
       "      <th>floor</th>\n",
       "      <th>is_apartment</th>\n",
       "      <th>...</th>\n",
       "      <th>kitchen_area</th>\n",
       "      <th>balcony</th>\n",
       "      <th>locality_name</th>\n",
       "      <th>airports_nearest</th>\n",
       "      <th>cityCenters_nearest</th>\n",
       "      <th>parks_around3000</th>\n",
       "      <th>parks_nearest</th>\n",
       "      <th>ponds_around3000</th>\n",
       "      <th>ponds_nearest</th>\n",
       "      <th>days_exposition</th>\n",
       "    </tr>\n",
       "  </thead>\n",
       "  <tbody>\n",
       "    <tr>\n",
       "      <td>1</td>\n",
       "      <td>7</td>\n",
       "      <td>3350000.0</td>\n",
       "      <td>40.4</td>\n",
       "      <td>2018-12-04T00:00:00</td>\n",
       "      <td>1</td>\n",
       "      <td>NaN</td>\n",
       "      <td>11.0</td>\n",
       "      <td>18.6</td>\n",
       "      <td>1</td>\n",
       "      <td>NaN</td>\n",
       "      <td>...</td>\n",
       "      <td>11.0</td>\n",
       "      <td>2.0</td>\n",
       "      <td>посёлок Шушары</td>\n",
       "      <td>12817.0</td>\n",
       "      <td>18603.0</td>\n",
       "      <td>0.0</td>\n",
       "      <td>NaN</td>\n",
       "      <td>0.0</td>\n",
       "      <td>NaN</td>\n",
       "      <td>81.0</td>\n",
       "    </tr>\n",
       "    <tr>\n",
       "      <td>2</td>\n",
       "      <td>10</td>\n",
       "      <td>5196000.0</td>\n",
       "      <td>56.0</td>\n",
       "      <td>2015-08-20T00:00:00</td>\n",
       "      <td>2</td>\n",
       "      <td>NaN</td>\n",
       "      <td>5.0</td>\n",
       "      <td>34.3</td>\n",
       "      <td>4</td>\n",
       "      <td>NaN</td>\n",
       "      <td>...</td>\n",
       "      <td>8.3</td>\n",
       "      <td>0.0</td>\n",
       "      <td>Санкт-Петербург</td>\n",
       "      <td>21741.0</td>\n",
       "      <td>13933.0</td>\n",
       "      <td>1.0</td>\n",
       "      <td>90.0</td>\n",
       "      <td>2.0</td>\n",
       "      <td>574.0</td>\n",
       "      <td>558.0</td>\n",
       "    </tr>\n",
       "    <tr>\n",
       "      <td>3</td>\n",
       "      <td>0</td>\n",
       "      <td>64900000.0</td>\n",
       "      <td>159.0</td>\n",
       "      <td>2015-07-24T00:00:00</td>\n",
       "      <td>3</td>\n",
       "      <td>NaN</td>\n",
       "      <td>14.0</td>\n",
       "      <td>NaN</td>\n",
       "      <td>9</td>\n",
       "      <td>NaN</td>\n",
       "      <td>...</td>\n",
       "      <td>NaN</td>\n",
       "      <td>0.0</td>\n",
       "      <td>Санкт-Петербург</td>\n",
       "      <td>28098.0</td>\n",
       "      <td>6800.0</td>\n",
       "      <td>2.0</td>\n",
       "      <td>84.0</td>\n",
       "      <td>3.0</td>\n",
       "      <td>234.0</td>\n",
       "      <td>424.0</td>\n",
       "    </tr>\n",
       "    <tr>\n",
       "      <td>5</td>\n",
       "      <td>10</td>\n",
       "      <td>2890000.0</td>\n",
       "      <td>30.4</td>\n",
       "      <td>2018-09-10T00:00:00</td>\n",
       "      <td>1</td>\n",
       "      <td>NaN</td>\n",
       "      <td>12.0</td>\n",
       "      <td>14.4</td>\n",
       "      <td>5</td>\n",
       "      <td>NaN</td>\n",
       "      <td>...</td>\n",
       "      <td>9.1</td>\n",
       "      <td>NaN</td>\n",
       "      <td>городской посёлок Янино-1</td>\n",
       "      <td>NaN</td>\n",
       "      <td>NaN</td>\n",
       "      <td>NaN</td>\n",
       "      <td>NaN</td>\n",
       "      <td>NaN</td>\n",
       "      <td>NaN</td>\n",
       "      <td>55.0</td>\n",
       "    </tr>\n",
       "    <tr>\n",
       "      <td>6</td>\n",
       "      <td>6</td>\n",
       "      <td>3700000.0</td>\n",
       "      <td>37.3</td>\n",
       "      <td>2017-11-02T00:00:00</td>\n",
       "      <td>1</td>\n",
       "      <td>NaN</td>\n",
       "      <td>26.0</td>\n",
       "      <td>10.6</td>\n",
       "      <td>6</td>\n",
       "      <td>NaN</td>\n",
       "      <td>...</td>\n",
       "      <td>14.4</td>\n",
       "      <td>1.0</td>\n",
       "      <td>посёлок Парголово</td>\n",
       "      <td>52996.0</td>\n",
       "      <td>19143.0</td>\n",
       "      <td>0.0</td>\n",
       "      <td>NaN</td>\n",
       "      <td>0.0</td>\n",
       "      <td>NaN</td>\n",
       "      <td>155.0</td>\n",
       "    </tr>\n",
       "  </tbody>\n",
       "</table>\n",
       "<p>5 rows × 22 columns</p>\n",
       "</div>"
      ],
      "text/plain": [
       "   total_images  last_price  total_area first_day_exposition  rooms  \\\n",
       "1             7   3350000.0        40.4  2018-12-04T00:00:00      1   \n",
       "2            10   5196000.0        56.0  2015-08-20T00:00:00      2   \n",
       "3             0  64900000.0       159.0  2015-07-24T00:00:00      3   \n",
       "5            10   2890000.0        30.4  2018-09-10T00:00:00      1   \n",
       "6             6   3700000.0        37.3  2017-11-02T00:00:00      1   \n",
       "\n",
       "   ceiling_height  floors_total  living_area  floor is_apartment  ...  \\\n",
       "1             NaN          11.0         18.6      1          NaN  ...   \n",
       "2             NaN           5.0         34.3      4          NaN  ...   \n",
       "3             NaN          14.0          NaN      9          NaN  ...   \n",
       "5             NaN          12.0         14.4      5          NaN  ...   \n",
       "6             NaN          26.0         10.6      6          NaN  ...   \n",
       "\n",
       "   kitchen_area  balcony              locality_name  airports_nearest  \\\n",
       "1          11.0      2.0             посёлок Шушары           12817.0   \n",
       "2           8.3      0.0            Санкт-Петербург           21741.0   \n",
       "3           NaN      0.0            Санкт-Петербург           28098.0   \n",
       "5           9.1      NaN  городской посёлок Янино-1               NaN   \n",
       "6          14.4      1.0          посёлок Парголово           52996.0   \n",
       "\n",
       "  cityCenters_nearest  parks_around3000  parks_nearest  ponds_around3000  \\\n",
       "1             18603.0               0.0            NaN               0.0   \n",
       "2             13933.0               1.0           90.0               2.0   \n",
       "3              6800.0               2.0           84.0               3.0   \n",
       "5                 NaN               NaN            NaN               NaN   \n",
       "6             19143.0               0.0            NaN               0.0   \n",
       "\n",
       "   ponds_nearest  days_exposition  \n",
       "1            NaN             81.0  \n",
       "2          574.0            558.0  \n",
       "3          234.0            424.0  \n",
       "5            NaN             55.0  \n",
       "6            NaN            155.0  \n",
       "\n",
       "[5 rows x 22 columns]"
      ]
     },
     "execution_count": 21,
     "metadata": {},
     "output_type": "execute_result"
    }
   ],
   "source": [
    "real_estate[real_estate['ceiling_height'].isna()].head()"
   ]
  },
  {
   "cell_type": "code",
   "execution_count": 22,
   "metadata": {
    "scrolled": true
   },
   "outputs": [
    {
     "data": {
      "text/plain": [
       "Санкт-Петербург                                            5617\n",
       "посёлок Мурино                                              322\n",
       "посёлок Шушары                                              223\n",
       "посёлок Парголово                                           190\n",
       "деревня Кудрово                                             177\n",
       "                                                           ... \n",
       "деревня Нижние Осельки                                        1\n",
       "деревня Курковицы                                             1\n",
       "садоводческое некоммерческое товарищество Лесная Поляна       1\n",
       "поселок Тельмана                                              1\n",
       "поселок Заводской                                             1\n",
       "Name: locality_name, Length: 283, dtype: int64"
      ]
     },
     "execution_count": 22,
     "metadata": {},
     "output_type": "execute_result"
    }
   ],
   "source": [
    "real_estate[real_estate['ceiling_height'].isna()]['locality_name'].value_counts()"
   ]
  },
  {
   "cell_type": "markdown",
   "metadata": {},
   "source": [
    "Исследование столбца 'ceiling_height' показало наличие пропусков в 38,8% записей. Предварительный анализ не выявил однозначной связи пропусков с конкретным населённым пунктом (большая часть сосредоточена в Санкт-Петербурге, однако это может быть ложной корелляцией, связанной с распределением количества объявлений по населённым пунктам).\n",
    "Некоторые значения столбца являются аномально высокими (27, 100, 22.6). Можно предположить, что данные значения - ошибки, возникшие в результате некорректной постановки запятой при ручном вводе. При дальнейшей обработке стоит рассмотреть вариант деления на 10 значений столбца выше 20. \n",
    "Для заполнения пропусков предположительно использовать медианные значения по населённому пункту, ориентируясь на особенности жилого фонда в зависимости от территории.\n",
    "\n",
    "Рассмотрим другие столбцы, в которых пропуски, чтобы определить их долю в общем числе значений:"
   ]
  },
  {
   "cell_type": "code",
   "execution_count": 23,
   "metadata": {
    "scrolled": true
   },
   "outputs": [
    {
     "name": "stdout",
     "output_type": "stream",
     "text": [
      "Число пропущенных значений в столбце floors_total : 86\n",
      "Доля пропущенных значений: 0.36%\n",
      "\n",
      "Число пропущенных значений в столбце living_area : 1903\n",
      "Доля пропущенных значений: 8.03%\n",
      "\n",
      "Число пропущенных значений в столбце is_apartment : 20924\n",
      "Доля пропущенных значений: 88.29%\n",
      "\n",
      "Число пропущенных значений в столбце kitchen_area : 2278\n",
      "Доля пропущенных значений: 9.61%\n",
      "\n",
      "Число пропущенных значений в столбце balcony : 11519\n",
      "Доля пропущенных значений: 48.61%\n",
      "\n",
      "Число пропущенных значений в столбце locality_name : 49\n",
      "Доля пропущенных значений: 0.21%\n",
      "\n",
      "Число пропущенных значений в столбце airports_nearest : 5542\n",
      "Доля пропущенных значений: 23.38%\n",
      "\n",
      "Число пропущенных значений в столбце cityCenters_nearest : 5519\n",
      "Доля пропущенных значений: 23.29%\n",
      "\n",
      "Число пропущенных значений в столбце parks_around3000 : 5518\n",
      "Доля пропущенных значений: 23.28%\n",
      "\n",
      "Число пропущенных значений в столбце parks_nearest : 15620\n",
      "Доля пропущенных значений: 65.91%\n",
      "\n",
      "Число пропущенных значений в столбце ponds_around3000 : 5518\n",
      "Доля пропущенных значений: 23.28%\n",
      "\n",
      "Число пропущенных значений в столбце ponds_nearest : 14589\n",
      "Доля пропущенных значений: 61.56%\n",
      "\n",
      "Число пропущенных значений в столбце days_exposition : 3181\n",
      "Доля пропущенных значений: 13.42%\n",
      "\n"
     ]
    }
   ],
   "source": [
    " lost_values = ['floors_total', 'living_area', 'is_apartment', 'kitchen_area',\n",
    "                'balcony', 'locality_name', 'airports_nearest', 'cityCenters_nearest', 'parks_around3000', 'parks_nearest',\n",
    "                'ponds_around3000', 'ponds_nearest', 'days_exposition']\n",
    "#Создаём список столбцов, который пропускаем через цикл, в котором вычисляется количество пропусков \n",
    "#и их доля в общем количестве значений\n",
    "for position in lost_values:\n",
    "    print('Число пропущенных значений в столбце', position, ':', real_estate[position].isna().sum())\n",
    "    print('Доля пропущенных значений: {:.2%}'.format(real_estate[position].isna().sum()/len(real_estate[position])))\n",
    "    print()"
   ]
  },
  {
   "cell_type": "markdown",
   "metadata": {},
   "source": [
    "- Наибольшая доля пропущенных значений обнаружена в столбце 'is_apartment'. Поскольку данные в столбце представляют собой логические значения, то можно предположить, что отсутствие данных равносильно значению False.\n",
    "\n",
    "- Далее по количеству пропусков находятся столбцы 'parks_nearest' и 'ponds_nearest' - 65,91% и 61,56% соответственно. Для конкретизации причины пропусков необходимо рассмотреть их распределение по населённым пунктам, поскольку это может быть связано с отсутствием данных о парках и прудах в малых населённых пунктах (сёла, посёлки, пгт).\n",
    "\n",
    "- Следующий по количеству пропусков - 'balcony' (количество балконов) - 48,61% . Поскольку данный параметр вводился вручную, то, возможно, при отсутствии балкона поле оставалось пустым. Необходимо рассмотреть значения столбца и при отсутствии аномалий указать нулевое значение.\n",
    "\n",
    "- Также обратим внимание на сходство количества пропусков в столбцах 'cityCenters_nearest', 'parks_around3000', 'ponds_around3000', 'airports_nearest'. Возможно, что данные пропуски объединяет один параметр (предположительно, населённый пункт). Необходимо дальнейшее исследование.\n",
    "\n",
    "- Схожий процент пропусков заметен в столбцах 'living_area' (8,03%) и 'kitchen_area'(9,61%). Необходимо исследовать возможную связь в данных показателях, а также проверить связь их с иными параметрами. "
   ]
  },
  {
   "cell_type": "markdown",
   "metadata": {},
   "source": [
    "Рассмотрим данные далее, чтобы проанализировать варианты предобработки."
   ]
  },
  {
   "cell_type": "code",
   "execution_count": 24,
   "metadata": {
    "scrolled": true
   },
   "outputs": [
    {
     "data": {
      "text/plain": [
       "count    23613.000000\n",
       "mean        10.673824\n",
       "std          6.597173\n",
       "min          1.000000\n",
       "25%          5.000000\n",
       "50%          9.000000\n",
       "75%         16.000000\n",
       "max         60.000000\n",
       "Name: floors_total, dtype: float64"
      ]
     },
     "execution_count": 24,
     "metadata": {},
     "output_type": "execute_result"
    }
   ],
   "source": [
    "real_estate['floors_total'].describe()"
   ]
  },
  {
   "cell_type": "code",
   "execution_count": 25,
   "metadata": {},
   "outputs": [
    {
     "data": {
      "text/plain": [
       "Санкт-Петербург                    70\n",
       "Красное Село                        2\n",
       "поселок Мурино                      2\n",
       "посёлок Мурино                      2\n",
       "Кудрово                             2\n",
       "поселок городского типа Токсово     1\n",
       "посёлок Бугры                       1\n",
       "посёлок Стрельна                    1\n",
       "деревня Новое Девяткино             1\n",
       "посёлок Щеглово                     1\n",
       "городской посёлок Новоселье         1\n",
       "посёлок Шушары                      1\n",
       "Name: locality_name, dtype: int64"
      ]
     },
     "execution_count": 25,
     "metadata": {},
     "output_type": "execute_result"
    }
   ],
   "source": [
    "real_estate[real_estate['floors_total'].isna()]['locality_name'].value_counts()"
   ]
  },
  {
   "cell_type": "code",
   "execution_count": 26,
   "metadata": {},
   "outputs": [
    {
     "data": {
      "text/plain": [
       "<matplotlib.axes._subplots.AxesSubplot at 0x7fb25557f750>"
      ]
     },
     "execution_count": 26,
     "metadata": {},
     "output_type": "execute_result"
    },
    {
     "data": {
      "image/png": "[encoded data removed]",
      "text/plain": [
       "<Figure size 432x288 with 1 Axes>"
      ]
     },
     "metadata": {
      "needs_background": "light"
     },
     "output_type": "display_data"
    }
   ],
   "source": [
    "real_estate['floors_total'].hist(bins=70)"
   ]
  },
  {
   "cell_type": "code",
   "execution_count": 27,
   "metadata": {},
   "outputs": [
    {
     "data": {
      "text/plain": [
       "52.0    1\n",
       "60.0    1\n",
       "Name: floors_total, dtype: int64"
      ]
     },
     "execution_count": 27,
     "metadata": {},
     "output_type": "execute_result"
    }
   ],
   "source": [
    "real_estate[real_estate['floors_total']> 37]['floors_total'].value_counts()"
   ]
  },
  {
   "cell_type": "code",
   "execution_count": 28,
   "metadata": {},
   "outputs": [
    {
     "data": {
      "text/html": [
       "<div>\n",
       "<style scoped>\n",
       "    .dataframe tbody tr th:only-of-type {\n",
       "        vertical-align: middle;\n",
       "    }\n",
       "\n",
       "    .dataframe tbody tr th {\n",
       "        vertical-align: top;\n",
       "    }\n",
       "\n",
       "    .dataframe thead th {\n",
       "        text-align: right;\n",
       "    }\n",
       "</style>\n",
       "<table border=\"1\" class=\"dataframe\">\n",
       "  <thead>\n",
       "    <tr style=\"text-align: right;\">\n",
       "      <th></th>\n",
       "      <th>total_images</th>\n",
       "      <th>last_price</th>\n",
       "      <th>total_area</th>\n",
       "      <th>first_day_exposition</th>\n",
       "      <th>rooms</th>\n",
       "      <th>ceiling_height</th>\n",
       "      <th>floors_total</th>\n",
       "      <th>living_area</th>\n",
       "      <th>floor</th>\n",
       "      <th>is_apartment</th>\n",
       "      <th>...</th>\n",
       "      <th>kitchen_area</th>\n",
       "      <th>balcony</th>\n",
       "      <th>locality_name</th>\n",
       "      <th>airports_nearest</th>\n",
       "      <th>cityCenters_nearest</th>\n",
       "      <th>parks_around3000</th>\n",
       "      <th>parks_nearest</th>\n",
       "      <th>ponds_around3000</th>\n",
       "      <th>ponds_nearest</th>\n",
       "      <th>days_exposition</th>\n",
       "    </tr>\n",
       "  </thead>\n",
       "  <tbody>\n",
       "    <tr>\n",
       "      <td>2253</td>\n",
       "      <td>12</td>\n",
       "      <td>3800000.0</td>\n",
       "      <td>45.5</td>\n",
       "      <td>2018-06-28T00:00:00</td>\n",
       "      <td>2</td>\n",
       "      <td>2.88</td>\n",
       "      <td>60.0</td>\n",
       "      <td>27.4</td>\n",
       "      <td>4</td>\n",
       "      <td>NaN</td>\n",
       "      <td>...</td>\n",
       "      <td>7.4</td>\n",
       "      <td>NaN</td>\n",
       "      <td>Кронштадт</td>\n",
       "      <td>67763.0</td>\n",
       "      <td>49488.0</td>\n",
       "      <td>2.0</td>\n",
       "      <td>342.0</td>\n",
       "      <td>3.0</td>\n",
       "      <td>614.0</td>\n",
       "      <td>166.0</td>\n",
       "    </tr>\n",
       "    <tr>\n",
       "      <td>16731</td>\n",
       "      <td>9</td>\n",
       "      <td>3978000.0</td>\n",
       "      <td>40.0</td>\n",
       "      <td>2018-09-24T00:00:00</td>\n",
       "      <td>1</td>\n",
       "      <td>2.65</td>\n",
       "      <td>52.0</td>\n",
       "      <td>10.5</td>\n",
       "      <td>18</td>\n",
       "      <td>NaN</td>\n",
       "      <td>...</td>\n",
       "      <td>14.0</td>\n",
       "      <td>NaN</td>\n",
       "      <td>Санкт-Петербург</td>\n",
       "      <td>20728.0</td>\n",
       "      <td>12978.0</td>\n",
       "      <td>1.0</td>\n",
       "      <td>793.0</td>\n",
       "      <td>0.0</td>\n",
       "      <td>NaN</td>\n",
       "      <td>45.0</td>\n",
       "    </tr>\n",
       "  </tbody>\n",
       "</table>\n",
       "<p>2 rows × 22 columns</p>\n",
       "</div>"
      ],
      "text/plain": [
       "       total_images  last_price  total_area first_day_exposition  rooms  \\\n",
       "2253             12   3800000.0        45.5  2018-06-28T00:00:00      2   \n",
       "16731             9   3978000.0        40.0  2018-09-24T00:00:00      1   \n",
       "\n",
       "       ceiling_height  floors_total  living_area  floor is_apartment  ...  \\\n",
       "2253             2.88          60.0         27.4      4          NaN  ...   \n",
       "16731            2.65          52.0         10.5     18          NaN  ...   \n",
       "\n",
       "       kitchen_area  balcony    locality_name  airports_nearest  \\\n",
       "2253            7.4      NaN        Кронштадт           67763.0   \n",
       "16731          14.0      NaN  Санкт-Петербург           20728.0   \n",
       "\n",
       "      cityCenters_nearest  parks_around3000  parks_nearest  ponds_around3000  \\\n",
       "2253              49488.0               2.0          342.0               3.0   \n",
       "16731             12978.0               1.0          793.0               0.0   \n",
       "\n",
       "       ponds_nearest  days_exposition  \n",
       "2253           614.0            166.0  \n",
       "16731            NaN             45.0  \n",
       "\n",
       "[2 rows x 22 columns]"
      ]
     },
     "execution_count": 28,
     "metadata": {},
     "output_type": "execute_result"
    }
   ],
   "source": [
    "real_estate[real_estate['floors_total']> 37]"
   ]
  },
  {
   "cell_type": "markdown",
   "metadata": {},
   "source": [
    "2) В информации о количестве этажей 86 пропусков, большинство из которых относится к помещениям на территории Санкт-Петербурга.\n",
    "Анализ данных на аномальные значения выявил 2 \"выброса\" со значением выше 37.\n",
    "Согласно Википедии, жилое здание Санкт-Петербурга с максимальной этажностью - 37-этажный ЖК \"Князь Александр Невский\", а в г. Кронштадт нет зданий такой этажности.\n",
    "\n",
    "https://ru.wikipedia.org/wiki/%D0%A1%D0%BF%D0%B8%D1%81%D0%BE%D0%BA_%D1%81%D0%B0%D0%BC%D1%8B%D1%85_%D0%B2%D1%8B%D1%81%D0%BE%D0%BA%D0%B8%D1%85_%D0%B7%D0%B4%D0%B0%D0%BD%D0%B8%D0%B9_%D0%A1%D0%B0%D0%BD%D0%BA%D1%82-%D0%9F%D0%B5%D1%82%D0%B5%D1%80%D0%B1%D1%83%D1%80%D0%B3%D0%B0#cite_note-1"
   ]
  },
  {
   "cell_type": "code",
   "execution_count": 29,
   "metadata": {},
   "outputs": [
    {
     "name": "stdout",
     "output_type": "stream",
     "text": [
      "[nan  2.  0.  1.  5.  4.  3.]\n"
     ]
    }
   ],
   "source": [
    "print(real_estate['balcony'].unique())"
   ]
  },
  {
   "cell_type": "code",
   "execution_count": 30,
   "metadata": {},
   "outputs": [
    {
     "name": "stdout",
     "output_type": "stream",
     "text": [
      "[nan False True]\n"
     ]
    }
   ],
   "source": [
    "print(real_estate['is_apartment'].unique())"
   ]
  },
  {
   "cell_type": "markdown",
   "metadata": {},
   "source": [
    "3) В столбцах 'balcony' и 'is_apartment', помимо пропущенных значений, не выявлено иных аномалий.\n",
    "\n",
    "4) Далее иссследуем наличие взаимосвязи в пропущенных значениях 'living_area' и 'kitchen_area'. Возможно, что такие квартиры относятся к помещениям со свободной планировкой и площадь кухни в них не выделяется."
   ]
  },
  {
   "cell_type": "code",
   "execution_count": 31,
   "metadata": {},
   "outputs": [
    {
     "name": "stdout",
     "output_type": "stream",
     "text": [
      "Количество строк, где отсутствует площадь кухни и жилой зоны: 1464\n",
      "Доля таких строк в пропусках жилой зоны: 76.93%\n",
      "Доля таких строк в пропусках кухонной зоны: 64.27%\n",
      "Проверка, являются ли такие квартиры студиями:\n",
      "False    1454\n",
      "True       10\n",
      "Name: studio, dtype: int64\n",
      "Проверка, имеют ли такие квартиры открытую планировку:\n",
      "False    1459\n",
      "True        5\n",
      "Name: open_plan, dtype: int64\n"
     ]
    }
   ],
   "source": [
    "#выводим в отдельную переменную строки, где пересекаются пропуски в размере жилой зоны и кухни\n",
    "missing_liv_kit = real_estate[(real_estate['living_area'].isna()) \n",
    "                              & (real_estate['kitchen_area'].isna())]['last_price'].count()\n",
    "print('Количество строк, где отсутствует площадь кухни и жилой зоны:',\n",
    "    missing_liv_kit)\n",
    "print('Доля таких строк в пропусках жилой зоны: {:.2%}'.format(\n",
    "    missing_liv_kit/real_estate['living_area'].isna().sum()))\n",
    "print('Доля таких строк в пропусках кухонной зоны: {:.2%}'.format(\n",
    "    missing_liv_kit/real_estate['kitchen_area'].isna().sum()))\n",
    "print('Проверка, являются ли такие квартиры студиями:')\n",
    "print(real_estate[(real_estate['living_area'].isna()) & (real_estate['kitchen_area'].isna())]['studio'].value_counts())\n",
    "print('Проверка, имеют ли такие квартиры открытую планировку:')\n",
    "print(real_estate[(real_estate['living_area'].isna()) & (real_estate['kitchen_area'].isna())]['open_plan'].value_counts())\n"
   ]
  },
  {
   "cell_type": "markdown",
   "metadata": {},
   "source": [
    "Как мы видим, есть существенные пересечения между пропущенными значениями по площади кухни и жилой площади, однако такие квартиры не являются студиями, т.е. выдвинутое ранее предположение не подтвердилось.\n",
    "\n",
    "5) Рассмотрим данные о населённых пунктах."
   ]
  },
  {
   "cell_type": "code",
   "execution_count": 32,
   "metadata": {
    "scrolled": true
   },
   "outputs": [
    {
     "name": "stdout",
     "output_type": "stream",
     "text": [
      "Количество населённых пунктов в базе: 365\n",
      "['Санкт-Петербург' 'посёлок Шушары' 'городской посёлок Янино-1'\n",
      " 'посёлок Парголово' 'посёлок Мурино' 'Ломоносов' 'Сертолово' 'Петергоф'\n",
      " 'Пушкин' 'деревня Кудрово' 'Коммунар' 'Колпино'\n",
      " 'поселок городского типа Красный Бор' 'Гатчина' 'поселок Мурино'\n",
      " 'деревня Фёдоровское' 'Выборг' 'Кронштадт' 'Кировск'\n",
      " 'деревня Новое Девяткино' 'посёлок Металлострой'\n",
      " 'посёлок городского типа Лебяжье' 'посёлок городского типа Сиверский'\n",
      " 'поселок Молодцово' 'поселок городского типа Кузьмоловский'\n",
      " 'садовое товарищество Новая Ропша' 'Павловск' 'деревня Пикколово'\n",
      " 'Всеволожск' 'Волхов' 'Кингисепп' 'Приозерск' 'Сестрорецк'\n",
      " 'деревня Куттузи' 'посёлок Аннино' 'поселок городского типа Ефимовский'\n",
      " 'посёлок Плодовое' 'деревня Заклинье' 'поселок Торковичи'\n",
      " 'поселок Первомайское' 'Красное Село' 'посёлок Понтонный' 'Сясьстрой'\n",
      " 'деревня Старая' 'деревня Лесколово' 'посёлок Новый Свет' 'Сланцы'\n",
      " 'село Путилово' 'Ивангород' 'Мурино' 'Шлиссельбург' 'Никольское'\n",
      " 'Зеленогорск' 'Сосновый Бор' 'поселок Новый Свет' 'деревня Оржицы'\n",
      " 'деревня Кальтино' 'Кудрово' 'поселок Романовка' 'посёлок Бугры'\n",
      " 'поселок Бугры' 'поселок городского типа Рощино' 'Кириши' 'Луга'\n",
      " 'Волосово' 'Отрадное' 'село Павлово' 'поселок Оредеж' 'село Копорье'\n",
      " 'посёлок городского типа Красный Бор' 'посёлок Молодёжное' 'Тихвин'\n",
      " 'посёлок Победа' 'деревня Нурма' 'поселок городского типа Синявино'\n",
      " 'Тосно' 'посёлок городского типа Кузьмоловский' 'посёлок Стрельна'\n",
      " 'Бокситогорск' 'посёлок Александровская' 'деревня Лопухинка' 'Пикалёво'\n",
      " 'поселок Терволово' 'поселок городского типа Советский' 'Подпорожье'\n",
      " 'посёлок Петровское' 'посёлок городского типа Токсово' 'поселок Сельцо'\n",
      " 'посёлок городского типа Вырица' 'деревня Кипень' 'деревня Келози'\n",
      " 'деревня Вартемяги' 'посёлок Тельмана' 'поселок Севастьяново'\n",
      " 'городской поселок Большая Ижора' nan 'городской посёлок Павлово'\n",
      " 'деревня Агалатово' 'посёлок Новогорелово'\n",
      " 'городской посёлок Лесогорский' 'деревня Лаголово' 'поселок Цвелодубово'\n",
      " 'поселок городского типа Рахья' 'поселок городского типа Вырица'\n",
      " 'деревня Белогорка' 'поселок Заводской' 'городской посёлок Новоселье'\n",
      " 'деревня Большие Колпаны' 'деревня Горбунки' 'деревня Батово'\n",
      " 'деревня Заневка' 'деревня Иссад' 'Приморск'\n",
      " 'городской посёлок Фёдоровское' 'деревня Мистолово' 'Новая Ладога'\n",
      " 'поселок Зимитицы' 'поселок Барышево' 'деревня Разметелево'\n",
      " 'поселок городского типа имени Свердлова' 'деревня Пеники'\n",
      " 'поселок Рябово' 'деревня Пудомяги' 'поселок станции Корнево'\n",
      " 'деревня Низино' 'деревня Бегуницы' 'посёлок Поляны'\n",
      " 'городской посёлок Мга' 'поселок Елизаветино'\n",
      " 'посёлок городского типа Кузнечное' 'деревня Колтуши'\n",
      " 'поселок Запорожское' 'посёлок городского типа Рощино'\n",
      " 'деревня Гостилицы' 'деревня Малое Карлино' 'посёлок Мичуринское'\n",
      " 'посёлок городского типа имени Морозова' 'посёлок Песочный'\n",
      " 'посёлок Сосново' 'деревня Аро' 'поселок Ильичёво'\n",
      " 'посёлок городского типа Тайцы' 'деревня Малое Верево' 'деревня Извара'\n",
      " 'поселок станции Вещево' 'село Паша' 'деревня Калитино'\n",
      " 'посёлок городского типа Ульяновка' 'деревня Чудской Бор'\n",
      " 'поселок городского типа Дубровка' 'деревня Мины' 'поселок Войсковицы'\n",
      " 'посёлок городского типа имени Свердлова' 'деревня Коркино'\n",
      " 'посёлок Ропша' 'поселок городского типа Приладожский' 'посёлок Щеглово'\n",
      " 'посёлок Гаврилово' 'Лодейное Поле' 'деревня Рабитицы'\n",
      " 'поселок городского типа Никольский' 'деревня Кузьмолово'\n",
      " 'деревня Малые Колпаны' 'поселок Тельмана' 'посёлок Петро-Славянка'\n",
      " 'городской посёлок Назия' 'посёлок Репино' 'посёлок Ильичёво'\n",
      " 'поселок Углово' 'поселок Старая Малукса' 'садовое товарищество Рахья'\n",
      " 'поселок Аннино' 'поселок Победа' 'деревня Меньково'\n",
      " 'деревня Старые Бегуницы' 'посёлок Сапёрный' 'поселок Семрино'\n",
      " 'поселок Гаврилово' 'поселок Глажево' 'поселок Кобринское'\n",
      " 'деревня Гарболово' 'деревня Юкки' 'поселок станции Приветнинское'\n",
      " 'деревня Мануйлово' 'деревня Пчева' 'поселок Поляны' 'поселок Цвылёво'\n",
      " 'поселок Мельниково' 'посёлок Пудость' 'посёлок Усть-Луга' 'Светогорск'\n",
      " 'Любань' 'поселок Селезнёво' 'поселок городского типа Рябово'\n",
      " 'Каменногорск' 'деревня Кривко' 'поселок Глебычево' 'деревня Парицы'\n",
      " 'поселок Жилпосёлок' 'посёлок городского типа Мга'\n",
      " 'городской поселок Янино-1' 'посёлок Войскорово' 'село Никольское'\n",
      " 'посёлок Терволово' 'поселок Стеклянный' 'посёлок городского типа Важины'\n",
      " 'посёлок Мыза-Ивановка' 'село Русско-Высоцкое'\n",
      " 'поселок городского типа Лебяжье' 'поселок городского типа Форносово'\n",
      " 'село Старая Ладога' 'поселок Житково' 'городской посёлок Виллози'\n",
      " 'деревня Лампово' 'деревня Шпаньково' 'деревня Лаврики' 'посёлок Сумино'\n",
      " 'посёлок Возрождение' 'деревня Старосиверская' 'посёлок Кикерино'\n",
      " 'поселок Возрождение' 'деревня Старое Хинколово' 'посёлок Пригородный'\n",
      " 'посёлок Торфяное' 'городской посёлок Будогощь' 'поселок Суходолье'\n",
      " 'поселок Красная Долина' 'деревня Хапо-Ое'\n",
      " 'поселок городского типа Дружная Горка' 'поселок Лисий Нос'\n",
      " 'деревня Яльгелево' 'посёлок Стеклянный' 'село Рождествено'\n",
      " 'деревня Старополье' 'посёлок Левашово' 'деревня Сяськелево'\n",
      " 'деревня Камышовка'\n",
      " 'садоводческое некоммерческое товарищество Лесная Поляна'\n",
      " 'деревня Хязельки' 'поселок Жилгородок' 'посёлок городского типа Павлово'\n",
      " 'деревня Ялгино' 'поселок Новый Учхоз' 'городской посёлок Рощино'\n",
      " 'поселок Гончарово' 'поселок Почап' 'посёлок Сапёрное'\n",
      " 'посёлок Платформа 69-й километр' 'поселок Каложицы' 'деревня Фалилеево'\n",
      " 'деревня Пельгора' 'поселок городского типа Лесогорский'\n",
      " 'деревня Торошковичи' 'посёлок Белоостров' 'посёлок Алексеевка'\n",
      " 'поселок Серебрянский' 'поселок Лукаши' 'поселок Петровское'\n",
      " 'деревня Щеглово' 'поселок Мичуринское' 'деревня Тарасово'\n",
      " 'поселок Кингисеппский' 'посёлок при железнодорожной станции Вещево'\n",
      " 'поселок Ушаки' 'деревня Котлы' 'деревня Сижно' 'деревня Торосово'\n",
      " 'посёлок Форт Красная Горка' 'поселок городского типа Токсово'\n",
      " 'деревня Новолисино' 'посёлок станции Громово' 'деревня Глинка'\n",
      " 'посёлок Мельниково' 'поселок городского типа Назия'\n",
      " 'деревня Старая Пустошь' 'поселок Коммунары' 'поселок Починок'\n",
      " 'посёлок городского типа Вознесенье' 'деревня Разбегаево'\n",
      " 'посёлок городского типа Рябово' 'поселок Гладкое'\n",
      " 'посёлок при железнодорожной станции Приветнинское' 'поселок Тёсово-4'\n",
      " 'посёлок Жилгородок' 'деревня Бор' 'посёлок Коробицыно'\n",
      " 'деревня Большая Вруда' 'деревня Курковицы' 'посёлок Лисий Нос'\n",
      " 'городской посёлок Советский' 'посёлок Кобралово' 'деревня Суоранда'\n",
      " 'поселок Кобралово' 'поселок городского типа Кондратьево'\n",
      " 'коттеджный поселок Счастье' 'поселок Любань' 'деревня Реброво'\n",
      " 'деревня Зимитицы' 'деревня Тойворово' 'поселок Семиозерье'\n",
      " 'поселок Лесное' 'поселок Совхозный' 'поселок Усть-Луга'\n",
      " 'посёлок Ленинское' 'посёлок Суйда' 'посёлок городского типа Форносово'\n",
      " 'деревня Нижние Осельки' 'посёлок станции Свирь' 'поселок Перово'\n",
      " 'Высоцк' 'поселок Гарболово' 'село Шум' 'поселок Котельский'\n",
      " 'поселок станции Лужайка' 'деревня Большая Пустомержа'\n",
      " 'поселок Красносельское' 'деревня Вахнова Кара' 'деревня Пижма'\n",
      " 'коттеджный поселок Кивеннапа Север' 'поселок Коробицыно'\n",
      " 'поселок Ромашки' 'посёлок Перово' 'деревня Каськово' 'деревня Куровицы'\n",
      " 'посёлок Плоское' 'поселок Сумино'\n",
      " 'поселок городского типа Большая Ижора' 'поселок Кирпичное'\n",
      " 'деревня Ям-Тесово' 'деревня Раздолье' 'деревня Терпилицы'\n",
      " 'посёлок Шугозеро' 'деревня Ваганово' 'поселок Пушное'\n",
      " 'садовое товарищество Садко' 'посёлок Усть-Ижора' 'деревня Выскатка'\n",
      " 'городской посёлок Свирьстрой' 'поселок Громово' 'деревня Кисельня'\n",
      " 'посёлок Старая Малукса' 'деревня Трубников Бор' 'поселок Калитино'\n",
      " 'посёлок Высокоключевой' 'садовое товарищество Приладожский'\n",
      " 'посёлок Пансионат Зелёный Бор' 'деревня Ненимяки'\n",
      " 'поселок Пансионат Зелёный Бор' 'деревня Снегирёвка' 'деревня Рапполово'\n",
      " 'деревня Пустынка' 'поселок Рабитицы' 'деревня Большой Сабск'\n",
      " 'деревня Русско' 'деревня Лупполово' 'деревня Большое Рейзино'\n",
      " 'деревня Малая Романовка' 'поселок Дружноселье' 'поселок Пчевжа'\n",
      " 'поселок Володарское' 'деревня Нижняя' 'коттеджный посёлок Лесное'\n",
      " 'деревня Тихковицы' 'деревня Борисова Грива' 'посёлок Дзержинского']\n"
     ]
    }
   ],
   "source": [
    "print('Количество населённых пунктов в базе:', len(real_estate['locality_name'].unique()))\n",
    "print(real_estate['locality_name'].unique())"
   ]
  },
  {
   "cell_type": "markdown",
   "metadata": {},
   "source": [
    "Обнаружены дубликаты 'поселок Пансионат Зелёный Бор' и 'посёлок Пансионат Зелёный Бор'. Ошибки возникли в связи с использованием в некоторых записях буквы 'ё'. Для унификации будет целесообразно заменить все ё на е. Это также поможет при группировке по типу населенного пункта.\n",
    "\n",
    "6) Кратко рассмотрим пропуски в информации о расстоянии до ключевых локаций."
   ]
  },
  {
   "cell_type": "code",
   "execution_count": 33,
   "metadata": {},
   "outputs": [
    {
     "name": "stdout",
     "output_type": "stream",
     "text": [
      "Количесто строк с одновременными пропусками \"parks_nearest\" и \"ponds_nearest\": 11334\n",
      "Количесто строк с одновременными пропусками \"parks_around3000\", \"ponds_around3000\" и \"airports_nearest\": 5518\n",
      "\n",
      "Населённые пункты с одновременными пропусками \"parks_around3000\" и \"ponds_around3000\"\n",
      "['городской посёлок Янино-1' 'посёлок Мурино' 'Сертолово'\n",
      " 'деревня Кудрово' 'Коммунар' 'поселок городского типа Красный Бор'\n",
      " 'Гатчина' 'поселок Мурино' 'деревня Фёдоровское' 'Выборг' 'Кировск'\n",
      " 'деревня Новое Девяткино' 'Санкт-Петербург'\n",
      " 'посёлок городского типа Лебяжье' 'посёлок городского типа Сиверский'\n",
      " 'поселок Молодцово' 'поселок городского типа Кузьмоловский'\n",
      " 'садовое товарищество Новая Ропша' 'деревня Пикколово' 'Всеволожск'\n",
      " 'Волхов' 'Кингисепп' 'Приозерск' 'деревня Куттузи' 'посёлок Аннино'\n",
      " 'поселок городского типа Ефимовский' 'посёлок Плодовое'\n",
      " 'деревня Заклинье' 'поселок Торковичи' 'поселок Первомайское' 'Сясьстрой'\n",
      " 'деревня Старая' 'деревня Лесколово' 'посёлок Новый Свет' 'Сланцы'\n",
      " 'село Путилово' 'Ивангород' 'Мурино' 'Шлиссельбург' 'Никольское'\n",
      " 'Сосновый Бор' 'поселок Новый Свет' 'деревня Оржицы' 'деревня Кальтино'\n",
      " 'Кудрово' 'поселок Романовка' 'посёлок Бугры' 'поселок Бугры'\n",
      " 'поселок городского типа Рощино' 'Кириши' 'Луга' 'Волосово' 'Отрадное'\n",
      " 'село Павлово' 'поселок Оредеж' 'село Копорье'\n",
      " 'посёлок городского типа Красный Бор' 'Тихвин' 'посёлок Победа'\n",
      " 'деревня Нурма' 'поселок городского типа Синявино' 'посёлок Шушары'\n",
      " 'Тосно' 'посёлок городского типа Кузьмоловский' 'Бокситогорск'\n",
      " 'деревня Лопухинка' 'Пикалёво' 'поселок Терволово'\n",
      " 'поселок городского типа Советский' 'Подпорожье' 'посёлок Петровское'\n",
      " 'посёлок городского типа Токсово' 'поселок Сельцо'\n",
      " 'посёлок городского типа Вырица' 'деревня Кипень' 'деревня Келози'\n",
      " 'деревня Вартемяги' 'посёлок Тельмана' 'поселок Севастьяново'\n",
      " 'городской поселок Большая Ижора' 'городской посёлок Павлово'\n",
      " 'деревня Агалатово' 'посёлок Новогорелово'\n",
      " 'городской посёлок Лесогорский' 'деревня Лаголово' 'поселок Цвелодубово'\n",
      " 'поселок городского типа Рахья' 'поселок городского типа Вырица'\n",
      " 'деревня Белогорка' 'поселок Заводской' 'городской посёлок Новоселье'\n",
      " 'деревня Большие Колпаны' 'деревня Горбунки' 'деревня Батово'\n",
      " 'деревня Заневка' 'деревня Иссад' 'Приморск'\n",
      " 'городской посёлок Фёдоровское' 'деревня Мистолово' 'Новая Ладога'\n",
      " 'поселок Зимитицы' 'поселок Барышево' 'деревня Разметелево'\n",
      " 'поселок городского типа имени Свердлова' 'деревня Пеники'\n",
      " 'поселок Рябово' 'деревня Пудомяги' 'поселок станции Корнево'\n",
      " 'деревня Низино' 'деревня Бегуницы' 'посёлок Поляны'\n",
      " 'городской посёлок Мга' 'поселок Елизаветино'\n",
      " 'посёлок городского типа Кузнечное' 'деревня Колтуши'\n",
      " 'поселок Запорожское' 'посёлок городского типа Рощино'\n",
      " 'деревня Гостилицы' 'деревня Малое Карлино' 'посёлок Мичуринское'\n",
      " 'посёлок городского типа имени Морозова' 'посёлок Сосново' 'деревня Аро'\n",
      " 'поселок Ильичёво' 'посёлок городского типа Тайцы' 'деревня Малое Верево'\n",
      " 'деревня Извара' 'поселок станции Вещево' 'село Паша' 'деревня Калитино'\n",
      " nan 'посёлок городского типа Ульяновка' 'деревня Чудской Бор'\n",
      " 'поселок городского типа Дубровка' 'деревня Мины' 'поселок Войсковицы'\n",
      " 'посёлок городского типа имени Свердлова' 'деревня Коркино'\n",
      " 'посёлок Ропша' 'поселок городского типа Приладожский' 'посёлок Щеглово'\n",
      " 'посёлок Гаврилово' 'Лодейное Поле' 'деревня Рабитицы'\n",
      " 'поселок городского типа Никольский' 'деревня Кузьмолово'\n",
      " 'деревня Малые Колпаны' 'поселок Тельмана' 'городской посёлок Назия'\n",
      " 'посёлок Ильичёво' 'поселок Углово' 'поселок Старая Малукса'\n",
      " 'садовое товарищество Рахья' 'поселок Аннино' 'поселок Победа'\n",
      " 'деревня Меньково' 'деревня Старые Бегуницы' 'поселок Семрино'\n",
      " 'поселок Гаврилово' 'поселок Глажево' 'поселок Кобринское'\n",
      " 'деревня Гарболово' 'деревня Юкки' 'поселок станции Приветнинское'\n",
      " 'деревня Мануйлово' 'деревня Пчева' 'поселок Поляны' 'поселок Цвылёво'\n",
      " 'поселок Мельниково' 'посёлок Пудость' 'посёлок Усть-Луга' 'Светогорск'\n",
      " 'Любань' 'поселок Селезнёво' 'поселок городского типа Рябово'\n",
      " 'Каменногорск' 'деревня Кривко' 'поселок Глебычево' 'деревня Парицы'\n",
      " 'поселок Жилпосёлок' 'посёлок городского типа Мга'\n",
      " 'городской поселок Янино-1' 'посёлок Войскорово' 'село Никольское'\n",
      " 'посёлок Терволово' 'поселок Стеклянный' 'посёлок городского типа Важины'\n",
      " 'посёлок Мыза-Ивановка' 'село Русско-Высоцкое'\n",
      " 'поселок городского типа Лебяжье' 'поселок городского типа Форносово'\n",
      " 'Красное Село' 'село Старая Ладога' 'поселок Житково'\n",
      " 'городской посёлок Виллози' 'деревня Лампово' 'деревня Шпаньково'\n",
      " 'деревня Лаврики' 'посёлок Сумино' 'посёлок Возрождение'\n",
      " 'деревня Старосиверская' 'посёлок Кикерино' 'поселок Возрождение'\n",
      " 'деревня Старое Хинколово' 'посёлок Пригородный' 'посёлок Торфяное'\n",
      " 'городской посёлок Будогощь' 'поселок Суходолье' 'поселок Красная Долина'\n",
      " 'деревня Хапо-Ое' 'поселок городского типа Дружная Горка'\n",
      " 'деревня Яльгелево' 'посёлок Стеклянный' 'село Рождествено'\n",
      " 'деревня Старополье' 'деревня Сяськелево' 'деревня Камышовка'\n",
      " 'садоводческое некоммерческое товарищество Лесная Поляна'\n",
      " 'деревня Хязельки' 'поселок Жилгородок' 'посёлок городского типа Павлово'\n",
      " 'деревня Ялгино' 'Ломоносов' 'поселок Новый Учхоз'\n",
      " 'городской посёлок Рощино' 'поселок Гончарово' 'поселок Почап'\n",
      " 'посёлок Сапёрное' 'посёлок Платформа 69-й километр' 'поселок Каложицы'\n",
      " 'деревня Фалилеево' 'деревня Пельгора'\n",
      " 'поселок городского типа Лесогорский' 'деревня Торошковичи'\n",
      " 'посёлок Алексеевка' 'поселок Серебрянский' 'поселок Лукаши'\n",
      " 'поселок Петровское' 'деревня Щеглово' 'Кронштадт' 'поселок Мичуринское'\n",
      " 'деревня Тарасово' 'поселок Кингисеппский'\n",
      " 'посёлок при железнодорожной станции Вещево' 'поселок Ушаки'\n",
      " 'деревня Котлы' 'деревня Сижно' 'деревня Торосово'\n",
      " 'посёлок Форт Красная Горка' 'поселок городского типа Токсово'\n",
      " 'деревня Новолисино' 'посёлок станции Громово' 'деревня Глинка'\n",
      " 'посёлок Мельниково' 'поселок городского типа Назия'\n",
      " 'деревня Старая Пустошь' 'поселок Коммунары' 'поселок Починок'\n",
      " 'посёлок городского типа Вознесенье' 'деревня Разбегаево'\n",
      " 'посёлок городского типа Рябово' 'поселок Гладкое'\n",
      " 'посёлок при железнодорожной станции Приветнинское' 'поселок Тёсово-4'\n",
      " 'посёлок Жилгородок' 'деревня Бор' 'посёлок Коробицыно'\n",
      " 'деревня Большая Вруда' 'деревня Курковицы' 'городской посёлок Советский'\n",
      " 'посёлок Кобралово' 'деревня Суоранда' 'поселок Кобралово'\n",
      " 'поселок городского типа Кондратьево' 'коттеджный поселок Счастье'\n",
      " 'поселок Любань' 'деревня Реброво' 'деревня Зимитицы' 'деревня Тойворово'\n",
      " 'поселок Семиозерье' 'поселок Лесное' 'поселок Совхозный'\n",
      " 'поселок Усть-Луга' 'посёлок Ленинское' 'посёлок Суйда'\n",
      " 'посёлок городского типа Форносово' 'деревня Нижние Осельки'\n",
      " 'посёлок станции Свирь' 'поселок Перово' 'Высоцк' 'поселок Гарболово'\n",
      " 'село Шум' 'поселок Котельский' 'поселок станции Лужайка'\n",
      " 'деревня Большая Пустомержа' 'поселок Красносельское'\n",
      " 'деревня Вахнова Кара' 'деревня Пижма'\n",
      " 'коттеджный поселок Кивеннапа Север' 'поселок Коробицыно'\n",
      " 'поселок Ромашки' 'посёлок Перово' 'деревня Каськово' 'деревня Куровицы'\n",
      " 'посёлок Плоское' 'поселок Сумино'\n",
      " 'поселок городского типа Большая Ижора' 'поселок Кирпичное'\n",
      " 'деревня Ям-Тесово' 'деревня Раздолье' 'деревня Терпилицы'\n",
      " 'посёлок Шугозеро' 'деревня Ваганово' 'поселок Пушное'\n",
      " 'садовое товарищество Садко' 'деревня Выскатка'\n",
      " 'городской посёлок Свирьстрой' 'поселок Громово' 'деревня Кисельня'\n",
      " 'посёлок Старая Малукса' 'деревня Трубников Бор' 'поселок Калитино'\n",
      " 'посёлок Высокоключевой' 'садовое товарищество Приладожский'\n",
      " 'посёлок Пансионат Зелёный Бор' 'деревня Ненимяки'\n",
      " 'поселок Пансионат Зелёный Бор' 'деревня Снегирёвка' 'деревня Рапполово'\n",
      " 'деревня Пустынка' 'Колпино' 'поселок Рабитицы' 'деревня Большой Сабск'\n",
      " 'деревня Русско' 'деревня Лупполово' 'деревня Большое Рейзино'\n",
      " 'деревня Малая Романовка' 'поселок Дружноселье' 'поселок Пчевжа'\n",
      " 'поселок Володарское' 'деревня Нижняя' 'коттеджный посёлок Лесное'\n",
      " 'деревня Тихковицы' 'деревня Борисова Грива' 'посёлок Дзержинского']\n"
     ]
    }
   ],
   "source": [
    "print('Количесто строк с одновременными пропусками \"parks_nearest\" и \"ponds_nearest\":',\n",
    "    real_estate[(real_estate['parks_nearest'].isna()) & (real_estate['ponds_nearest'].isna())]['open_plan'].count())\n",
    "#print(real_estate[(real_estate['parks_nearest'].isna()) & (real_estate['ponds_nearest'].isna())]['locality_name'].unique())\n",
    "print('Количесто строк с одновременными пропусками \"parks_around3000\", \"ponds_around3000\" и \"airports_nearest\":',\n",
    "    real_estate[(real_estate['parks_around3000'].isna()) & (real_estate['ponds_around3000'].isna()) & (real_estate['airports_nearest'].isna())]['open_plan'].count())\n",
    "print()\n",
    "print('Населённые пункты с одновременными пропусками \"parks_around3000\" и \"ponds_around3000\"')\n",
    "print(real_estate[(real_estate['parks_around3000'].isna()) & (real_estate['ponds_around3000'].isna()) & (real_estate['airports_nearest'].isna())]['locality_name'].unique())"
   ]
  },
  {
   "cell_type": "markdown",
   "metadata": {},
   "source": [
    "Обнаружено заметное сходство пропусков данных о близости к паркам и прудам. При этом данные о числе парков и водоёмов в радиусе 3км пропущены в одних и тех же строках и почти полностью совпадают с пропусками в данных по близости к аэропорту.\n",
    "При этом проверка не выявила очевидной связи пропусков с видом населённого пункта (пропуски обнаружены не только в посёлках, но и городах)."
   ]
  },
  {
   "cell_type": "code",
   "execution_count": 34,
   "metadata": {
    "scrolled": true
   },
   "outputs": [
    {
     "data": {
      "text/plain": [
       "count    20518.000000\n",
       "mean       180.888634\n",
       "std        219.727988\n",
       "min          1.000000\n",
       "25%         45.000000\n",
       "50%         95.000000\n",
       "75%        232.000000\n",
       "max       1580.000000\n",
       "Name: days_exposition, dtype: float64"
      ]
     },
     "execution_count": 34,
     "metadata": {},
     "output_type": "execute_result"
    }
   ],
   "source": [
    "real_estate['days_exposition'].describe()"
   ]
  },
  {
   "cell_type": "code",
   "execution_count": 35,
   "metadata": {},
   "outputs": [
    {
     "data": {
      "text/plain": [
       "<matplotlib.axes._subplots.AxesSubplot at 0x7fb2554acc50>"
      ]
     },
     "execution_count": 35,
     "metadata": {},
     "output_type": "execute_result"
    },
    {
     "data": {
      "image/png": "[encoded data removed]",
      "text/plain": [
       "<Figure size 432x288 with 1 Axes>"
      ]
     },
     "metadata": {
      "needs_background": "light"
     },
     "output_type": "display_data"
    }
   ],
   "source": [
    "real_estate['days_exposition'].hist(bins = 100)"
   ]
  },
  {
   "cell_type": "markdown",
   "metadata": {},
   "source": [
    "7) Оценка значений в столбце 'days_exposition' показала, что распределение значений приближено к распределнию Пуассона. Заметных аномалий не выявлено.\n",
    "Заполнение пропусков стоит рассматривать после корректировки типа данных в столбце 'first_day_exposition'."
   ]
  },
  {
   "cell_type": "markdown",
   "metadata": {},
   "source": [
    "### Вывод <a id=info2></a>"
   ]
  },
  {
   "cell_type": "markdown",
   "metadata": {},
   "source": [
    "В ходе первичного анализа данных об объявлениях о продаже недвижимости было выявлено следующее:\n",
    " - Размерность фрейма - 22 столбца и 23699 строк\n",
    " - в 14 столбцах есть пропущенные значения\n",
    " \n",
    "**Отсутствуют ошибки в данных**\n",
    "- 'total_images' - количество прикреплённых фотографий\n",
    "- 'last_price' - цена продажи\n",
    "- 'studio' - \"является ли квартира студией\"\n",
    "- 'open_plan' - \"имеет ли квартира свободную планировку\"\n",
    "\n",
    "**Незначительные ошибки в данных**\n",
    "- 'locality_name' - наименование населённого пункта - 49 пропущенных значений, необходимо заменить ё на е для сокращения дубликатов.\n",
    "- 'floors_total' - количество этажей в доме - 86 пропущенных значений, 2 аномально высоких.\n",
    "- - 'rooms' - количество комнат - 197 нулевых значений. Возможно, что количество комнат не было указано из-за малой площади помещения.\n",
    "\n",
    "**Значимые ошибки в данных**\n",
    "- 'is_apartment', 'balcony' - большое количество пропущенных значений, которые возможно заменить на 0 или False\n",
    "- 'days_exposition' - 13,4% пропущенных значений. С большой вероятностью их можно восстановить, ориентируясь на столбец 'first_day_exposition'\n",
    "- 'first_day_exposition' - отсутствуют пропущенне значения, однако тип данных необходимо привести в datetime\n",
    "- 'living_area', 'kitchen_area' - 1903 и 2278 пропусков соответственно, 1464 из которых находятся в одних и тех же строках.\n",
    "\n",
    "**Критические ошибки в данных**\n",
    "\n",
    "- 'ceiling_height' - 38% пропущенных данных. Возможно восстановить по медиане жилого фонда в зависимости от населённого пункта.\n",
    "- Столбцы 'parks_nearest', 'ponds_nearest', 'parks_around3000', 'ponds_around3000', 'cityCenters_nearest' - большое количество пропущенных значений, пересекающихся между собой. Предположительно, возможно частично восстановить значения медианными данными по населенным пунктам. \n",
    "\n",
    "Основные цели предобработки данных:\n",
    "\n",
    "1) Изменение типа данных в столбцах 'is_apartment', 'last price', 'floors_total',  'balcony'.\n",
    "\n",
    "2) Замена букв ё в названии локации для удобства последующей группировки\n",
    "\n",
    "3) Замена пропусков в 'is_apartment', 'balcony' на нулевые значения\n",
    "\n",
    "4) Восстановление пропусков в 'first_day_exposition'\n",
    "\n",
    "5) Заполнение пропусков в столбцах 'living_area', 'kitchen_area', 'rooms'\n",
    "\n",
    "6) Заполнение пропусков в столбцах 'ceiling_height', 'parks_nearest', 'ponds_nearest', 'parks_around3000', 'ponds_around3000', 'cityCenters_nearest'"
   ]
  },
  {
   "cell_type": "markdown",
   "metadata": {},
   "source": [
    "### Шаг 2. Предобработка данных <a id=info3></a>"
   ]
  },
  {
   "cell_type": "markdown",
   "metadata": {},
   "source": [
    "1) Для подготовки к последующему преобразованию типов заполним пропуски, происхождение которых представляется наиболее очевидным - столбцы 'is_apartment' и 'balcony'. Предварительный анализ информации позволил сделать предположение, что данные поля могли оказаться незаполненными, так как пользователь не видел необходимости указывать нулевые значения.\n",
    "Заполним пропуски False и 0 соответственно."
   ]
  },
  {
   "cell_type": "code",
   "execution_count": 36,
   "metadata": {
    "scrolled": true
   },
   "outputs": [
    {
     "name": "stdout",
     "output_type": "stream",
     "text": [
      "Число пропусков в \"is_apartment\" до обработки: 20924\n",
      "Число пропусков в \"balcony\" до обработки: 11519\n",
      "Число пропусков в \"is_apartment\" после обработки: 0\n",
      "Число пропусков в \"balcony\" после обработки: 0\n"
     ]
    }
   ],
   "source": [
    "#заполнение пропусков нулевыми значениями в соответствии с типом данных в столбце\n",
    "print('Число пропусков в \"is_apartment\" до обработки:', real_estate['is_apartment'].isna().sum())\n",
    "print('Число пропусков в \"balcony\" до обработки:', real_estate['balcony'].isna().sum())\n",
    "real_estate['is_apartment'] = real_estate['is_apartment'].fillna(False)\n",
    "real_estate['balcony'] = real_estate['balcony'].fillna(0)\n",
    "print('Число пропусков в \"is_apartment\" после обработки:', real_estate['is_apartment'].isna().sum())\n",
    "print('Число пропусков в \"balcony\" после обработки:', real_estate['balcony'].isna().sum())"
   ]
  },
  {
   "cell_type": "code",
   "execution_count": 37,
   "metadata": {},
   "outputs": [
    {
     "name": "stdout",
     "output_type": "stream",
     "text": [
      "[False  True]\n",
      "[0. 2. 1. 5. 4. 3.]\n"
     ]
    }
   ],
   "source": [
    "print(real_estate['is_apartment'].unique())\n",
    "print(real_estate['balcony'].unique())"
   ]
  },
  {
   "cell_type": "markdown",
   "metadata": {},
   "source": [
    "Пропуски заполнены.\n",
    "\n",
    "2) Переведем 'first_day_exposition' в формат datetime. Дата в столбце представлена в формате YYYY-mm-DDTHH:MM:SS"
   ]
  },
  {
   "cell_type": "code",
   "execution_count": 38,
   "metadata": {},
   "outputs": [],
   "source": [
    "real_estate['first_day_exposition'] = pd.to_datetime(real_estate['first_day_exposition'], format = '%Y-%m-%dT%H:%M:%S')"
   ]
  },
  {
   "cell_type": "code",
   "execution_count": 39,
   "metadata": {},
   "outputs": [
    {
     "data": {
      "text/plain": [
       "0   2019-03-07\n",
       "1   2018-12-04\n",
       "2   2015-08-20\n",
       "3   2015-07-24\n",
       "4   2018-06-19\n",
       "Name: first_day_exposition, dtype: datetime64[ns]"
      ]
     },
     "execution_count": 39,
     "metadata": {},
     "output_type": "execute_result"
    }
   ],
   "source": [
    "real_estate['first_day_exposition'].head()"
   ]
  },
  {
   "cell_type": "markdown",
   "metadata": {},
   "source": [
    "Дата приведена к удобному длядальнейшего анализа виду.\n",
    "\n",
    "3) Произведём замену ё на е в столбце 'locality_name', избавляясь таким образом от возможных дубликатов в названиях населённых пунктов."
   ]
  },
  {
   "cell_type": "code",
   "execution_count": 40,
   "metadata": {
    "scrolled": true
   },
   "outputs": [
    {
     "name": "stdout",
     "output_type": "stream",
     "text": [
      "Количество населённых пунктов в базе до замены: 365\n",
      "Количество населённых пунктов в базе после замены: 331\n"
     ]
    }
   ],
   "source": [
    "print('Количество населённых пунктов в базе до замены:', len(real_estate['locality_name'].unique()))\n",
    "#заменяем ё на е во всех значениях строковой переменной\n",
    "real_estate['locality_name'] = real_estate['locality_name'].str.replace('ё', 'е')\n",
    "print('Количество населённых пунктов в базе после замены:', len(real_estate['locality_name'].unique()))\n",
    "#print(real_estate['locality_name'].unique())"
   ]
  },
  {
   "cell_type": "markdown",
   "metadata": {},
   "source": [
    "Количество населённых пунктов в базе сократилось с 365 до 331, т.е. 34 названия были дубликатами, отличающимися только наличием буквы ё.\n",
    "\n",
    "В столбце пропущено 86 значений. "
   ]
  },
  {
   "cell_type": "code",
   "execution_count": 41,
   "metadata": {},
   "outputs": [
    {
     "name": "stdout",
     "output_type": "stream",
     "text": [
      "Распределение квартир c пропусками локации по площади\n"
     ]
    },
    {
     "data": {
      "image/png": "[encoded data removed]",
      "text/plain": [
       "<Figure size 432x288 with 1 Axes>"
      ]
     },
     "metadata": {
      "needs_background": "light"
     },
     "output_type": "display_data"
    },
    {
     "name": "stdout",
     "output_type": "stream",
     "text": [
      "Распределение квартир c пропусками локации по цене\n"
     ]
    },
    {
     "data": {
      "text/plain": [
       "<matplotlib.axes._subplots.AxesSubplot at 0x7fb255169bd0>"
      ]
     },
     "execution_count": 41,
     "metadata": {},
     "output_type": "execute_result"
    },
    {
     "data": {
      "image/png": "[encoded data removed]",
      "text/plain": [
       "<Figure size 432x288 with 1 Axes>"
      ]
     },
     "metadata": {
      "needs_background": "light"
     },
     "output_type": "display_data"
    }
   ],
   "source": [
    "print('Распределение квартир c пропусками локации по площади')\n",
    "real_estate[real_estate['locality_name'].isna()]['total_area'].hist(bins = 100, label = (''))\n",
    "plt.show()\n",
    "print('Распределение квартир c пропусками локации по цене')\n",
    "real_estate[real_estate['locality_name'].isna()]['last_price'].hist(bins = 100)"
   ]
  },
  {
   "cell_type": "markdown",
   "metadata": {},
   "source": [
    "86 значений составляет 0,4% от общей выборки. Данное значение не является статистически значимым. Поскольку в дальнейшем в расчетах будут использоваться медианные значения по населённым пунктам и региону в целом, полагаем целесообразным **удалить данные строки из выборки**.\n",
    "Распределение по цене и площади не показывает существенного перекоса в распределении значений."
   ]
  },
  {
   "cell_type": "code",
   "execution_count": 42,
   "metadata": {},
   "outputs": [],
   "source": [
    "real_estate.dropna(subset = ['locality_name'], inplace = True)"
   ]
  },
  {
   "cell_type": "code",
   "execution_count": 43,
   "metadata": {
    "scrolled": true
   },
   "outputs": [
    {
     "name": "stdout",
     "output_type": "stream",
     "text": [
      "<class 'pandas.core.frame.DataFrame'>\n",
      "RangeIndex: 23650 entries, 0 to 23649\n",
      "Data columns (total 22 columns):\n",
      "total_images            23650 non-null int64\n",
      "last_price              23650 non-null float64\n",
      "total_area              23650 non-null float64\n",
      "first_day_exposition    23650 non-null datetime64[ns]\n",
      "rooms                   23650 non-null int64\n",
      "ceiling_height          14490 non-null float64\n",
      "floors_total            23565 non-null float64\n",
      "living_area             21752 non-null float64\n",
      "floor                   23650 non-null int64\n",
      "is_apartment            23650 non-null bool\n",
      "studio                  23650 non-null bool\n",
      "open_plan               23650 non-null bool\n",
      "kitchen_area            21381 non-null float64\n",
      "balcony                 23650 non-null float64\n",
      "locality_name           23650 non-null object\n",
      "airports_nearest        18116 non-null float64\n",
      "cityCenters_nearest     18139 non-null float64\n",
      "parks_around3000        18140 non-null float64\n",
      "parks_nearest           8064 non-null float64\n",
      "ponds_around3000        18140 non-null float64\n",
      "ponds_nearest           9085 non-null float64\n",
      "days_exposition         20470 non-null float64\n",
      "dtypes: bool(3), datetime64[ns](1), float64(14), int64(3), object(1)\n",
      "memory usage: 3.5+ MB\n"
     ]
    }
   ],
   "source": [
    "real_estate = real_estate.reset_index(drop = True)\n",
    "real_estate.info()"
   ]
  },
  {
   "cell_type": "markdown",
   "metadata": {},
   "source": [
    "После удаления строк с пропусками в таблице осталось 23650 значений. \n",
    "\n",
    "4) Рассмотрим пропуски в столбце 'ceiling_height'. В отсутствие данных о дате постройки будем ориентироваться на то, что в населённых пунктах основная часть жилого фонда обладает схожими характеристиками в части высоты потолков. Поскольку в данных были обнаружены выбросы, влияющие на выбросы, возьмём медианную высоту потолков в населённых пунктах с пропусками. "
   ]
  },
  {
   "cell_type": "code",
   "execution_count": 44,
   "metadata": {
    "scrolled": true
   },
   "outputs": [
    {
     "name": "stdout",
     "output_type": "stream",
     "text": [
      "Количество пропусков до обработки: 9160\n",
      "поселок Шушары 2.63\n",
      "Санкт-Петербург 2.7\n",
      "городской поселок Янино-1 2.65\n",
      "поселок Парголово 2.64\n",
      "поселок Мурино 2.7\n",
      "Ломоносов 2.55\n",
      "Сертолово 2.6\n",
      "Пушкин 2.6\n",
      "Коммунар 2.56\n",
      "Колпино 2.5\n",
      "Гатчина 2.55\n",
      "Кировск 2.5\n",
      "поселок Металлострой 2.5\n",
      "поселок городского типа Лебяжье 2.5\n",
      "поселок Молодцово 2.5\n",
      "поселок городского типа Кузьмоловский 2.51\n",
      "Выборг 2.55\n",
      "деревня Пикколово nan\n",
      "поселок Аннино 2.55\n",
      "поселок городского типа Ефимовский 2.65\n"
     ]
    },
    {
     "name": "stderr",
     "output_type": "stream",
     "text": [
      "/opt/conda/lib/python3.7/site-packages/numpy/lib/nanfunctions.py:1111: RuntimeWarning: Mean of empty slice\n",
      "  return np.nanmean(a, axis, out=out, keepdims=keepdims)\n"
     ]
    },
    {
     "name": "stdout",
     "output_type": "stream",
     "text": [
      "поселок Плодовое 2.5\n",
      "деревня Заклинье nan\n",
      "Сясьстрой 2.55\n",
      "Павловск 2.6\n",
      "Всеволожск 2.7\n",
      "Сланцы 2.5\n",
      "Мурино 2.7\n",
      "Ивангород 2.52\n",
      "Кингисепп 2.5\n",
      "Петергоф 2.55\n",
      "поселок Новый Свет 2.65\n",
      "Сестрорецк 2.7\n",
      "деревня Кудрово 2.75\n",
      "деревня Новое Девяткино 2.7\n",
      "поселок Романовка 2.6\n",
      "поселок Бугры 2.6\n",
      "Сосновый Бор 2.5\n",
      "Отрадное 2.55\n",
      "село Павлово 2.75\n",
      "село Копорье 2.5\n",
      "Волосово 2.5\n",
      "Красное Село 2.6\n",
      "поселок Стрельна 2.55\n",
      "Бокситогорск 3.9\n",
      "Кронштадт 2.55\n",
      "Пикалево 2.6\n",
      "Кудрово 2.73\n",
      "поселок Терволово 2.55\n",
      "Кириши 2.5\n",
      "Подпорожье 2.55\n",
      "поселок городского типа Сиверский 2.55\n",
      "поселок Сельцо 2.55\n",
      "поселок городского типа Вырица 2.55\n",
      "деревня Кипень 2.55\n",
      "поселок Севастьяново nan\n",
      "Тихвин 2.6\n",
      "деревня Лопухинка 2.6\n",
      "поселок Новогорелово 2.65\n",
      "городской поселок Лесогорский 2.55\n",
      "деревня Лаголово 2.5\n",
      "Тосно 2.5\n",
      "Никольское 2.56\n",
      "городской поселок Новоселье 2.8\n",
      "деревня Большие Колпаны 2.5\n",
      "деревня Иссад nan\n",
      "поселок городского типа Токсово 2.6\n",
      "поселок Тельмана 2.5\n",
      "Приморск 2.5\n",
      "поселок Понтонный 2.58\n",
      "Новая Ладога 2.5\n",
      "Шлиссельбург 2.5\n",
      "деревня Пудомяги 2.52\n",
      "поселок станции Корнево nan\n",
      "деревня Низино 2.55\n",
      "городской поселок Мга 2.51\n",
      "Волхов 2.58\n",
      "деревня Колтуши 2.7\n",
      "Луга 2.5\n",
      "деревня Малое Карлино 2.65\n",
      "поселок Мичуринское 2.6\n",
      "поселок Сосново 2.6\n",
      "деревня Аро nan\n",
      "деревня Малое Верево 2.55\n",
      "деревня Извара 2.55\n",
      "село Паша nan\n",
      "поселок городского типа имени Свердлова 2.55\n",
      "поселок городского типа Ульяновка 2.7\n",
      "деревня Чудской Бор nan\n",
      "деревня Мины 27.0\n",
      "поселок Войсковицы 2.55\n",
      "Лодейное Поле 2.55\n",
      "деревня Нурма 2.5\n",
      "деревня Кальтино 2.75\n",
      "поселок Петро-Славянка nan\n",
      "поселок Старая Малукса 2.5\n",
      "поселок Щеглово 2.65\n",
      "деревня Старые Бегуницы nan\n",
      "Приозерск 2.5\n",
      "поселок городского типа имени Морозова 2.6\n",
      "поселок Семрино 2.5\n",
      "поселок Гаврилово 2.5\n",
      "поселок Глажево 2.5\n",
      "поселок городского типа Синявино 2.75\n",
      "деревня Федоровское 2.7\n",
      "поселок Кобринское nan\n",
      "поселок Елизаветино 2.6\n",
      "поселок станции Приветнинское 2.55\n",
      "поселок Зимитицы 2.75\n",
      "деревня Мануйлово nan\n",
      "деревня Пчева nan\n",
      "деревня Белогорка 2.5\n",
      "поселок Цвылево nan\n",
      "Зеленогорск 2.55\n",
      "поселок Мельниково 2.52\n",
      "деревня Гостилицы 2.5\n",
      "поселок Усть-Луга nan\n",
      "деревня Старая 2.7\n",
      "поселок городского типа Тайцы 2.7\n",
      "деревня Бегуницы 2.6\n",
      "поселок Селезнево nan\n",
      "поселок городского типа Дубровка 2.7\n",
      "поселок городского типа Рябово 2.75\n",
      "поселок городского типа Красный Бор 2.5\n",
      "Каменногорск 2.6\n",
      "деревня Парицы 2.6\n",
      "поселок городского типа Мга 2.6\n",
      "деревня Мистолово 2.75\n",
      "село Никольское nan\n",
      "поселок городского типа Рощино 2.52\n",
      "поселок городского типа Важины 2.55\n",
      "поселок Пудость 2.6\n",
      "деревня Агалатово 2.6\n",
      "поселок Мыза-Ивановка nan\n",
      "поселок городского типа Форносово 2.5\n",
      "село Старая Ладога nan\n",
      "поселок Житково 2.5\n",
      "деревня Лаврики nan\n",
      "поселок станции Вещево 2.55\n",
      "поселок Возрождение 2.5\n",
      "деревня Кузьмолово 2.62\n",
      "деревня Старое Хинколово nan\n",
      "Любань 2.5\n",
      "городской поселок Будогощь 2.62\n",
      "деревня Заневка 2.75\n",
      "деревня Малые Колпаны 2.6\n",
      "поселок Стеклянный 2.6\n",
      "деревня Горбунки 2.55\n",
      "село Рождествено nan\n",
      "село Русско-Высоцкое 2.6\n",
      "деревня Старополье nan\n",
      "поселок Войскорово 2.5\n",
      "поселок Левашово nan\n",
      "деревня Сяськелево 2.5\n",
      "деревня Вартемяги 2.7\n",
      "поселок городского типа Рахья 2.6\n",
      "садоводческое некоммерческое товарищество Лесная Поляна nan\n",
      "Светогорск 2.5\n",
      "поселок Жилгородок 2.52\n",
      "поселок Саперный 2.6\n",
      "поселок Новый Учхоз 2.5\n",
      "городской поселок Рощино 2.62\n",
      "поселок Каложицы nan\n",
      "деревня Фалилеево 2.5\n",
      "деревня Пельгора nan\n",
      "поселок городского типа Лесогорский nan\n",
      "деревня Торошковичи nan\n",
      "деревня Батово 2.5\n",
      "поселок Белоостров nan\n",
      "поселок Алексеевка nan\n",
      "поселок Глебычево 2.5\n",
      "деревня Лесколово 2.6\n",
      "деревня Щеглово nan\n",
      "поселок городского типа Советский 2.6\n",
      "деревня Тарасово 2.5\n",
      "деревня Пеники 2.5\n",
      "городской поселок Павлово 2.5\n",
      "поселок Кингисеппский 2.5\n",
      "деревня Сижно nan\n",
      "деревня Лампово 2.5\n",
      "деревня Торосово 2.55\n",
      "городской поселок Большая Ижора 2.58\n",
      "городской поселок Федоровское 2.55\n",
      "поселок Форт Красная Горка nan\n",
      "деревня Оржицы 2.5\n",
      "поселок городского типа Назия nan\n",
      "поселок Углово 2.62\n",
      "поселок городского типа Вознесенье nan\n",
      "поселок городского типа Кузнечное 2.5\n",
      "деревня Юкки 2.72\n",
      "поселок Тесово-4 nan\n",
      "деревня Келози 2.52\n",
      "деревня Курковицы nan\n",
      "поселок городского типа Дружная Горка 2.65\n",
      "деревня Калитино 2.5\n",
      "деревня Суоранда 2.6\n",
      "поселок Запорожское 2.5\n",
      "деревня Реброво nan\n",
      "городской поселок Назия 2.5\n",
      "поселок Семиозерье nan\n",
      "поселок Барышево 2.55\n",
      "деревня Яльгелево 2.62\n",
      "поселок Ленинское 2.5\n",
      "деревня Куттузи 2.75\n",
      "поселок городского типа Никольский 2.5\n",
      "деревня Нижние Осельки nan\n",
      "деревня Бор 2.95\n",
      "поселок станции Свирь nan\n",
      "поселок Заводской 2.5\n",
      "поселок Песочный 2.6\n",
      "поселок Лукаши 2.7\n",
      "село Шум nan\n",
      "поселок Петровское 2.65\n",
      "поселок станции Лужайка nan\n",
      "поселок Торфяное 2.7\n",
      "поселок Красносельское nan\n",
      "городской поселок Виллози 2.6\n",
      "деревня Пижма nan\n",
      "поселок Оредеж 2.5\n",
      "поселок Перово 2.5\n",
      "деревня Куровицы nan\n",
      "поселок Гарболово 2.5\n",
      "поселок Плоское nan\n",
      "поселок городского типа Большая Ижора nan\n",
      "поселок Кирпичное nan\n",
      "поселок Ушаки 2.5\n",
      "поселок Суйда 2.68\n",
      "деревня Ям-Тесово nan\n",
      "деревня Раздолье nan\n",
      "деревня Терпилицы nan\n",
      "поселок Шугозеро nan\n",
      "деревня Ваганово 3.15\n",
      "садовое товарищество Садко nan\n",
      "поселок Усть-Ижора nan\n",
      "деревня Выскатка nan\n",
      "поселок Кобралово 2.5\n",
      "поселок Громово 2.55\n",
      "поселок Котельский 2.58\n",
      "деревня Трубников Бор nan\n",
      "поселок Калитино nan\n",
      "деревня Гарболово 2.55\n",
      "поселок Высокоключевой nan\n",
      "садовое товарищество Приладожский nan\n",
      "поселок Пансионат Зеленый Бор 2.7\n",
      "деревня Снегиревка nan\n",
      "поселок станции Громово 2.5\n",
      "поселок Александровская 2.77\n",
      "поселок Ильичево 2.65\n",
      "деревня Пустынка nan\n",
      "поселок Поляны 2.5\n",
      "деревня Большой Сабск nan\n",
      "деревня Русско nan\n",
      "поселок Совхозный 2.6\n",
      "поселок Лисий Нос 2.85\n",
      "деревня Лупполово nan\n",
      "деревня Большое Рейзино nan\n",
      "деревня Малая Романовка nan\n",
      "деревня Разметелево 2.55\n",
      "поселок Пчевжа nan\n",
      "поселок Володарское nan\n",
      "коттеджный поселок Лесное nan\n",
      "деревня Коркино 2.55\n",
      "поселок городского типа Приладожский 2.56\n",
      "Высоцк 2.5\n",
      "деревня Тихковицы nan\n"
     ]
    }
   ],
   "source": [
    "print('Количество пропусков до обработки:', real_estate['ceiling_height'].isna().sum())\n",
    "#выбираем все названия населённых пунктов, где есть пропуски по высоте потолков\n",
    "missing_ceiling_town = real_estate[real_estate['ceiling_height'].isna()]['locality_name'].unique()\n",
    "#создаём переменную med_ceil, которая каждому из населённых пунктов будет ставить в соответствие медианную высоту потолка\n",
    "for town in missing_ceiling_town:\n",
    "    med_ceil = round(real_estate.loc[real_estate['locality_name'] == town, 'ceiling_height'].median(), 2)\n",
    "    print(town, med_ceil)\n",
    "    #заменяем пустые значения в ячейках\n",
    "    real_estate.loc[(real_estate['locality_name'] == town) & (real_estate['ceiling_height'].isna()), 'ceiling_height'] = med_ceil\n",
    "    \n"
   ]
  },
  {
   "cell_type": "code",
   "execution_count": 45,
   "metadata": {},
   "outputs": [
    {
     "name": "stdout",
     "output_type": "stream",
     "text": [
      "Количество пропусков после обработки: 106\n"
     ]
    }
   ],
   "source": [
    "print('Количество пропусков после обработки:', real_estate['ceiling_height'].isna().sum())"
   ]
  },
  {
   "cell_type": "markdown",
   "metadata": {},
   "source": [
    "Поскольку после обработки осталось 106 пустых значений заполним их медианной высотой потолков по региону."
   ]
  },
  {
   "cell_type": "code",
   "execution_count": 46,
   "metadata": {},
   "outputs": [
    {
     "name": "stdout",
     "output_type": "stream",
     "text": [
      "Высота потолка для заполнения: 2.7\n"
     ]
    }
   ],
   "source": [
    "#задаём переменную, принимающую значения медианы, рассчитанной для всех непустых значений\n",
    "median_height = real_estate[real_estate['ceiling_height'].isna() == False]['ceiling_height'].median()\n",
    "print('Высота потолка для заполнения:',median_height)\n",
    "real_estate['ceiling_height'] = real_estate['ceiling_height'].fillna(median_height)"
   ]
  },
  {
   "cell_type": "code",
   "execution_count": 47,
   "metadata": {},
   "outputs": [
    {
     "name": "stdout",
     "output_type": "stream",
     "text": [
      "Количество пропусков после обработки: 0\n"
     ]
    }
   ],
   "source": [
    "print('Количество пропусков после обработки:', real_estate['ceiling_height'].isna().sum())"
   ]
  },
  {
   "cell_type": "markdown",
   "metadata": {},
   "source": [
    "Значения по высоте потолков заполнены.\n",
    "\n",
    "5) Нулевые значения в столбце 'rooms'. Проверим характеристики данных пропусков"
   ]
  },
  {
   "cell_type": "code",
   "execution_count": 48,
   "metadata": {},
   "outputs": [
    {
     "name": "stdout",
     "output_type": "stream",
     "text": [
      "True     138\n",
      "False     59\n",
      "Name: studio, dtype: int64\n",
      "False    138\n",
      "True      59\n",
      "Name: open_plan, dtype: int64\n"
     ]
    }
   ],
   "source": [
    "print(real_estate[real_estate['rooms']==0]['studio'].value_counts())\n",
    "print(real_estate[real_estate['rooms']==0]['open_plan'].value_counts())"
   ]
  },
  {
   "cell_type": "code",
   "execution_count": 49,
   "metadata": {},
   "outputs": [
    {
     "name": "stdout",
     "output_type": "stream",
     "text": [
      "161\n"
     ]
    }
   ],
   "source": [
    "print(real_estate[(real_estate['rooms']==0) &(real_estate['total_area'] < 30)]['total_area'].count())"
   ]
  },
  {
   "cell_type": "markdown",
   "metadata": {},
   "source": [
    "Поскольку большая часть помещений с 0 комнат является студиями или является квартирами со свободной планировкой и имеет маленькую площадь, считаем возможность заменить количество комнат с 0 на 1."
   ]
  },
  {
   "cell_type": "code",
   "execution_count": 50,
   "metadata": {},
   "outputs": [
    {
     "name": "stdout",
     "output_type": "stream",
     "text": [
      "Количество квартир с 0 комнат после обработки: 0\n"
     ]
    }
   ],
   "source": [
    "real_estate.loc[real_estate['rooms'] ==0, 'rooms'] = 1\n",
    "print('Количество квартир с 0 комнат после обработки:', real_estate[real_estate['rooms'] ==0]['rooms'].count())"
   ]
  },
  {
   "cell_type": "markdown",
   "metadata": {},
   "source": [
    "6)Заполнение данных по размеру жилой зоны и зоны кухни (8% и 9% пропусков) вычислим долю этих зон от общей площади для существующих значений.\n",
    "\n",
    "Произведём расчёт доли жилой и кухонной площади в квартире в зависимости от числа комнат, балконов (они входят в общую площадь и потому могут влиять на соотношение) и наличие у квартиры типа \"студия\". Для всех значений площади возьмём медианные значения."
   ]
  },
  {
   "cell_type": "code",
   "execution_count": 51,
   "metadata": {},
   "outputs": [
    {
     "data": {
      "text/html": [
       "<div>\n",
       "<style scoped>\n",
       "    .dataframe tbody tr th:only-of-type {\n",
       "        vertical-align: middle;\n",
       "    }\n",
       "\n",
       "    .dataframe tbody tr th {\n",
       "        vertical-align: top;\n",
       "    }\n",
       "\n",
       "    .dataframe thead th {\n",
       "        text-align: right;\n",
       "    }\n",
       "</style>\n",
       "<table border=\"1\" class=\"dataframe\">\n",
       "  <thead>\n",
       "    <tr style=\"text-align: right;\">\n",
       "      <th></th>\n",
       "      <th></th>\n",
       "      <th></th>\n",
       "      <th>kitchen_area</th>\n",
       "      <th>living_area</th>\n",
       "      <th>total_area</th>\n",
       "      <th>living_rate</th>\n",
       "      <th>kitchen_rate</th>\n",
       "    </tr>\n",
       "    <tr>\n",
       "      <th>rooms</th>\n",
       "      <th>studio</th>\n",
       "      <th>balcony</th>\n",
       "      <th></th>\n",
       "      <th></th>\n",
       "      <th></th>\n",
       "      <th></th>\n",
       "      <th></th>\n",
       "    </tr>\n",
       "  </thead>\n",
       "  <tbody>\n",
       "    <tr>\n",
       "      <td rowspan=\"9\" valign=\"top\">1</td>\n",
       "      <td rowspan=\"6\" valign=\"top\">False</td>\n",
       "      <td>0.0</td>\n",
       "      <td>9.000</td>\n",
       "      <td>17.600</td>\n",
       "      <td>36.000</td>\n",
       "      <td>0.488889</td>\n",
       "      <td>0.250000</td>\n",
       "    </tr>\n",
       "    <tr>\n",
       "      <td>1.0</td>\n",
       "      <td>9.000</td>\n",
       "      <td>17.500</td>\n",
       "      <td>36.000</td>\n",
       "      <td>0.486111</td>\n",
       "      <td>0.250000</td>\n",
       "    </tr>\n",
       "    <tr>\n",
       "      <td>2.0</td>\n",
       "      <td>10.000</td>\n",
       "      <td>17.900</td>\n",
       "      <td>38.600</td>\n",
       "      <td>0.463731</td>\n",
       "      <td>0.259067</td>\n",
       "    </tr>\n",
       "    <tr>\n",
       "      <td>3.0</td>\n",
       "      <td>5.400</td>\n",
       "      <td>17.500</td>\n",
       "      <td>31.550</td>\n",
       "      <td>0.554675</td>\n",
       "      <td>0.171157</td>\n",
       "    </tr>\n",
       "    <tr>\n",
       "      <td>4.0</td>\n",
       "      <td>10.400</td>\n",
       "      <td>18.950</td>\n",
       "      <td>42.750</td>\n",
       "      <td>0.443275</td>\n",
       "      <td>0.243275</td>\n",
       "    </tr>\n",
       "    <tr>\n",
       "      <td>5.0</td>\n",
       "      <td>11.490</td>\n",
       "      <td>18.800</td>\n",
       "      <td>45.750</td>\n",
       "      <td>0.410929</td>\n",
       "      <td>0.251148</td>\n",
       "    </tr>\n",
       "    <tr>\n",
       "      <td rowspan=\"3\" valign=\"top\">True</td>\n",
       "      <td>0.0</td>\n",
       "      <td>NaN</td>\n",
       "      <td>18.000</td>\n",
       "      <td>26.115</td>\n",
       "      <td>0.689259</td>\n",
       "      <td>NaN</td>\n",
       "    </tr>\n",
       "    <tr>\n",
       "      <td>1.0</td>\n",
       "      <td>NaN</td>\n",
       "      <td>17.200</td>\n",
       "      <td>26.025</td>\n",
       "      <td>0.660903</td>\n",
       "      <td>NaN</td>\n",
       "    </tr>\n",
       "    <tr>\n",
       "      <td>2.0</td>\n",
       "      <td>NaN</td>\n",
       "      <td>18.000</td>\n",
       "      <td>26.000</td>\n",
       "      <td>0.692308</td>\n",
       "      <td>NaN</td>\n",
       "    </tr>\n",
       "    <tr>\n",
       "      <td rowspan=\"6\" valign=\"top\">2</td>\n",
       "      <td rowspan=\"6\" valign=\"top\">False</td>\n",
       "      <td>0.0</td>\n",
       "      <td>8.500</td>\n",
       "      <td>30.300</td>\n",
       "      <td>52.800</td>\n",
       "      <td>0.573864</td>\n",
       "      <td>0.160985</td>\n",
       "    </tr>\n",
       "    <tr>\n",
       "      <td>1.0</td>\n",
       "      <td>8.000</td>\n",
       "      <td>30.100</td>\n",
       "      <td>50.600</td>\n",
       "      <td>0.594862</td>\n",
       "      <td>0.158103</td>\n",
       "    </tr>\n",
       "    <tr>\n",
       "      <td>2.0</td>\n",
       "      <td>10.000</td>\n",
       "      <td>31.000</td>\n",
       "      <td>57.000</td>\n",
       "      <td>0.543860</td>\n",
       "      <td>0.175439</td>\n",
       "    </tr>\n",
       "    <tr>\n",
       "      <td>3.0</td>\n",
       "      <td>10.300</td>\n",
       "      <td>31.000</td>\n",
       "      <td>58.000</td>\n",
       "      <td>0.534483</td>\n",
       "      <td>0.177586</td>\n",
       "    </tr>\n",
       "    <tr>\n",
       "      <td>4.0</td>\n",
       "      <td>10.005</td>\n",
       "      <td>32.500</td>\n",
       "      <td>57.200</td>\n",
       "      <td>0.568182</td>\n",
       "      <td>0.174913</td>\n",
       "    </tr>\n",
       "    <tr>\n",
       "      <td>5.0</td>\n",
       "      <td>12.000</td>\n",
       "      <td>34.000</td>\n",
       "      <td>65.000</td>\n",
       "      <td>0.523077</td>\n",
       "      <td>0.184615</td>\n",
       "    </tr>\n",
       "    <tr>\n",
       "      <td rowspan=\"6\" valign=\"top\">3</td>\n",
       "      <td rowspan=\"6\" valign=\"top\">False</td>\n",
       "      <td>0.0</td>\n",
       "      <td>9.400</td>\n",
       "      <td>45.000</td>\n",
       "      <td>73.000</td>\n",
       "      <td>0.616438</td>\n",
       "      <td>0.128767</td>\n",
       "    </tr>\n",
       "    <tr>\n",
       "      <td>1.0</td>\n",
       "      <td>9.100</td>\n",
       "      <td>44.400</td>\n",
       "      <td>70.400</td>\n",
       "      <td>0.630682</td>\n",
       "      <td>0.129261</td>\n",
       "    </tr>\n",
       "    <tr>\n",
       "      <td>2.0</td>\n",
       "      <td>9.900</td>\n",
       "      <td>44.000</td>\n",
       "      <td>72.250</td>\n",
       "      <td>0.608997</td>\n",
       "      <td>0.137024</td>\n",
       "    </tr>\n",
       "    <tr>\n",
       "      <td>3.0</td>\n",
       "      <td>9.100</td>\n",
       "      <td>47.865</td>\n",
       "      <td>78.300</td>\n",
       "      <td>0.611303</td>\n",
       "      <td>0.116220</td>\n",
       "    </tr>\n",
       "    <tr>\n",
       "      <td>4.0</td>\n",
       "      <td>11.300</td>\n",
       "      <td>49.450</td>\n",
       "      <td>82.785</td>\n",
       "      <td>0.597330</td>\n",
       "      <td>0.136498</td>\n",
       "    </tr>\n",
       "    <tr>\n",
       "      <td>5.0</td>\n",
       "      <td>11.200</td>\n",
       "      <td>45.550</td>\n",
       "      <td>78.450</td>\n",
       "      <td>0.580625</td>\n",
       "      <td>0.142766</td>\n",
       "    </tr>\n",
       "    <tr>\n",
       "      <td rowspan=\"6\" valign=\"top\">4</td>\n",
       "      <td rowspan=\"6\" valign=\"top\">False</td>\n",
       "      <td>0.0</td>\n",
       "      <td>11.000</td>\n",
       "      <td>64.450</td>\n",
       "      <td>100.000</td>\n",
       "      <td>0.644500</td>\n",
       "      <td>0.110000</td>\n",
       "    </tr>\n",
       "    <tr>\n",
       "      <td>1.0</td>\n",
       "      <td>10.000</td>\n",
       "      <td>60.000</td>\n",
       "      <td>92.100</td>\n",
       "      <td>0.651466</td>\n",
       "      <td>0.108578</td>\n",
       "    </tr>\n",
       "    <tr>\n",
       "      <td>2.0</td>\n",
       "      <td>12.600</td>\n",
       "      <td>60.000</td>\n",
       "      <td>99.100</td>\n",
       "      <td>0.605449</td>\n",
       "      <td>0.127144</td>\n",
       "    </tr>\n",
       "    <tr>\n",
       "      <td>3.0</td>\n",
       "      <td>12.000</td>\n",
       "      <td>74.000</td>\n",
       "      <td>102.500</td>\n",
       "      <td>0.721951</td>\n",
       "      <td>0.117073</td>\n",
       "    </tr>\n",
       "    <tr>\n",
       "      <td>4.0</td>\n",
       "      <td>13.850</td>\n",
       "      <td>64.050</td>\n",
       "      <td>107.050</td>\n",
       "      <td>0.598319</td>\n",
       "      <td>0.129379</td>\n",
       "    </tr>\n",
       "    <tr>\n",
       "      <td>5.0</td>\n",
       "      <td>13.500</td>\n",
       "      <td>62.900</td>\n",
       "      <td>107.200</td>\n",
       "      <td>0.586754</td>\n",
       "      <td>0.125933</td>\n",
       "    </tr>\n",
       "    <tr>\n",
       "      <td rowspan=\"6\" valign=\"top\">5</td>\n",
       "      <td rowspan=\"6\" valign=\"top\">False</td>\n",
       "      <td>0.0</td>\n",
       "      <td>15.200</td>\n",
       "      <td>91.450</td>\n",
       "      <td>147.300</td>\n",
       "      <td>0.620842</td>\n",
       "      <td>0.103191</td>\n",
       "    </tr>\n",
       "    <tr>\n",
       "      <td>1.0</td>\n",
       "      <td>17.000</td>\n",
       "      <td>95.600</td>\n",
       "      <td>150.305</td>\n",
       "      <td>0.636040</td>\n",
       "      <td>0.113103</td>\n",
       "    </tr>\n",
       "    <tr>\n",
       "      <td>2.0</td>\n",
       "      <td>12.000</td>\n",
       "      <td>68.300</td>\n",
       "      <td>111.250</td>\n",
       "      <td>0.613933</td>\n",
       "      <td>0.107865</td>\n",
       "    </tr>\n",
       "    <tr>\n",
       "      <td>3.0</td>\n",
       "      <td>15.150</td>\n",
       "      <td>91.000</td>\n",
       "      <td>141.600</td>\n",
       "      <td>0.642655</td>\n",
       "      <td>0.106992</td>\n",
       "    </tr>\n",
       "    <tr>\n",
       "      <td>4.0</td>\n",
       "      <td>16.500</td>\n",
       "      <td>92.600</td>\n",
       "      <td>146.000</td>\n",
       "      <td>0.634247</td>\n",
       "      <td>0.113014</td>\n",
       "    </tr>\n",
       "    <tr>\n",
       "      <td>5.0</td>\n",
       "      <td>16.500</td>\n",
       "      <td>111.000</td>\n",
       "      <td>183.000</td>\n",
       "      <td>0.606557</td>\n",
       "      <td>0.090164</td>\n",
       "    </tr>\n",
       "    <tr>\n",
       "      <td rowspan=\"3\" valign=\"top\">6</td>\n",
       "      <td rowspan=\"3\" valign=\"top\">False</td>\n",
       "      <td>0.0</td>\n",
       "      <td>19.550</td>\n",
       "      <td>122.635</td>\n",
       "      <td>182.850</td>\n",
       "      <td>0.670686</td>\n",
       "      <td>0.106918</td>\n",
       "    </tr>\n",
       "    <tr>\n",
       "      <td>1.0</td>\n",
       "      <td>21.000</td>\n",
       "      <td>139.400</td>\n",
       "      <td>211.400</td>\n",
       "      <td>0.659413</td>\n",
       "      <td>0.099338</td>\n",
       "    </tr>\n",
       "    <tr>\n",
       "      <td>2.0</td>\n",
       "      <td>15.250</td>\n",
       "      <td>124.500</td>\n",
       "      <td>201.000</td>\n",
       "      <td>0.619403</td>\n",
       "      <td>0.075871</td>\n",
       "    </tr>\n",
       "    <tr>\n",
       "      <td rowspan=\"5\" valign=\"top\">7</td>\n",
       "      <td rowspan=\"5\" valign=\"top\">False</td>\n",
       "      <td>0.0</td>\n",
       "      <td>18.900</td>\n",
       "      <td>131.500</td>\n",
       "      <td>206.000</td>\n",
       "      <td>0.638350</td>\n",
       "      <td>0.091748</td>\n",
       "    </tr>\n",
       "    <tr>\n",
       "      <td>1.0</td>\n",
       "      <td>20.000</td>\n",
       "      <td>170.500</td>\n",
       "      <td>239.500</td>\n",
       "      <td>0.711900</td>\n",
       "      <td>0.083507</td>\n",
       "    </tr>\n",
       "    <tr>\n",
       "      <td>2.0</td>\n",
       "      <td>NaN</td>\n",
       "      <td>250.000</td>\n",
       "      <td>400.000</td>\n",
       "      <td>0.625000</td>\n",
       "      <td>NaN</td>\n",
       "    </tr>\n",
       "    <tr>\n",
       "      <td>3.0</td>\n",
       "      <td>26.800</td>\n",
       "      <td>143.000</td>\n",
       "      <td>211.000</td>\n",
       "      <td>0.677725</td>\n",
       "      <td>0.127014</td>\n",
       "    </tr>\n",
       "    <tr>\n",
       "      <td>5.0</td>\n",
       "      <td>20.000</td>\n",
       "      <td>220.000</td>\n",
       "      <td>397.850</td>\n",
       "      <td>0.552972</td>\n",
       "      <td>0.050270</td>\n",
       "    </tr>\n",
       "    <tr>\n",
       "      <td>8</td>\n",
       "      <td>False</td>\n",
       "      <td>0.0</td>\n",
       "      <td>25.000</td>\n",
       "      <td>161.000</td>\n",
       "      <td>235.700</td>\n",
       "      <td>0.683072</td>\n",
       "      <td>0.106067</td>\n",
       "    </tr>\n",
       "    <tr>\n",
       "      <td rowspan=\"2\" valign=\"top\">9</td>\n",
       "      <td rowspan=\"2\" valign=\"top\">False</td>\n",
       "      <td>0.0</td>\n",
       "      <td>13.750</td>\n",
       "      <td>169.900</td>\n",
       "      <td>309.700</td>\n",
       "      <td>0.548595</td>\n",
       "      <td>0.044398</td>\n",
       "    </tr>\n",
       "    <tr>\n",
       "      <td>1.0</td>\n",
       "      <td>32.900</td>\n",
       "      <td>225.900</td>\n",
       "      <td>292.200</td>\n",
       "      <td>0.773101</td>\n",
       "      <td>0.112594</td>\n",
       "    </tr>\n",
       "    <tr>\n",
       "      <td rowspan=\"2\" valign=\"top\">10</td>\n",
       "      <td rowspan=\"2\" valign=\"top\">False</td>\n",
       "      <td>0.0</td>\n",
       "      <td>19.800</td>\n",
       "      <td>161.400</td>\n",
       "      <td>216.100</td>\n",
       "      <td>0.746876</td>\n",
       "      <td>0.091624</td>\n",
       "    </tr>\n",
       "    <tr>\n",
       "      <td>1.0</td>\n",
       "      <td>24.400</td>\n",
       "      <td>167.650</td>\n",
       "      <td>281.300</td>\n",
       "      <td>0.595983</td>\n",
       "      <td>0.086740</td>\n",
       "    </tr>\n",
       "    <tr>\n",
       "      <td>11</td>\n",
       "      <td>False</td>\n",
       "      <td>0.0</td>\n",
       "      <td>12.600</td>\n",
       "      <td>133.900</td>\n",
       "      <td>188.900</td>\n",
       "      <td>0.708841</td>\n",
       "      <td>0.066702</td>\n",
       "    </tr>\n",
       "    <tr>\n",
       "      <td>12</td>\n",
       "      <td>False</td>\n",
       "      <td>0.0</td>\n",
       "      <td>112.000</td>\n",
       "      <td>409.700</td>\n",
       "      <td>900.000</td>\n",
       "      <td>0.455222</td>\n",
       "      <td>0.124444</td>\n",
       "    </tr>\n",
       "    <tr>\n",
       "      <td>14</td>\n",
       "      <td>False</td>\n",
       "      <td>0.0</td>\n",
       "      <td>21.250</td>\n",
       "      <td>195.150</td>\n",
       "      <td>304.200</td>\n",
       "      <td>0.641519</td>\n",
       "      <td>0.069855</td>\n",
       "    </tr>\n",
       "    <tr>\n",
       "      <td>15</td>\n",
       "      <td>False</td>\n",
       "      <td>0.0</td>\n",
       "      <td>100.000</td>\n",
       "      <td>409.000</td>\n",
       "      <td>590.000</td>\n",
       "      <td>0.693220</td>\n",
       "      <td>0.169492</td>\n",
       "    </tr>\n",
       "    <tr>\n",
       "      <td>16</td>\n",
       "      <td>False</td>\n",
       "      <td>1.0</td>\n",
       "      <td>13.000</td>\n",
       "      <td>180.000</td>\n",
       "      <td>270.000</td>\n",
       "      <td>0.666667</td>\n",
       "      <td>0.048148</td>\n",
       "    </tr>\n",
       "    <tr>\n",
       "      <td>19</td>\n",
       "      <td>False</td>\n",
       "      <td>0.0</td>\n",
       "      <td>27.600</td>\n",
       "      <td>264.500</td>\n",
       "      <td>374.600</td>\n",
       "      <td>0.706086</td>\n",
       "      <td>0.073679</td>\n",
       "    </tr>\n",
       "  </tbody>\n",
       "</table>\n",
       "</div>"
      ],
      "text/plain": [
       "                      kitchen_area  living_area  total_area  living_rate  \\\n",
       "rooms studio balcony                                                       \n",
       "1     False  0.0             9.000       17.600      36.000     0.488889   \n",
       "             1.0             9.000       17.500      36.000     0.486111   \n",
       "             2.0            10.000       17.900      38.600     0.463731   \n",
       "             3.0             5.400       17.500      31.550     0.554675   \n",
       "             4.0            10.400       18.950      42.750     0.443275   \n",
       "             5.0            11.490       18.800      45.750     0.410929   \n",
       "      True   0.0               NaN       18.000      26.115     0.689259   \n",
       "             1.0               NaN       17.200      26.025     0.660903   \n",
       "             2.0               NaN       18.000      26.000     0.692308   \n",
       "2     False  0.0             8.500       30.300      52.800     0.573864   \n",
       "             1.0             8.000       30.100      50.600     0.594862   \n",
       "             2.0            10.000       31.000      57.000     0.543860   \n",
       "             3.0            10.300       31.000      58.000     0.534483   \n",
       "             4.0            10.005       32.500      57.200     0.568182   \n",
       "             5.0            12.000       34.000      65.000     0.523077   \n",
       "3     False  0.0             9.400       45.000      73.000     0.616438   \n",
       "             1.0             9.100       44.400      70.400     0.630682   \n",
       "             2.0             9.900       44.000      72.250     0.608997   \n",
       "             3.0             9.100       47.865      78.300     0.611303   \n",
       "             4.0            11.300       49.450      82.785     0.597330   \n",
       "             5.0            11.200       45.550      78.450     0.580625   \n",
       "4     False  0.0            11.000       64.450     100.000     0.644500   \n",
       "             1.0            10.000       60.000      92.100     0.651466   \n",
       "             2.0            12.600       60.000      99.100     0.605449   \n",
       "             3.0            12.000       74.000     102.500     0.721951   \n",
       "             4.0            13.850       64.050     107.050     0.598319   \n",
       "             5.0            13.500       62.900     107.200     0.586754   \n",
       "5     False  0.0            15.200       91.450     147.300     0.620842   \n",
       "             1.0            17.000       95.600     150.305     0.636040   \n",
       "             2.0            12.000       68.300     111.250     0.613933   \n",
       "             3.0            15.150       91.000     141.600     0.642655   \n",
       "             4.0            16.500       92.600     146.000     0.634247   \n",
       "             5.0            16.500      111.000     183.000     0.606557   \n",
       "6     False  0.0            19.550      122.635     182.850     0.670686   \n",
       "             1.0            21.000      139.400     211.400     0.659413   \n",
       "             2.0            15.250      124.500     201.000     0.619403   \n",
       "7     False  0.0            18.900      131.500     206.000     0.638350   \n",
       "             1.0            20.000      170.500     239.500     0.711900   \n",
       "             2.0               NaN      250.000     400.000     0.625000   \n",
       "             3.0            26.800      143.000     211.000     0.677725   \n",
       "             5.0            20.000      220.000     397.850     0.552972   \n",
       "8     False  0.0            25.000      161.000     235.700     0.683072   \n",
       "9     False  0.0            13.750      169.900     309.700     0.548595   \n",
       "             1.0            32.900      225.900     292.200     0.773101   \n",
       "10    False  0.0            19.800      161.400     216.100     0.746876   \n",
       "             1.0            24.400      167.650     281.300     0.595983   \n",
       "11    False  0.0            12.600      133.900     188.900     0.708841   \n",
       "12    False  0.0           112.000      409.700     900.000     0.455222   \n",
       "14    False  0.0            21.250      195.150     304.200     0.641519   \n",
       "15    False  0.0           100.000      409.000     590.000     0.693220   \n",
       "16    False  1.0            13.000      180.000     270.000     0.666667   \n",
       "19    False  0.0            27.600      264.500     374.600     0.706086   \n",
       "\n",
       "                      kitchen_rate  \n",
       "rooms studio balcony                \n",
       "1     False  0.0          0.250000  \n",
       "             1.0          0.250000  \n",
       "             2.0          0.259067  \n",
       "             3.0          0.171157  \n",
       "             4.0          0.243275  \n",
       "             5.0          0.251148  \n",
       "      True   0.0               NaN  \n",
       "             1.0               NaN  \n",
       "             2.0               NaN  \n",
       "2     False  0.0          0.160985  \n",
       "             1.0          0.158103  \n",
       "             2.0          0.175439  \n",
       "             3.0          0.177586  \n",
       "             4.0          0.174913  \n",
       "             5.0          0.184615  \n",
       "3     False  0.0          0.128767  \n",
       "             1.0          0.129261  \n",
       "             2.0          0.137024  \n",
       "             3.0          0.116220  \n",
       "             4.0          0.136498  \n",
       "             5.0          0.142766  \n",
       "4     False  0.0          0.110000  \n",
       "             1.0          0.108578  \n",
       "             2.0          0.127144  \n",
       "             3.0          0.117073  \n",
       "             4.0          0.129379  \n",
       "             5.0          0.125933  \n",
       "5     False  0.0          0.103191  \n",
       "             1.0          0.113103  \n",
       "             2.0          0.107865  \n",
       "             3.0          0.106992  \n",
       "             4.0          0.113014  \n",
       "             5.0          0.090164  \n",
       "6     False  0.0          0.106918  \n",
       "             1.0          0.099338  \n",
       "             2.0          0.075871  \n",
       "7     False  0.0          0.091748  \n",
       "             1.0          0.083507  \n",
       "             2.0               NaN  \n",
       "             3.0          0.127014  \n",
       "             5.0          0.050270  \n",
       "8     False  0.0          0.106067  \n",
       "9     False  0.0          0.044398  \n",
       "             1.0          0.112594  \n",
       "10    False  0.0          0.091624  \n",
       "             1.0          0.086740  \n",
       "11    False  0.0          0.066702  \n",
       "12    False  0.0          0.124444  \n",
       "14    False  0.0          0.069855  \n",
       "15    False  0.0          0.169492  \n",
       "16    False  1.0          0.048148  \n",
       "19    False  0.0          0.073679  "
      ]
     },
     "execution_count": 51,
     "metadata": {},
     "output_type": "execute_result"
    }
   ],
   "source": [
    "#построим сводную таблицу, взяв за индексы число комнат,количество балконов и тот факт, является ли квартира студией\n",
    "living_research = pd.pivot_table(real_estate ,index = ['rooms', 'studio', 'balcony'],\n",
    "                                 values = ['living_area', 'kitchen_area', 'total_area'],\n",
    "                                 aggfunc = 'median')\n",
    "#Создаём два новых столбца, вычисляющих, какую долю от площади составляют кухня и жилая зона\n",
    "living_research['living_rate'] = living_research['living_area']/living_research['total_area']\n",
    "living_research['kitchen_rate'] = living_research['kitchen_area']/living_research['total_area']\n",
    "living_research"
   ]
  },
  {
   "cell_type": "code",
   "execution_count": 52,
   "metadata": {},
   "outputs": [
    {
     "data": {
      "text/html": [
       "<div>\n",
       "<style scoped>\n",
       "    .dataframe tbody tr th:only-of-type {\n",
       "        vertical-align: middle;\n",
       "    }\n",
       "\n",
       "    .dataframe tbody tr th {\n",
       "        vertical-align: top;\n",
       "    }\n",
       "\n",
       "    .dataframe thead th {\n",
       "        text-align: right;\n",
       "    }\n",
       "</style>\n",
       "<table border=\"1\" class=\"dataframe\">\n",
       "  <thead>\n",
       "    <tr style=\"text-align: right;\">\n",
       "      <th></th>\n",
       "      <th>total_images</th>\n",
       "      <th>last_price</th>\n",
       "      <th>total_area</th>\n",
       "      <th>first_day_exposition</th>\n",
       "      <th>rooms</th>\n",
       "      <th>ceiling_height</th>\n",
       "      <th>floors_total</th>\n",
       "      <th>living_area</th>\n",
       "      <th>floor</th>\n",
       "      <th>is_apartment</th>\n",
       "      <th>...</th>\n",
       "      <th>locality_name</th>\n",
       "      <th>airports_nearest</th>\n",
       "      <th>cityCenters_nearest</th>\n",
       "      <th>parks_around3000</th>\n",
       "      <th>parks_nearest</th>\n",
       "      <th>ponds_around3000</th>\n",
       "      <th>ponds_nearest</th>\n",
       "      <th>days_exposition</th>\n",
       "      <th>living_rate</th>\n",
       "      <th>kitchen_rate</th>\n",
       "    </tr>\n",
       "  </thead>\n",
       "  <tbody>\n",
       "    <tr>\n",
       "      <td>0</td>\n",
       "      <td>20</td>\n",
       "      <td>13000000.0</td>\n",
       "      <td>108.0</td>\n",
       "      <td>2019-03-07</td>\n",
       "      <td>3</td>\n",
       "      <td>2.70</td>\n",
       "      <td>16.0</td>\n",
       "      <td>51.0</td>\n",
       "      <td>8</td>\n",
       "      <td>False</td>\n",
       "      <td>...</td>\n",
       "      <td>Санкт-Петербург</td>\n",
       "      <td>18863.0</td>\n",
       "      <td>16028.0</td>\n",
       "      <td>1.0</td>\n",
       "      <td>482.0</td>\n",
       "      <td>2.0</td>\n",
       "      <td>755.0</td>\n",
       "      <td>NaN</td>\n",
       "      <td>0.616438</td>\n",
       "      <td>0.128767</td>\n",
       "    </tr>\n",
       "    <tr>\n",
       "      <td>1</td>\n",
       "      <td>7</td>\n",
       "      <td>3350000.0</td>\n",
       "      <td>40.4</td>\n",
       "      <td>2018-12-04</td>\n",
       "      <td>1</td>\n",
       "      <td>2.63</td>\n",
       "      <td>11.0</td>\n",
       "      <td>18.6</td>\n",
       "      <td>1</td>\n",
       "      <td>False</td>\n",
       "      <td>...</td>\n",
       "      <td>поселок Шушары</td>\n",
       "      <td>12817.0</td>\n",
       "      <td>18603.0</td>\n",
       "      <td>0.0</td>\n",
       "      <td>NaN</td>\n",
       "      <td>0.0</td>\n",
       "      <td>NaN</td>\n",
       "      <td>81.0</td>\n",
       "      <td>0.463731</td>\n",
       "      <td>0.259067</td>\n",
       "    </tr>\n",
       "    <tr>\n",
       "      <td>2</td>\n",
       "      <td>10</td>\n",
       "      <td>5196000.0</td>\n",
       "      <td>56.0</td>\n",
       "      <td>2015-08-20</td>\n",
       "      <td>2</td>\n",
       "      <td>2.70</td>\n",
       "      <td>5.0</td>\n",
       "      <td>34.3</td>\n",
       "      <td>4</td>\n",
       "      <td>False</td>\n",
       "      <td>...</td>\n",
       "      <td>Санкт-Петербург</td>\n",
       "      <td>21741.0</td>\n",
       "      <td>13933.0</td>\n",
       "      <td>1.0</td>\n",
       "      <td>90.0</td>\n",
       "      <td>2.0</td>\n",
       "      <td>574.0</td>\n",
       "      <td>558.0</td>\n",
       "      <td>0.573864</td>\n",
       "      <td>0.160985</td>\n",
       "    </tr>\n",
       "    <tr>\n",
       "      <td>3</td>\n",
       "      <td>0</td>\n",
       "      <td>64900000.0</td>\n",
       "      <td>159.0</td>\n",
       "      <td>2015-07-24</td>\n",
       "      <td>3</td>\n",
       "      <td>2.70</td>\n",
       "      <td>14.0</td>\n",
       "      <td>NaN</td>\n",
       "      <td>9</td>\n",
       "      <td>False</td>\n",
       "      <td>...</td>\n",
       "      <td>Санкт-Петербург</td>\n",
       "      <td>28098.0</td>\n",
       "      <td>6800.0</td>\n",
       "      <td>2.0</td>\n",
       "      <td>84.0</td>\n",
       "      <td>3.0</td>\n",
       "      <td>234.0</td>\n",
       "      <td>424.0</td>\n",
       "      <td>0.616438</td>\n",
       "      <td>0.128767</td>\n",
       "    </tr>\n",
       "    <tr>\n",
       "      <td>4</td>\n",
       "      <td>2</td>\n",
       "      <td>10000000.0</td>\n",
       "      <td>100.0</td>\n",
       "      <td>2018-06-19</td>\n",
       "      <td>2</td>\n",
       "      <td>3.03</td>\n",
       "      <td>14.0</td>\n",
       "      <td>32.0</td>\n",
       "      <td>13</td>\n",
       "      <td>False</td>\n",
       "      <td>...</td>\n",
       "      <td>Санкт-Петербург</td>\n",
       "      <td>31856.0</td>\n",
       "      <td>8098.0</td>\n",
       "      <td>2.0</td>\n",
       "      <td>112.0</td>\n",
       "      <td>1.0</td>\n",
       "      <td>48.0</td>\n",
       "      <td>121.0</td>\n",
       "      <td>0.573864</td>\n",
       "      <td>0.160985</td>\n",
       "    </tr>\n",
       "  </tbody>\n",
       "</table>\n",
       "<p>5 rows × 24 columns</p>\n",
       "</div>"
      ],
      "text/plain": [
       "   total_images  last_price  total_area first_day_exposition  rooms  \\\n",
       "0            20  13000000.0       108.0           2019-03-07      3   \n",
       "1             7   3350000.0        40.4           2018-12-04      1   \n",
       "2            10   5196000.0        56.0           2015-08-20      2   \n",
       "3             0  64900000.0       159.0           2015-07-24      3   \n",
       "4             2  10000000.0       100.0           2018-06-19      2   \n",
       "\n",
       "   ceiling_height  floors_total  living_area  floor  is_apartment  ...  \\\n",
       "0            2.70          16.0         51.0      8         False  ...   \n",
       "1            2.63          11.0         18.6      1         False  ...   \n",
       "2            2.70           5.0         34.3      4         False  ...   \n",
       "3            2.70          14.0          NaN      9         False  ...   \n",
       "4            3.03          14.0         32.0     13         False  ...   \n",
       "\n",
       "     locality_name  airports_nearest  cityCenters_nearest  parks_around3000  \\\n",
       "0  Санкт-Петербург           18863.0              16028.0               1.0   \n",
       "1   поселок Шушары           12817.0              18603.0               0.0   \n",
       "2  Санкт-Петербург           21741.0              13933.0               1.0   \n",
       "3  Санкт-Петербург           28098.0               6800.0               2.0   \n",
       "4  Санкт-Петербург           31856.0               8098.0               2.0   \n",
       "\n",
       "  parks_nearest  ponds_around3000  ponds_nearest  days_exposition  \\\n",
       "0         482.0               2.0          755.0              NaN   \n",
       "1           NaN               0.0            NaN             81.0   \n",
       "2          90.0               2.0          574.0            558.0   \n",
       "3          84.0               3.0          234.0            424.0   \n",
       "4         112.0               1.0           48.0            121.0   \n",
       "\n",
       "   living_rate  kitchen_rate  \n",
       "0     0.616438      0.128767  \n",
       "1     0.463731      0.259067  \n",
       "2     0.573864      0.160985  \n",
       "3     0.616438      0.128767  \n",
       "4     0.573864      0.160985  \n",
       "\n",
       "[5 rows x 24 columns]"
      ]
     },
     "execution_count": 52,
     "metadata": {},
     "output_type": "execute_result"
    }
   ],
   "source": [
    "#присоединяем столбцы с рассчитанными коэффициентами к основной таблице\n",
    "real_estate = real_estate.merge(living_research[['living_rate', 'kitchen_rate']],\n",
    "                                on = ['rooms', 'studio', 'balcony'], how = 'left')\n",
    "real_estate.head()"
   ]
  },
  {
   "cell_type": "code",
   "execution_count": 53,
   "metadata": {},
   "outputs": [
    {
     "name": "stdout",
     "output_type": "stream",
     "text": [
      "Количество пропусков \"living_area\" до обработки: 1898\n",
      "Количество пропусков \"living_area\" после обработки: 0\n"
     ]
    }
   ],
   "source": [
    "#заполняем пропущенные значения через метод loc, умножая общую площадь на вычисленную долю жилой или кухонной зоны\n",
    "print('Количество пропусков \"living_area\" до обработки:', real_estate['living_area'].isna().sum())\n",
    "real_estate.loc[real_estate['living_area'].isna(), 'living_area'] = real_estate['total_area']*real_estate['living_rate']\n",
    "print('Количество пропусков \"living_area\" после обработки:', real_estate['living_area'].isna().sum())"
   ]
  },
  {
   "cell_type": "code",
   "execution_count": 54,
   "metadata": {},
   "outputs": [
    {
     "data": {
      "text/html": [
       "<div>\n",
       "<style scoped>\n",
       "    .dataframe tbody tr th:only-of-type {\n",
       "        vertical-align: middle;\n",
       "    }\n",
       "\n",
       "    .dataframe tbody tr th {\n",
       "        vertical-align: top;\n",
       "    }\n",
       "\n",
       "    .dataframe thead th {\n",
       "        text-align: right;\n",
       "    }\n",
       "</style>\n",
       "<table border=\"1\" class=\"dataframe\">\n",
       "  <thead>\n",
       "    <tr style=\"text-align: right;\">\n",
       "      <th></th>\n",
       "      <th>total_images</th>\n",
       "      <th>last_price</th>\n",
       "      <th>total_area</th>\n",
       "      <th>first_day_exposition</th>\n",
       "      <th>rooms</th>\n",
       "      <th>ceiling_height</th>\n",
       "      <th>floors_total</th>\n",
       "      <th>living_area</th>\n",
       "      <th>floor</th>\n",
       "      <th>is_apartment</th>\n",
       "      <th>...</th>\n",
       "      <th>locality_name</th>\n",
       "      <th>airports_nearest</th>\n",
       "      <th>cityCenters_nearest</th>\n",
       "      <th>parks_around3000</th>\n",
       "      <th>parks_nearest</th>\n",
       "      <th>ponds_around3000</th>\n",
       "      <th>ponds_nearest</th>\n",
       "      <th>days_exposition</th>\n",
       "      <th>living_rate</th>\n",
       "      <th>kitchen_rate</th>\n",
       "    </tr>\n",
       "  </thead>\n",
       "  <tbody>\n",
       "    <tr>\n",
       "      <td>0</td>\n",
       "      <td>20</td>\n",
       "      <td>13000000.0</td>\n",
       "      <td>108.0</td>\n",
       "      <td>2019-03-07</td>\n",
       "      <td>3</td>\n",
       "      <td>2.70</td>\n",
       "      <td>16.0</td>\n",
       "      <td>51.000000</td>\n",
       "      <td>8</td>\n",
       "      <td>False</td>\n",
       "      <td>...</td>\n",
       "      <td>Санкт-Петербург</td>\n",
       "      <td>18863.0</td>\n",
       "      <td>16028.0</td>\n",
       "      <td>1.0</td>\n",
       "      <td>482.0</td>\n",
       "      <td>2.0</td>\n",
       "      <td>755.0</td>\n",
       "      <td>NaN</td>\n",
       "      <td>0.616438</td>\n",
       "      <td>0.128767</td>\n",
       "    </tr>\n",
       "    <tr>\n",
       "      <td>1</td>\n",
       "      <td>7</td>\n",
       "      <td>3350000.0</td>\n",
       "      <td>40.4</td>\n",
       "      <td>2018-12-04</td>\n",
       "      <td>1</td>\n",
       "      <td>2.63</td>\n",
       "      <td>11.0</td>\n",
       "      <td>18.600000</td>\n",
       "      <td>1</td>\n",
       "      <td>False</td>\n",
       "      <td>...</td>\n",
       "      <td>поселок Шушары</td>\n",
       "      <td>12817.0</td>\n",
       "      <td>18603.0</td>\n",
       "      <td>0.0</td>\n",
       "      <td>NaN</td>\n",
       "      <td>0.0</td>\n",
       "      <td>NaN</td>\n",
       "      <td>81.0</td>\n",
       "      <td>0.463731</td>\n",
       "      <td>0.259067</td>\n",
       "    </tr>\n",
       "    <tr>\n",
       "      <td>2</td>\n",
       "      <td>10</td>\n",
       "      <td>5196000.0</td>\n",
       "      <td>56.0</td>\n",
       "      <td>2015-08-20</td>\n",
       "      <td>2</td>\n",
       "      <td>2.70</td>\n",
       "      <td>5.0</td>\n",
       "      <td>34.300000</td>\n",
       "      <td>4</td>\n",
       "      <td>False</td>\n",
       "      <td>...</td>\n",
       "      <td>Санкт-Петербург</td>\n",
       "      <td>21741.0</td>\n",
       "      <td>13933.0</td>\n",
       "      <td>1.0</td>\n",
       "      <td>90.0</td>\n",
       "      <td>2.0</td>\n",
       "      <td>574.0</td>\n",
       "      <td>558.0</td>\n",
       "      <td>0.573864</td>\n",
       "      <td>0.160985</td>\n",
       "    </tr>\n",
       "    <tr>\n",
       "      <td>3</td>\n",
       "      <td>0</td>\n",
       "      <td>64900000.0</td>\n",
       "      <td>159.0</td>\n",
       "      <td>2015-07-24</td>\n",
       "      <td>3</td>\n",
       "      <td>2.70</td>\n",
       "      <td>14.0</td>\n",
       "      <td>98.013699</td>\n",
       "      <td>9</td>\n",
       "      <td>False</td>\n",
       "      <td>...</td>\n",
       "      <td>Санкт-Петербург</td>\n",
       "      <td>28098.0</td>\n",
       "      <td>6800.0</td>\n",
       "      <td>2.0</td>\n",
       "      <td>84.0</td>\n",
       "      <td>3.0</td>\n",
       "      <td>234.0</td>\n",
       "      <td>424.0</td>\n",
       "      <td>0.616438</td>\n",
       "      <td>0.128767</td>\n",
       "    </tr>\n",
       "    <tr>\n",
       "      <td>4</td>\n",
       "      <td>2</td>\n",
       "      <td>10000000.0</td>\n",
       "      <td>100.0</td>\n",
       "      <td>2018-06-19</td>\n",
       "      <td>2</td>\n",
       "      <td>3.03</td>\n",
       "      <td>14.0</td>\n",
       "      <td>32.000000</td>\n",
       "      <td>13</td>\n",
       "      <td>False</td>\n",
       "      <td>...</td>\n",
       "      <td>Санкт-Петербург</td>\n",
       "      <td>31856.0</td>\n",
       "      <td>8098.0</td>\n",
       "      <td>2.0</td>\n",
       "      <td>112.0</td>\n",
       "      <td>1.0</td>\n",
       "      <td>48.0</td>\n",
       "      <td>121.0</td>\n",
       "      <td>0.573864</td>\n",
       "      <td>0.160985</td>\n",
       "    </tr>\n",
       "  </tbody>\n",
       "</table>\n",
       "<p>5 rows × 24 columns</p>\n",
       "</div>"
      ],
      "text/plain": [
       "   total_images  last_price  total_area first_day_exposition  rooms  \\\n",
       "0            20  13000000.0       108.0           2019-03-07      3   \n",
       "1             7   3350000.0        40.4           2018-12-04      1   \n",
       "2            10   5196000.0        56.0           2015-08-20      2   \n",
       "3             0  64900000.0       159.0           2015-07-24      3   \n",
       "4             2  10000000.0       100.0           2018-06-19      2   \n",
       "\n",
       "   ceiling_height  floors_total  living_area  floor  is_apartment  ...  \\\n",
       "0            2.70          16.0    51.000000      8         False  ...   \n",
       "1            2.63          11.0    18.600000      1         False  ...   \n",
       "2            2.70           5.0    34.300000      4         False  ...   \n",
       "3            2.70          14.0    98.013699      9         False  ...   \n",
       "4            3.03          14.0    32.000000     13         False  ...   \n",
       "\n",
       "     locality_name  airports_nearest  cityCenters_nearest  parks_around3000  \\\n",
       "0  Санкт-Петербург           18863.0              16028.0               1.0   \n",
       "1   поселок Шушары           12817.0              18603.0               0.0   \n",
       "2  Санкт-Петербург           21741.0              13933.0               1.0   \n",
       "3  Санкт-Петербург           28098.0               6800.0               2.0   \n",
       "4  Санкт-Петербург           31856.0               8098.0               2.0   \n",
       "\n",
       "  parks_nearest  ponds_around3000  ponds_nearest  days_exposition  \\\n",
       "0         482.0               2.0          755.0              NaN   \n",
       "1           NaN               0.0            NaN             81.0   \n",
       "2          90.0               2.0          574.0            558.0   \n",
       "3          84.0               3.0          234.0            424.0   \n",
       "4         112.0               1.0           48.0            121.0   \n",
       "\n",
       "   living_rate  kitchen_rate  \n",
       "0     0.616438      0.128767  \n",
       "1     0.463731      0.259067  \n",
       "2     0.573864      0.160985  \n",
       "3     0.616438      0.128767  \n",
       "4     0.573864      0.160985  \n",
       "\n",
       "[5 rows x 24 columns]"
      ]
     },
     "execution_count": 54,
     "metadata": {},
     "output_type": "execute_result"
    }
   ],
   "source": [
    "real_estate.head()"
   ]
  },
  {
   "cell_type": "code",
   "execution_count": 55,
   "metadata": {},
   "outputs": [
    {
     "name": "stdout",
     "output_type": "stream",
     "text": [
      "Количество пропусков \"kitchen_area\" до обработки: 2269\n",
      "Количество пропусков \"kitchen_area\" после обработки: 150\n"
     ]
    }
   ],
   "source": [
    "#заполняем пропущенные значения через метод loc, умножая общую площадь на вычисленную долю жилой или кухонной зоны\n",
    "print('Количество пропусков \"kitchen_area\" до обработки:', real_estate['kitchen_area'].isna().sum())\n",
    "real_estate.loc[real_estate['kitchen_area'].isna(), 'kitchen_area'] = real_estate['total_area']*real_estate['kitchen_rate']\n",
    "print('Количество пропусков \"kitchen_area\" после обработки:', real_estate['kitchen_area'].isna().sum())"
   ]
  },
  {
   "cell_type": "markdown",
   "metadata": {},
   "source": [
    "Нам удалось заполнить большинство пробелов, кроме 150 пробелов в информации по площади кухни. Проверим, сколько из них приходится на студии, для которых в сводной таблице были указаны пустые значения."
   ]
  },
  {
   "cell_type": "code",
   "execution_count": 56,
   "metadata": {},
   "outputs": [
    {
     "name": "stdout",
     "output_type": "stream",
     "text": [
      "True     149\n",
      "False      1\n",
      "Name: studio, dtype: int64\n",
      "1    149\n",
      "7      1\n",
      "Name: rooms, dtype: int64\n"
     ]
    }
   ],
   "source": [
    "print(real_estate[real_estate['kitchen_area'].isna()]['studio'].value_counts())\n",
    "print(real_estate[real_estate['kitchen_area'].isna()]['rooms'].value_counts())"
   ]
  },
  {
   "cell_type": "markdown",
   "metadata": {},
   "source": [
    "Мы видим, что большинство оставшихся пробелов относятся к квартирам-студиям, в которых не выделяется отдельное кухонное пространство. Предположим, что площадь кухни в студии примерно совпадает с площадью кухни в однокомнатных квартирах. И аналогично для семикомнатной квартиры с обнаруженным пропуском."
   ]
  },
  {
   "cell_type": "code",
   "execution_count": 57,
   "metadata": {},
   "outputs": [
    {
     "name": "stdout",
     "output_type": "stream",
     "text": [
      "Доля кухонной зоны для 1-комнатной квартиры: 0.24793388429752067\n",
      "Доля кухонной зоны для 7-комнатной квартиры: 0.09345794392523364\n",
      "Количество пропусков \"kitchen_area\" после обработки: 0\n"
     ]
    }
   ],
   "source": [
    "#вычисляем отношение площади кухни к общей площади для квартир с разным кол-вом комнат, используя медианные значения площедей\n",
    "kitchen_rate_1 = real_estate[real_estate['rooms'] == 1]['kitchen_area'].median()/real_estate[real_estate['rooms'] == 1]['total_area'].median()\n",
    "kitchen_rate_7 = real_estate[real_estate['rooms'] == 7]['kitchen_area'].median()/real_estate[real_estate['rooms'] == 7]['total_area'].median()\n",
    "print('Доля кухонной зоны для 1-комнатной квартиры:', kitchen_rate_1)\n",
    "print('Доля кухонной зоны для 7-комнатной квартиры:', kitchen_rate_7)\n",
    "#заменяем пропуски при помощи метода loc, умножая площадь квартиры на долю кухонной зоны\n",
    "real_estate.loc[(real_estate['kitchen_area'].isna()) & (real_estate['rooms'] == 1), 'kitchen_area'] = real_estate['total_area']*kitchen_rate_1\n",
    "real_estate.loc[(real_estate['kitchen_area'].isna()) & (real_estate['rooms'] == 7), 'kitchen_area'] = real_estate['total_area']*kitchen_rate_7\n",
    "print('Количество пропусков \"kitchen_area\" после обработки:', real_estate['kitchen_area'].isna().sum())"
   ]
  },
  {
   "cell_type": "markdown",
   "metadata": {},
   "source": [
    "Таким образом, были заполнены пропуски по площади кухни и жилой зоны.\n",
    "\n",
    "7) Перейдём к заполнению пропусков в столбцах 'parks_nearest', 'ponds_nearest', 'parks_around3000', 'ponds_around3000', 'airports_nearest','cityCenters_nearest'. Все эти данные зависят от локации. Возможно, что часть из них вносилась по населённым пунктам, по которым на тот момент не было данных в базе.  Поскольку у нас нет точных координат каждого жилья из объявлений, то полагаем возможным заполнить столбцы медианными значениями по населённым пунктам."
   ]
  },
  {
   "cell_type": "code",
   "execution_count": 58,
   "metadata": {},
   "outputs": [],
   "source": [
    "#создаём функцию, которая заменяет пропуски на медианные значения показателя\n",
    "#функция принимает как аргумент название столбца\n",
    "def fill_by_median(col_name):\n",
    "    print('Количество пропусков до обработки',col_name, ':', real_estate[col_name].isna().sum())\n",
    "#выбираем все названия населённых пунктов, где есть пропуски по высоте потолков\n",
    "    missing_town = real_estate[real_estate[col_name].isna()]['locality_name'].unique()\n",
    "#создаём переменную med_ceil, которая каждому из населённых пунктов будет ставить в соответствие медианную высоту потолка\n",
    "    for town in missing_town:\n",
    "        med_col = round(real_estate.loc[real_estate['locality_name'] == town, col_name].median(), 2)\n",
    "        #print(town, med_col)\n",
    "        #заменяем пустые значения в ячейках\n",
    "        real_estate.loc[(real_estate['locality_name'] == town) & (real_estate[col_name].isna()), col_name] = med_col\n",
    "    print('Количество пропусков после обработки',col_name, ':', real_estate[col_name].isna().sum())"
   ]
  },
  {
   "cell_type": "code",
   "execution_count": 59,
   "metadata": {
    "scrolled": true
   },
   "outputs": [
    {
     "name": "stdout",
     "output_type": "stream",
     "text": [
      "Количество пропусков до обработки parks_nearest : 15586\n",
      "Количество пропусков после обработки parks_nearest : 5998\n",
      "\n",
      "Количество пропусков до обработки ponds_nearest : 14565\n",
      "Количество пропусков после обработки ponds_nearest : 4972\n",
      "\n",
      "Количество пропусков до обработки parks_around3000 : 5510\n",
      "Количество пропусков после обработки parks_around3000 : 4864\n",
      "\n",
      "Количество пропусков до обработки ponds_around3000 : 5510\n",
      "Количество пропусков после обработки ponds_around3000 : 4864\n",
      "\n",
      "Количество пропусков до обработки cityCenters_nearest : 5511\n",
      "Количество пропусков после обработки cityCenters_nearest : 4864\n",
      "\n",
      "Количество пропусков до обработки airports_nearest : 5534\n",
      "Количество пропусков после обработки airports_nearest : 4864\n",
      "\n"
     ]
    }
   ],
   "source": [
    "#Создаём цикл, который по очереди подставляет в функцию названия столбцов из списка\n",
    "missing_list = ['parks_nearest', 'ponds_nearest', 'parks_around3000', 'ponds_around3000', 'cityCenters_nearest', 'airports_nearest']\n",
    "for position in missing_list:\n",
    "    fill_by_median(position)\n",
    "    print()"
   ]
  },
  {
   "cell_type": "markdown",
   "metadata": {},
   "source": [
    "Нам удалось заполнить часть пропусков, но далеко не все. Осталось от 5998 до 4864 пропущенных значения в столбцах из перечня. В отсутствие базы данных по характеристикам всех населённых пунктах Ленинградской области, воспользуемся медианными значениями данных показателй по области, предварительно исключив из выборки Санкт-Петербург, который, являясь крупным городом с развитой инфраструктурой, будет давать существенные искажения."
   ]
  },
  {
   "cell_type": "code",
   "execution_count": 60,
   "metadata": {},
   "outputs": [],
   "source": [
    "#создаём функцию, принимающую название столбца, и рассчитывающую медиану по его заполненным значениям\n",
    "# при этом из расчета медианы исключаются данные по Санкт-Петербургу\n",
    "def fill_by_region_median(col_name):\n",
    "    print('Количество пропусков до обработки',col_name, ':', real_estate[col_name].isna().sum())\n",
    "    med_by_region = real_estate[(real_estate['locality_name'] != 'Санкт-Петербург')&\n",
    "                                (real_estate[col_name].isna() == False)][col_name].median()\n",
    "    print('Медиана по региону по показателю', col_name, ':', med_by_region)\n",
    "    real_estate[col_name] = real_estate[col_name].fillna(med_by_region)\n",
    "    print('Количество пропусков после обработки',col_name, ':', real_estate[col_name].isna().sum())"
   ]
  },
  {
   "cell_type": "code",
   "execution_count": 61,
   "metadata": {},
   "outputs": [
    {
     "name": "stdout",
     "output_type": "stream",
     "text": [
      "Количество пропусков до обработки parks_nearest : 5998\n",
      "Медиана по региону по показателю parks_nearest : 399.5\n",
      "Количество пропусков после обработки parks_nearest : 0\n",
      "\n",
      "Количество пропусков до обработки ponds_nearest : 4972\n",
      "Медиана по региону по показателю ponds_nearest : 450.0\n",
      "Количество пропусков после обработки ponds_nearest : 0\n",
      "\n",
      "Количество пропусков до обработки parks_around3000 : 4864\n",
      "Медиана по региону по показателю parks_around3000 : 0.0\n",
      "Количество пропусков после обработки parks_around3000 : 0\n",
      "\n",
      "Количество пропусков до обработки ponds_around3000 : 4864\n",
      "Медиана по региону по показателю ponds_around3000 : 1.0\n",
      "Количество пропусков после обработки ponds_around3000 : 0\n",
      "\n",
      "Количество пропусков до обработки cityCenters_nearest : 4864\n",
      "Медиана по региону по показателю cityCenters_nearest : 28963.0\n",
      "Количество пропусков после обработки cityCenters_nearest : 0\n",
      "\n",
      "Количество пропусков до обработки airports_nearest : 4864\n",
      "Медиана по региону по показателю airports_nearest : 36410.0\n",
      "Количество пропусков после обработки airports_nearest : 0\n",
      "\n"
     ]
    }
   ],
   "source": [
    "#Создаём цикл, который по очереди подставляет в функцию названия столбцов из списка\n",
    "missing_list = ['parks_nearest', 'ponds_nearest', 'parks_around3000', 'ponds_around3000', 'cityCenters_nearest', 'airports_nearest']\n",
    "for position in missing_list:\n",
    "    fill_by_region_median(position)\n",
    "    print()"
   ]
  },
  {
   "cell_type": "markdown",
   "metadata": {},
   "source": [
    "Пропуски в рассматриваемых столбцах заполнены, однако выбранный метод не является оптимальным с точки зрения сохранения точности данных. В дальнейшем рекомендуется сделать повторную выгрузку или произвести сопоставление с базой данных по населённым пунктам.\n",
    "\n",
    "8) Перейдём к заполнению данных по 'days_exposition'. \n",
    "Попытаемся определить причину возникновения пропусков."
   ]
  },
  {
   "cell_type": "code",
   "execution_count": 62,
   "metadata": {},
   "outputs": [
    {
     "data": {
      "image/png": "[encoded data removed]",
      "text/plain": [
       "<Figure size 432x288 with 1 Axes>"
      ]
     },
     "metadata": {
      "needs_background": "light"
     },
     "output_type": "display_data"
    }
   ],
   "source": [
    "#создаём столбец, в который проставляется индикатор пропущенной строки\n",
    "real_estate['days_exposition_miss'] = real_estate['days_exposition'].isna().astype(int)\n",
    "#строим график по сумме пропусков в зависимости от даты подачи объявления\n",
    "real_estate.groupby('first_day_exposition').agg({'days_exposition_miss': 'sum'}).plot()\n",
    "plt.show()"
   ]
  },
  {
   "cell_type": "markdown",
   "metadata": {},
   "source": [
    "Число пропусков растёт к концу периода. Возможно, что пропуски означают незакрытые объявления, вероятность попадания которых в базу увеличивается с приближением к последней дате.\n",
    "Будем считать, что дата выгрузки равна последнему дню наблюдений."
   ]
  },
  {
   "cell_type": "code",
   "execution_count": 63,
   "metadata": {
    "scrolled": true
   },
   "outputs": [
    {
     "name": "stdout",
     "output_type": "stream",
     "text": [
      "Число пропусков до обработки: 3180\n",
      "Число пропусков после обработки: 0\n"
     ]
    }
   ],
   "source": [
    "print('Число пропусков до обработки:', real_estate['days_exposition'].isna().sum())\n",
    "max_dat = real_estate['first_day_exposition'].max()\n",
    "#заполняем пропуски с помощью метода loc, используя в качестве заполнителя разность\n",
    "# даты подачи объявления и последней даты\n",
    "real_estate.loc[real_estate['days_exposition'].isna(),\n",
    "                'days_exposition'] = (max_dat - real_estate.loc[real_estate['days_exposition'].isna(), 'first_day_exposition']).dt.days\n",
    "print('Число пропусков после обработки:', real_estate['days_exposition'].isna().sum())"
   ]
  },
  {
   "cell_type": "markdown",
   "metadata": {},
   "source": [
    "Мы заполнили пропуски по длительности нахождения объявления в базе. "
   ]
  },
  {
   "cell_type": "markdown",
   "metadata": {},
   "source": [
    "9) Рассмотрим пропуски по этажности."
   ]
  },
  {
   "cell_type": "code",
   "execution_count": 64,
   "metadata": {
    "scrolled": true
   },
   "outputs": [
    {
     "data": {
      "text/plain": [
       "4     9\n",
       "6     9\n",
       "8     8\n",
       "12    6\n",
       "9     5\n",
       "3     4\n",
       "21    4\n",
       "5     4\n",
       "7     4\n",
       "11    3\n",
       "10    3\n",
       "1     3\n",
       "13    3\n",
       "15    3\n",
       "18    3\n",
       "19    3\n",
       "14    2\n",
       "20    2\n",
       "2     2\n",
       "24    2\n",
       "23    1\n",
       "17    1\n",
       "22    1\n",
       "Name: floor, dtype: int64"
      ]
     },
     "execution_count": 64,
     "metadata": {},
     "output_type": "execute_result"
    }
   ],
   "source": [
    "real_estate[real_estate['floors_total'].isna()]['floor'].value_counts()"
   ]
  },
  {
   "cell_type": "markdown",
   "metadata": {},
   "source": [
    "Поскольку мы видим, что встречаются высокие этажи, нецелесообразно использовать медиану по населённому пункту. Пропущенные значения не оказывают существенного влияния на выборку, однако пропуски могут вызвать проблемы при категоризации данных по близости к верхним этажам. \n",
    "Поэтому считаем возможным принять этажи в пропущенных ячейках за максимальные этажи дома."
   ]
  },
  {
   "cell_type": "code",
   "execution_count": 65,
   "metadata": {
    "scrolled": true
   },
   "outputs": [
    {
     "name": "stdout",
     "output_type": "stream",
     "text": [
      "Число пропусков до обработки: 85\n",
      "Число пропусков после обработки: 0\n"
     ]
    }
   ],
   "source": [
    "print('Число пропусков до обработки:', real_estate['floors_total'].isna().sum())\n",
    "real_estate.loc[real_estate['floors_total'].isna(), 'floors_total'] = real_estate.loc[real_estate['floors_total'].isna(), 'floor']\n",
    "print('Число пропусков после обработки:', real_estate['floors_total'].isna().sum())"
   ]
  },
  {
   "cell_type": "markdown",
   "metadata": {},
   "source": [
    "Заполнение пропусков закончено. Переходим к окончательной обработке."
   ]
  },
  {
   "cell_type": "markdown",
   "metadata": {},
   "source": [
    "#### Изменение типов данных и окончательная обработка"
   ]
  },
  {
   "cell_type": "code",
   "execution_count": 66,
   "metadata": {},
   "outputs": [
    {
     "data": {
      "text/html": [
       "<div>\n",
       "<style scoped>\n",
       "    .dataframe tbody tr th:only-of-type {\n",
       "        vertical-align: middle;\n",
       "    }\n",
       "\n",
       "    .dataframe tbody tr th {\n",
       "        vertical-align: top;\n",
       "    }\n",
       "\n",
       "    .dataframe thead th {\n",
       "        text-align: right;\n",
       "    }\n",
       "</style>\n",
       "<table border=\"1\" class=\"dataframe\">\n",
       "  <thead>\n",
       "    <tr style=\"text-align: right;\">\n",
       "      <th></th>\n",
       "      <th>total_images</th>\n",
       "      <th>last_price</th>\n",
       "      <th>total_area</th>\n",
       "      <th>first_day_exposition</th>\n",
       "      <th>rooms</th>\n",
       "      <th>ceiling_height</th>\n",
       "      <th>floors_total</th>\n",
       "      <th>living_area</th>\n",
       "      <th>floor</th>\n",
       "      <th>is_apartment</th>\n",
       "      <th>...</th>\n",
       "      <th>airports_nearest</th>\n",
       "      <th>cityCenters_nearest</th>\n",
       "      <th>parks_around3000</th>\n",
       "      <th>parks_nearest</th>\n",
       "      <th>ponds_around3000</th>\n",
       "      <th>ponds_nearest</th>\n",
       "      <th>days_exposition</th>\n",
       "      <th>living_rate</th>\n",
       "      <th>kitchen_rate</th>\n",
       "      <th>days_exposition_miss</th>\n",
       "    </tr>\n",
       "  </thead>\n",
       "  <tbody>\n",
       "    <tr>\n",
       "      <td>0</td>\n",
       "      <td>20</td>\n",
       "      <td>13000000.0</td>\n",
       "      <td>108.0</td>\n",
       "      <td>2019-03-07</td>\n",
       "      <td>3</td>\n",
       "      <td>2.70</td>\n",
       "      <td>16.0</td>\n",
       "      <td>51.000000</td>\n",
       "      <td>8</td>\n",
       "      <td>False</td>\n",
       "      <td>...</td>\n",
       "      <td>18863.0</td>\n",
       "      <td>16028.0</td>\n",
       "      <td>1.0</td>\n",
       "      <td>482.0</td>\n",
       "      <td>2.0</td>\n",
       "      <td>755.0</td>\n",
       "      <td>57.0</td>\n",
       "      <td>0.616438</td>\n",
       "      <td>0.128767</td>\n",
       "      <td>1</td>\n",
       "    </tr>\n",
       "    <tr>\n",
       "      <td>1</td>\n",
       "      <td>7</td>\n",
       "      <td>3350000.0</td>\n",
       "      <td>40.4</td>\n",
       "      <td>2018-12-04</td>\n",
       "      <td>1</td>\n",
       "      <td>2.63</td>\n",
       "      <td>11.0</td>\n",
       "      <td>18.600000</td>\n",
       "      <td>1</td>\n",
       "      <td>False</td>\n",
       "      <td>...</td>\n",
       "      <td>12817.0</td>\n",
       "      <td>18603.0</td>\n",
       "      <td>0.0</td>\n",
       "      <td>399.5</td>\n",
       "      <td>0.0</td>\n",
       "      <td>584.5</td>\n",
       "      <td>81.0</td>\n",
       "      <td>0.463731</td>\n",
       "      <td>0.259067</td>\n",
       "      <td>0</td>\n",
       "    </tr>\n",
       "    <tr>\n",
       "      <td>2</td>\n",
       "      <td>10</td>\n",
       "      <td>5196000.0</td>\n",
       "      <td>56.0</td>\n",
       "      <td>2015-08-20</td>\n",
       "      <td>2</td>\n",
       "      <td>2.70</td>\n",
       "      <td>5.0</td>\n",
       "      <td>34.300000</td>\n",
       "      <td>4</td>\n",
       "      <td>False</td>\n",
       "      <td>...</td>\n",
       "      <td>21741.0</td>\n",
       "      <td>13933.0</td>\n",
       "      <td>1.0</td>\n",
       "      <td>90.0</td>\n",
       "      <td>2.0</td>\n",
       "      <td>574.0</td>\n",
       "      <td>558.0</td>\n",
       "      <td>0.573864</td>\n",
       "      <td>0.160985</td>\n",
       "      <td>0</td>\n",
       "    </tr>\n",
       "    <tr>\n",
       "      <td>3</td>\n",
       "      <td>0</td>\n",
       "      <td>64900000.0</td>\n",
       "      <td>159.0</td>\n",
       "      <td>2015-07-24</td>\n",
       "      <td>3</td>\n",
       "      <td>2.70</td>\n",
       "      <td>14.0</td>\n",
       "      <td>98.013699</td>\n",
       "      <td>9</td>\n",
       "      <td>False</td>\n",
       "      <td>...</td>\n",
       "      <td>28098.0</td>\n",
       "      <td>6800.0</td>\n",
       "      <td>2.0</td>\n",
       "      <td>84.0</td>\n",
       "      <td>3.0</td>\n",
       "      <td>234.0</td>\n",
       "      <td>424.0</td>\n",
       "      <td>0.616438</td>\n",
       "      <td>0.128767</td>\n",
       "      <td>0</td>\n",
       "    </tr>\n",
       "    <tr>\n",
       "      <td>4</td>\n",
       "      <td>2</td>\n",
       "      <td>10000000.0</td>\n",
       "      <td>100.0</td>\n",
       "      <td>2018-06-19</td>\n",
       "      <td>2</td>\n",
       "      <td>3.03</td>\n",
       "      <td>14.0</td>\n",
       "      <td>32.000000</td>\n",
       "      <td>13</td>\n",
       "      <td>False</td>\n",
       "      <td>...</td>\n",
       "      <td>31856.0</td>\n",
       "      <td>8098.0</td>\n",
       "      <td>2.0</td>\n",
       "      <td>112.0</td>\n",
       "      <td>1.0</td>\n",
       "      <td>48.0</td>\n",
       "      <td>121.0</td>\n",
       "      <td>0.573864</td>\n",
       "      <td>0.160985</td>\n",
       "      <td>0</td>\n",
       "    </tr>\n",
       "  </tbody>\n",
       "</table>\n",
       "<p>5 rows × 25 columns</p>\n",
       "</div>"
      ],
      "text/plain": [
       "   total_images  last_price  total_area first_day_exposition  rooms  \\\n",
       "0            20  13000000.0       108.0           2019-03-07      3   \n",
       "1             7   3350000.0        40.4           2018-12-04      1   \n",
       "2            10   5196000.0        56.0           2015-08-20      2   \n",
       "3             0  64900000.0       159.0           2015-07-24      3   \n",
       "4             2  10000000.0       100.0           2018-06-19      2   \n",
       "\n",
       "   ceiling_height  floors_total  living_area  floor  is_apartment  ...  \\\n",
       "0            2.70          16.0    51.000000      8         False  ...   \n",
       "1            2.63          11.0    18.600000      1         False  ...   \n",
       "2            2.70           5.0    34.300000      4         False  ...   \n",
       "3            2.70          14.0    98.013699      9         False  ...   \n",
       "4            3.03          14.0    32.000000     13         False  ...   \n",
       "\n",
       "  airports_nearest  cityCenters_nearest  parks_around3000  parks_nearest  \\\n",
       "0          18863.0              16028.0               1.0          482.0   \n",
       "1          12817.0              18603.0               0.0          399.5   \n",
       "2          21741.0              13933.0               1.0           90.0   \n",
       "3          28098.0               6800.0               2.0           84.0   \n",
       "4          31856.0               8098.0               2.0          112.0   \n",
       "\n",
       "  ponds_around3000  ponds_nearest  days_exposition  living_rate  kitchen_rate  \\\n",
       "0              2.0          755.0             57.0     0.616438      0.128767   \n",
       "1              0.0          584.5             81.0     0.463731      0.259067   \n",
       "2              2.0          574.0            558.0     0.573864      0.160985   \n",
       "3              3.0          234.0            424.0     0.616438      0.128767   \n",
       "4              1.0           48.0            121.0     0.573864      0.160985   \n",
       "\n",
       "   days_exposition_miss  \n",
       "0                     1  \n",
       "1                     0  \n",
       "2                     0  \n",
       "3                     0  \n",
       "4                     0  \n",
       "\n",
       "[5 rows x 25 columns]"
      ]
     },
     "execution_count": 66,
     "metadata": {},
     "output_type": "execute_result"
    }
   ],
   "source": [
    "real_estate.head()"
   ]
  },
  {
   "cell_type": "markdown",
   "metadata": {},
   "source": [
    "В ходе предобработки было создано 3 лишних столбца ('living_rate', 'kitchen_rate', 'days_exposition_miss'), которые необходимо убрать."
   ]
  },
  {
   "cell_type": "code",
   "execution_count": 67,
   "metadata": {
    "scrolled": true
   },
   "outputs": [
    {
     "data": {
      "text/html": [
       "<div>\n",
       "<style scoped>\n",
       "    .dataframe tbody tr th:only-of-type {\n",
       "        vertical-align: middle;\n",
       "    }\n",
       "\n",
       "    .dataframe tbody tr th {\n",
       "        vertical-align: top;\n",
       "    }\n",
       "\n",
       "    .dataframe thead th {\n",
       "        text-align: right;\n",
       "    }\n",
       "</style>\n",
       "<table border=\"1\" class=\"dataframe\">\n",
       "  <thead>\n",
       "    <tr style=\"text-align: right;\">\n",
       "      <th></th>\n",
       "      <th>total_images</th>\n",
       "      <th>last_price</th>\n",
       "      <th>total_area</th>\n",
       "      <th>first_day_exposition</th>\n",
       "      <th>rooms</th>\n",
       "      <th>ceiling_height</th>\n",
       "      <th>floors_total</th>\n",
       "      <th>living_area</th>\n",
       "      <th>floor</th>\n",
       "      <th>is_apartment</th>\n",
       "      <th>...</th>\n",
       "      <th>kitchen_area</th>\n",
       "      <th>balcony</th>\n",
       "      <th>locality_name</th>\n",
       "      <th>airports_nearest</th>\n",
       "      <th>cityCenters_nearest</th>\n",
       "      <th>parks_around3000</th>\n",
       "      <th>parks_nearest</th>\n",
       "      <th>ponds_around3000</th>\n",
       "      <th>ponds_nearest</th>\n",
       "      <th>days_exposition</th>\n",
       "    </tr>\n",
       "  </thead>\n",
       "  <tbody>\n",
       "    <tr>\n",
       "      <td>0</td>\n",
       "      <td>20</td>\n",
       "      <td>13000000.0</td>\n",
       "      <td>108.0</td>\n",
       "      <td>2019-03-07</td>\n",
       "      <td>3</td>\n",
       "      <td>2.70</td>\n",
       "      <td>16.0</td>\n",
       "      <td>51.0</td>\n",
       "      <td>8</td>\n",
       "      <td>False</td>\n",
       "      <td>...</td>\n",
       "      <td>25.0</td>\n",
       "      <td>0.0</td>\n",
       "      <td>Санкт-Петербург</td>\n",
       "      <td>18863.0</td>\n",
       "      <td>16028.0</td>\n",
       "      <td>1.0</td>\n",
       "      <td>482.0</td>\n",
       "      <td>2.0</td>\n",
       "      <td>755.0</td>\n",
       "      <td>57.0</td>\n",
       "    </tr>\n",
       "    <tr>\n",
       "      <td>1</td>\n",
       "      <td>7</td>\n",
       "      <td>3350000.0</td>\n",
       "      <td>40.4</td>\n",
       "      <td>2018-12-04</td>\n",
       "      <td>1</td>\n",
       "      <td>2.63</td>\n",
       "      <td>11.0</td>\n",
       "      <td>18.6</td>\n",
       "      <td>1</td>\n",
       "      <td>False</td>\n",
       "      <td>...</td>\n",
       "      <td>11.0</td>\n",
       "      <td>2.0</td>\n",
       "      <td>поселок Шушары</td>\n",
       "      <td>12817.0</td>\n",
       "      <td>18603.0</td>\n",
       "      <td>0.0</td>\n",
       "      <td>399.5</td>\n",
       "      <td>0.0</td>\n",
       "      <td>584.5</td>\n",
       "      <td>81.0</td>\n",
       "    </tr>\n",
       "    <tr>\n",
       "      <td>2</td>\n",
       "      <td>10</td>\n",
       "      <td>5196000.0</td>\n",
       "      <td>56.0</td>\n",
       "      <td>2015-08-20</td>\n",
       "      <td>2</td>\n",
       "      <td>2.70</td>\n",
       "      <td>5.0</td>\n",
       "      <td>34.3</td>\n",
       "      <td>4</td>\n",
       "      <td>False</td>\n",
       "      <td>...</td>\n",
       "      <td>8.3</td>\n",
       "      <td>0.0</td>\n",
       "      <td>Санкт-Петербург</td>\n",
       "      <td>21741.0</td>\n",
       "      <td>13933.0</td>\n",
       "      <td>1.0</td>\n",
       "      <td>90.0</td>\n",
       "      <td>2.0</td>\n",
       "      <td>574.0</td>\n",
       "      <td>558.0</td>\n",
       "    </tr>\n",
       "  </tbody>\n",
       "</table>\n",
       "<p>3 rows × 22 columns</p>\n",
       "</div>"
      ],
      "text/plain": [
       "   total_images  last_price  total_area first_day_exposition  rooms  \\\n",
       "0            20  13000000.0       108.0           2019-03-07      3   \n",
       "1             7   3350000.0        40.4           2018-12-04      1   \n",
       "2            10   5196000.0        56.0           2015-08-20      2   \n",
       "\n",
       "   ceiling_height  floors_total  living_area  floor  is_apartment  ...  \\\n",
       "0            2.70          16.0         51.0      8         False  ...   \n",
       "1            2.63          11.0         18.6      1         False  ...   \n",
       "2            2.70           5.0         34.3      4         False  ...   \n",
       "\n",
       "  kitchen_area  balcony    locality_name  airports_nearest  \\\n",
       "0         25.0      0.0  Санкт-Петербург           18863.0   \n",
       "1         11.0      2.0   поселок Шушары           12817.0   \n",
       "2          8.3      0.0  Санкт-Петербург           21741.0   \n",
       "\n",
       "  cityCenters_nearest  parks_around3000  parks_nearest  ponds_around3000  \\\n",
       "0             16028.0               1.0          482.0               2.0   \n",
       "1             18603.0               0.0          399.5               0.0   \n",
       "2             13933.0               1.0           90.0               2.0   \n",
       "\n",
       "   ponds_nearest  days_exposition  \n",
       "0          755.0             57.0  \n",
       "1          584.5             81.0  \n",
       "2          574.0            558.0  \n",
       "\n",
       "[3 rows x 22 columns]"
      ]
     },
     "execution_count": 67,
     "metadata": {},
     "output_type": "execute_result"
    }
   ],
   "source": [
    "real_estate = real_estate.drop(columns = ['living_rate', 'kitchen_rate', 'days_exposition_miss'])\n",
    "real_estate.head(3)"
   ]
  },
  {
   "cell_type": "code",
   "execution_count": 68,
   "metadata": {},
   "outputs": [
    {
     "name": "stdout",
     "output_type": "stream",
     "text": [
      "<class 'pandas.core.frame.DataFrame'>\n",
      "Int64Index: 23650 entries, 0 to 23649\n",
      "Data columns (total 22 columns):\n",
      "total_images            23650 non-null int64\n",
      "last_price              23650 non-null float64\n",
      "total_area              23650 non-null float64\n",
      "first_day_exposition    23650 non-null datetime64[ns]\n",
      "rooms                   23650 non-null int64\n",
      "ceiling_height          23650 non-null float64\n",
      "floors_total            23650 non-null float64\n",
      "living_area             23650 non-null float64\n",
      "floor                   23650 non-null int64\n",
      "is_apartment            23650 non-null bool\n",
      "studio                  23650 non-null object\n",
      "open_plan               23650 non-null bool\n",
      "kitchen_area            23650 non-null float64\n",
      "balcony                 23650 non-null float64\n",
      "locality_name           23650 non-null object\n",
      "airports_nearest        23650 non-null float64\n",
      "cityCenters_nearest     23650 non-null float64\n",
      "parks_around3000        23650 non-null float64\n",
      "parks_nearest           23650 non-null float64\n",
      "ponds_around3000        23650 non-null float64\n",
      "ponds_nearest           23650 non-null float64\n",
      "days_exposition         23650 non-null float64\n",
      "dtypes: bool(2), datetime64[ns](1), float64(14), int64(3), object(2)\n",
      "memory usage: 4.5+ MB\n"
     ]
    }
   ],
   "source": [
    "real_estate.info()"
   ]
  },
  {
   "cell_type": "markdown",
   "metadata": {},
   "source": [
    "Далее рассмотрим возможность изменения форматов для столбцов. Без потери точности можно установить следующие форматы:\n",
    "\n",
    "- last_price, floors_total, balcony, parks_around3000, ponds_around3000 - int - точность в несколько знаков после запятой не повлияет на анализ данных, так как показатели представлены целыми числами\n",
    "- 'studio' - bool - столбец заполнен логическими данными, поэтому необходим перевод его в bool для соответствия формата значениям"
   ]
  },
  {
   "cell_type": "code",
   "execution_count": 69,
   "metadata": {},
   "outputs": [
    {
     "name": "stdout",
     "output_type": "stream",
     "text": [
      "<class 'pandas.core.frame.DataFrame'>\n",
      "Int64Index: 23650 entries, 0 to 23649\n",
      "Data columns (total 22 columns):\n",
      "total_images            23650 non-null int64\n",
      "last_price              23650 non-null int64\n",
      "total_area              23650 non-null float64\n",
      "first_day_exposition    23650 non-null datetime64[ns]\n",
      "rooms                   23650 non-null int64\n",
      "ceiling_height          23650 non-null float64\n",
      "floors_total            23650 non-null int64\n",
      "living_area             23650 non-null float64\n",
      "floor                   23650 non-null int64\n",
      "is_apartment            23650 non-null bool\n",
      "studio                  23650 non-null bool\n",
      "open_plan               23650 non-null bool\n",
      "kitchen_area            23650 non-null float64\n",
      "balcony                 23650 non-null int64\n",
      "locality_name           23650 non-null object\n",
      "airports_nearest        23650 non-null float64\n",
      "cityCenters_nearest     23650 non-null float64\n",
      "parks_around3000        23650 non-null int64\n",
      "parks_nearest           23650 non-null float64\n",
      "ponds_around3000        23650 non-null int64\n",
      "ponds_nearest           23650 non-null float64\n",
      "days_exposition         23650 non-null float64\n",
      "dtypes: bool(3), datetime64[ns](1), float64(9), int64(8), object(1)\n",
      "memory usage: 4.3+ MB\n"
     ]
    }
   ],
   "source": [
    "cols_to_int = ['last_price', 'floors_total', 'balcony', 'parks_around3000', 'ponds_around3000']\n",
    "real_estate[cols_to_int] = real_estate[cols_to_int].astype('int64')\n",
    "real_estate['studio'] = real_estate['studio'].astype('bool')\n",
    "real_estate.info()"
   ]
  },
  {
   "cell_type": "markdown",
   "metadata": {},
   "source": [
    "Предварительная обработка данных завершена.\n",
    "\n",
    "### Вывод <a id=info4></a>"
   ]
  },
  {
   "cell_type": "markdown",
   "metadata": {},
   "source": [
    "В ходе предварительной обработки данных:\n",
    "\n",
    "- заполнены 0 пропущенные значения столбца 'balcony'\n",
    "- заменены на False пропуски в 'is_apartment'\n",
    "- заполнены медианными значениями 'parks_nearest', 'ponds_nearest', 'parks_around3000', 'ponds_around3000', 'cityCenters_nearest', 'airports_nearest', 'ceiling_height'\n",
    "- при помощи данных доли кухни и жилой зоны по помещениям схожего типа восстановлены пропуски в 'living_area' и 'kitchen_area'\n",
    "- при помощи замены ё на е на удалось убрать 34 дубликата названий населённых пунктов\n",
    "- исходя из предположения, что число дней в 'days_exposition' могло быть не проставлено из-за того, что объявления не были закрыты, были восстановлены пропуски как разница между наиболее поздней датой размещения объявления и фактической датой размещения\n",
    "- 'floors_total' пропуски заполнены в соответствии с текущим указанным этажом\n",
    "- поскольку восстановление пропусков в столбце 'locality_name' не представлялось возможным и общее количество пропусков было меньше статистически значимого количества (86), то данные строки было решено отбросить\n",
    "- изменены форматы в столбцах  last_price, floors_total, balcony, parks_around3000, ponds_around3000, studio"
   ]
  },
  {
   "cell_type": "markdown",
   "metadata": {},
   "source": [
    "### Шаг 3. Посчитайте и добавьте в таблицу <a id=info5></a>"
   ]
  },
  {
   "cell_type": "markdown",
   "metadata": {},
   "source": [
    "В рамках анализа данных по рынку недвижимости соберём следующие данные:\n",
    "- цена квадратного метра;\n",
    "- день недели, месяц и год публикации объявления;\n",
    "- этаж квартиры (варианты — первый, последний, другой)\n",
    "- соотношение жилой и общей площади, а также отношение площади кухни к общей."
   ]
  },
  {
   "cell_type": "code",
   "execution_count": 70,
   "metadata": {
    "scrolled": true
   },
   "outputs": [
    {
     "data": {
      "text/html": [
       "<div>\n",
       "<style scoped>\n",
       "    .dataframe tbody tr th:only-of-type {\n",
       "        vertical-align: middle;\n",
       "    }\n",
       "\n",
       "    .dataframe tbody tr th {\n",
       "        vertical-align: top;\n",
       "    }\n",
       "\n",
       "    .dataframe thead th {\n",
       "        text-align: right;\n",
       "    }\n",
       "</style>\n",
       "<table border=\"1\" class=\"dataframe\">\n",
       "  <thead>\n",
       "    <tr style=\"text-align: right;\">\n",
       "      <th></th>\n",
       "      <th>total_images</th>\n",
       "      <th>last_price</th>\n",
       "      <th>total_area</th>\n",
       "      <th>first_day_exposition</th>\n",
       "      <th>rooms</th>\n",
       "      <th>ceiling_height</th>\n",
       "      <th>floors_total</th>\n",
       "      <th>living_area</th>\n",
       "      <th>floor</th>\n",
       "      <th>is_apartment</th>\n",
       "      <th>...</th>\n",
       "      <th>cityCenters_nearest</th>\n",
       "      <th>parks_around3000</th>\n",
       "      <th>parks_nearest</th>\n",
       "      <th>ponds_around3000</th>\n",
       "      <th>ponds_nearest</th>\n",
       "      <th>days_exposition</th>\n",
       "      <th>metre_price</th>\n",
       "      <th>living_rate</th>\n",
       "      <th>kitchen_rate</th>\n",
       "      <th>metre_price_thousand</th>\n",
       "    </tr>\n",
       "  </thead>\n",
       "  <tbody>\n",
       "    <tr>\n",
       "      <td>0</td>\n",
       "      <td>20</td>\n",
       "      <td>13000000</td>\n",
       "      <td>108.0</td>\n",
       "      <td>2019-03-07</td>\n",
       "      <td>3</td>\n",
       "      <td>2.70</td>\n",
       "      <td>16</td>\n",
       "      <td>51.0</td>\n",
       "      <td>8</td>\n",
       "      <td>False</td>\n",
       "      <td>...</td>\n",
       "      <td>16028.0</td>\n",
       "      <td>1</td>\n",
       "      <td>482.0</td>\n",
       "      <td>2</td>\n",
       "      <td>755.0</td>\n",
       "      <td>57.0</td>\n",
       "      <td>120370.37</td>\n",
       "      <td>0.472222</td>\n",
       "      <td>0.231481</td>\n",
       "      <td>120.37</td>\n",
       "    </tr>\n",
       "    <tr>\n",
       "      <td>1</td>\n",
       "      <td>7</td>\n",
       "      <td>3350000</td>\n",
       "      <td>40.4</td>\n",
       "      <td>2018-12-04</td>\n",
       "      <td>1</td>\n",
       "      <td>2.63</td>\n",
       "      <td>11</td>\n",
       "      <td>18.6</td>\n",
       "      <td>1</td>\n",
       "      <td>False</td>\n",
       "      <td>...</td>\n",
       "      <td>18603.0</td>\n",
       "      <td>0</td>\n",
       "      <td>399.5</td>\n",
       "      <td>0</td>\n",
       "      <td>584.5</td>\n",
       "      <td>81.0</td>\n",
       "      <td>82920.79</td>\n",
       "      <td>0.460396</td>\n",
       "      <td>0.272277</td>\n",
       "      <td>82.92</td>\n",
       "    </tr>\n",
       "    <tr>\n",
       "      <td>2</td>\n",
       "      <td>10</td>\n",
       "      <td>5196000</td>\n",
       "      <td>56.0</td>\n",
       "      <td>2015-08-20</td>\n",
       "      <td>2</td>\n",
       "      <td>2.70</td>\n",
       "      <td>5</td>\n",
       "      <td>34.3</td>\n",
       "      <td>4</td>\n",
       "      <td>False</td>\n",
       "      <td>...</td>\n",
       "      <td>13933.0</td>\n",
       "      <td>1</td>\n",
       "      <td>90.0</td>\n",
       "      <td>2</td>\n",
       "      <td>574.0</td>\n",
       "      <td>558.0</td>\n",
       "      <td>92785.71</td>\n",
       "      <td>0.612500</td>\n",
       "      <td>0.148214</td>\n",
       "      <td>92.79</td>\n",
       "    </tr>\n",
       "  </tbody>\n",
       "</table>\n",
       "<p>3 rows × 26 columns</p>\n",
       "</div>"
      ],
      "text/plain": [
       "   total_images  last_price  total_area first_day_exposition  rooms  \\\n",
       "0            20    13000000       108.0           2019-03-07      3   \n",
       "1             7     3350000        40.4           2018-12-04      1   \n",
       "2            10     5196000        56.0           2015-08-20      2   \n",
       "\n",
       "   ceiling_height  floors_total  living_area  floor  is_apartment  ...  \\\n",
       "0            2.70            16         51.0      8         False  ...   \n",
       "1            2.63            11         18.6      1         False  ...   \n",
       "2            2.70             5         34.3      4         False  ...   \n",
       "\n",
       "   cityCenters_nearest  parks_around3000  parks_nearest  ponds_around3000  \\\n",
       "0              16028.0                 1          482.0                 2   \n",
       "1              18603.0                 0          399.5                 0   \n",
       "2              13933.0                 1           90.0                 2   \n",
       "\n",
       "  ponds_nearest  days_exposition  metre_price  living_rate  kitchen_rate  \\\n",
       "0         755.0             57.0    120370.37     0.472222      0.231481   \n",
       "1         584.5             81.0     82920.79     0.460396      0.272277   \n",
       "2         574.0            558.0     92785.71     0.612500      0.148214   \n",
       "\n",
       "   metre_price_thousand  \n",
       "0                120.37  \n",
       "1                 82.92  \n",
       "2                 92.79  \n",
       "\n",
       "[3 rows x 26 columns]"
      ]
     },
     "execution_count": 70,
     "metadata": {},
     "output_type": "execute_result"
    }
   ],
   "source": [
    "#создание новых столбцов на основе арифметических действий со значениями существующих\n",
    "real_estate['metre_price'] = round(real_estate['last_price']/real_estate['total_area'],2)\n",
    "real_estate['living_rate'] = real_estate['living_area']/real_estate['total_area']\n",
    "real_estate['kitchen_rate'] = real_estate['kitchen_area']/real_estate['total_area']\n",
    "#создаём столбец, отражающий цену кв. м. в тыс. рублей\n",
    "real_estate['metre_price_thousand'] = round(real_estate['metre_price']/1000 , 2)\n",
    "real_estate.head(3)"
   ]
  },
  {
   "cell_type": "markdown",
   "metadata": {},
   "source": [
    "Созданы следующие столбцы:\n",
    "- 'metre_price' - цена квадратного метра в рублях\n",
    "- 'metre_price_thousand' - цена квадратного метра в тысячах рублей\n",
    "- 'living_rate' - доля жилого пространства в общей площади квартиры\n",
    "- 'kitchen_area'- доля кухонного пространства в общей площади квартиры\n",
    "\n",
    "Сформируем столбцы на основе даты подачи объявления - день недели, месяц и год публикации объявления."
   ]
  },
  {
   "cell_type": "code",
   "execution_count": 71,
   "metadata": {
    "scrolled": true
   },
   "outputs": [
    {
     "data": {
      "text/html": [
       "<div>\n",
       "<style scoped>\n",
       "    .dataframe tbody tr th:only-of-type {\n",
       "        vertical-align: middle;\n",
       "    }\n",
       "\n",
       "    .dataframe tbody tr th {\n",
       "        vertical-align: top;\n",
       "    }\n",
       "\n",
       "    .dataframe thead th {\n",
       "        text-align: right;\n",
       "    }\n",
       "</style>\n",
       "<table border=\"1\" class=\"dataframe\">\n",
       "  <thead>\n",
       "    <tr style=\"text-align: right;\">\n",
       "      <th></th>\n",
       "      <th>first_day_exposition</th>\n",
       "      <th>exposition_day</th>\n",
       "      <th>exposition_month</th>\n",
       "      <th>exposition_year</th>\n",
       "    </tr>\n",
       "  </thead>\n",
       "  <tbody>\n",
       "    <tr>\n",
       "      <td>0</td>\n",
       "      <td>2019-03-07</td>\n",
       "      <td>3</td>\n",
       "      <td>3</td>\n",
       "      <td>2019</td>\n",
       "    </tr>\n",
       "    <tr>\n",
       "      <td>1</td>\n",
       "      <td>2018-12-04</td>\n",
       "      <td>1</td>\n",
       "      <td>12</td>\n",
       "      <td>2018</td>\n",
       "    </tr>\n",
       "    <tr>\n",
       "      <td>2</td>\n",
       "      <td>2015-08-20</td>\n",
       "      <td>3</td>\n",
       "      <td>8</td>\n",
       "      <td>2015</td>\n",
       "    </tr>\n",
       "  </tbody>\n",
       "</table>\n",
       "</div>"
      ],
      "text/plain": [
       "  first_day_exposition  exposition_day  exposition_month  exposition_year\n",
       "0           2019-03-07               3                 3             2019\n",
       "1           2018-12-04               1                12             2018\n",
       "2           2015-08-20               3                 8             2015"
      ]
     },
     "execution_count": 71,
     "metadata": {},
     "output_type": "execute_result"
    }
   ],
   "source": [
    "real_estate['exposition_day'] = real_estate['first_day_exposition'].dt.weekday\n",
    "real_estate['exposition_month'] = real_estate['first_day_exposition'].dt.month\n",
    "real_estate['exposition_year'] = real_estate['first_day_exposition'].dt.year\n",
    "real_estate[['first_day_exposition','exposition_day', 'exposition_month', 'exposition_year']].head(3)"
   ]
  },
  {
   "cell_type": "markdown",
   "metadata": {},
   "source": [
    "Новые столбцы со сведениями по дню недели, месяцу и году подачи объявления сформированы. ('exposition_day', 'exposition_month', 'exposition_year')\n",
    "Подготовим группировку по этажности:"
   ]
  },
  {
   "cell_type": "code",
   "execution_count": 72,
   "metadata": {},
   "outputs": [],
   "source": [
    "#создаём функцию, которая проверяет этаж квартиры и, если он не равен 1, проверяет совпадение с максимальным этажом\n",
    "def floor_groop(row):\n",
    "    floor = row['floor']\n",
    "    max_floor = row['floors_total']\n",
    "    try:\n",
    "        if floor == 1:\n",
    "            return 'Первый'\n",
    "        elif floor == max_floor:\n",
    "            return 'Последний'\n",
    "        return 'Другой'\n",
    "    except:\n",
    "        return 'Ошибка'"
   ]
  },
  {
   "cell_type": "code",
   "execution_count": 73,
   "metadata": {
    "scrolled": true
   },
   "outputs": [
    {
     "name": "stdout",
     "output_type": "stream",
     "text": [
      "   floor  floors_total floor_group\n",
      "0      8            16      Другой\n",
      "1      1            11      Первый\n",
      "2      4             5      Другой\n",
      "Другой       17326\n",
      "Последний     3412\n",
      "Первый        2912\n",
      "Name: floor_group, dtype: int64\n"
     ]
    }
   ],
   "source": [
    "real_estate['floor_group'] = real_estate.apply(floor_groop, axis = 1)\n",
    "print(real_estate[['floor','floors_total', 'floor_group']].head(3))\n",
    "print(real_estate['floor_group'].value_counts())"
   ]
  },
  {
   "cell_type": "markdown",
   "metadata": {},
   "source": [
    "### Вывод <a id=info6></a>"
   ]
  },
  {
   "cell_type": "markdown",
   "metadata": {},
   "source": [
    "В DataFrame были добавлены следующие расчетные значения:\n",
    "\n",
    "- 'metre_price' - цена квадратного метра в рублях\n",
    "- 'metre_price_thousand' - цена квадратного метра в тысячах рублей\n",
    "- 'living_rate' - доля жилого пространства в общей площади квартиры\n",
    "- 'kitchen_area'- доля кухонного пространства в общей площади квартиры\n",
    "- 'exposition_day', 'exposition_month', 'exposition_year' - день недели, месяц и год размещения объявления\n",
    "- 'floor_group' - группировка по нахождению на определённом этаже - первом, последнем или ином"
   ]
  },
  {
   "cell_type": "markdown",
   "metadata": {},
   "source": [
    "### Шаг 4. Проведите исследовательский анализ данных и выполните инструкции: <a id=info7></a>"
   ]
  },
  {
   "cell_type": "markdown",
   "metadata": {},
   "source": [
    "В рамках исследовательского анализа необходимо выполнить серию задач. \n",
    "\n",
    "1) Изучение следующих параметров: площадь, цена, число комнат, высота потолков. <a id=info8></a>\n",
    "\n",
    "Создадим функцию, которая будет выводить информацию по необходимому нам столбцу. Помимо гистограммы по всем значениям создадим дополнительно вывод гистограммы с ограничением значений в q3+1.5*IQR для того, чтобы убрать редкие значения."
   ]
  },
  {
   "cell_type": "code",
   "execution_count": 74,
   "metadata": {},
   "outputs": [],
   "source": [
    "#объявляем функцию, которая принимает название столбца и имя оси для диаграммы\n",
    "def short_analysis(frame_name,col, name):\n",
    "    #вывод информации по столбцу\n",
    "    print(frame_name[col].describe())\n",
    "    print()\n",
    "    print('Разброс значений без 2,5% с начала и конца выборки:')\n",
    "    print('97,5% значений показателя', name, 'больше {:.2f}'.format(frame_name[col].quantile(0.025)))\n",
    "    print('2,5% значений показателя', name, 'больше {:.2f}'.format(frame_name[col].quantile(0.975)))\n",
    "    #создаём гистограмму по всем значениям\n",
    "    frame_name[col].plot(kind = 'hist', bins = 100, figsize = (6,6), sharex = False)\n",
    "    plt.xlabel(name)\n",
    "    plt.show()\n",
    "    # выводим ящик с усами\n",
    "    frame_name.boxplot(column = col, figsize=(6,6))\n",
    "    plt.title(name)\n",
    "    plt.show()\n",
    "    # делаем расчет квонтилей для того, чтобы ограничить вывод гистограммы \n",
    "    q1 = frame_name[col].quantile(0.25)\n",
    "    q3 = frame_name[col].quantile(0.75)\n",
    "    iqr = q3 - q1\n",
    "    upper_range = q3+1.5*iqr\n",
    "    if (q1-1.5*iqr)<0:\n",
    "        low_range = 0\n",
    "    else:\n",
    "        low_range = q1-1.5*iqr\n",
    "    #для отбора выбивающихся значений формируем гистограмму с ограничением - слева q1-1.5*iqr, справа q3+1.5*iqr\n",
    "    frame_name[col].plot(kind = 'hist', bins = 100, range = (low_range,upper_range), figsize = (6,6), sharex = False)\n",
    "    plt.xlabel(name)\n",
    "    plt.show()\n",
    "    #создаём переменную, которая принимает значения столбца фрейма\n",
    "    column = frame_name[col]\n",
    "    #создаём объект на основе запроса к основной таблице, где значения столбца находятся в промежутках\n",
    "    #между нижней и верхней границей нашего отбора и определяем характеристики данной выборки\n",
    "    real_query = frame_name.query('@low_range <= @column <= @upper_range')\n",
    "    print('Характеристики показателя без редких значений:')\n",
    "    print(real_query[col].describe())"
   ]
  },
  {
   "cell_type": "code",
   "execution_count": 75,
   "metadata": {
    "scrolled": false
   },
   "outputs": [
    {
     "name": "stdout",
     "output_type": "stream",
     "text": [
      "count    23650.000000\n",
      "mean        60.329069\n",
      "std         35.661808\n",
      "min         12.000000\n",
      "25%         40.000000\n",
      "50%         52.000000\n",
      "75%         69.700000\n",
      "max        900.000000\n",
      "Name: total_area, dtype: float64\n",
      "\n",
      "Разброс значений без 2,5% с начала и конца выборки:\n",
      "97,5% значений показателя Площадь квартиры больше 29.00\n",
      "2,5% значений показателя Площадь квартиры больше 148.91\n"
     ]
    },
    {
     "data": {
      "image/png": "[encoded data removed]",
      "text/plain": [
       "<Figure size 432x432 with 1 Axes>"
      ]
     },
     "metadata": {
      "needs_background": "light"
     },
     "output_type": "display_data"
    },
    {
     "data": {
      "image/png": "[encoded data removed]",
      "text/plain": [
       "<Figure size 432x432 with 1 Axes>"
      ]
     },
     "metadata": {
      "needs_background": "light"
     },
     "output_type": "display_data"
    },
    {
     "data": {
      "image/png": "[encoded data removed]",
      "text/plain": [
       "<Figure size 432x432 with 1 Axes>"
      ]
     },
     "metadata": {
      "needs_background": "light"
     },
     "output_type": "display_data"
    },
    {
     "name": "stdout",
     "output_type": "stream",
     "text": [
      "Характеристики показателя без редких значений:\n",
      "count    22406.000000\n",
      "mean        54.325685\n",
      "std         19.349559\n",
      "min         12.000000\n",
      "25%         39.400000\n",
      "50%         50.100000\n",
      "75%         65.500000\n",
      "max        114.200000\n",
      "Name: total_area, dtype: float64\n"
     ]
    }
   ],
   "source": [
    "short_analysis(real_estate,'total_area','Площадь квартиры')"
   ]
  },
  {
   "cell_type": "markdown",
   "metadata": {},
   "source": [
    "Максимальная площадь квартиры в выборке - 900 кв. м., минимальная - 12 кв. м.\n",
    "Большая часть квартир по площади не выходит за границы 120 кв. м. 97,5% квартир в выборке не превышают по площади 149 кв. м.\n",
    "Медиана по площади квартир составила 52 кв. м., средняя площадь - 60.3 кв м.\n",
    "Анализ графиков показывает, что жилой фонд тяготеет к сравнительно небольшим квартирам. Пиковые значения наблюдаются на площадях 30, 40-45 и 55 кв. м. \n",
    "Также имеется небольшой по количеству, но внушительный по площади люксовый сегмент, где площадь помещения начинается от 200 кв. м. и может доходить в экстремальных случаях до 900 кв. м.\n",
    "\n",
    "Рассмотрим такой показатель как цена квартиры."
   ]
  },
  {
   "cell_type": "code",
   "execution_count": 76,
   "metadata": {},
   "outputs": [],
   "source": [
    "#создаём вспомогательную колонку \"Цена квартиры в тыс. руб.\"\n",
    "real_estate['last_price_thousand'] = round(real_estate['last_price']/1000, 0)"
   ]
  },
  {
   "cell_type": "code",
   "execution_count": 77,
   "metadata": {
    "scrolled": false
   },
   "outputs": [
    {
     "name": "stdout",
     "output_type": "stream",
     "text": [
      "count     23650.00000\n",
      "mean       6541.12685\n",
      "std       10896.39876\n",
      "min          12.00000\n",
      "25%        3400.00000\n",
      "50%        4650.00000\n",
      "75%        6799.00000\n",
      "max      763000.00000\n",
      "Name: last_price_thousand, dtype: float64\n",
      "\n",
      "Разброс значений без 2,5% с начала и конца выборки:\n",
      "97,5% значений показателя Цена квартиры, тыс. руб. больше 1442.25\n",
      "2,5% значений показателя Цена квартиры, тыс. руб. больше 22380.87\n"
     ]
    },
    {
     "data": {
      "image/png": "[encoded data removed]",
      "text/plain": [
       "<Figure size 432x432 with 1 Axes>"
      ]
     },
     "metadata": {
      "needs_background": "light"
     },
     "output_type": "display_data"
    },
    {
     "data": {
      "image/png": "[encoded data removed]",
      "text/plain": [
       "<Figure size 432x432 with 1 Axes>"
      ]
     },
     "metadata": {
      "needs_background": "light"
     },
     "output_type": "display_data"
    },
    {
     "data": {
      "image/png": "[encoded data removed]",
      "text/plain": [
       "<Figure size 432x432 with 1 Axes>"
      ]
     },
     "metadata": {
      "needs_background": "light"
     },
     "output_type": "display_data"
    },
    {
     "name": "stdout",
     "output_type": "stream",
     "text": [
      "Характеристики показателя без редких значений:\n",
      "count    21595.000000\n",
      "mean      4838.941977\n",
      "std       2217.282274\n",
      "min         12.000000\n",
      "25%       3300.000000\n",
      "50%       4400.000000\n",
      "75%       6000.000000\n",
      "max      11894.000000\n",
      "Name: last_price_thousand, dtype: float64\n"
     ]
    }
   ],
   "source": [
    "short_analysis(real_estate, 'last_price_thousand','Цена квартиры, тыс. руб.')"
   ]
  },
  {
   "cell_type": "markdown",
   "metadata": {},
   "source": [
    "Основная доля цен на квартиры на рассматриваемой территории сосредоточена в пределах от 2 млн. до 9 млн. руб. \n",
    "При этом заметно, что часть квартир настолько сильно выбивается из общей тенденции, что существенно влияет на среднее (на 2 млн. больше медианного значения).\n",
    "В целом рынок тяготеет к умеренной цене на квартиры, однако здесь также можно выделить люксовый сегмент с ценами от 12 до 22 млн. Отметим также экстремально дорогую квартиру стоимостью 763 млн. руб.\n",
    "\n",
    "Рассмотрим статистику по числу комнат:"
   ]
  },
  {
   "cell_type": "code",
   "execution_count": 78,
   "metadata": {},
   "outputs": [
    {
     "name": "stdout",
     "output_type": "stream",
     "text": [
      "count    23650.000000\n",
      "mean         2.078436\n",
      "std          1.066393\n",
      "min          1.000000\n",
      "25%          1.000000\n",
      "50%          2.000000\n",
      "75%          3.000000\n",
      "max         19.000000\n",
      "Name: rooms, dtype: float64\n",
      "\n",
      "Разброс значений без 2,5% с начала и конца выборки:\n",
      "97,5% значений показателя Число комнат больше 1.00\n",
      "2,5% значений показателя Число комнат больше 4.00\n"
     ]
    },
    {
     "data": {
      "image/png": "[encoded data removed]",
      "text/plain": [
       "<Figure size 432x432 with 1 Axes>"
      ]
     },
     "metadata": {
      "needs_background": "light"
     },
     "output_type": "display_data"
    },
    {
     "data": {
      "image/png": "[encoded data removed]",
      "text/plain": [
       "<Figure size 432x432 with 1 Axes>"
      ]
     },
     "metadata": {
      "needs_background": "light"
     },
     "output_type": "display_data"
    },
    {
     "data": {
      "image/png": "[encoded data removed]",
      "text/plain": [
       "<Figure size 432x432 with 1 Axes>"
      ]
     },
     "metadata": {
      "needs_background": "light"
     },
     "output_type": "display_data"
    },
    {
     "name": "stdout",
     "output_type": "stream",
     "text": [
      "Характеристики показателя без редких значений:\n",
      "count    23560.000000\n",
      "mean         2.055688\n",
      "std          0.993868\n",
      "min          1.000000\n",
      "25%          1.000000\n",
      "50%          2.000000\n",
      "75%          3.000000\n",
      "max          6.000000\n",
      "Name: rooms, dtype: float64\n"
     ]
    }
   ],
   "source": [
    "short_analysis(real_estate,'rooms','Число комнат')"
   ]
  },
  {
   "cell_type": "markdown",
   "metadata": {},
   "source": [
    "Распределение по числу комнат показывает, что основную долю на рынке составляют 1-4-комнатные квартиры, что соответствует стандартным характеристикам жилья по стране.\n",
    "При этом мы опять квартиры с бОльшим количеством комнат являются практически единичными, а наиболее типичной является двухкомнатная квартира.\n",
    "\n",
    "Рассмотрим такой параметр, как высота потолков:"
   ]
  },
  {
   "cell_type": "code",
   "execution_count": 79,
   "metadata": {},
   "outputs": [
    {
     "name": "stdout",
     "output_type": "stream",
     "text": [
      "count    23650.000000\n",
      "mean         2.732198\n",
      "std          1.002603\n",
      "min          1.000000\n",
      "25%          2.550000\n",
      "50%          2.700000\n",
      "75%          2.700000\n",
      "max        100.000000\n",
      "Name: ceiling_height, dtype: float64\n",
      "\n",
      "Разброс значений без 2,5% с начала и конца выборки:\n",
      "97,5% значений показателя Высота потолков, м. больше 2.50\n",
      "2,5% значений показателя Высота потолков, м. больше 3.35\n"
     ]
    },
    {
     "data": {
      "image/png": "[encoded data removed]",
      "text/plain": [
       "<Figure size 432x432 with 1 Axes>"
      ]
     },
     "metadata": {
      "needs_background": "light"
     },
     "output_type": "display_data"
    },
    {
     "data": {
      "image/png": "[encoded data removed]",
      "text/plain": [
       "<Figure size 432x432 with 1 Axes>"
      ]
     },
     "metadata": {
      "needs_background": "light"
     },
     "output_type": "display_data"
    },
    {
     "data": {
      "image/png": "[encoded data removed]",
      "text/plain": [
       "<Figure size 432x432 with 1 Axes>"
      ]
     },
     "metadata": {
      "needs_background": "light"
     },
     "output_type": "display_data"
    },
    {
     "name": "stdout",
     "output_type": "stream",
     "text": [
      "Характеристики показателя без редких значений:\n",
      "count    20913.000000\n",
      "mean         2.640292\n",
      "std          0.097754\n",
      "min          2.340000\n",
      "25%          2.550000\n",
      "50%          2.700000\n",
      "75%          2.700000\n",
      "max          2.920000\n",
      "Name: ceiling_height, dtype: float64\n"
     ]
    }
   ],
   "source": [
    "short_analysis(real_estate, 'ceiling_height','Высота потолков, м.')"
   ]
  },
  {
   "cell_type": "markdown",
   "metadata": {},
   "source": [
    "Минимально допустимая высота потолков в России - 2,4 м. В рассматриваемой выборке наиболее распространёнными являются две высоты: 2,5м. и 2,7м (наиболее частая высота потолков). \n",
    "На диаграмме разброса можно отметить 2 зоны: группа у высоты 2,7 м. и группа у высоты 3,5 м. Последняя может соответствовать либо более новому жилью, либо более дорогому.\n",
    "Также опять возникает экстремальное значение высоты потолка, явно относящееся к сверхдорогому помещению площадью 900 кв.м."
   ]
  },
  {
   "cell_type": "markdown",
   "metadata": {},
   "source": [
    "#### Задание 1, итог.\n",
    "\n",
    "Типичная квартира, характерная для рассматриваемой выборки, будет иметь следующие характеристики: \n",
    "- 2 комнаты\n",
    "- площадь около 50 кв. м.\n",
    "- потолки высотой 2,7 м.\n",
    "- стоимость 4,8 млн. руб."
   ]
  },
  {
   "cell_type": "markdown",
   "metadata": {},
   "source": [
    "2) Оценка времени продажи квартиры.\n",
    "Рассмотрим срок продажи квартиры при помощи ранее созданной функции. <a id=info9></a>"
   ]
  },
  {
   "cell_type": "code",
   "execution_count": 80,
   "metadata": {
    "scrolled": false
   },
   "outputs": [
    {
     "name": "stdout",
     "output_type": "stream",
     "text": [
      "count    23650.000000\n",
      "mean       185.714419\n",
      "std        233.455771\n",
      "min          0.000000\n",
      "25%         43.000000\n",
      "50%         94.000000\n",
      "75%        237.000000\n",
      "max       1618.000000\n",
      "Name: days_exposition, dtype: float64\n",
      "\n",
      "Разброс значений без 2,5% с начала и конца выборки:\n",
      "97,5% значений показателя Срок продажи квартиры, д. больше 5.00\n",
      "2,5% значений показателя Срок продажи квартиры, д. больше 884.00\n"
     ]
    },
    {
     "data": {
      "image/png": "[encoded data removed]",
      "text/plain": [
       "<Figure size 432x432 with 1 Axes>"
      ]
     },
     "metadata": {
      "needs_background": "light"
     },
     "output_type": "display_data"
    },
    {
     "data": {
      "image/png": "[encoded data removed]",
      "text/plain": [
       "<Figure size 432x432 with 1 Axes>"
      ]
     },
     "metadata": {
      "needs_background": "light"
     },
     "output_type": "display_data"
    },
    {
     "data": {
      "image/png": "[encoded data removed]",
      "text/plain": [
       "<Figure size 432x432 with 1 Axes>"
      ]
     },
     "metadata": {
      "needs_background": "light"
     },
     "output_type": "display_data"
    },
    {
     "name": "stdout",
     "output_type": "stream",
     "text": [
      "Характеристики показателя без редких значений:\n",
      "count    21700.000000\n",
      "mean       129.824562\n",
      "std        125.318301\n",
      "min          0.000000\n",
      "25%         38.000000\n",
      "50%         83.000000\n",
      "75%        186.000000\n",
      "max        528.000000\n",
      "Name: days_exposition, dtype: float64\n"
     ]
    }
   ],
   "source": [
    "short_analysis(real_estate, 'days_exposition','Срок продажи квартиры, д.')"
   ]
  },
  {
   "cell_type": "markdown",
   "metadata": {},
   "source": [
    "Рассмотрим сроки продажи на более узком диапазоне, чтобы ближе рассмотреть пиковые значения."
   ]
  },
  {
   "cell_type": "code",
   "execution_count": 81,
   "metadata": {
    "scrolled": true
   },
   "outputs": [
    {
     "data": {
      "image/png": "[encoded data removed]",
      "text/plain": [
       "<Figure size 432x288 with 1 Axes>"
      ]
     },
     "metadata": {
      "needs_background": "light"
     },
     "output_type": "display_data"
    }
   ],
   "source": [
    "days_limited = real_estate.query('10 <= days_exposition <= 100')\n",
    "days_limited['days_exposition'].plot(kind = 'hist', bins = 90)\n",
    "plt.title('Распределение срока продажи квартиры, д.')\n",
    "plt.show()"
   ]
  },
  {
   "cell_type": "markdown",
   "metadata": {},
   "source": [
    "#### Итог задания 2."
   ]
  },
  {
   "cell_type": "markdown",
   "metadata": {},
   "source": [
    "Средний срок реализации квартиры составляет 186 дней, половина квартир была реализования за 94 дня. Абсолютное большинство квартир не находится в базе больше полутора лет. \n",
    "\n",
    "При этом срок продажи 10% квартир - 2 года и дольше.\n",
    "\n",
    "Если рассматривать более узкий диапазон, то заметны пики по реализациям квартир за 45 дней и за 60 дней. \n",
    "\n",
    "Таким образом, велика вероятность реализовать квартиру за 1,5-2 месяца.\n",
    "\n",
    "Можно считать, что квартира продана необычно быстро, если удалось реализовать её менее, чем за 5 дней, а необычно долго - свыше 528 дней."
   ]
  },
  {
   "cell_type": "markdown",
   "metadata": {},
   "source": [
    "3) Изучение факторов, влияющих на стоимость квартиры. <a id=info10></a>\n",
    "\n",
    "Рассмотрим влияние следующих факторов на цену квартиры: площадь, количество комнат, этаж, день, месяц и год размещения"
   ]
  },
  {
   "cell_type": "code",
   "execution_count": 82,
   "metadata": {},
   "outputs": [],
   "source": [
    "#Формируем пул показателей, по которым будем искать корреляцию\n",
    "real_estate_part = real_estate[['last_price_thousand', 'total_area',\n",
    "                                'rooms', 'floor', 'exposition_day', 'exposition_month', 'exposition_year']]\n"
   ]
  },
  {
   "cell_type": "code",
   "execution_count": 83,
   "metadata": {},
   "outputs": [
    {
     "data": {
      "text/html": [
       "<div>\n",
       "<style scoped>\n",
       "    .dataframe tbody tr th:only-of-type {\n",
       "        vertical-align: middle;\n",
       "    }\n",
       "\n",
       "    .dataframe tbody tr th {\n",
       "        vertical-align: top;\n",
       "    }\n",
       "\n",
       "    .dataframe thead th {\n",
       "        text-align: right;\n",
       "    }\n",
       "</style>\n",
       "<table border=\"1\" class=\"dataframe\">\n",
       "  <thead>\n",
       "    <tr style=\"text-align: right;\">\n",
       "      <th></th>\n",
       "      <th>last_price_thousand</th>\n",
       "      <th>total_area</th>\n",
       "      <th>rooms</th>\n",
       "      <th>floor</th>\n",
       "      <th>exposition_day</th>\n",
       "      <th>exposition_month</th>\n",
       "      <th>exposition_year</th>\n",
       "    </tr>\n",
       "  </thead>\n",
       "  <tbody>\n",
       "    <tr>\n",
       "      <td>last_price_thousand</td>\n",
       "      <td>1.0</td>\n",
       "      <td>0.653743</td>\n",
       "      <td>0.365291</td>\n",
       "      <td>0.02677</td>\n",
       "      <td>0.001607</td>\n",
       "      <td>0.002741</td>\n",
       "      <td>-0.042927</td>\n",
       "    </tr>\n",
       "  </tbody>\n",
       "</table>\n",
       "</div>"
      ],
      "text/plain": [
       "                     last_price_thousand  total_area     rooms    floor  \\\n",
       "last_price_thousand                  1.0    0.653743  0.365291  0.02677   \n",
       "\n",
       "                     exposition_day  exposition_month  exposition_year  \n",
       "last_price_thousand        0.001607          0.002741        -0.042927  "
      ]
     },
     "execution_count": 83,
     "metadata": {},
     "output_type": "execute_result"
    }
   ],
   "source": [
    "real_estate_part.corr().head(1)"
   ]
  },
  {
   "cell_type": "code",
   "execution_count": 84,
   "metadata": {
    "scrolled": false
   },
   "outputs": [
    {
     "data": {
      "text/plain": [
       "array([[<matplotlib.axes._subplots.AxesSubplot object at 0x7fb25516f690>,\n",
       "        <matplotlib.axes._subplots.AxesSubplot object at 0x7fb2554acd50>,\n",
       "        <matplotlib.axes._subplots.AxesSubplot object at 0x7fb255242990>,\n",
       "        <matplotlib.axes._subplots.AxesSubplot object at 0x7fb255161890>,\n",
       "        <matplotlib.axes._subplots.AxesSubplot object at 0x7fb255156e50>,\n",
       "        <matplotlib.axes._subplots.AxesSubplot object at 0x7fb2552492d0>,\n",
       "        <matplotlib.axes._subplots.AxesSubplot object at 0x7fb25491fbd0>],\n",
       "       [<matplotlib.axes._subplots.AxesSubplot object at 0x7fb254659190>,\n",
       "        <matplotlib.axes._subplots.AxesSubplot object at 0x7fb2546594d0>,\n",
       "        <matplotlib.axes._subplots.AxesSubplot object at 0x7fb25484b0d0>,\n",
       "        <matplotlib.axes._subplots.AxesSubplot object at 0x7fb255193dd0>,\n",
       "        <matplotlib.axes._subplots.AxesSubplot object at 0x7fb255226650>,\n",
       "        <matplotlib.axes._subplots.AxesSubplot object at 0x7fb2551e2950>,\n",
       "        <matplotlib.axes._subplots.AxesSubplot object at 0x7fb2538ff710>],\n",
       "       [<matplotlib.axes._subplots.AxesSubplot object at 0x7fb2547e6f50>,\n",
       "        <matplotlib.axes._subplots.AxesSubplot object at 0x7fb254a03d10>,\n",
       "        <matplotlib.axes._subplots.AxesSubplot object at 0x7fb2549bf590>,\n",
       "        <matplotlib.axes._subplots.AxesSubplot object at 0x7fb254714890>,\n",
       "        <matplotlib.axes._subplots.AxesSubplot object at 0x7fb2544f2b90>,\n",
       "        <matplotlib.axes._subplots.AxesSubplot object at 0x7fb254a6ce90>,\n",
       "        <matplotlib.axes._subplots.AxesSubplot object at 0x7fb25498cc50>],\n",
       "       [<matplotlib.axes._subplots.AxesSubplot object at 0x7fb2548eff50>,\n",
       "        <matplotlib.axes._subplots.AxesSubplot object at 0x7fb25461f7d0>,\n",
       "        <matplotlib.axes._subplots.AxesSubplot object at 0x7fb254605ad0>,\n",
       "        <matplotlib.axes._subplots.AxesSubplot object at 0x7fb2547a9dd0>,\n",
       "        <matplotlib.axes._subplots.AxesSubplot object at 0x7fb2548c3b90>,\n",
       "        <matplotlib.axes._subplots.AxesSubplot object at 0x7fb25469be90>,\n",
       "        <matplotlib.axes._subplots.AxesSubplot object at 0x7fb2544c5710>],\n",
       "       [<matplotlib.axes._subplots.AxesSubplot object at 0x7fb25447da10>,\n",
       "        <matplotlib.axes._subplots.AxesSubplot object at 0x7fb254434d10>,\n",
       "        <matplotlib.axes._subplots.AxesSubplot object at 0x7fb2543f5e50>,\n",
       "        <matplotlib.axes._subplots.AxesSubplot object at 0x7fb2543acb10>,\n",
       "        <matplotlib.axes._subplots.AxesSubplot object at 0x7fb25436ae90>,\n",
       "        <matplotlib.axes._subplots.AxesSubplot object at 0x7fb254321b50>,\n",
       "        <matplotlib.axes._subplots.AxesSubplot object at 0x7fb2542e0ed0>],\n",
       "       [<matplotlib.axes._subplots.AxesSubplot object at 0x7fb254316b90>,\n",
       "        <matplotlib.axes._subplots.AxesSubplot object at 0x7fb2542d7f10>,\n",
       "        <matplotlib.axes._subplots.AxesSubplot object at 0x7fb25428abd0>,\n",
       "        <matplotlib.axes._subplots.AxesSubplot object at 0x7fb25424cf50>,\n",
       "        <matplotlib.axes._subplots.AxesSubplot object at 0x7fb254201c10>,\n",
       "        <matplotlib.axes._subplots.AxesSubplot object at 0x7fb2541c2f90>,\n",
       "        <matplotlib.axes._subplots.AxesSubplot object at 0x7fb254175c50>],\n",
       "       [<matplotlib.axes._subplots.AxesSubplot object at 0x7fb254135fd0>,\n",
       "        <matplotlib.axes._subplots.AxesSubplot object at 0x7fb25523a590>,\n",
       "        <matplotlib.axes._subplots.AxesSubplot object at 0x7fb254a45910>,\n",
       "        <matplotlib.axes._subplots.AxesSubplot object at 0x7fb2549c8f10>,\n",
       "        <matplotlib.axes._subplots.AxesSubplot object at 0x7fb254586990>,\n",
       "        <matplotlib.axes._subplots.AxesSubplot object at 0x7fb25453b450>,\n",
       "        <matplotlib.axes._subplots.AxesSubplot object at 0x7fb25475bad0>]],\n",
       "      dtype=object)"
      ]
     },
     "execution_count": 84,
     "metadata": {},
     "output_type": "execute_result"
    },
    {
     "data": {
      "image/png": "[encoded data removed]",
      "text/plain": [
       "<Figure size 720x720 with 49 Axes>"
      ]
     },
     "metadata": {
      "needs_background": "light"
     },
     "output_type": "display_data"
    }
   ],
   "source": [
    "pd.plotting.scatter_matrix(real_estate_part, figsize = (10,10))"
   ]
  },
  {
   "cell_type": "code",
   "execution_count": 85,
   "metadata": {},
   "outputs": [
    {
     "name": "stdout",
     "output_type": "stream",
     "text": [
      "Index(['total_images', 'last_price', 'total_area', 'first_day_exposition',\n",
      "       'rooms', 'ceiling_height', 'floors_total', 'living_area', 'floor',\n",
      "       'is_apartment', 'studio', 'open_plan', 'kitchen_area', 'balcony',\n",
      "       'locality_name', 'airports_nearest', 'cityCenters_nearest',\n",
      "       'parks_around3000', 'parks_nearest', 'ponds_around3000',\n",
      "       'ponds_nearest', 'days_exposition', 'metre_price', 'living_rate',\n",
      "       'kitchen_rate', 'metre_price_thousand', 'exposition_day',\n",
      "       'exposition_month', 'exposition_year', 'floor_group',\n",
      "       'last_price_thousand'],\n",
      "      dtype='object')\n"
     ]
    }
   ],
   "source": [
    "print(real_estate.columns)"
   ]
  },
  {
   "cell_type": "code",
   "execution_count": 86,
   "metadata": {},
   "outputs": [
    {
     "data": {
      "text/html": [
       "<div>\n",
       "<style scoped>\n",
       "    .dataframe tbody tr th:only-of-type {\n",
       "        vertical-align: middle;\n",
       "    }\n",
       "\n",
       "    .dataframe tbody tr th {\n",
       "        vertical-align: top;\n",
       "    }\n",
       "\n",
       "    .dataframe thead tr th {\n",
       "        text-align: left;\n",
       "    }\n",
       "\n",
       "    .dataframe thead tr:last-of-type th {\n",
       "        text-align: right;\n",
       "    }\n",
       "</style>\n",
       "<table border=\"1\" class=\"dataframe\">\n",
       "  <thead>\n",
       "    <tr>\n",
       "      <th></th>\n",
       "      <th colspan=\"2\" halign=\"left\">last_price_thousand</th>\n",
       "    </tr>\n",
       "    <tr>\n",
       "      <th></th>\n",
       "      <th>mean</th>\n",
       "      <th>median</th>\n",
       "    </tr>\n",
       "    <tr>\n",
       "      <th>floor_group</th>\n",
       "      <th></th>\n",
       "      <th></th>\n",
       "    </tr>\n",
       "  </thead>\n",
       "  <tbody>\n",
       "    <tr>\n",
       "      <td>Другой</td>\n",
       "      <td>6674.348667</td>\n",
       "      <td>4848.5</td>\n",
       "    </tr>\n",
       "    <tr>\n",
       "      <td>Первый</td>\n",
       "      <td>4800.466003</td>\n",
       "      <td>3900.0</td>\n",
       "    </tr>\n",
       "    <tr>\n",
       "      <td>Последний</td>\n",
       "      <td>7350.213365</td>\n",
       "      <td>4350.0</td>\n",
       "    </tr>\n",
       "  </tbody>\n",
       "</table>\n",
       "</div>"
      ],
      "text/plain": [
       "            last_price_thousand        \n",
       "                           mean  median\n",
       "floor_group                            \n",
       "Другой              6674.348667  4848.5\n",
       "Первый              4800.466003  3900.0\n",
       "Последний           7350.213365  4350.0"
      ]
     },
     "execution_count": 86,
     "metadata": {},
     "output_type": "execute_result"
    }
   ],
   "source": [
    "grouped_by_floor = real_estate.groupby('floor_group').agg({'last_price_thousand': ['mean', 'median']})\n",
    "grouped_by_floor"
   ]
  },
  {
   "cell_type": "markdown",
   "metadata": {},
   "source": [
    "#### Задание 3. Итог."
   ]
  },
  {
   "cell_type": "markdown",
   "metadata": {},
   "source": [
    "Из расчетов корреляции видно, что цена квартиры больше всего связана с площадью. Корреляция с количеством комнат частичная.\n",
    "День, месяц и год размещения на цену не повлияли.\n",
    "Этаж частично влияет на стоимость: в среднем квартиры на первом этаже дешевле остальных."
   ]
  },
  {
   "cell_type": "markdown",
   "metadata": {},
   "source": [
    "4) Анализ объявлений по 10 наиболее популярным населённым пунктам <a id=info11></a>\n",
    "\n",
    "Определим населённые пункты с наибольшим количеством объявлений и выявим среднюю цену квадратного метра в них."
   ]
  },
  {
   "cell_type": "code",
   "execution_count": 87,
   "metadata": {
    "scrolled": true
   },
   "outputs": [
    {
     "data": {
      "text/html": [
       "<div>\n",
       "<style scoped>\n",
       "    .dataframe tbody tr th:only-of-type {\n",
       "        vertical-align: middle;\n",
       "    }\n",
       "\n",
       "    .dataframe tbody tr th {\n",
       "        vertical-align: top;\n",
       "    }\n",
       "\n",
       "    .dataframe thead th {\n",
       "        text-align: right;\n",
       "    }\n",
       "</style>\n",
       "<table border=\"1\" class=\"dataframe\">\n",
       "  <thead>\n",
       "    <tr style=\"text-align: right;\">\n",
       "      <th></th>\n",
       "      <th>metre_price_thousand</th>\n",
       "    </tr>\n",
       "    <tr>\n",
       "      <th>locality_name</th>\n",
       "      <th></th>\n",
       "    </tr>\n",
       "  </thead>\n",
       "  <tbody>\n",
       "    <tr>\n",
       "      <td>Санкт-Петербург</td>\n",
       "      <td>114.849013</td>\n",
       "    </tr>\n",
       "    <tr>\n",
       "      <td>Пушкин</td>\n",
       "      <td>103.125854</td>\n",
       "    </tr>\n",
       "    <tr>\n",
       "      <td>деревня Кудрово</td>\n",
       "      <td>92.473712</td>\n",
       "    </tr>\n",
       "    <tr>\n",
       "      <td>поселок Парголово</td>\n",
       "      <td>90.176177</td>\n",
       "    </tr>\n",
       "    <tr>\n",
       "      <td>поселок Мурино</td>\n",
       "      <td>85.681817</td>\n",
       "    </tr>\n",
       "    <tr>\n",
       "      <td>поселок Шушары</td>\n",
       "      <td>78.677614</td>\n",
       "    </tr>\n",
       "    <tr>\n",
       "      <td>Колпино</td>\n",
       "      <td>75.424467</td>\n",
       "    </tr>\n",
       "    <tr>\n",
       "      <td>Гатчина</td>\n",
       "      <td>68.746319</td>\n",
       "    </tr>\n",
       "    <tr>\n",
       "      <td>Всеволожск</td>\n",
       "      <td>68.654447</td>\n",
       "    </tr>\n",
       "    <tr>\n",
       "      <td>Выборг</td>\n",
       "      <td>58.141941</td>\n",
       "    </tr>\n",
       "  </tbody>\n",
       "</table>\n",
       "</div>"
      ],
      "text/plain": [
       "                   metre_price_thousand\n",
       "locality_name                          \n",
       "Санкт-Петербург              114.849013\n",
       "Пушкин                       103.125854\n",
       "деревня Кудрово               92.473712\n",
       "поселок Парголово             90.176177\n",
       "поселок Мурино                85.681817\n",
       "поселок Шушары                78.677614\n",
       "Колпино                       75.424467\n",
       "Гатчина                       68.746319\n",
       "Всеволожск                    68.654447\n",
       "Выборг                        58.141941"
      ]
     },
     "execution_count": 87,
     "metadata": {},
     "output_type": "execute_result"
    }
   ],
   "source": [
    "#производится выборка 10 названий локаций по наибольшей частоте упоминания\n",
    "top_10 = real_estate['locality_name'].value_counts().sort_values(ascending = False).head(10)\n",
    "#формирование сводной таблицы с группировкой по названию населённого пункта\n",
    "top_10\n",
    "top_10_prices = (real_estate\n",
    "                .query('locality_name in @top_10.index')\n",
    "                .pivot_table(index = 'locality_name', values = 'metre_price_thousand', aggfunc = 'mean' )\n",
    "                .sort_values('metre_price_thousand', ascending = False)\n",
    "                )\n",
    "top_10_prices\n"
   ]
  },
  {
   "cell_type": "markdown",
   "metadata": {},
   "source": [
    "#### Задание 4. Итог. <a id='task4'></a>\n",
    "\n",
    "Исследованы 10 населённых пунктов с максимальным количеством объявлений. \n",
    "\n",
    "- Наибольшая цена кв. метра зафиксирована в Санкт-Петербурге - 114,8 тыс.руб.\n",
    "- Наименьшая цена кв. метра зафиксирована в г. Выборг - 58,1 тыс. руб."
   ]
  },
  {
   "cell_type": "markdown",
   "metadata": {},
   "source": [
    "5) Определение центральной зоны в г. Санкт-Петербург <a id=info12></a>\n",
    "\n",
    "Построим график зависимости цены квадратного метра от расстояния до центра, ограничив выборку городом Санкт-Петербург."
   ]
  },
  {
   "cell_type": "code",
   "execution_count": 88,
   "metadata": {
    "scrolled": true
   },
   "outputs": [
    {
     "data": {
      "text/html": [
       "<div>\n",
       "<style scoped>\n",
       "    .dataframe tbody tr th:only-of-type {\n",
       "        vertical-align: middle;\n",
       "    }\n",
       "\n",
       "    .dataframe tbody tr th {\n",
       "        vertical-align: top;\n",
       "    }\n",
       "\n",
       "    .dataframe thead th {\n",
       "        text-align: right;\n",
       "    }\n",
       "</style>\n",
       "<table border=\"1\" class=\"dataframe\">\n",
       "  <thead>\n",
       "    <tr style=\"text-align: right;\">\n",
       "      <th></th>\n",
       "      <th>total_images</th>\n",
       "      <th>last_price</th>\n",
       "      <th>total_area</th>\n",
       "      <th>first_day_exposition</th>\n",
       "      <th>rooms</th>\n",
       "      <th>ceiling_height</th>\n",
       "      <th>floors_total</th>\n",
       "      <th>living_area</th>\n",
       "      <th>floor</th>\n",
       "      <th>is_apartment</th>\n",
       "      <th>...</th>\n",
       "      <th>days_exposition</th>\n",
       "      <th>metre_price</th>\n",
       "      <th>living_rate</th>\n",
       "      <th>kitchen_rate</th>\n",
       "      <th>metre_price_thousand</th>\n",
       "      <th>exposition_day</th>\n",
       "      <th>exposition_month</th>\n",
       "      <th>exposition_year</th>\n",
       "      <th>floor_group</th>\n",
       "      <th>last_price_thousand</th>\n",
       "    </tr>\n",
       "  </thead>\n",
       "  <tbody>\n",
       "    <tr>\n",
       "      <td>0</td>\n",
       "      <td>20</td>\n",
       "      <td>13000000</td>\n",
       "      <td>108.0</td>\n",
       "      <td>2019-03-07</td>\n",
       "      <td>3</td>\n",
       "      <td>2.70</td>\n",
       "      <td>16</td>\n",
       "      <td>51.000000</td>\n",
       "      <td>8</td>\n",
       "      <td>False</td>\n",
       "      <td>...</td>\n",
       "      <td>57.0</td>\n",
       "      <td>120370.37</td>\n",
       "      <td>0.472222</td>\n",
       "      <td>0.231481</td>\n",
       "      <td>120.37</td>\n",
       "      <td>3</td>\n",
       "      <td>3</td>\n",
       "      <td>2019</td>\n",
       "      <td>Другой</td>\n",
       "      <td>13000.0</td>\n",
       "    </tr>\n",
       "    <tr>\n",
       "      <td>2</td>\n",
       "      <td>10</td>\n",
       "      <td>5196000</td>\n",
       "      <td>56.0</td>\n",
       "      <td>2015-08-20</td>\n",
       "      <td>2</td>\n",
       "      <td>2.70</td>\n",
       "      <td>5</td>\n",
       "      <td>34.300000</td>\n",
       "      <td>4</td>\n",
       "      <td>False</td>\n",
       "      <td>...</td>\n",
       "      <td>558.0</td>\n",
       "      <td>92785.71</td>\n",
       "      <td>0.612500</td>\n",
       "      <td>0.148214</td>\n",
       "      <td>92.79</td>\n",
       "      <td>3</td>\n",
       "      <td>8</td>\n",
       "      <td>2015</td>\n",
       "      <td>Другой</td>\n",
       "      <td>5196.0</td>\n",
       "    </tr>\n",
       "    <tr>\n",
       "      <td>3</td>\n",
       "      <td>0</td>\n",
       "      <td>64900000</td>\n",
       "      <td>159.0</td>\n",
       "      <td>2015-07-24</td>\n",
       "      <td>3</td>\n",
       "      <td>2.70</td>\n",
       "      <td>14</td>\n",
       "      <td>98.013699</td>\n",
       "      <td>9</td>\n",
       "      <td>False</td>\n",
       "      <td>...</td>\n",
       "      <td>424.0</td>\n",
       "      <td>408176.10</td>\n",
       "      <td>0.616438</td>\n",
       "      <td>0.128767</td>\n",
       "      <td>408.18</td>\n",
       "      <td>4</td>\n",
       "      <td>7</td>\n",
       "      <td>2015</td>\n",
       "      <td>Другой</td>\n",
       "      <td>64900.0</td>\n",
       "    </tr>\n",
       "    <tr>\n",
       "      <td>4</td>\n",
       "      <td>2</td>\n",
       "      <td>10000000</td>\n",
       "      <td>100.0</td>\n",
       "      <td>2018-06-19</td>\n",
       "      <td>2</td>\n",
       "      <td>3.03</td>\n",
       "      <td>14</td>\n",
       "      <td>32.000000</td>\n",
       "      <td>13</td>\n",
       "      <td>False</td>\n",
       "      <td>...</td>\n",
       "      <td>121.0</td>\n",
       "      <td>100000.00</td>\n",
       "      <td>0.320000</td>\n",
       "      <td>0.410000</td>\n",
       "      <td>100.00</td>\n",
       "      <td>1</td>\n",
       "      <td>6</td>\n",
       "      <td>2018</td>\n",
       "      <td>Другой</td>\n",
       "      <td>10000.0</td>\n",
       "    </tr>\n",
       "    <tr>\n",
       "      <td>7</td>\n",
       "      <td>5</td>\n",
       "      <td>7915000</td>\n",
       "      <td>71.6</td>\n",
       "      <td>2019-04-18</td>\n",
       "      <td>2</td>\n",
       "      <td>2.70</td>\n",
       "      <td>24</td>\n",
       "      <td>38.940351</td>\n",
       "      <td>22</td>\n",
       "      <td>False</td>\n",
       "      <td>...</td>\n",
       "      <td>15.0</td>\n",
       "      <td>110544.69</td>\n",
       "      <td>0.543860</td>\n",
       "      <td>0.263966</td>\n",
       "      <td>110.54</td>\n",
       "      <td>3</td>\n",
       "      <td>4</td>\n",
       "      <td>2019</td>\n",
       "      <td>Другой</td>\n",
       "      <td>7915.0</td>\n",
       "    </tr>\n",
       "  </tbody>\n",
       "</table>\n",
       "<p>5 rows × 31 columns</p>\n",
       "</div>"
      ],
      "text/plain": [
       "   total_images  last_price  total_area first_day_exposition  rooms  \\\n",
       "0            20    13000000       108.0           2019-03-07      3   \n",
       "2            10     5196000        56.0           2015-08-20      2   \n",
       "3             0    64900000       159.0           2015-07-24      3   \n",
       "4             2    10000000       100.0           2018-06-19      2   \n",
       "7             5     7915000        71.6           2019-04-18      2   \n",
       "\n",
       "   ceiling_height  floors_total  living_area  floor  is_apartment  ...  \\\n",
       "0            2.70            16    51.000000      8         False  ...   \n",
       "2            2.70             5    34.300000      4         False  ...   \n",
       "3            2.70            14    98.013699      9         False  ...   \n",
       "4            3.03            14    32.000000     13         False  ...   \n",
       "7            2.70            24    38.940351     22         False  ...   \n",
       "\n",
       "   days_exposition  metre_price  living_rate  kitchen_rate  \\\n",
       "0             57.0    120370.37     0.472222      0.231481   \n",
       "2            558.0     92785.71     0.612500      0.148214   \n",
       "3            424.0    408176.10     0.616438      0.128767   \n",
       "4            121.0    100000.00     0.320000      0.410000   \n",
       "7             15.0    110544.69     0.543860      0.263966   \n",
       "\n",
       "  metre_price_thousand  exposition_day  exposition_month  exposition_year  \\\n",
       "0               120.37               3                 3             2019   \n",
       "2                92.79               3                 8             2015   \n",
       "3               408.18               4                 7             2015   \n",
       "4               100.00               1                 6             2018   \n",
       "7               110.54               3                 4             2019   \n",
       "\n",
       "   floor_group  last_price_thousand  \n",
       "0       Другой              13000.0  \n",
       "2       Другой               5196.0  \n",
       "3       Другой              64900.0  \n",
       "4       Другой              10000.0  \n",
       "7       Другой               7915.0  \n",
       "\n",
       "[5 rows x 31 columns]"
      ]
     },
     "execution_count": 88,
     "metadata": {},
     "output_type": "execute_result"
    }
   ],
   "source": [
    "#Создаём базу только из значений по г. Санкт-Петербург\n",
    "spb_local_base = real_estate.query('locality_name == \"Санкт-Петербург\"')\n",
    "spb_local_base.head(5)"
   ]
  },
  {
   "cell_type": "code",
   "execution_count": 89,
   "metadata": {},
   "outputs": [],
   "source": [
    "import warnings\n",
    "warnings.filterwarnings('ignore')"
   ]
  },
  {
   "cell_type": "code",
   "execution_count": 90,
   "metadata": {
    "scrolled": true
   },
   "outputs": [
    {
     "data": {
      "image/png": "[encoded data removed]",
      "text/plain": [
       "<Figure size 1080x288 with 1 Axes>"
      ]
     },
     "metadata": {
      "needs_background": "light"
     },
     "output_type": "display_data"
    }
   ],
   "source": [
    "#создаём доп. столбец, показывающий дальность от центра в км.\n",
    "spb_local_base['centre_dist_km'] = spb_local_base['cityCenters_nearest']/1000\n",
    "spb_local_base['centre_dist_km'] = spb_local_base['centre_dist_km'].astype('int64')\n",
    "#задаём лимит в Q3+IQR*1.5 для отсечения экстремально высоких цен на квартиры\n",
    "spb_q1 = spb_local_base['last_price'].quantile(0.25)\n",
    "spb_q3 = spb_local_base['last_price'].quantile(0.75)\n",
    "upper_limit = spb_q3+(spb_q3-spb_q1)*1.5\n",
    "#создаём сводную таблицу со средней ценой, сгруппированной по дальности от центра\n",
    "spb_query = (spb_local_base\n",
    " .query('last_price < @upper_limit')\n",
    " .pivot_table(index = 'centre_dist_km', values = 'metre_price_thousand', aggfunc = 'mean'))\n",
    "#формируем линейный график зависимости средней цены метра от дальности от центра\n",
    "spb_query.plot(kind = 'line', figsize = (15,4), y = 'metre_price_thousand', grid = True)\n",
    "plt.xlabel('Расстояние до центра, км.')\n",
    "plt.ylabel('Цена за кв. м')\n",
    "plt.title('Цена за кв. м в зависимости от расстояния до центра')\n",
    "plt.xticks(spb_query.index.values) #разметка по оси х в соответствии с индексом таблицы\n",
    "plt.show()"
   ]
  },
  {
   "cell_type": "markdown",
   "metadata": {},
   "source": [
    "Резкое снижение цены можно наблюдать в двух точках:\n",
    "\n",
    "- 2 км. от центра\n",
    "- 8 км. от центра\n",
    "\n",
    "Анализ внешних источников показал, что в г. Санкт-Петербург существует т.н. \"серый пояс\" - промышленные районы в центре города. Соответственно, для нашего анализа более подойдёт значение в 8 км. "
   ]
  },
  {
   "cell_type": "markdown",
   "metadata": {},
   "source": [
    "#### Задание 5. Итог. <a id='task5_s'></a>\n",
    "\n",
    "После анализа распределения цены за кв. м. в зависимости от удалённости от центра города было выявлено, что центр в г. Санкт-Петербург ограничен радиусом **8км**."
   ]
  },
  {
   "cell_type": "markdown",
   "metadata": {},
   "source": [
    "6) Исследуем квартиры в центре г. Санкт-Петербург и их отличия от квартир по городу в целом <a id=info13></a>\n",
    "\n",
    "Для исследования выберем следующие показатели:\n",
    "\n",
    "- площаль квартиры\n",
    "- цена за кв. м.\n",
    "- количество комнат\n",
    "- высота потолков"
   ]
  },
  {
   "cell_type": "code",
   "execution_count": 91,
   "metadata": {},
   "outputs": [],
   "source": [
    "#создаётся столбец, показывающий, находится ли квартира в центре города (радиус 8км.)\n",
    "spb_local_base['is_centre'] = spb_local_base['centre_dist_km'] <= 8"
   ]
  },
  {
   "cell_type": "code",
   "execution_count": 92,
   "metadata": {},
   "outputs": [],
   "source": [
    "#создадим функцию, которая будет рисовать графики и давать характеристику выборке, ограниченной от выбросов\n",
    "def quantile_hist(frame_name, frame_col, column_name, name): #принимает название фрейма, фрейм+колонка\n",
    "    #название колонки, название показателя для отражения названия\n",
    "    q1 = frame_col.quantile(0.25)\n",
    "    q3 = frame_col.quantile(0.75)\n",
    "    iqr = q3 - q1\n",
    "    upper_range = q3+1.5*iqr\n",
    "    if (q1-1.5*iqr)<0:\n",
    "        low_range = 0\n",
    "    else:\n",
    "        low_range = q1-1.5*iqr\n",
    "    #для отбора выбивающихся значений формируем гистограмму с ограничением - слева q1-1.5*iqr, справа q3+1.5*iqr\n",
    "    real_query = frame_name.query('@low_range <= @frame_col <= @upper_range')\n",
    "    print('Характеристики показателя без редких значений:')\n",
    "    print(real_query[column_name].describe())\n",
    "    #выводим гистограмму\n",
    "    frame_col.plot(kind = 'hist', bins = 100, range = (low_range,upper_range)\n",
    "                         , figsize = (6,6), sharex = False, grid = True)\n",
    "    plt.title('Распределение без редких значений:')\n",
    "    plt.xlabel(name)\n",
    "    plt.show()\n",
    "    "
   ]
  },
  {
   "cell_type": "code",
   "execution_count": 93,
   "metadata": {},
   "outputs": [],
   "source": [
    "#объявляем функцию для сравнительного анализа ценра и всего города,\n",
    "#которая принимает название столбца и имя оси для диаграммы\n",
    "def centre_compare(frame_name,col, name): \n",
    "    frame_plot = frame_name #переменная для внутренней функции\n",
    "    value_name = name #переменная для внутренней функции\n",
    "    column_all = frame_name[col] \n",
    "    center = frame_name.query('is_centre == True') #фрейм для передачи в функцию\n",
    "    column_center = center[col]\n",
    "    column_name = col #переменная для внутренней функции\n",
    "    #вывод информации по столбцу\n",
    "    print('Характеристика помещений в центре по показателю', name)\n",
    "    print(column_center.describe())\n",
    "    print()\n",
    "    print('Характеристика помещений в целом по городу по показателю', name)\n",
    "    print(column_all.describe())\n",
    "    print()\n",
    "    print('Разброс значений без 2,5% с начала и конца выборки:')\n",
    "    print('В центре города -')\n",
    "    print('97,5% значений показателя', name, 'больше {:.2f}'.format(column_center.quantile(0.025)))\n",
    "    print('2,5% значений показателя', name, 'больше {:.2f}'.format(column_center.quantile(0.975)))\n",
    "    print()                                                               \n",
    "    print('В городе в целом -')\n",
    "    print('97,5% значений показателя', name, 'больше {:.2f}'.format(column_all.quantile(0.025)))\n",
    "    print('2,5% значений показателя', name, 'больше {:.2f}'.format(column_all.quantile(0.975)))\n",
    "    #создаём гистограмму по всем значениям\n",
    "    column_center.plot(kind = 'hist', bins = 100, figsize = (6,6), sharex = False)\n",
    "    plt.title('Распределение по центру города:')\n",
    "    plt.xlabel(name)\n",
    "    plt.show()\n",
    "    column_all.plot(kind = 'hist', bins = 100, figsize = (6,6), sharex = False)\n",
    "    plt.title('Распределение по городу в целом:')\n",
    "    plt.xlabel(name)\n",
    "    plt.show()\n",
    "    #Выводим характеристики по обрезанным значениям, вызывая ранее созданную функцию\n",
    "    print('Цетр города')\n",
    "    quantile_hist(center, column_center,column_name,value_name)\n",
    "    print('Город в целом')\n",
    "    quantile_hist(frame_plot, column_all,column_name,value_name)\n",
    "    print()\n",
    "    q1 = column_all.quantile(0.25)\n",
    "    q3 = column_all.quantile(0.75)\n",
    "    iqr = q3 - q1\n",
    "    upper_range = q3+1.5*iqr\n",
    "    if (q1-1.5*iqr)<0:\n",
    "        low_range = 0\n",
    "    else:\n",
    "        low_range = q1-1.5*iqr\n",
    "    #для отбора выбивающихся значений формируем гистограмму с ограничением - слева q1-1.5*iqr, справа q3+1.5*iqr\n",
    "    comparison_hist = (frame_name\n",
    "                       .query('@low_range <= @column_all <= @upper_range')\n",
    "                       .pivot_table(index = 'is_centre', values = col, aggfunc = 'mean')\n",
    "                      )#формируем сводную таблицу с группировкой по факту нахождения в центре\n",
    "    comparison_hist.plot(kind = 'bar',figsize = (4,4), grid = True)\n",
    "    plt.title('Сравнение средних данных по центру и городу')\n",
    "    plt.xlabel(name)\n",
    "    plt.xticks(comparison_hist.index.values)\n",
    "    plt.show()"
   ]
  },
  {
   "cell_type": "code",
   "execution_count": 94,
   "metadata": {
    "scrolled": false
   },
   "outputs": [
    {
     "name": "stdout",
     "output_type": "stream",
     "text": [
      "Характеристика помещений в центре по показателю Площадь помещения, кв. м.\n",
      "count    4382.000000\n",
      "mean       88.570032\n",
      "std        57.929565\n",
      "min        12.000000\n",
      "25%        53.225000\n",
      "50%        75.000000\n",
      "75%       104.840000\n",
      "max       900.000000\n",
      "Name: total_area, dtype: float64\n",
      "\n",
      "Характеристика помещений в целом по городу по показателю Площадь помещения, кв. м.\n",
      "count    15721.000000\n",
      "mean        64.751488\n",
      "std         40.417095\n",
      "min         12.000000\n",
      "25%         42.000000\n",
      "50%         55.000000\n",
      "75%         74.600000\n",
      "max        900.000000\n",
      "Name: total_area, dtype: float64\n",
      "\n",
      "Разброс значений без 2,5% с начала и конца выборки:\n",
      "В центре города -\n",
      "97,5% значений показателя Площадь помещения, кв. м. больше 31.00\n",
      "2,5% значений показателя Площадь помещения, кв. м. больше 237.38\n",
      "\n",
      "В городе в целом -\n",
      "97,5% значений показателя Площадь помещения, кв. м. больше 30.00\n",
      "2,5% значений показателя Площадь помещения, кв. м. больше 165.00\n"
     ]
    },
    {
     "data": {
      "image/png": "[encoded data removed]",
      "text/plain": [
       "<Figure size 432x432 with 1 Axes>"
      ]
     },
     "metadata": {
      "needs_background": "light"
     },
     "output_type": "display_data"
    },
    {
     "data": {
      "image/png": "[encoded data removed]",
      "text/plain": [
       "<Figure size 432x432 with 1 Axes>"
      ]
     },
     "metadata": {
      "needs_background": "light"
     },
     "output_type": "display_data"
    },
    {
     "name": "stdout",
     "output_type": "stream",
     "text": [
      "Цетр города\n",
      "Характеристики показателя без редких значений:\n",
      "count    4151.000000\n",
      "mean       78.751816\n",
      "std        34.494829\n",
      "min        12.000000\n",
      "25%        52.000000\n",
      "50%        72.000000\n",
      "75%        98.000000\n",
      "max       182.000000\n",
      "Name: total_area, dtype: float64\n"
     ]
    },
    {
     "data": {
      "image/png": "[encoded data removed]",
      "text/plain": [
       "<Figure size 432x432 with 1 Axes>"
      ]
     },
     "metadata": {
      "needs_background": "light"
     },
     "output_type": "display_data"
    },
    {
     "name": "stdout",
     "output_type": "stream",
     "text": [
      "Город в целом\n",
      "Характеристики показателя без редких значений:\n",
      "count    14807.000000\n",
      "mean        57.478661\n",
      "std         21.626563\n",
      "min         12.000000\n",
      "25%         41.000000\n",
      "50%         53.000000\n",
      "75%         70.000000\n",
      "max        123.300000\n",
      "Name: total_area, dtype: float64\n"
     ]
    },
    {
     "data": {
      "image/png": "[encoded data removed]",
      "text/plain": [
       "<Figure size 432x432 with 1 Axes>"
      ]
     },
     "metadata": {
      "needs_background": "light"
     },
     "output_type": "display_data"
    },
    {
     "name": "stdout",
     "output_type": "stream",
     "text": [
      "\n"
     ]
    },
    {
     "data": {
      "image/png": "[encoded data removed]",
      "text/plain": [
       "<Figure size 288x288 with 1 Axes>"
      ]
     },
     "metadata": {
      "needs_background": "light"
     },
     "output_type": "display_data"
    }
   ],
   "source": [
    "centre_compare(spb_local_base, 'total_area', 'Площадь помещения, кв. м.')"
   ]
  },
  {
   "cell_type": "markdown",
   "metadata": {},
   "source": [
    "В центре города площади квартир в среднем больше на 20 кв. м. Если в целом по городу большинство квартир укладываются в площадь до 125 кв. м., то в центре планка установлена на уровне 175 кв. м."
   ]
  },
  {
   "cell_type": "code",
   "execution_count": 95,
   "metadata": {
    "scrolled": true
   },
   "outputs": [
    {
     "name": "stdout",
     "output_type": "stream",
     "text": [
      "Характеристика помещений в центре по показателю Цена за кв. м., тыс. руб.\n",
      "count    4382.000000\n",
      "mean      140.762262\n",
      "std        86.195282\n",
      "min        15.350000\n",
      "25%        99.602500\n",
      "50%       122.220000\n",
      "75%       152.067500\n",
      "max      1907.500000\n",
      "Name: metre_price_thousand, dtype: float64\n",
      "\n",
      "Характеристика помещений в целом по городу по показателю Цена за кв. м., тыс. руб.\n",
      "count    15721.000000\n",
      "mean       114.849013\n",
      "std         52.584456\n",
      "min          0.110000\n",
      "25%         90.910000\n",
      "50%        104.760000\n",
      "75%        124.440000\n",
      "max       1907.500000\n",
      "Name: metre_price_thousand, dtype: float64\n",
      "\n",
      "Разброс значений без 2,5% с начала и конца выборки:\n",
      "В центре города -\n",
      "97,5% значений показателя Цена за кв. м., тыс. руб. больше 74.38\n",
      "2,5% значений показателя Цена за кв. м., тыс. руб. больше 345.09\n",
      "\n",
      "В городе в целом -\n",
      "97,5% значений показателя Цена за кв. м., тыс. руб. больше 70.43\n",
      "2,5% значений показателя Цена за кв. м., тыс. руб. больше 219.11\n"
     ]
    },
    {
     "data": {
      "image/png": "[encoded data removed]",
      "text/plain": [
       "<Figure size 432x432 with 1 Axes>"
      ]
     },
     "metadata": {
      "needs_background": "light"
     },
     "output_type": "display_data"
    },
    {
     "data": {
      "image/png": "[encoded data removed]",
      "text/plain": [
       "<Figure size 432x432 with 1 Axes>"
      ]
     },
     "metadata": {
      "needs_background": "light"
     },
     "output_type": "display_data"
    },
    {
     "name": "stdout",
     "output_type": "stream",
     "text": [
      "Цетр города\n",
      "Характеристики показателя без редких значений:\n",
      "count    4067.000000\n",
      "mean      123.887885\n",
      "std        34.096461\n",
      "min        26.250000\n",
      "25%        98.055000\n",
      "50%       118.640000\n",
      "75%       143.445000\n",
      "max       230.550000\n",
      "Name: metre_price_thousand, dtype: float64\n"
     ]
    },
    {
     "data": {
      "image/png": "[encoded data removed]",
      "text/plain": [
       "<Figure size 432x432 with 1 Axes>"
      ]
     },
     "metadata": {
      "needs_background": "light"
     },
     "output_type": "display_data"
    },
    {
     "name": "stdout",
     "output_type": "stream",
     "text": [
      "Город в целом\n",
      "Характеристики показателя без редких значений:\n",
      "count    14876.000000\n",
      "mean       106.721981\n",
      "std         22.730409\n",
      "min         41.030000\n",
      "25%         90.247500\n",
      "50%        103.105000\n",
      "75%        120.392500\n",
      "max        174.680000\n",
      "Name: metre_price_thousand, dtype: float64\n"
     ]
    },
    {
     "data": {
      "image/png": "[encoded data removed]",
      "text/plain": [
       "<Figure size 432x432 with 1 Axes>"
      ]
     },
     "metadata": {
      "needs_background": "light"
     },
     "output_type": "display_data"
    },
    {
     "name": "stdout",
     "output_type": "stream",
     "text": [
      "\n"
     ]
    },
    {
     "data": {
      "image/png": "[encoded data removed]",
      "text/plain": [
       "<Figure size 288x288 with 1 Axes>"
      ]
     },
     "metadata": {
      "needs_background": "light"
     },
     "output_type": "display_data"
    }
   ],
   "source": [
    "centre_compare(spb_local_base, 'metre_price_thousand', 'Цена за кв. м., тыс. руб.')"
   ]
  },
  {
   "cell_type": "markdown",
   "metadata": {},
   "source": [
    "Цена квадратного метра в центре в среднем на 20 тыс. руб. выше, чем в среднем по городу."
   ]
  },
  {
   "cell_type": "code",
   "execution_count": 96,
   "metadata": {
    "scrolled": false
   },
   "outputs": [
    {
     "name": "stdout",
     "output_type": "stream",
     "text": [
      "Характеристика помещений в центре по показателю Количество комнат\n",
      "count    4382.000000\n",
      "mean        2.726152\n",
      "std         1.402006\n",
      "min         1.000000\n",
      "25%         2.000000\n",
      "50%         3.000000\n",
      "75%         3.000000\n",
      "max        19.000000\n",
      "Name: rooms, dtype: float64\n",
      "\n",
      "Характеристика помещений в целом по городу по показателю Количество комнат\n",
      "count    15721.000000\n",
      "mean         2.178615\n",
      "std          1.137842\n",
      "min          1.000000\n",
      "25%          1.000000\n",
      "50%          2.000000\n",
      "75%          3.000000\n",
      "max         19.000000\n",
      "Name: rooms, dtype: float64\n",
      "\n",
      "Разброс значений без 2,5% с начала и конца выборки:\n",
      "В центре города -\n",
      "97,5% значений показателя Количество комнат больше 1.00\n",
      "2,5% значений показателя Количество комнат больше 6.00\n",
      "\n",
      "В городе в целом -\n",
      "97,5% значений показателя Количество комнат больше 1.00\n",
      "2,5% значений показателя Количество комнат больше 5.00\n"
     ]
    },
    {
     "data": {
      "image/png": "[encoded data removed]",
      "text/plain": [
       "<Figure size 432x432 with 1 Axes>"
      ]
     },
     "metadata": {
      "needs_background": "light"
     },
     "output_type": "display_data"
    },
    {
     "data": {
      "image/png": "[encoded data removed]",
      "text/plain": [
       "<Figure size 432x432 with 1 Axes>"
      ]
     },
     "metadata": {
      "needs_background": "light"
     },
     "output_type": "display_data"
    },
    {
     "name": "stdout",
     "output_type": "stream",
     "text": [
      "Цетр города\n",
      "Характеристики показателя без редких значений:\n",
      "count    3993.000000\n",
      "mean        2.424242\n",
      "std         0.946639\n",
      "min         1.000000\n",
      "25%         2.000000\n",
      "50%         2.000000\n",
      "75%         3.000000\n",
      "max         4.000000\n",
      "Name: rooms, dtype: float64\n"
     ]
    },
    {
     "data": {
      "image/png": "[encoded data removed]",
      "text/plain": [
       "<Figure size 432x432 with 1 Axes>"
      ]
     },
     "metadata": {
      "needs_background": "light"
     },
     "output_type": "display_data"
    },
    {
     "name": "stdout",
     "output_type": "stream",
     "text": [
      "Город в целом\n",
      "Характеристики показателя без редких значений:\n",
      "count    15634.000000\n",
      "mean         2.145900\n",
      "std          1.040109\n",
      "min          1.000000\n",
      "25%          1.000000\n",
      "50%          2.000000\n",
      "75%          3.000000\n",
      "max          6.000000\n",
      "Name: rooms, dtype: float64\n"
     ]
    },
    {
     "data": {
      "image/png": "[encoded data removed]",
      "text/plain": [
       "<Figure size 432x432 with 1 Axes>"
      ]
     },
     "metadata": {
      "needs_background": "light"
     },
     "output_type": "display_data"
    },
    {
     "name": "stdout",
     "output_type": "stream",
     "text": [
      "\n"
     ]
    },
    {
     "data": {
      "image/png": "[encoded data removed]",
      "text/plain": [
       "<Figure size 288x288 with 1 Axes>"
      ]
     },
     "metadata": {
      "needs_background": "light"
     },
     "output_type": "display_data"
    }
   ],
   "source": [
    "centre_compare(spb_local_base, 'rooms', 'Количество комнат')"
   ]
  },
  {
   "cell_type": "markdown",
   "metadata": {},
   "source": [
    "В среднем в квартирах в центре больше комнат, чем в среднем по городу (2,4 против 2,1). Т.е. застройка в центре предполагает, помимо бОльшей площади, еще и большее количество комнат."
   ]
  },
  {
   "cell_type": "code",
   "execution_count": 97,
   "metadata": {
    "scrolled": true
   },
   "outputs": [
    {
     "name": "stdout",
     "output_type": "stream",
     "text": [
      "Характеристика помещений в центре по показателю Высота потолков, м.\n",
      "count    4382.000000\n",
      "mean        2.968444\n",
      "std         1.674960\n",
      "min         2.000000\n",
      "25%         2.700000\n",
      "50%         2.755000\n",
      "75%         3.100000\n",
      "max       100.000000\n",
      "Name: ceiling_height, dtype: float64\n",
      "\n",
      "Характеристика помещений в целом по городу по показателю Высота потолков, м.\n",
      "count    15721.000000\n",
      "mean         2.766655\n",
      "std          1.040890\n",
      "min          1.000000\n",
      "25%          2.600000\n",
      "50%          2.700000\n",
      "75%          2.750000\n",
      "max        100.000000\n",
      "Name: ceiling_height, dtype: float64\n",
      "\n",
      "Разброс значений без 2,5% с начала и конца выборки:\n",
      "В центре города -\n",
      "97,5% значений показателя Высота потолков, м. больше 2.50\n",
      "2,5% значений показателя Высота потолков, м. больше 3.80\n",
      "\n",
      "В городе в целом -\n",
      "97,5% значений показателя Высота потолков, м. больше 2.50\n",
      "2,5% значений показателя Высота потолков, м. больше 3.46\n"
     ]
    },
    {
     "data": {
      "image/png": "[encoded data removed]",
      "text/plain": [
       "<Figure size 432x432 with 1 Axes>"
      ]
     },
     "metadata": {
      "needs_background": "light"
     },
     "output_type": "display_data"
    },
    {
     "data": {
      "image/png": "[encoded data removed]",
      "text/plain": [
       "<Figure size 432x432 with 1 Axes>"
      ]
     },
     "metadata": {
      "needs_background": "light"
     },
     "output_type": "display_data"
    },
    {
     "name": "stdout",
     "output_type": "stream",
     "text": [
      "Цетр города\n",
      "Характеристики показателя без редких значений:\n",
      "count    4253.000000\n",
      "mean        2.890705\n",
      "std         0.275642\n",
      "min         2.400000\n",
      "25%         2.700000\n",
      "50%         2.750000\n",
      "75%         3.050000\n",
      "max         3.700000\n",
      "Name: ceiling_height, dtype: float64\n"
     ]
    },
    {
     "data": {
      "image/png": "[encoded data removed]",
      "text/plain": [
       "<Figure size 432x432 with 1 Axes>"
      ]
     },
     "metadata": {
      "needs_background": "light"
     },
     "output_type": "display_data"
    },
    {
     "name": "stdout",
     "output_type": "stream",
     "text": [
      "Город в целом\n",
      "Характеристики показателя без редких значений:\n",
      "count    13401.000000\n",
      "mean         2.660640\n",
      "std          0.095697\n",
      "min          2.400000\n",
      "25%          2.600000\n",
      "50%          2.700000\n",
      "75%          2.700000\n",
      "max          2.970000\n",
      "Name: ceiling_height, dtype: float64\n"
     ]
    },
    {
     "data": {
      "image/png": "[encoded data removed]",
      "text/plain": [
       "<Figure size 432x432 with 1 Axes>"
      ]
     },
     "metadata": {
      "needs_background": "light"
     },
     "output_type": "display_data"
    },
    {
     "name": "stdout",
     "output_type": "stream",
     "text": [
      "\n"
     ]
    },
    {
     "data": {
      "image/png": "[encoded data removed]",
      "text/plain": [
       "<Figure size 288x288 with 1 Axes>"
      ]
     },
     "metadata": {
      "needs_background": "light"
     },
     "output_type": "display_data"
    }
   ],
   "source": [
    "centre_compare(spb_local_base, 'ceiling_height', 'Высота потолков, м.')"
   ]
  },
  {
   "cell_type": "markdown",
   "metadata": {},
   "source": [
    "Высота потолков квартир в центре в среднем больше на 20см."
   ]
  },
  {
   "cell_type": "code",
   "execution_count": 98,
   "metadata": {},
   "outputs": [
    {
     "data": {
      "text/plain": [
       "Index(['total_images', 'last_price', 'total_area', 'first_day_exposition',\n",
       "       'rooms', 'ceiling_height', 'floors_total', 'living_area', 'floor',\n",
       "       'is_apartment', 'studio', 'open_plan', 'kitchen_area', 'balcony',\n",
       "       'locality_name', 'airports_nearest', 'cityCenters_nearest',\n",
       "       'parks_around3000', 'parks_nearest', 'ponds_around3000',\n",
       "       'ponds_nearest', 'days_exposition', 'metre_price', 'living_rate',\n",
       "       'kitchen_rate', 'metre_price_thousand', 'exposition_day',\n",
       "       'exposition_month', 'exposition_year', 'floor_group',\n",
       "       'last_price_thousand', 'centre_dist_km', 'is_centre'],\n",
       "      dtype='object')"
      ]
     },
     "execution_count": 98,
     "metadata": {},
     "output_type": "execute_result"
    }
   ],
   "source": [
    "spb_local_base.columns"
   ]
  },
  {
   "cell_type": "code",
   "execution_count": 99,
   "metadata": {
    "scrolled": false
   },
   "outputs": [
    {
     "data": {
      "text/html": [
       "<div>\n",
       "<style scoped>\n",
       "    .dataframe tbody tr th:only-of-type {\n",
       "        vertical-align: middle;\n",
       "    }\n",
       "\n",
       "    .dataframe tbody tr th {\n",
       "        vertical-align: top;\n",
       "    }\n",
       "\n",
       "    .dataframe thead th {\n",
       "        text-align: right;\n",
       "    }\n",
       "</style>\n",
       "<table border=\"1\" class=\"dataframe\">\n",
       "  <thead>\n",
       "    <tr style=\"text-align: right;\">\n",
       "      <th></th>\n",
       "      <th>last_price_thousand</th>\n",
       "      <th>metre_price_thousand</th>\n",
       "      <th>rooms</th>\n",
       "      <th>floor</th>\n",
       "      <th>is_centre</th>\n",
       "      <th>centre_dist_km</th>\n",
       "      <th>total_area</th>\n",
       "      <th>exposition_day</th>\n",
       "      <th>exposition_month</th>\n",
       "      <th>exposition_year</th>\n",
       "    </tr>\n",
       "  </thead>\n",
       "  <tbody>\n",
       "    <tr>\n",
       "      <td>last_price_thousand</td>\n",
       "      <td>1.000000</td>\n",
       "      <td>0.776957</td>\n",
       "      <td>0.346149</td>\n",
       "      <td>0.10671</td>\n",
       "      <td>NaN</td>\n",
       "      <td>-0.103059</td>\n",
       "      <td>0.641044</td>\n",
       "      <td>0.019745</td>\n",
       "      <td>-0.003130</td>\n",
       "      <td>-0.048970</td>\n",
       "    </tr>\n",
       "    <tr>\n",
       "      <td>metre_price_thousand</td>\n",
       "      <td>0.776957</td>\n",
       "      <td>1.000000</td>\n",
       "      <td>0.020698</td>\n",
       "      <td>0.11174</td>\n",
       "      <td>NaN</td>\n",
       "      <td>-0.087447</td>\n",
       "      <td>0.260698</td>\n",
       "      <td>0.008627</td>\n",
       "      <td>-0.013912</td>\n",
       "      <td>0.002247</td>\n",
       "    </tr>\n",
       "  </tbody>\n",
       "</table>\n",
       "</div>"
      ],
      "text/plain": [
       "                      last_price_thousand  metre_price_thousand     rooms  \\\n",
       "last_price_thousand              1.000000              0.776957  0.346149   \n",
       "metre_price_thousand             0.776957              1.000000  0.020698   \n",
       "\n",
       "                        floor  is_centre  centre_dist_km  total_area  \\\n",
       "last_price_thousand   0.10671        NaN       -0.103059    0.641044   \n",
       "metre_price_thousand  0.11174        NaN       -0.087447    0.260698   \n",
       "\n",
       "                      exposition_day  exposition_month  exposition_year  \n",
       "last_price_thousand         0.019745         -0.003130        -0.048970  \n",
       "metre_price_thousand        0.008627         -0.013912         0.002247  "
      ]
     },
     "execution_count": 99,
     "metadata": {},
     "output_type": "execute_result"
    }
   ],
   "source": [
    "spb_correl = spb_local_base[['last_price_thousand','metre_price_thousand'\n",
    "                             , 'rooms', 'floor', 'is_centre', 'centre_dist_km', 'total_area', 'exposition_day',\n",
    "                             'exposition_month', 'exposition_year']]\n",
    "spb_correl.query('is_centre == True').corr().head(2)"
   ]
  },
  {
   "cell_type": "code",
   "execution_count": 100,
   "metadata": {
    "scrolled": true
   },
   "outputs": [
    {
     "data": {
      "text/html": [
       "<div>\n",
       "<style scoped>\n",
       "    .dataframe tbody tr th:only-of-type {\n",
       "        vertical-align: middle;\n",
       "    }\n",
       "\n",
       "    .dataframe tbody tr th {\n",
       "        vertical-align: top;\n",
       "    }\n",
       "\n",
       "    .dataframe thead th {\n",
       "        text-align: right;\n",
       "    }\n",
       "</style>\n",
       "<table border=\"1\" class=\"dataframe\">\n",
       "  <thead>\n",
       "    <tr style=\"text-align: right;\">\n",
       "      <th></th>\n",
       "      <th>last_price_thousand</th>\n",
       "      <th>metre_price_thousand</th>\n",
       "      <th>rooms</th>\n",
       "      <th>floor</th>\n",
       "      <th>is_centre</th>\n",
       "      <th>centre_dist_km</th>\n",
       "      <th>total_area</th>\n",
       "      <th>exposition_day</th>\n",
       "      <th>exposition_month</th>\n",
       "      <th>exposition_year</th>\n",
       "    </tr>\n",
       "  </thead>\n",
       "  <tbody>\n",
       "    <tr>\n",
       "      <td>last_price_thousand</td>\n",
       "      <td>1.000000</td>\n",
       "      <td>0.761204</td>\n",
       "      <td>0.373893</td>\n",
       "      <td>-0.000838</td>\n",
       "      <td>0.272603</td>\n",
       "      <td>-0.257900</td>\n",
       "      <td>0.657188</td>\n",
       "      <td>0.006153</td>\n",
       "      <td>0.000027</td>\n",
       "      <td>-0.044591</td>\n",
       "    </tr>\n",
       "    <tr>\n",
       "      <td>metre_price_thousand</td>\n",
       "      <td>0.761204</td>\n",
       "      <td>1.000000</td>\n",
       "      <td>0.044575</td>\n",
       "      <td>0.046002</td>\n",
       "      <td>0.306357</td>\n",
       "      <td>-0.310444</td>\n",
       "      <td>0.294499</td>\n",
       "      <td>0.003012</td>\n",
       "      <td>-0.010934</td>\n",
       "      <td>0.024722</td>\n",
       "    </tr>\n",
       "  </tbody>\n",
       "</table>\n",
       "</div>"
      ],
      "text/plain": [
       "                      last_price_thousand  metre_price_thousand     rooms  \\\n",
       "last_price_thousand              1.000000              0.761204  0.373893   \n",
       "metre_price_thousand             0.761204              1.000000  0.044575   \n",
       "\n",
       "                         floor  is_centre  centre_dist_km  total_area  \\\n",
       "last_price_thousand  -0.000838   0.272603       -0.257900    0.657188   \n",
       "metre_price_thousand  0.046002   0.306357       -0.310444    0.294499   \n",
       "\n",
       "                      exposition_day  exposition_month  exposition_year  \n",
       "last_price_thousand         0.006153          0.000027        -0.044591  \n",
       "metre_price_thousand        0.003012         -0.010934         0.024722  "
      ]
     },
     "execution_count": 100,
     "metadata": {},
     "output_type": "execute_result"
    }
   ],
   "source": [
    "spb_correl.corr().head(2)"
   ]
  },
  {
   "cell_type": "markdown",
   "metadata": {},
   "source": [
    "Исследование взаимосвязей показывает, что наибольшее влияние на стоимость квартиры оказывает её площадь. \n",
    "На стоимость квартиры в целом по городу влияет расстояние до центра, однако внутри 8км. радиуса этот фактор практически перестаёт оказывать какое-либо влияние.\n",
    "\n",
    "Второй по значимости показатель - число комнат. Его влияние одинаково в центральных районах и по городу в целом.\n",
    "\n",
    "Внутри центральной зоны наблюдается определённая зависимость цены квартиры от этажа, которая пропадает на общей выборке.\n",
    "\n",
    "Время размещения объявления не оказывает на цену никакого влияния.\n",
    "\n",
    "Квартиры г. Санкт-Петербург можно охарактеризовать следующим образом:\n",
    "\n",
    "- средняя площадь - 57,5 кв. м.\n",
    "- средняя цена за кв. м. - 106 тыс. руб.\n",
    "- средняя высота потолков - 2,7 м.\n",
    "- среднее количество комнат - 2,1\n",
    "\n",
    "Квартиры в центре характеризуются следующими параметрами:\n",
    "\n",
    "- средняя площадь - 78,7 кв. м.\n",
    "- средняя цена за кв. м. - 124 тыс. руб.\n",
    "- средняя высота потолков - 2,9 м.\n",
    "- среднее количество комнат - 2,4"
   ]
  },
  {
   "cell_type": "markdown",
   "metadata": {},
   "source": [
    "### Шаг 5. Общий вывод <a id=info14></a>"
   ]
  },
  {
   "cell_type": "markdown",
   "metadata": {},
   "source": [
    "В ходе исследования был проанализирован рынок недвижимости г. Санкт-Петербург и соседних с ним населённых пунктах.\n",
    "\n",
    "Типичная квартира по рассматриваемой зоне обладает следующими характеристиками:\n",
    "\n",
    "- количество комнат - 2\n",
    "- площадь - 54,3 кв. м.\n",
    "- высота потолков -  2,64 м.\n",
    "- средняя стоимость - 4,8 млн. руб.\n",
    "\n",
    "Квартиры г. Санкт-Петербург можно охарактеризовать следующим образом:\n",
    "\n",
    "- средняя площадь - 57,5 кв. м.\n",
    "- средняя цена за кв. м. - 106 тыс. руб.\n",
    "- средняя высота потолков - 2,7 м.\n",
    "- среднее количество комнат - 2,1\n",
    "\n",
    "Квартиры в центре города характеризуются следующими параметрами:\n",
    "\n",
    "- средняя площадь - 78,7 кв. м.\n",
    "- средняя цена за кв. м. - 124 тыс. руб.\n",
    "- средняя высота потолков - 2,9 м.\n",
    "- среднее количество комнат - 2,4\n",
    "\n",
    "Средний срок реализации квартиры составляет 186 дней, половина квартир была реализования за 94 дня. Абсолютное большинство квартир не находится в базе больше полутора лет. \n",
    "\n",
    "На стоимость квартиры наибольшее влияние оказывает **площадь**, на втором месте - **количество комнат**. Для квартир. находящихся за пределами центра г. Санкт-Петербург, существенным фактором является **близость к центру** (радиус 8км.). Внутри этого радиуса заметной связи с близостью к центру не выявлено. **Этаж** оказывает частичное влияние - квартиры на 1 этаже более дешевые, чем остальные.\n",
    "Связь стоимости квартиры и даты размещения не обнаружена. \n"
   ]
  }
 ],
 "metadata": {
  "kernelspec": {
   "display_name": "Python 3",
   "language": "python",
   "name": "python3"
  },
  "language_info": {
   "codemirror_mode": {
    "name": "ipython",
    "version": 3
   },
   "file_extension": ".py",
   "mimetype": "text/x-python",
   "name": "python",
   "nbconvert_exporter": "python",
   "pygments_lexer": "ipython3",
   "version": "3.8.5"
  }
 },
 "nbformat": 4,
 "nbformat_minor": 2
}
