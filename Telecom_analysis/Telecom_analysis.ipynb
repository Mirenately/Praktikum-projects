{
 "cells": [
  {
   "cell_type": "markdown",
   "metadata": {},
   "source": [
    "## Исследование тарифов мобильного оператора \"Мегалайн\""
   ]
  },
  {
   "cell_type": "markdown",
   "metadata": {},
   "source": [
    "\"Мегалайн\" - федеральный оператор сотовой связи. Неоходимо проанализировать два тарифных плана - \"Смарт\" и \"Ультра\" - для определения более прибыльного. В дальнейшем расчеты будут использованы для корректировки рекламного бюджета.\n",
    "Заказчиком предоставлены данные о 500 пользователях за 2018 год. В выборке фигурируют следующие тарифные планы:\n",
    "\n",
    "Тариф «Смарт»\n",
    "1.\tЕжемесячная плата: 550 рублей\n",
    "2.\tВключено 500 минут разговора, 50 сообщений и 15 Гб интернет-трафика\n",
    "3.\tСтоимость услуг сверх тарифного пакета:\n",
    "-\tминута разговора: 3 рубля\n",
    "-\tсообщение: 3 рубля\n",
    "-\t1 Гб интернет-трафика: 200 рублей\n",
    "\n",
    "Тариф «Ультра»\n",
    "\n",
    "1.\tЕжемесячная плата: 1950 рублей\n",
    "2.\tВключено 3000 минут разговора, 1000 сообщений и 30 Гб интернет-трафика\n",
    "3.\tСтоимость услуг сверх тарифного пакета:\n",
    "-\tминута разговора: 1 рубль\n",
    "-\tсообщение: 1 рубль\n",
    "-\t1 Гб интернет-трафика: 150 рублей\n",
    "\n",
    "(Примечание: «Мегалайн» всегда округляет вверх значения минут и мегабайтов. )\n",
    "\n",
    "Исходная информация представлена в 5 таблицах: users, calls, internet, messages, tariffs.\n",
    "\n",
    "#### Структура исследования\n",
    "\n",
    "1) <a href='#info1'>Общая информация</a>\n",
    "\n",
    "- <a href='#info2'>Вывод</a>\n",
    "\n",
    "2) <a href='#info3'>Предобработка данных</a>\n",
    "\n",
    "- <a href='#info4'>Вывод</a>\n",
    "\n",
    "3) <a href='#info5'>Подготовка данных для анализа. Группировка по месяцам.</a>\n",
    "\n",
    "- <a href='#info6'>Вывод</a>\n",
    "\n",
    "4) <a href='#info7'>Анализ поведения клиентов </a>\n",
    "\n",
    "- <a href='#info8'>Голосовая связь</a>\n",
    "- <a href='#info9'>Сообщения</a>\n",
    "- <a href='#info10'>Интернет</a>\n",
    "- <a href='#info11'>Вывод</a>\n",
    "\n",
    "5) <a href='#info12'>Проверка гипотез</a>\n",
    "\n",
    "- <a href='#info13'>Вывод</a>\n",
    "\n",
    "6) <a href='#info14'>Общий вывод</a>\n",
    "\n",
    "\n",
    "\n"
   ]
  },
  {
   "cell_type": "markdown",
   "metadata": {},
   "source": [
    "### 1. Общая информация <a id=info1></a>"
   ]
  },
  {
   "cell_type": "code",
   "execution_count": 1,
   "metadata": {},
   "outputs": [],
   "source": [
    "import pandas as pd\n",
    "from scipy import stats as st\n",
    "import matplotlib.pyplot as plt\n",
    "import numpy as np\n",
    "import math"
   ]
  },
  {
   "cell_type": "code",
   "execution_count": 2,
   "metadata": {},
   "outputs": [],
   "source": [
    "import warnings\n",
    "warnings.filterwarnings('ignore')"
   ]
  },
  {
   "cell_type": "markdown",
   "metadata": {},
   "source": [
    "Информация представлена в 5 таблицах. Рассмотрим их по-порядку.\n",
    "\n",
    "Таблица **users**:"
   ]
  },
  {
   "cell_type": "code",
   "execution_count": 3,
   "metadata": {},
   "outputs": [
    {
     "name": "stdout",
     "output_type": "stream",
     "text": [
      "<class 'pandas.core.frame.DataFrame'>\n",
      "RangeIndex: 500 entries, 0 to 499\n",
      "Data columns (total 8 columns):\n",
      " #   Column      Non-Null Count  Dtype \n",
      "---  ------      --------------  ----- \n",
      " 0   user_id     500 non-null    int64 \n",
      " 1   age         500 non-null    int64 \n",
      " 2   churn_date  38 non-null     object\n",
      " 3   city        500 non-null    object\n",
      " 4   first_name  500 non-null    object\n",
      " 5   last_name   500 non-null    object\n",
      " 6   reg_date    500 non-null    object\n",
      " 7   tariff      500 non-null    object\n",
      "dtypes: int64(2), object(6)\n",
      "memory usage: 31.4+ KB\n",
      "None\n"
     ]
    },
    {
     "data": {
      "text/html": [
       "<div>\n",
       "<style scoped>\n",
       "    .dataframe tbody tr th:only-of-type {\n",
       "        vertical-align: middle;\n",
       "    }\n",
       "\n",
       "    .dataframe tbody tr th {\n",
       "        vertical-align: top;\n",
       "    }\n",
       "\n",
       "    .dataframe thead th {\n",
       "        text-align: right;\n",
       "    }\n",
       "</style>\n",
       "<table border=\"1\" class=\"dataframe\">\n",
       "  <thead>\n",
       "    <tr style=\"text-align: right;\">\n",
       "      <th></th>\n",
       "      <th>user_id</th>\n",
       "      <th>age</th>\n",
       "      <th>churn_date</th>\n",
       "      <th>city</th>\n",
       "      <th>first_name</th>\n",
       "      <th>last_name</th>\n",
       "      <th>reg_date</th>\n",
       "      <th>tariff</th>\n",
       "    </tr>\n",
       "  </thead>\n",
       "  <tbody>\n",
       "    <tr>\n",
       "      <th>0</th>\n",
       "      <td>1000</td>\n",
       "      <td>52</td>\n",
       "      <td>NaN</td>\n",
       "      <td>Краснодар</td>\n",
       "      <td>Рафаил</td>\n",
       "      <td>Верещагин</td>\n",
       "      <td>2018-05-25</td>\n",
       "      <td>ultra</td>\n",
       "    </tr>\n",
       "    <tr>\n",
       "      <th>1</th>\n",
       "      <td>1001</td>\n",
       "      <td>41</td>\n",
       "      <td>NaN</td>\n",
       "      <td>Москва</td>\n",
       "      <td>Иван</td>\n",
       "      <td>Ежов</td>\n",
       "      <td>2018-11-01</td>\n",
       "      <td>smart</td>\n",
       "    </tr>\n",
       "    <tr>\n",
       "      <th>2</th>\n",
       "      <td>1002</td>\n",
       "      <td>59</td>\n",
       "      <td>NaN</td>\n",
       "      <td>Стерлитамак</td>\n",
       "      <td>Евгений</td>\n",
       "      <td>Абрамович</td>\n",
       "      <td>2018-06-17</td>\n",
       "      <td>smart</td>\n",
       "    </tr>\n",
       "    <tr>\n",
       "      <th>3</th>\n",
       "      <td>1003</td>\n",
       "      <td>23</td>\n",
       "      <td>NaN</td>\n",
       "      <td>Москва</td>\n",
       "      <td>Белла</td>\n",
       "      <td>Белякова</td>\n",
       "      <td>2018-08-17</td>\n",
       "      <td>ultra</td>\n",
       "    </tr>\n",
       "    <tr>\n",
       "      <th>4</th>\n",
       "      <td>1004</td>\n",
       "      <td>68</td>\n",
       "      <td>NaN</td>\n",
       "      <td>Новокузнецк</td>\n",
       "      <td>Татьяна</td>\n",
       "      <td>Авдеенко</td>\n",
       "      <td>2018-05-14</td>\n",
       "      <td>ultra</td>\n",
       "    </tr>\n",
       "  </tbody>\n",
       "</table>\n",
       "</div>"
      ],
      "text/plain": [
       "   user_id  age churn_date         city first_name  last_name    reg_date  \\\n",
       "0     1000   52        NaN    Краснодар     Рафаил  Верещагин  2018-05-25   \n",
       "1     1001   41        NaN       Москва       Иван       Ежов  2018-11-01   \n",
       "2     1002   59        NaN  Стерлитамак    Евгений  Абрамович  2018-06-17   \n",
       "3     1003   23        NaN       Москва      Белла   Белякова  2018-08-17   \n",
       "4     1004   68        NaN  Новокузнецк    Татьяна   Авдеенко  2018-05-14   \n",
       "\n",
       "  tariff  \n",
       "0  ultra  \n",
       "1  smart  \n",
       "2  smart  \n",
       "3  ultra  \n",
       "4  ultra  "
      ]
     },
     "execution_count": 3,
     "metadata": {},
     "output_type": "execute_result"
    }
   ],
   "source": [
    "\n",
    "print(users.info())\n",
    "users.head()"
   ]
  },
  {
   "cell_type": "markdown",
   "metadata": {},
   "source": [
    "В таблице users содержатся следующие данные:\n",
    "-\tuser_id — уникальный идентификатор пользователя\n",
    "-\tfirst_name — имя пользователя\n",
    "-\tlast_name — фамилия пользователя\n",
    "-\tage — возраст пользователя (годы)\n",
    "-\treg_date — дата подключения тарифа (день, месяц, год)\n",
    "-\tchurn_date — дата прекращения пользования тарифом (если значение пропущено, то тариф ещё действовал на момент выгрузки данных)\n",
    "-\tcity — город проживания пользователя\n",
    "-\ttariff — название тарифного плана\n",
    "\n",
    "Количество записей - 500.\n",
    "На первый взгляд во фрейме выделяются следующие проблемы:\n",
    "- наличие пропусков в столбце churn_date\n",
    "- reg_date необходимо перевести в формат datetime\n",
    "\n",
    "Рассмотрим фрейм на наличие иных проблем с данными."
   ]
  },
  {
   "cell_type": "code",
   "execution_count": 4,
   "metadata": {},
   "outputs": [],
   "source": [
    "#создаём функцию для получения краткой информации по столбцу\n",
    "def first_glance(frame, column, plot_name): # 3 аргумента - название фрейма, название столбца, подпись для диаграммы\n",
    "    print('Базовое описание:')\n",
    "    print(frame[column].describe())\n",
    "    print()\n",
    "    print('Количество пропусков:',frame[frame[column].isna()][column].count())\n",
    "    print()\n",
    "    print('Уникальные значения столбца')\n",
    "    print(frame[column].unique())\n",
    "    print()\n",
    "    #if frame.dtypes[column] == np.object:\n",
    "    print(frame[column].value_counts().head(10))\n",
    "    print()\n",
    "    frame[column].hist(bins = 100)\n",
    "    plt.title(plot_name)\n",
    "    plt.show()"
   ]
  },
  {
   "cell_type": "code",
   "execution_count": 5,
   "metadata": {
    "scrolled": false
   },
   "outputs": [
    {
     "name": "stdout",
     "output_type": "stream",
     "text": [
      "Базовое описание:\n",
      "count    500.00000\n",
      "mean      46.58800\n",
      "std       16.66763\n",
      "min       18.00000\n",
      "25%       32.00000\n",
      "50%       46.00000\n",
      "75%       62.00000\n",
      "max       75.00000\n",
      "Name: age, dtype: float64\n",
      "\n",
      "Количество пропусков: 0\n",
      "\n",
      "Уникальные значения столбца\n",
      "[52 41 59 23 68 67 21 65 63 24 26 44 38 36 64 58 73 71 61 72 42 56 32 62\n",
      " 20 51 28 66 31 37 47 40 69 48 33 39 43 46 45 55 53 34 49 25 18 70 50 19\n",
      " 54 60 29 27 74 22 30 75 57 35]\n",
      "\n",
      "53    14\n",
      "42    14\n",
      "63    13\n",
      "71    13\n",
      "64    13\n",
      "73    12\n",
      "21    12\n",
      "40    12\n",
      "39    11\n",
      "47    11\n",
      "Name: age, dtype: int64\n",
      "\n"
     ]
    },
    {
     "data": {
      "image/png": "[encoded data removed]",
      "text/plain": [
       "<Figure size 432x288 with 1 Axes>"
      ]
     },
     "metadata": {
      "needs_background": "light"
     },
     "output_type": "display_data"
    }
   ],
   "source": [
    "first_glance(users, 'age', 'Возраст пользователей')"
   ]
  },
  {
   "cell_type": "markdown",
   "metadata": {},
   "source": [
    "В столбце \"age\" не обнаружено проблем с данными. Выборка распределена довольно равномерно без преобладания конкретной возрастной группы.\n",
    "\n",
    "Рассмотрим распределение клиентов по городам присутствия:"
   ]
  },
  {
   "cell_type": "code",
   "execution_count": 6,
   "metadata": {
    "scrolled": false
   },
   "outputs": [
    {
     "name": "stdout",
     "output_type": "stream",
     "text": [
      "Базовое описание:\n",
      "count        500\n",
      "unique        76\n",
      "top       Москва\n",
      "freq          99\n",
      "Name: city, dtype: object\n",
      "\n",
      "Количество пропусков: 0\n",
      "\n",
      "Уникальные значения столбца\n",
      "['Краснодар' 'Москва' 'Стерлитамак' 'Новокузнецк' 'Набережные Челны'\n",
      " 'Ульяновск' 'Челябинск' 'Пермь' 'Тюмень' 'Самара' 'Санкт-Петербург'\n",
      " 'Иваново' 'Чебоксары' 'Омск' 'Уфа' 'Томск' 'Чита' 'Мурманск'\n",
      " 'Петрозаводск' 'Тверь' 'Екатеринбург' 'Махачкала' 'Вологда' 'Череповец'\n",
      " 'Ярославль' 'Сочи' 'Хабаровск' 'Ставрополь' 'Рязань' 'Улан-Удэ' 'Тула'\n",
      " 'Саратов' 'Ростов-на-Дону' 'Казань' 'Иркутск' 'Курск' 'Калуга' 'Якутск'\n",
      " 'Астрахань' 'Химки' 'Владикавказ' 'Волгоград' 'Саранск' 'Ижевск'\n",
      " 'Новосибирск' 'Брянск' 'Тольятти' 'Нижний Тагил' 'Орёл' 'Белгород'\n",
      " 'Воронеж' 'Волжский' 'Курган' 'Барнаул' 'Красноярск' 'Архангельск'\n",
      " 'Липецк' 'Кемерово' 'Киров' 'Сургут' 'Пенза' 'Магнитогорск'\n",
      " 'Нижний Новгород' 'Кострома' 'Владивосток' 'Тамбов' 'Балашиха'\n",
      " 'Севастополь' 'Калининград' 'Оренбург' 'Смоленск' 'Нижневартовск'\n",
      " 'Владимир' 'Новороссийск' 'Грозный' 'Подольск']\n",
      "\n",
      "Москва              99\n",
      "Санкт-Петербург     39\n",
      "Новосибирск         16\n",
      "Омск                14\n",
      "Казань              14\n",
      "Уфа                 12\n",
      "Екатеринбург        11\n",
      "Набережные Челны    11\n",
      "Краснодар           11\n",
      "Ульяновск           11\n",
      "Name: city, dtype: int64\n",
      "\n"
     ]
    },
    {
     "data": {
      "image/png": "[encoded data removed]",
      "text/plain": [
       "<Figure size 432x288 with 1 Axes>"
      ]
     },
     "metadata": {
      "needs_background": "light"
     },
     "output_type": "display_data"
    }
   ],
   "source": [
    "first_glance(users, 'city', 'Город клиента')"
   ]
  },
  {
   "cell_type": "markdown",
   "metadata": {},
   "source": [
    "В столбце 'city' проблем не обнаружено.  Среди названий городов нет дубликатов, вызванных ручным вводом наименований. Заметно, что пользователи Москвы составляют 20% пользователей.\n",
    "Посмотрим распределение пользователей по тарифам:"
   ]
  },
  {
   "cell_type": "code",
   "execution_count": 7,
   "metadata": {
    "scrolled": true
   },
   "outputs": [
    {
     "name": "stdout",
     "output_type": "stream",
     "text": [
      "smart    351\n",
      "ultra    149\n",
      "Name: tariff, dtype: int64\n",
      "Доля клиентов на тарифе Ультра: 29.80%\n"
     ]
    }
   ],
   "source": [
    "print(users['tariff'].value_counts())\n",
    "print('Доля клиентов на тарифе Ультра: {:.2%}'.format(\n",
    "    users[users['tariff'] == 'ultra']['tariff'].count()/len(users['tariff'])))"
   ]
  },
  {
   "cell_type": "markdown",
   "metadata": {},
   "source": [
    "Мы видим, что большая часть пользователей (70,2%) в выборке предпочитает тариф smart. При этом не ошибок в данных не выявлено.\n",
    "\n",
    "Проверим столбец **churn_date**. В нём заполнено только 38 значений. Это клиенты, которые прекратили пользоваться тарифом. Возможно, что данные клиенты не являются уникальными в данной выборке и позднее перешли на другой тариф. Произведем проверку данной гипотезы."
   ]
  },
  {
   "cell_type": "code",
   "execution_count": 8,
   "metadata": {},
   "outputs": [],
   "source": [
    "family_name = users[users['churn_date'].isna() == False]['last_name']\n",
    "family_name_list = family_name.unique().tolist()"
   ]
  },
  {
   "cell_type": "code",
   "execution_count": 9,
   "metadata": {},
   "outputs": [],
   "source": [
    "def stop_tarif(name):\n",
    "    if name in family_name_list:\n",
    "        return True\n",
    "    else:\n",
    "        return False"
   ]
  },
  {
   "cell_type": "code",
   "execution_count": 10,
   "metadata": {},
   "outputs": [],
   "source": [
    "users['stopped_tarif'] = users['last_name'].apply(stop_tarif)"
   ]
  },
  {
   "cell_type": "code",
   "execution_count": 11,
   "metadata": {
    "scrolled": true
   },
   "outputs": [
    {
     "name": "stdout",
     "output_type": "stream",
     "text": [
      "ВсеволодАнтоненко    1\n",
      "ЕленаШарапова        1\n",
      "АлисаАбрашина        1\n",
      "ЭдитаДубинина        1\n",
      "АртёмФедосеев        1\n",
      "dtype: int64\n"
     ]
    }
   ],
   "source": [
    "stopped = users.query('stopped_tarif == True')\n",
    "stopped_names = stopped['first_name'] + stopped['last_name']\n",
    "print(stopped_names.value_counts().head())"
   ]
  },
  {
   "cell_type": "markdown",
   "metadata": {},
   "source": [
    "Проверка показала, что такие пользователи уникальны.\n",
    "\n",
    "Таким образом, в таблице **users** можно выделить только 2 основные проблемы, которые были предположены ранее:\n",
    "- наличие пропусков в столбце churn_date\n",
    "- reg_date необходимо перевести в формат datetime\n",
    "\n",
    "Перейдём к таблице с данными о звонках (**calls**). В ней содержатся следующие данные:\n",
    "-\tid — уникальный номер звонка\n",
    "-\tcall_date — дата звонка\n",
    "-\tduration — длительность звонка в минутах\n",
    "-\tuser_id — идентификатор пользователя, сделавшего звонок\n"
   ]
  },
  {
   "cell_type": "code",
   "execution_count": 12,
   "metadata": {
    "scrolled": false
   },
   "outputs": [
    {
     "name": "stdout",
     "output_type": "stream",
     "text": [
      "<class 'pandas.core.frame.DataFrame'>\n",
      "RangeIndex: 202607 entries, 0 to 202606\n",
      "Data columns (total 4 columns):\n",
      " #   Column     Non-Null Count   Dtype  \n",
      "---  ------     --------------   -----  \n",
      " 0   id         202607 non-null  object \n",
      " 1   call_date  202607 non-null  object \n",
      " 2   duration   202607 non-null  float64\n",
      " 3   user_id    202607 non-null  int64  \n",
      "dtypes: float64(1), int64(1), object(2)\n",
      "memory usage: 6.2+ MB\n",
      "None\n"
     ]
    },
    {
     "data": {
      "text/html": [
       "<div>\n",
       "<style scoped>\n",
       "    .dataframe tbody tr th:only-of-type {\n",
       "        vertical-align: middle;\n",
       "    }\n",
       "\n",
       "    .dataframe tbody tr th {\n",
       "        vertical-align: top;\n",
       "    }\n",
       "\n",
       "    .dataframe thead th {\n",
       "        text-align: right;\n",
       "    }\n",
       "</style>\n",
       "<table border=\"1\" class=\"dataframe\">\n",
       "  <thead>\n",
       "    <tr style=\"text-align: right;\">\n",
       "      <th></th>\n",
       "      <th>id</th>\n",
       "      <th>call_date</th>\n",
       "      <th>duration</th>\n",
       "      <th>user_id</th>\n",
       "    </tr>\n",
       "  </thead>\n",
       "  <tbody>\n",
       "    <tr>\n",
       "      <th>0</th>\n",
       "      <td>1000_0</td>\n",
       "      <td>2018-07-25</td>\n",
       "      <td>0.00</td>\n",
       "      <td>1000</td>\n",
       "    </tr>\n",
       "    <tr>\n",
       "      <th>1</th>\n",
       "      <td>1000_1</td>\n",
       "      <td>2018-08-17</td>\n",
       "      <td>0.00</td>\n",
       "      <td>1000</td>\n",
       "    </tr>\n",
       "    <tr>\n",
       "      <th>2</th>\n",
       "      <td>1000_2</td>\n",
       "      <td>2018-06-11</td>\n",
       "      <td>2.85</td>\n",
       "      <td>1000</td>\n",
       "    </tr>\n",
       "    <tr>\n",
       "      <th>3</th>\n",
       "      <td>1000_3</td>\n",
       "      <td>2018-09-21</td>\n",
       "      <td>13.80</td>\n",
       "      <td>1000</td>\n",
       "    </tr>\n",
       "    <tr>\n",
       "      <th>4</th>\n",
       "      <td>1000_4</td>\n",
       "      <td>2018-12-15</td>\n",
       "      <td>5.18</td>\n",
       "      <td>1000</td>\n",
       "    </tr>\n",
       "  </tbody>\n",
       "</table>\n",
       "</div>"
      ],
      "text/plain": [
       "       id   call_date  duration  user_id\n",
       "0  1000_0  2018-07-25      0.00     1000\n",
       "1  1000_1  2018-08-17      0.00     1000\n",
       "2  1000_2  2018-06-11      2.85     1000\n",
       "3  1000_3  2018-09-21     13.80     1000\n",
       "4  1000_4  2018-12-15      5.18     1000"
      ]
     },
     "execution_count": 12,
     "metadata": {},
     "output_type": "execute_result"
    }
   ],
   "source": [
    "\n",
    "print(calls.info())\n",
    "calls.head()"
   ]
  },
  {
   "cell_type": "markdown",
   "metadata": {},
   "source": [
    "Количество значений в таблице **calls** - 202607.\n",
    "Первичный анализ не обнаружил в таблице **calls** пропусков. Можно выделить следующие проблемы фрейма:\n",
    "- столбец **call_date** не в формате datetime\n",
    "- длительность звонков **duration** приведена в формате float\n",
    "- наличие нулевых значений в длительности звонков\n",
    "\n",
    "Подробнее исследуем столбец **duration**."
   ]
  },
  {
   "cell_type": "code",
   "execution_count": 13,
   "metadata": {
    "scrolled": false
   },
   "outputs": [
    {
     "name": "stdout",
     "output_type": "stream",
     "text": [
      "Базовое описание:\n",
      "count    202607.000000\n",
      "mean          6.755887\n",
      "std           5.843365\n",
      "min           0.000000\n",
      "25%           1.300000\n",
      "50%           6.000000\n",
      "75%          10.700000\n",
      "max          38.000000\n",
      "Name: duration, dtype: float64\n",
      "\n",
      "Количество пропусков: 0\n",
      "\n",
      "Уникальные значения столбца\n",
      "[ 0.    2.85 13.8  ... 24.36 24.5  26.9 ]\n",
      "\n",
      "0.00    39613\n",
      "4.49      142\n",
      "5.50      142\n",
      "6.15      141\n",
      "6.38      141\n",
      "4.92      139\n",
      "8.41      138\n",
      "5.45      138\n",
      "5.05      138\n",
      "5.25      137\n",
      "Name: duration, dtype: int64\n",
      "\n"
     ]
    },
    {
     "data": {
      "image/png": "[encoded data removed]",
      "text/plain": [
       "<Figure size 432x288 with 1 Axes>"
      ]
     },
     "metadata": {
      "needs_background": "light"
     },
     "output_type": "display_data"
    }
   ],
   "source": [
    "first_glance(calls, 'duration', 'Длительность звонка, мин.')"
   ]
  },
  {
   "cell_type": "code",
   "execution_count": 14,
   "metadata": {},
   "outputs": [
    {
     "name": "stdout",
     "output_type": "stream",
     "text": [
      "Доля нулевых значений: 19.55%\n"
     ]
    }
   ],
   "source": [
    "print('Доля нулевых значений: {:.2%}'.format(calls[calls['duration'] == 0]['user_id'].count()/len(calls['duration'])))"
   ]
  },
  {
   "cell_type": "markdown",
   "metadata": {},
   "source": [
    "Нулевые значения в длительности звонков занимают почти 20% всех записей. Можно предположить, что это звонки при которых не произошло соединения или т.н. \"дозвоны\", на которые не начисляется тарификация. \n",
    "С учетом этих данных средняя длительность звонка составляет 6,75 мин., а медиана - 6 минут ровно. Рассмотрим характеристики выборки без учета нулевых значений."
   ]
  },
  {
   "cell_type": "code",
   "execution_count": 15,
   "metadata": {},
   "outputs": [
    {
     "name": "stdout",
     "output_type": "stream",
     "text": [
      "count    162994.000000\n",
      "mean          8.397794\n",
      "std           5.353022\n",
      "min           0.010000\n",
      "25%           4.170000\n",
      "50%           7.740000\n",
      "75%          11.850000\n",
      "max          38.000000\n",
      "Name: duration, dtype: float64\n"
     ]
    },
    {
     "data": {
      "image/png": "[encoded data removed]",
      "text/plain": [
       "<Figure size 432x288 with 1 Axes>"
      ]
     },
     "metadata": {
      "needs_background": "light"
     },
     "output_type": "display_data"
    }
   ],
   "source": [
    "print(calls[calls['duration'] != 0]['duration'].describe())\n",
    "# выведем гистограмму для ненулевой длительности звонка\n",
    "calls[calls['duration'] != 0]['duration'].hist(bins = 100)\n",
    "plt.title('Длительность звонка, мин.')\n",
    "plt.show()"
   ]
  },
  {
   "cell_type": "markdown",
   "metadata": {},
   "source": [
    "Если рассматривать выборку без нулевых значений, то средняя длительность звонка вырастает на **1,64** минуты, а медианное значение теперь находится на уровне **7.74** мин. (увеличение на 1.74 мин.)\n",
    "Таким образом, нулевые звонки оказывают существенное влияние на характеристики выборки. Они искажают реальную длительность совершенных звонков, однако нельзя полностью исключать их из расчета, так как они являются одной из характеристик поведения клиентов.\n",
    "В рамках данных заключений можно предложить следующую концепцию: использовать для расчета эффективности тарифов только ненулевые звонки, но при этом учесть их в среднемесячном количестве совершаемых звонков.\n",
    "\n",
    "Рассмотрим далее информацию о сообщениях в таблице **messages**.\n",
    "В ней содержатся следующие данные:\n",
    "-\tid — уникальный номер сообщения\n",
    "-\tmessage_date — дата сообщения\n",
    "-\tuser_id — идентификатор пользователя, отправившего сообщение"
   ]
  },
  {
   "cell_type": "code",
   "execution_count": 16,
   "metadata": {
    "scrolled": false
   },
   "outputs": [
    {
     "name": "stdout",
     "output_type": "stream",
     "text": [
      "<class 'pandas.core.frame.DataFrame'>\n",
      "RangeIndex: 123036 entries, 0 to 123035\n",
      "Data columns (total 3 columns):\n",
      " #   Column        Non-Null Count   Dtype \n",
      "---  ------        --------------   ----- \n",
      " 0   id            123036 non-null  object\n",
      " 1   message_date  123036 non-null  object\n",
      " 2   user_id       123036 non-null  int64 \n",
      "dtypes: int64(1), object(2)\n",
      "memory usage: 2.8+ MB\n",
      "None\n"
     ]
    },
    {
     "data": {
      "text/html": [
       "<div>\n",
       "<style scoped>\n",
       "    .dataframe tbody tr th:only-of-type {\n",
       "        vertical-align: middle;\n",
       "    }\n",
       "\n",
       "    .dataframe tbody tr th {\n",
       "        vertical-align: top;\n",
       "    }\n",
       "\n",
       "    .dataframe thead th {\n",
       "        text-align: right;\n",
       "    }\n",
       "</style>\n",
       "<table border=\"1\" class=\"dataframe\">\n",
       "  <thead>\n",
       "    <tr style=\"text-align: right;\">\n",
       "      <th></th>\n",
       "      <th>id</th>\n",
       "      <th>message_date</th>\n",
       "      <th>user_id</th>\n",
       "    </tr>\n",
       "  </thead>\n",
       "  <tbody>\n",
       "    <tr>\n",
       "      <th>0</th>\n",
       "      <td>1000_0</td>\n",
       "      <td>2018-06-27</td>\n",
       "      <td>1000</td>\n",
       "    </tr>\n",
       "    <tr>\n",
       "      <th>1</th>\n",
       "      <td>1000_1</td>\n",
       "      <td>2018-10-08</td>\n",
       "      <td>1000</td>\n",
       "    </tr>\n",
       "    <tr>\n",
       "      <th>2</th>\n",
       "      <td>1000_2</td>\n",
       "      <td>2018-08-04</td>\n",
       "      <td>1000</td>\n",
       "    </tr>\n",
       "    <tr>\n",
       "      <th>3</th>\n",
       "      <td>1000_3</td>\n",
       "      <td>2018-06-16</td>\n",
       "      <td>1000</td>\n",
       "    </tr>\n",
       "    <tr>\n",
       "      <th>4</th>\n",
       "      <td>1000_4</td>\n",
       "      <td>2018-12-05</td>\n",
       "      <td>1000</td>\n",
       "    </tr>\n",
       "  </tbody>\n",
       "</table>\n",
       "</div>"
      ],
      "text/plain": [
       "       id message_date  user_id\n",
       "0  1000_0   2018-06-27     1000\n",
       "1  1000_1   2018-10-08     1000\n",
       "2  1000_2   2018-08-04     1000\n",
       "3  1000_3   2018-06-16     1000\n",
       "4  1000_4   2018-12-05     1000"
      ]
     },
     "execution_count": 16,
     "metadata": {},
     "output_type": "execute_result"
    }
   ],
   "source": [
    "\n",
    "print(messages.info())\n",
    "messages.head()"
   ]
  },
  {
   "cell_type": "markdown",
   "metadata": {},
   "source": [
    "Количество значений в таблице **messages** - 123036.\n",
    "В таблице не выявлено пропусков, однако для дальнейшей обработки необходимо перевести столбец **\"message_date\"** в формат datetime.\n",
    "\n",
    "Рассмотрим информацию об интернет-трафике (таблица **internet**). Она содержит следующие данные:\n",
    "-\tid — уникальный номер сессии\n",
    "-\tmb_used — объём потраченного за сессию интернет-трафика (в мегабайтах)\n",
    "-\tsession_date — дата интернет-сессии\n",
    "-\tuser_id — идентификатор пользователя\n"
   ]
  },
  {
   "cell_type": "code",
   "execution_count": 17,
   "metadata": {},
   "outputs": [
    {
     "name": "stdout",
     "output_type": "stream",
     "text": [
      "<class 'pandas.core.frame.DataFrame'>\n",
      "RangeIndex: 149396 entries, 0 to 149395\n",
      "Data columns (total 5 columns):\n",
      " #   Column        Non-Null Count   Dtype  \n",
      "---  ------        --------------   -----  \n",
      " 0   Unnamed: 0    149396 non-null  int64  \n",
      " 1   id            149396 non-null  object \n",
      " 2   mb_used       149396 non-null  float64\n",
      " 3   session_date  149396 non-null  object \n",
      " 4   user_id       149396 non-null  int64  \n",
      "dtypes: float64(1), int64(2), object(2)\n",
      "memory usage: 5.7+ MB\n",
      "None\n"
     ]
    },
    {
     "data": {
      "text/html": [
       "<div>\n",
       "<style scoped>\n",
       "    .dataframe tbody tr th:only-of-type {\n",
       "        vertical-align: middle;\n",
       "    }\n",
       "\n",
       "    .dataframe tbody tr th {\n",
       "        vertical-align: top;\n",
       "    }\n",
       "\n",
       "    .dataframe thead th {\n",
       "        text-align: right;\n",
       "    }\n",
       "</style>\n",
       "<table border=\"1\" class=\"dataframe\">\n",
       "  <thead>\n",
       "    <tr style=\"text-align: right;\">\n",
       "      <th></th>\n",
       "      <th>Unnamed: 0</th>\n",
       "      <th>id</th>\n",
       "      <th>mb_used</th>\n",
       "      <th>session_date</th>\n",
       "      <th>user_id</th>\n",
       "    </tr>\n",
       "  </thead>\n",
       "  <tbody>\n",
       "    <tr>\n",
       "      <th>0</th>\n",
       "      <td>0</td>\n",
       "      <td>1000_0</td>\n",
       "      <td>112.95</td>\n",
       "      <td>2018-11-25</td>\n",
       "      <td>1000</td>\n",
       "    </tr>\n",
       "    <tr>\n",
       "      <th>1</th>\n",
       "      <td>1</td>\n",
       "      <td>1000_1</td>\n",
       "      <td>1052.81</td>\n",
       "      <td>2018-09-07</td>\n",
       "      <td>1000</td>\n",
       "    </tr>\n",
       "    <tr>\n",
       "      <th>2</th>\n",
       "      <td>2</td>\n",
       "      <td>1000_2</td>\n",
       "      <td>1197.26</td>\n",
       "      <td>2018-06-25</td>\n",
       "      <td>1000</td>\n",
       "    </tr>\n",
       "    <tr>\n",
       "      <th>3</th>\n",
       "      <td>3</td>\n",
       "      <td>1000_3</td>\n",
       "      <td>550.27</td>\n",
       "      <td>2018-08-22</td>\n",
       "      <td>1000</td>\n",
       "    </tr>\n",
       "    <tr>\n",
       "      <th>4</th>\n",
       "      <td>4</td>\n",
       "      <td>1000_4</td>\n",
       "      <td>302.56</td>\n",
       "      <td>2018-09-24</td>\n",
       "      <td>1000</td>\n",
       "    </tr>\n",
       "  </tbody>\n",
       "</table>\n",
       "</div>"
      ],
      "text/plain": [
       "   Unnamed: 0      id  mb_used session_date  user_id\n",
       "0           0  1000_0   112.95   2018-11-25     1000\n",
       "1           1  1000_1  1052.81   2018-09-07     1000\n",
       "2           2  1000_2  1197.26   2018-06-25     1000\n",
       "3           3  1000_3   550.27   2018-08-22     1000\n",
       "4           4  1000_4   302.56   2018-09-24     1000"
      ]
     },
     "execution_count": 17,
     "metadata": {},
     "output_type": "execute_result"
    }
   ],
   "source": [
    "\n",
    "print(internet.info())\n",
    "internet.head()"
   ]
  },
  {
   "cell_type": "markdown",
   "metadata": {},
   "source": [
    "В таблице обнаружен столбец **Unnamed: 0**, который, возможно, является перенесённым индексом из другой таблицы. Данный столбец не несёт смысловой нагрузки и не был указан в документации.\n",
    "Первоначально выявленные проблемы:\n",
    "- столбец **session_date** не в формате datetime\n",
    "- отсутствие округления в информации о количестве использованных мегабайт **mb_used**\n",
    "\n",
    "Рассмотрим подробнее информацию об использованном трафике:"
   ]
  },
  {
   "cell_type": "code",
   "execution_count": 18,
   "metadata": {},
   "outputs": [
    {
     "name": "stdout",
     "output_type": "stream",
     "text": [
      "Базовое описание:\n",
      "count    149396.000000\n",
      "mean        370.192426\n",
      "std         278.300951\n",
      "min           0.000000\n",
      "25%         138.187500\n",
      "50%         348.015000\n",
      "75%         559.552500\n",
      "max        1724.830000\n",
      "Name: mb_used, dtype: float64\n",
      "\n",
      "Количество пропусков: 0\n",
      "\n",
      "Уникальные значения столбца\n",
      "[ 112.95 1052.81 1197.26 ...  460.75  247.59   23.72]\n",
      "\n",
      "0.00      19598\n",
      "197.56        9\n",
      "447.30        9\n",
      "335.91        9\n",
      "108.95        8\n",
      "513.25        8\n",
      "199.11        8\n",
      "292.14        8\n",
      "466.85        8\n",
      "304.20        8\n",
      "Name: mb_used, dtype: int64\n",
      "\n"
     ]
    },
    {
     "data": {
      "image/png": "[encoded data removed]",
      "text/plain": [
       "<Figure size 432x288 with 1 Axes>"
      ]
     },
     "metadata": {
      "needs_background": "light"
     },
     "output_type": "display_data"
    }
   ],
   "source": [
    "first_glance(internet, 'mb_used', 'Использование данных, мб.')"
   ]
  },
  {
   "cell_type": "code",
   "execution_count": 19,
   "metadata": {},
   "outputs": [
    {
     "name": "stdout",
     "output_type": "stream",
     "text": [
      "Доля нулевых значений: 13.12%\n"
     ]
    }
   ],
   "source": [
    "print('Доля нулевых значений: {:.2%}'.format(\n",
    "    internet[internet['mb_used'] == 0]['user_id'].count()/len(internet['mb_used'])))"
   ]
  },
  {
   "cell_type": "markdown",
   "metadata": {},
   "source": [
    "В 13% случаев соединение не сопровождалось передачей данных. С учетом этих данных среднее количество данных за сессию **370.19** мб. Медианное значение - **348** мб."
   ]
  },
  {
   "cell_type": "code",
   "execution_count": 20,
   "metadata": {},
   "outputs": [
    {
     "name": "stdout",
     "output_type": "stream",
     "text": [
      "count    129798.000000\n",
      "mean        426.087210\n",
      "std         255.596447\n",
      "min           0.030000\n",
      "25%         227.460000\n",
      "50%         400.540000\n",
      "75%         592.947500\n",
      "max        1724.830000\n",
      "Name: mb_used, dtype: float64\n"
     ]
    },
    {
     "data": {
      "image/png": "[encoded data removed]",
      "text/plain": [
       "<Figure size 432x288 with 1 Axes>"
      ]
     },
     "metadata": {
      "needs_background": "light"
     },
     "output_type": "display_data"
    }
   ],
   "source": [
    "print(internet[internet['mb_used'] != 0]['mb_used'].describe())\n",
    "#вывод диаграммы для ненулевого количества мегабайт\n",
    "internet[internet['mb_used'] != 0]['mb_used'].hist(bins = 100)\n",
    "plt.title('Использование данных, мб.')\n",
    "plt.show()"
   ]
  },
  {
   "cell_type": "markdown",
   "metadata": {},
   "source": [
    "Отсутствие нулевых данных средняя сессия составляет **426** мб, что на 56 мб. больше, чем в предыдущих расчетах. Медиана проходит на уровне **400** мб., что на 52 мб. больше, чем с учетом нулевых значений. \n",
    "Поскольку в системе производится округление передаваемой информации до 1 мб и только ненулевые данные используются для в расчете затрат клиента, то считаем возможным **исключить** нулевые данные из дальнейших расчетов.\n",
    "\n",
    "Рассмотрим таблицу с информацией о тарифах. В ней агрегированы характеристики двух предлагаемых нам тарифов - Смарт и Ультра:"
   ]
  },
  {
   "cell_type": "code",
   "execution_count": 21,
   "metadata": {
    "scrolled": false
   },
   "outputs": [
    {
     "name": "stdout",
     "output_type": "stream",
     "text": [
      "<class 'pandas.core.frame.DataFrame'>\n",
      "RangeIndex: 2 entries, 0 to 1\n",
      "Data columns (total 8 columns):\n",
      " #   Column                 Non-Null Count  Dtype \n",
      "---  ------                 --------------  ----- \n",
      " 0   messages_included      2 non-null      int64 \n",
      " 1   mb_per_month_included  2 non-null      int64 \n",
      " 2   minutes_included       2 non-null      int64 \n",
      " 3   rub_monthly_fee        2 non-null      int64 \n",
      " 4   rub_per_gb             2 non-null      int64 \n",
      " 5   rub_per_message        2 non-null      int64 \n",
      " 6   rub_per_minute         2 non-null      int64 \n",
      " 7   tariff_name            2 non-null      object\n",
      "dtypes: int64(7), object(1)\n",
      "memory usage: 256.0+ bytes\n",
      "None\n"
     ]
    },
    {
     "data": {
      "text/html": [
       "<div>\n",
       "<style scoped>\n",
       "    .dataframe tbody tr th:only-of-type {\n",
       "        vertical-align: middle;\n",
       "    }\n",
       "\n",
       "    .dataframe tbody tr th {\n",
       "        vertical-align: top;\n",
       "    }\n",
       "\n",
       "    .dataframe thead th {\n",
       "        text-align: right;\n",
       "    }\n",
       "</style>\n",
       "<table border=\"1\" class=\"dataframe\">\n",
       "  <thead>\n",
       "    <tr style=\"text-align: right;\">\n",
       "      <th></th>\n",
       "      <th>messages_included</th>\n",
       "      <th>mb_per_month_included</th>\n",
       "      <th>minutes_included</th>\n",
       "      <th>rub_monthly_fee</th>\n",
       "      <th>rub_per_gb</th>\n",
       "      <th>rub_per_message</th>\n",
       "      <th>rub_per_minute</th>\n",
       "      <th>tariff_name</th>\n",
       "    </tr>\n",
       "  </thead>\n",
       "  <tbody>\n",
       "    <tr>\n",
       "      <th>0</th>\n",
       "      <td>50</td>\n",
       "      <td>15360</td>\n",
       "      <td>500</td>\n",
       "      <td>550</td>\n",
       "      <td>200</td>\n",
       "      <td>3</td>\n",
       "      <td>3</td>\n",
       "      <td>smart</td>\n",
       "    </tr>\n",
       "    <tr>\n",
       "      <th>1</th>\n",
       "      <td>1000</td>\n",
       "      <td>30720</td>\n",
       "      <td>3000</td>\n",
       "      <td>1950</td>\n",
       "      <td>150</td>\n",
       "      <td>1</td>\n",
       "      <td>1</td>\n",
       "      <td>ultra</td>\n",
       "    </tr>\n",
       "  </tbody>\n",
       "</table>\n",
       "</div>"
      ],
      "text/plain": [
       "   messages_included  mb_per_month_included  minutes_included  \\\n",
       "0                 50                  15360               500   \n",
       "1               1000                  30720              3000   \n",
       "\n",
       "   rub_monthly_fee  rub_per_gb  rub_per_message  rub_per_minute tariff_name  \n",
       "0              550         200                3               3       smart  \n",
       "1             1950         150                1               1       ultra  "
      ]
     },
     "execution_count": 21,
     "metadata": {},
     "output_type": "execute_result"
    }
   ],
   "source": [
    "\n",
    "print(tariffs.info())\n",
    "tariffs.head()"
   ]
  },
  {
   "cell_type": "markdown",
   "metadata": {},
   "source": [
    "В таблице всего 2 строки, содержащие вспомогательную информацию для дальнейших расчетов. Ошибок в данном фрейме не выявлено."
   ]
  },
  {
   "cell_type": "markdown",
   "metadata": {},
   "source": [
    "### Вывод <a id = info2></a>"
   ]
  },
  {
   "cell_type": "markdown",
   "metadata": {},
   "source": [
    "Представленная информация находится в 5 таблицах: users, calls, messages, internet, tariffs. Информация является достаточно качественной и не требует большого количества предобработки.\n",
    "\n",
    "#### Незначительные ошибки в данных\n",
    "\n",
    "- столбцы **'session_date' (internet), 'message_date' (messages), 'call_date' (calls), 'reg_date' (users)** - необходимо привести в формат datetime\n",
    "- столбец **Unnamed: 0** из фрейма **internet** - столбец к удалению. Возможно, что данный столбец возник в результате переноса данных из иного фрейма.\n",
    "\n",
    "#### Существенные ошибки в данных\n",
    "- пропуски в столбце **churn_date** фрейма users. На момент выгрузки выборки контракт данных пользователей был активен. Поскольку данная информация не используется в расчетах считаем возможным 2 варианта:\n",
    "\n",
    "1) не заполнять данные пропуски либо заполнить пустыми значениями\n",
    "2) заполнить пропуски значением 31-12-2018 - последний день года, взятого в выгрузке\n",
    "\n",
    "- нулевые значения в столбце **'duration'** фрейма calls - составляют около 20% от всего фрейма. В связи с существенным влиянием этих данных на выборку (изменение среднего и медианы на 1.64 и 1.74 мин. соответственно), полагаем, что для расчета количественных значений следует использовать полную выборку, а для объемных - выборку с отброшенными нулевыми показателями.\n",
    "- нулевые значения в столбце **mb_used** фрейма internet - около 13% от общей выборки. Возможно, что оператор не учитывает соединения с определенными адресами при учете трафика. Поскольку в тарифах не учитывается количество сессий, а только фактическая передача данных, и заполнение медианными/средними значениями окажет существенное влияние на выборку, полагаем возможным **исключить** нулевые сессии из дальнейших расчетов.\n",
    "\n",
    "#### Дополнительные задачи\n",
    "\n",
    "- округлить вверх значения столбцов **duration, mb_used** для расчетов использованного трафика и минут по тарифам\n"
   ]
  },
  {
   "cell_type": "markdown",
   "metadata": {},
   "source": [
    "### 2. Предобработка данных <a id=info3></a>"
   ]
  },
  {
   "cell_type": "markdown",
   "metadata": {},
   "source": [
    "Переходим к предобработке данных. \n",
    "\n",
    "1. Установим формат datetime для столбцов **'session_date' (internet), 'message_date' (messages), 'call_date' (calls), 'reg_date' (users)**.\n",
    "\n",
    "Данные в этих столбцах представлены по единому шаблону - yyyy-mm-dd."
   ]
  },
  {
   "cell_type": "code",
   "execution_count": 22,
   "metadata": {},
   "outputs": [],
   "source": [
    "#приводим столбцы нескольких фреймов в формат datetime.\n",
    "internet['session_date'] = pd.to_datetime(internet['session_date'],format = '%Y-%m-%d')\n",
    "messages['message_date'] = pd.to_datetime(messages['message_date'],format = '%Y-%m-%d')\n",
    "calls['call_date'] = pd.to_datetime(calls['call_date'], format = '%Y-%m-%d')\n",
    "users['reg_date'] = pd.to_datetime(users['reg_date'], format = '%Y-%m-%d')"
   ]
  },
  {
   "cell_type": "markdown",
   "metadata": {},
   "source": [
    "Данные в столбцах приведены в нужный формат и готовы к дальнейшей обработке.\n",
    "\n",
    "2. Удалим лишний столбец из таблицы internet."
   ]
  },
  {
   "cell_type": "code",
   "execution_count": 23,
   "metadata": {},
   "outputs": [
    {
     "data": {
      "text/html": [
       "<div>\n",
       "<style scoped>\n",
       "    .dataframe tbody tr th:only-of-type {\n",
       "        vertical-align: middle;\n",
       "    }\n",
       "\n",
       "    .dataframe tbody tr th {\n",
       "        vertical-align: top;\n",
       "    }\n",
       "\n",
       "    .dataframe thead th {\n",
       "        text-align: right;\n",
       "    }\n",
       "</style>\n",
       "<table border=\"1\" class=\"dataframe\">\n",
       "  <thead>\n",
       "    <tr style=\"text-align: right;\">\n",
       "      <th></th>\n",
       "      <th>id</th>\n",
       "      <th>mb_used</th>\n",
       "      <th>session_date</th>\n",
       "      <th>user_id</th>\n",
       "    </tr>\n",
       "  </thead>\n",
       "  <tbody>\n",
       "    <tr>\n",
       "      <th>0</th>\n",
       "      <td>1000_0</td>\n",
       "      <td>112.95</td>\n",
       "      <td>2018-11-25</td>\n",
       "      <td>1000</td>\n",
       "    </tr>\n",
       "    <tr>\n",
       "      <th>1</th>\n",
       "      <td>1000_1</td>\n",
       "      <td>1052.81</td>\n",
       "      <td>2018-09-07</td>\n",
       "      <td>1000</td>\n",
       "    </tr>\n",
       "    <tr>\n",
       "      <th>2</th>\n",
       "      <td>1000_2</td>\n",
       "      <td>1197.26</td>\n",
       "      <td>2018-06-25</td>\n",
       "      <td>1000</td>\n",
       "    </tr>\n",
       "    <tr>\n",
       "      <th>3</th>\n",
       "      <td>1000_3</td>\n",
       "      <td>550.27</td>\n",
       "      <td>2018-08-22</td>\n",
       "      <td>1000</td>\n",
       "    </tr>\n",
       "    <tr>\n",
       "      <th>4</th>\n",
       "      <td>1000_4</td>\n",
       "      <td>302.56</td>\n",
       "      <td>2018-09-24</td>\n",
       "      <td>1000</td>\n",
       "    </tr>\n",
       "  </tbody>\n",
       "</table>\n",
       "</div>"
      ],
      "text/plain": [
       "       id  mb_used session_date  user_id\n",
       "0  1000_0   112.95   2018-11-25     1000\n",
       "1  1000_1  1052.81   2018-09-07     1000\n",
       "2  1000_2  1197.26   2018-06-25     1000\n",
       "3  1000_3   550.27   2018-08-22     1000\n",
       "4  1000_4   302.56   2018-09-24     1000"
      ]
     },
     "execution_count": 23,
     "metadata": {},
     "output_type": "execute_result"
    }
   ],
   "source": [
    "internet = internet.drop(columns = ['Unnamed: 0'])\n",
    "internet.head()"
   ]
  },
  {
   "cell_type": "markdown",
   "metadata": {},
   "source": [
    "Лишний столбец удалён.\n",
    "\n",
    "3. Столбец 'churn_date' фрейма users. Поскольку данный столбец не используется в дальнейших расчетах и его незаполнение связано с тем, что контракт был еще активен, считаем возможным заполнить его пустыми значениями."
   ]
  },
  {
   "cell_type": "code",
   "execution_count": 24,
   "metadata": {},
   "outputs": [
    {
     "data": {
      "text/html": [
       "<div>\n",
       "<style scoped>\n",
       "    .dataframe tbody tr th:only-of-type {\n",
       "        vertical-align: middle;\n",
       "    }\n",
       "\n",
       "    .dataframe tbody tr th {\n",
       "        vertical-align: top;\n",
       "    }\n",
       "\n",
       "    .dataframe thead th {\n",
       "        text-align: right;\n",
       "    }\n",
       "</style>\n",
       "<table border=\"1\" class=\"dataframe\">\n",
       "  <thead>\n",
       "    <tr style=\"text-align: right;\">\n",
       "      <th></th>\n",
       "      <th>user_id</th>\n",
       "      <th>age</th>\n",
       "      <th>churn_date</th>\n",
       "      <th>city</th>\n",
       "      <th>first_name</th>\n",
       "      <th>last_name</th>\n",
       "      <th>reg_date</th>\n",
       "      <th>tariff</th>\n",
       "      <th>stopped_tarif</th>\n",
       "    </tr>\n",
       "  </thead>\n",
       "  <tbody>\n",
       "    <tr>\n",
       "      <th>0</th>\n",
       "      <td>1000</td>\n",
       "      <td>52</td>\n",
       "      <td></td>\n",
       "      <td>Краснодар</td>\n",
       "      <td>Рафаил</td>\n",
       "      <td>Верещагин</td>\n",
       "      <td>2018-05-25</td>\n",
       "      <td>ultra</td>\n",
       "      <td>False</td>\n",
       "    </tr>\n",
       "    <tr>\n",
       "      <th>1</th>\n",
       "      <td>1001</td>\n",
       "      <td>41</td>\n",
       "      <td></td>\n",
       "      <td>Москва</td>\n",
       "      <td>Иван</td>\n",
       "      <td>Ежов</td>\n",
       "      <td>2018-11-01</td>\n",
       "      <td>smart</td>\n",
       "      <td>False</td>\n",
       "    </tr>\n",
       "    <tr>\n",
       "      <th>2</th>\n",
       "      <td>1002</td>\n",
       "      <td>59</td>\n",
       "      <td></td>\n",
       "      <td>Стерлитамак</td>\n",
       "      <td>Евгений</td>\n",
       "      <td>Абрамович</td>\n",
       "      <td>2018-06-17</td>\n",
       "      <td>smart</td>\n",
       "      <td>False</td>\n",
       "    </tr>\n",
       "    <tr>\n",
       "      <th>3</th>\n",
       "      <td>1003</td>\n",
       "      <td>23</td>\n",
       "      <td></td>\n",
       "      <td>Москва</td>\n",
       "      <td>Белла</td>\n",
       "      <td>Белякова</td>\n",
       "      <td>2018-08-17</td>\n",
       "      <td>ultra</td>\n",
       "      <td>False</td>\n",
       "    </tr>\n",
       "    <tr>\n",
       "      <th>4</th>\n",
       "      <td>1004</td>\n",
       "      <td>68</td>\n",
       "      <td></td>\n",
       "      <td>Новокузнецк</td>\n",
       "      <td>Татьяна</td>\n",
       "      <td>Авдеенко</td>\n",
       "      <td>2018-05-14</td>\n",
       "      <td>ultra</td>\n",
       "      <td>False</td>\n",
       "    </tr>\n",
       "  </tbody>\n",
       "</table>\n",
       "</div>"
      ],
      "text/plain": [
       "   user_id  age churn_date         city first_name  last_name   reg_date  \\\n",
       "0     1000   52               Краснодар     Рафаил  Верещагин 2018-05-25   \n",
       "1     1001   41                  Москва       Иван       Ежов 2018-11-01   \n",
       "2     1002   59             Стерлитамак    Евгений  Абрамович 2018-06-17   \n",
       "3     1003   23                  Москва      Белла   Белякова 2018-08-17   \n",
       "4     1004   68             Новокузнецк    Татьяна   Авдеенко 2018-05-14   \n",
       "\n",
       "  tariff  stopped_tarif  \n",
       "0  ultra          False  \n",
       "1  smart          False  \n",
       "2  smart          False  \n",
       "3  ultra          False  \n",
       "4  ultra          False  "
      ]
     },
     "execution_count": 24,
     "metadata": {},
     "output_type": "execute_result"
    }
   ],
   "source": [
    "users['churn_date'] = users['churn_date'].fillna(value='')\n",
    "users.head()"
   ]
  },
  {
   "cell_type": "markdown",
   "metadata": {},
   "source": [
    "Данное решение не являлось бы оптимальным, если бы был необходим расчет длительности контракта, однако на текущий момент считаем возможным оставить его в таком состоянии.\n",
    "\n",
    "4. Добавим столбцы с округлением объема трафика и длительности звонков во фреймы calls и internet."
   ]
  },
  {
   "cell_type": "code",
   "execution_count": 25,
   "metadata": {},
   "outputs": [
    {
     "name": "stdout",
     "output_type": "stream",
     "text": [
      "       id  call_date  duration  user_id  duration_round\n",
      "0  1000_0 2018-07-25      0.00     1000             0.0\n",
      "1  1000_1 2018-08-17      0.00     1000             0.0\n",
      "2  1000_2 2018-06-11      2.85     1000             3.0\n",
      "3  1000_3 2018-09-21     13.80     1000            14.0\n",
      "4  1000_4 2018-12-15      5.18     1000             6.0\n",
      "\n",
      "       id  mb_used session_date  user_id  mb_round\n",
      "0  1000_0   112.95   2018-11-25     1000     113.0\n",
      "1  1000_1  1052.81   2018-09-07     1000    1053.0\n",
      "2  1000_2  1197.26   2018-06-25     1000    1198.0\n",
      "3  1000_3   550.27   2018-08-22     1000     551.0\n",
      "4  1000_4   302.56   2018-09-24     1000     303.0\n"
     ]
    }
   ],
   "source": [
    "calls['duration_round'] = calls['duration'].apply(np.ceil)\n",
    "internet['mb_round'] = internet['mb_used'].apply(np.ceil)\n",
    "print(calls.head())\n",
    "print()\n",
    "print(internet.head())"
   ]
  },
  {
   "cell_type": "code",
   "execution_count": 26,
   "metadata": {},
   "outputs": [],
   "source": [
    "#Приводим данные в столбцах с округлением к формату int\n",
    "calls['duration_round'] = calls['duration_round'].astype('int64')\n",
    "internet['mb_round'] = internet['mb_round'].astype('int64')"
   ]
  },
  {
   "cell_type": "markdown",
   "metadata": {},
   "source": [
    "Обработка данных завершена.\n",
    "\n",
    "5. Сформируем дополнительные фреймы для ненулевых значений по трафику и длительности звонка."
   ]
  },
  {
   "cell_type": "code",
   "execution_count": 27,
   "metadata": {},
   "outputs": [],
   "source": [
    "internet_no_zero = internet.query('mb_used != 0')\n",
    "calls_no_zero = calls.query('duration != 0')\n",
    "internet_no_zero.reset_index(drop = True, inplace = True)\n",
    "calls_no_zero.reset_index(drop = True, inplace = True)"
   ]
  },
  {
   "cell_type": "code",
   "execution_count": 28,
   "metadata": {},
   "outputs": [
    {
     "name": "stdout",
     "output_type": "stream",
     "text": [
      "       id  mb_used session_date  user_id  mb_round\n",
      "0  1000_0   112.95   2018-11-25     1000       113\n",
      "1  1000_1  1052.81   2018-09-07     1000      1053\n",
      "2  1000_2  1197.26   2018-06-25     1000      1198\n",
      "3  1000_3   550.27   2018-08-22     1000       551\n",
      "4  1000_4   302.56   2018-09-24     1000       303\n",
      "\n",
      "<class 'pandas.core.frame.DataFrame'>\n",
      "RangeIndex: 129798 entries, 0 to 129797\n",
      "Data columns (total 5 columns):\n",
      " #   Column        Non-Null Count   Dtype         \n",
      "---  ------        --------------   -----         \n",
      " 0   id            129798 non-null  object        \n",
      " 1   mb_used       129798 non-null  float64       \n",
      " 2   session_date  129798 non-null  datetime64[ns]\n",
      " 3   user_id       129798 non-null  int64         \n",
      " 4   mb_round      129798 non-null  int64         \n",
      "dtypes: datetime64[ns](1), float64(1), int64(2), object(1)\n",
      "memory usage: 5.0+ MB\n",
      "None\n"
     ]
    }
   ],
   "source": [
    "print(internet_no_zero.head())\n",
    "print()\n",
    "print(internet_no_zero.info())"
   ]
  },
  {
   "cell_type": "code",
   "execution_count": 29,
   "metadata": {},
   "outputs": [
    {
     "name": "stdout",
     "output_type": "stream",
     "text": [
      "       id  call_date  duration  user_id  duration_round\n",
      "0  1000_2 2018-06-11      2.85     1000               3\n",
      "1  1000_3 2018-09-21     13.80     1000              14\n",
      "2  1000_4 2018-12-15      5.18     1000               6\n",
      "3  1000_7 2018-08-22     18.31     1000              19\n",
      "4  1000_8 2018-09-15     18.44     1000              19\n",
      "\n",
      "<class 'pandas.core.frame.DataFrame'>\n",
      "RangeIndex: 162994 entries, 0 to 162993\n",
      "Data columns (total 5 columns):\n",
      " #   Column          Non-Null Count   Dtype         \n",
      "---  ------          --------------   -----         \n",
      " 0   id              162994 non-null  object        \n",
      " 1   call_date       162994 non-null  datetime64[ns]\n",
      " 2   duration        162994 non-null  float64       \n",
      " 3   user_id         162994 non-null  int64         \n",
      " 4   duration_round  162994 non-null  int64         \n",
      "dtypes: datetime64[ns](1), float64(1), int64(2), object(1)\n",
      "memory usage: 6.2+ MB\n",
      "None\n"
     ]
    }
   ],
   "source": [
    "print(calls_no_zero.head())\n",
    "print()\n",
    "print(calls_no_zero.info())"
   ]
  },
  {
   "cell_type": "markdown",
   "metadata": {},
   "source": [
    "Были созданы два новых фрейма calls_no_zero и internet_no_zero. В них содержатся данные без нулевых значений по длительности звонка и переданных данных в интернет-соединении."
   ]
  },
  {
   "cell_type": "markdown",
   "metadata": {},
   "source": [
    "### Вывод <a id=info4></a>"
   ]
  },
  {
   "cell_type": "markdown",
   "metadata": {},
   "source": [
    "В ходе предобработки данных были сделаны следующие корректировки:\n",
    "1. Установлен формат datetime для столбцов **'session_date' (internet), 'message_date' (messages), 'call_date' (calls), 'reg_date' (users)**\n",
    "2. Убран лишний столбец во фрейме internet\n",
    "3. Заполнены пропуски столбца 'churn_date'\n",
    "4. Добавлены столбцы 'duration_round' и 'mb_round'\n",
    "5. Созданы два дополнительных фрейма 'calls_no_zero' и 'internet_no_zero'"
   ]
  },
  {
   "cell_type": "markdown",
   "metadata": {},
   "source": [
    "### 3. Подготовка данных для анализа. Группировка по месяцам. <a id=info5></a>"
   ]
  },
  {
   "cell_type": "markdown",
   "metadata": {},
   "source": [
    "Для оценки поведения клиентов подготовим данные в разбивке по месяцам. Добавим во фреймы calls, messages, internet, internet_no_zero, calls_no_zero."
   ]
  },
  {
   "cell_type": "code",
   "execution_count": 30,
   "metadata": {},
   "outputs": [],
   "source": [
    "calls['month'] = calls['call_date'].dt.month\n",
    "calls_no_zero['month'] = calls_no_zero['call_date'].dt.month\n",
    "internet['month'] = internet['session_date'].dt.month\n",
    "internet_no_zero['month'] = internet_no_zero['session_date'].dt.month\n",
    "messages['month'] = messages['message_date'].dt.month"
   ]
  },
  {
   "cell_type": "code",
   "execution_count": 31,
   "metadata": {},
   "outputs": [
    {
     "data": {
      "text/html": [
       "<div>\n",
       "<style scoped>\n",
       "    .dataframe tbody tr th:only-of-type {\n",
       "        vertical-align: middle;\n",
       "    }\n",
       "\n",
       "    .dataframe tbody tr th {\n",
       "        vertical-align: top;\n",
       "    }\n",
       "\n",
       "    .dataframe thead th {\n",
       "        text-align: right;\n",
       "    }\n",
       "</style>\n",
       "<table border=\"1\" class=\"dataframe\">\n",
       "  <thead>\n",
       "    <tr style=\"text-align: right;\">\n",
       "      <th></th>\n",
       "      <th>id</th>\n",
       "      <th>mb_used</th>\n",
       "      <th>session_date</th>\n",
       "      <th>user_id</th>\n",
       "      <th>mb_round</th>\n",
       "      <th>month</th>\n",
       "    </tr>\n",
       "  </thead>\n",
       "  <tbody>\n",
       "    <tr>\n",
       "      <th>0</th>\n",
       "      <td>1000_0</td>\n",
       "      <td>112.95</td>\n",
       "      <td>2018-11-25</td>\n",
       "      <td>1000</td>\n",
       "      <td>113</td>\n",
       "      <td>11</td>\n",
       "    </tr>\n",
       "    <tr>\n",
       "      <th>1</th>\n",
       "      <td>1000_1</td>\n",
       "      <td>1052.81</td>\n",
       "      <td>2018-09-07</td>\n",
       "      <td>1000</td>\n",
       "      <td>1053</td>\n",
       "      <td>9</td>\n",
       "    </tr>\n",
       "    <tr>\n",
       "      <th>2</th>\n",
       "      <td>1000_2</td>\n",
       "      <td>1197.26</td>\n",
       "      <td>2018-06-25</td>\n",
       "      <td>1000</td>\n",
       "      <td>1198</td>\n",
       "      <td>6</td>\n",
       "    </tr>\n",
       "  </tbody>\n",
       "</table>\n",
       "</div>"
      ],
      "text/plain": [
       "       id  mb_used session_date  user_id  mb_round  month\n",
       "0  1000_0   112.95   2018-11-25     1000       113     11\n",
       "1  1000_1  1052.81   2018-09-07     1000      1053      9\n",
       "2  1000_2  1197.26   2018-06-25     1000      1198      6"
      ]
     },
     "execution_count": 31,
     "metadata": {},
     "output_type": "execute_result"
    }
   ],
   "source": [
    "internet.head(3)"
   ]
  },
  {
   "cell_type": "code",
   "execution_count": 32,
   "metadata": {},
   "outputs": [
    {
     "data": {
      "text/html": [
       "<div>\n",
       "<style scoped>\n",
       "    .dataframe tbody tr th:only-of-type {\n",
       "        vertical-align: middle;\n",
       "    }\n",
       "\n",
       "    .dataframe tbody tr th {\n",
       "        vertical-align: top;\n",
       "    }\n",
       "\n",
       "    .dataframe thead th {\n",
       "        text-align: right;\n",
       "    }\n",
       "</style>\n",
       "<table border=\"1\" class=\"dataframe\">\n",
       "  <thead>\n",
       "    <tr style=\"text-align: right;\">\n",
       "      <th></th>\n",
       "      <th>id</th>\n",
       "      <th>mb_used</th>\n",
       "      <th>session_date</th>\n",
       "      <th>user_id</th>\n",
       "      <th>mb_round</th>\n",
       "      <th>month</th>\n",
       "    </tr>\n",
       "  </thead>\n",
       "  <tbody>\n",
       "    <tr>\n",
       "      <th>0</th>\n",
       "      <td>1000_0</td>\n",
       "      <td>112.95</td>\n",
       "      <td>2018-11-25</td>\n",
       "      <td>1000</td>\n",
       "      <td>113</td>\n",
       "      <td>11</td>\n",
       "    </tr>\n",
       "    <tr>\n",
       "      <th>1</th>\n",
       "      <td>1000_1</td>\n",
       "      <td>1052.81</td>\n",
       "      <td>2018-09-07</td>\n",
       "      <td>1000</td>\n",
       "      <td>1053</td>\n",
       "      <td>9</td>\n",
       "    </tr>\n",
       "    <tr>\n",
       "      <th>2</th>\n",
       "      <td>1000_2</td>\n",
       "      <td>1197.26</td>\n",
       "      <td>2018-06-25</td>\n",
       "      <td>1000</td>\n",
       "      <td>1198</td>\n",
       "      <td>6</td>\n",
       "    </tr>\n",
       "    <tr>\n",
       "      <th>3</th>\n",
       "      <td>1000_3</td>\n",
       "      <td>550.27</td>\n",
       "      <td>2018-08-22</td>\n",
       "      <td>1000</td>\n",
       "      <td>551</td>\n",
       "      <td>8</td>\n",
       "    </tr>\n",
       "    <tr>\n",
       "      <th>4</th>\n",
       "      <td>1000_4</td>\n",
       "      <td>302.56</td>\n",
       "      <td>2018-09-24</td>\n",
       "      <td>1000</td>\n",
       "      <td>303</td>\n",
       "      <td>9</td>\n",
       "    </tr>\n",
       "  </tbody>\n",
       "</table>\n",
       "</div>"
      ],
      "text/plain": [
       "       id  mb_used session_date  user_id  mb_round  month\n",
       "0  1000_0   112.95   2018-11-25     1000       113     11\n",
       "1  1000_1  1052.81   2018-09-07     1000      1053      9\n",
       "2  1000_2  1197.26   2018-06-25     1000      1198      6\n",
       "3  1000_3   550.27   2018-08-22     1000       551      8\n",
       "4  1000_4   302.56   2018-09-24     1000       303      9"
      ]
     },
     "execution_count": 32,
     "metadata": {},
     "output_type": "execute_result"
    }
   ],
   "source": [
    "internet_no_zero.head()"
   ]
  },
  {
   "cell_type": "code",
   "execution_count": 33,
   "metadata": {},
   "outputs": [
    {
     "data": {
      "text/html": [
       "<div>\n",
       "<style scoped>\n",
       "    .dataframe tbody tr th:only-of-type {\n",
       "        vertical-align: middle;\n",
       "    }\n",
       "\n",
       "    .dataframe tbody tr th {\n",
       "        vertical-align: top;\n",
       "    }\n",
       "\n",
       "    .dataframe thead th {\n",
       "        text-align: right;\n",
       "    }\n",
       "</style>\n",
       "<table border=\"1\" class=\"dataframe\">\n",
       "  <thead>\n",
       "    <tr style=\"text-align: right;\">\n",
       "      <th></th>\n",
       "      <th>id</th>\n",
       "      <th>message_date</th>\n",
       "      <th>user_id</th>\n",
       "      <th>month</th>\n",
       "    </tr>\n",
       "  </thead>\n",
       "  <tbody>\n",
       "    <tr>\n",
       "      <th>0</th>\n",
       "      <td>1000_0</td>\n",
       "      <td>2018-06-27</td>\n",
       "      <td>1000</td>\n",
       "      <td>6</td>\n",
       "    </tr>\n",
       "    <tr>\n",
       "      <th>1</th>\n",
       "      <td>1000_1</td>\n",
       "      <td>2018-10-08</td>\n",
       "      <td>1000</td>\n",
       "      <td>10</td>\n",
       "    </tr>\n",
       "    <tr>\n",
       "      <th>2</th>\n",
       "      <td>1000_2</td>\n",
       "      <td>2018-08-04</td>\n",
       "      <td>1000</td>\n",
       "      <td>8</td>\n",
       "    </tr>\n",
       "    <tr>\n",
       "      <th>3</th>\n",
       "      <td>1000_3</td>\n",
       "      <td>2018-06-16</td>\n",
       "      <td>1000</td>\n",
       "      <td>6</td>\n",
       "    </tr>\n",
       "    <tr>\n",
       "      <th>4</th>\n",
       "      <td>1000_4</td>\n",
       "      <td>2018-12-05</td>\n",
       "      <td>1000</td>\n",
       "      <td>12</td>\n",
       "    </tr>\n",
       "  </tbody>\n",
       "</table>\n",
       "</div>"
      ],
      "text/plain": [
       "       id message_date  user_id  month\n",
       "0  1000_0   2018-06-27     1000      6\n",
       "1  1000_1   2018-10-08     1000     10\n",
       "2  1000_2   2018-08-04     1000      8\n",
       "3  1000_3   2018-06-16     1000      6\n",
       "4  1000_4   2018-12-05     1000     12"
      ]
     },
     "execution_count": 33,
     "metadata": {},
     "output_type": "execute_result"
    }
   ],
   "source": [
    "messages.head()"
   ]
  },
  {
   "cell_type": "markdown",
   "metadata": {},
   "source": [
    "В каждую из таблиц было добавлено по столбцу, соответствующему номеру месяца. Произведём группировку в данных фреймах по двум показателям - id клиента и номер месяца."
   ]
  },
  {
   "cell_type": "code",
   "execution_count": 34,
   "metadata": {},
   "outputs": [
    {
     "data": {
      "text/html": [
       "<div>\n",
       "<style scoped>\n",
       "    .dataframe tbody tr th:only-of-type {\n",
       "        vertical-align: middle;\n",
       "    }\n",
       "\n",
       "    .dataframe tbody tr th {\n",
       "        vertical-align: top;\n",
       "    }\n",
       "\n",
       "    .dataframe thead th {\n",
       "        text-align: right;\n",
       "    }\n",
       "</style>\n",
       "<table border=\"1\" class=\"dataframe\">\n",
       "  <thead>\n",
       "    <tr style=\"text-align: right;\">\n",
       "      <th></th>\n",
       "      <th></th>\n",
       "      <th>id</th>\n",
       "    </tr>\n",
       "    <tr>\n",
       "      <th>user_id</th>\n",
       "      <th>month</th>\n",
       "      <th></th>\n",
       "    </tr>\n",
       "  </thead>\n",
       "  <tbody>\n",
       "    <tr>\n",
       "      <th rowspan=\"8\" valign=\"top\">1000</th>\n",
       "      <th>5</th>\n",
       "      <td>22</td>\n",
       "    </tr>\n",
       "    <tr>\n",
       "      <th>6</th>\n",
       "      <td>60</td>\n",
       "    </tr>\n",
       "    <tr>\n",
       "      <th>7</th>\n",
       "      <td>75</td>\n",
       "    </tr>\n",
       "    <tr>\n",
       "      <th>8</th>\n",
       "      <td>81</td>\n",
       "    </tr>\n",
       "    <tr>\n",
       "      <th>9</th>\n",
       "      <td>57</td>\n",
       "    </tr>\n",
       "    <tr>\n",
       "      <th>10</th>\n",
       "      <td>73</td>\n",
       "    </tr>\n",
       "    <tr>\n",
       "      <th>11</th>\n",
       "      <td>58</td>\n",
       "    </tr>\n",
       "    <tr>\n",
       "      <th>12</th>\n",
       "      <td>70</td>\n",
       "    </tr>\n",
       "    <tr>\n",
       "      <th rowspan=\"7\" valign=\"top\">1002</th>\n",
       "      <th>6</th>\n",
       "      <td>4</td>\n",
       "    </tr>\n",
       "    <tr>\n",
       "      <th>7</th>\n",
       "      <td>11</td>\n",
       "    </tr>\n",
       "    <tr>\n",
       "      <th>8</th>\n",
       "      <td>13</td>\n",
       "    </tr>\n",
       "    <tr>\n",
       "      <th>9</th>\n",
       "      <td>4</td>\n",
       "    </tr>\n",
       "    <tr>\n",
       "      <th>10</th>\n",
       "      <td>10</td>\n",
       "    </tr>\n",
       "    <tr>\n",
       "      <th>11</th>\n",
       "      <td>16</td>\n",
       "    </tr>\n",
       "    <tr>\n",
       "      <th>12</th>\n",
       "      <td>12</td>\n",
       "    </tr>\n",
       "  </tbody>\n",
       "</table>\n",
       "</div>"
      ],
      "text/plain": [
       "               id\n",
       "user_id month    \n",
       "1000    5      22\n",
       "        6      60\n",
       "        7      75\n",
       "        8      81\n",
       "        9      57\n",
       "        10     73\n",
       "        11     58\n",
       "        12     70\n",
       "1002    6       4\n",
       "        7      11\n",
       "        8      13\n",
       "        9       4\n",
       "        10     10\n",
       "        11     16\n",
       "        12     12"
      ]
     },
     "execution_count": 34,
     "metadata": {},
     "output_type": "execute_result"
    }
   ],
   "source": [
    "messages_pivot = pd.pivot_table(messages, index = ['user_id', 'month'], values = ['id'], aggfunc = 'count')\n",
    "messages_pivot.head(15)"
   ]
  },
  {
   "cell_type": "markdown",
   "metadata": {},
   "source": [
    "Сформируем аналогичные таблицы для других фреймов."
   ]
  },
  {
   "cell_type": "code",
   "execution_count": 35,
   "metadata": {},
   "outputs": [
    {
     "data": {
      "text/html": [
       "<div>\n",
       "<style scoped>\n",
       "    .dataframe tbody tr th:only-of-type {\n",
       "        vertical-align: middle;\n",
       "    }\n",
       "\n",
       "    .dataframe tbody tr th {\n",
       "        vertical-align: top;\n",
       "    }\n",
       "\n",
       "    .dataframe thead th {\n",
       "        text-align: right;\n",
       "    }\n",
       "</style>\n",
       "<table border=\"1\" class=\"dataframe\">\n",
       "  <thead>\n",
       "    <tr style=\"text-align: right;\">\n",
       "      <th></th>\n",
       "      <th></th>\n",
       "      <th>mb_round_sum</th>\n",
       "      <th>mb_used_count</th>\n",
       "      <th>mb_used_sum</th>\n",
       "    </tr>\n",
       "    <tr>\n",
       "      <th>user_id</th>\n",
       "      <th>month</th>\n",
       "      <th></th>\n",
       "      <th></th>\n",
       "      <th></th>\n",
       "    </tr>\n",
       "  </thead>\n",
       "  <tbody>\n",
       "    <tr>\n",
       "      <th rowspan=\"5\" valign=\"top\">1000</th>\n",
       "      <th>5</th>\n",
       "      <td>2256</td>\n",
       "      <td>5</td>\n",
       "      <td>2253.49</td>\n",
       "    </tr>\n",
       "    <tr>\n",
       "      <th>6</th>\n",
       "      <td>23257</td>\n",
       "      <td>49</td>\n",
       "      <td>23233.77</td>\n",
       "    </tr>\n",
       "    <tr>\n",
       "      <th>7</th>\n",
       "      <td>14016</td>\n",
       "      <td>29</td>\n",
       "      <td>14003.64</td>\n",
       "    </tr>\n",
       "    <tr>\n",
       "      <th>8</th>\n",
       "      <td>14070</td>\n",
       "      <td>29</td>\n",
       "      <td>14055.93</td>\n",
       "    </tr>\n",
       "    <tr>\n",
       "      <th>9</th>\n",
       "      <td>14581</td>\n",
       "      <td>27</td>\n",
       "      <td>14568.91</td>\n",
       "    </tr>\n",
       "  </tbody>\n",
       "</table>\n",
       "</div>"
      ],
      "text/plain": [
       "               mb_round_sum  mb_used_count  mb_used_sum\n",
       "user_id month                                          \n",
       "1000    5              2256              5      2253.49\n",
       "        6             23257             49     23233.77\n",
       "        7             14016             29     14003.64\n",
       "        8             14070             29     14055.93\n",
       "        9             14581             27     14568.91"
      ]
     },
     "execution_count": 35,
     "metadata": {},
     "output_type": "execute_result"
    }
   ],
   "source": [
    "internet_pivot = pd.pivot_table(\n",
    "    internet, index = ['user_id', 'month'], values = ['mb_used', 'mb_round'], aggfunc = {'mb_used':['sum', 'count'],\n",
    "                                                                                        'mb_round': 'sum'})\n",
    "internet_pivot.columns = ['mb_round_sum', 'mb_used_count', 'mb_used_sum']\n",
    "internet_pivot.head()"
   ]
  },
  {
   "cell_type": "code",
   "execution_count": 36,
   "metadata": {},
   "outputs": [
    {
     "data": {
      "text/html": [
       "<div>\n",
       "<style scoped>\n",
       "    .dataframe tbody tr th:only-of-type {\n",
       "        vertical-align: middle;\n",
       "    }\n",
       "\n",
       "    .dataframe tbody tr th {\n",
       "        vertical-align: top;\n",
       "    }\n",
       "\n",
       "    .dataframe thead th {\n",
       "        text-align: right;\n",
       "    }\n",
       "</style>\n",
       "<table border=\"1\" class=\"dataframe\">\n",
       "  <thead>\n",
       "    <tr style=\"text-align: right;\">\n",
       "      <th></th>\n",
       "      <th></th>\n",
       "      <th>mb_round_sum</th>\n",
       "      <th>mb_used_count</th>\n",
       "      <th>mb_used_sum</th>\n",
       "    </tr>\n",
       "    <tr>\n",
       "      <th>user_id</th>\n",
       "      <th>month</th>\n",
       "      <th></th>\n",
       "      <th></th>\n",
       "      <th></th>\n",
       "    </tr>\n",
       "  </thead>\n",
       "  <tbody>\n",
       "    <tr>\n",
       "      <th rowspan=\"5\" valign=\"top\">1000</th>\n",
       "      <th>5</th>\n",
       "      <td>2256</td>\n",
       "      <td>4</td>\n",
       "      <td>2253.49</td>\n",
       "    </tr>\n",
       "    <tr>\n",
       "      <th>6</th>\n",
       "      <td>23257</td>\n",
       "      <td>44</td>\n",
       "      <td>23233.77</td>\n",
       "    </tr>\n",
       "    <tr>\n",
       "      <th>7</th>\n",
       "      <td>14016</td>\n",
       "      <td>28</td>\n",
       "      <td>14003.64</td>\n",
       "    </tr>\n",
       "    <tr>\n",
       "      <th>8</th>\n",
       "      <td>14070</td>\n",
       "      <td>27</td>\n",
       "      <td>14055.93</td>\n",
       "    </tr>\n",
       "    <tr>\n",
       "      <th>9</th>\n",
       "      <td>14581</td>\n",
       "      <td>25</td>\n",
       "      <td>14568.91</td>\n",
       "    </tr>\n",
       "  </tbody>\n",
       "</table>\n",
       "</div>"
      ],
      "text/plain": [
       "               mb_round_sum  mb_used_count  mb_used_sum\n",
       "user_id month                                          \n",
       "1000    5              2256              4      2253.49\n",
       "        6             23257             44     23233.77\n",
       "        7             14016             28     14003.64\n",
       "        8             14070             27     14055.93\n",
       "        9             14581             25     14568.91"
      ]
     },
     "execution_count": 36,
     "metadata": {},
     "output_type": "execute_result"
    }
   ],
   "source": [
    "int_no_zero_pivot = pd.pivot_table(\n",
    "    internet_no_zero, index = ['user_id', 'month'], values = ['mb_used', 'mb_round'], aggfunc = {'mb_used':['sum', 'count'],\n",
    "                                                                                        'mb_round': 'sum'})\n",
    "int_no_zero_pivot.columns = ['mb_round_sum', 'mb_used_count', 'mb_used_sum']\n",
    "int_no_zero_pivot.head()"
   ]
  },
  {
   "cell_type": "code",
   "execution_count": 37,
   "metadata": {},
   "outputs": [
    {
     "data": {
      "text/html": [
       "<div>\n",
       "<style scoped>\n",
       "    .dataframe tbody tr th:only-of-type {\n",
       "        vertical-align: middle;\n",
       "    }\n",
       "\n",
       "    .dataframe tbody tr th {\n",
       "        vertical-align: top;\n",
       "    }\n",
       "\n",
       "    .dataframe thead tr th {\n",
       "        text-align: left;\n",
       "    }\n",
       "\n",
       "    .dataframe thead tr:last-of-type th {\n",
       "        text-align: right;\n",
       "    }\n",
       "</style>\n",
       "<table border=\"1\" class=\"dataframe\">\n",
       "  <thead>\n",
       "    <tr>\n",
       "      <th></th>\n",
       "      <th></th>\n",
       "      <th colspan=\"2\" halign=\"left\">duration</th>\n",
       "      <th>duration_round</th>\n",
       "    </tr>\n",
       "    <tr>\n",
       "      <th></th>\n",
       "      <th></th>\n",
       "      <th>count</th>\n",
       "      <th>sum</th>\n",
       "      <th>sum</th>\n",
       "    </tr>\n",
       "    <tr>\n",
       "      <th>user_id</th>\n",
       "      <th>month</th>\n",
       "      <th></th>\n",
       "      <th></th>\n",
       "      <th></th>\n",
       "    </tr>\n",
       "  </thead>\n",
       "  <tbody>\n",
       "    <tr>\n",
       "      <th rowspan=\"5\" valign=\"top\">1000</th>\n",
       "      <th>5</th>\n",
       "      <td>22</td>\n",
       "      <td>150.06</td>\n",
       "      <td>159</td>\n",
       "    </tr>\n",
       "    <tr>\n",
       "      <th>6</th>\n",
       "      <td>43</td>\n",
       "      <td>158.90</td>\n",
       "      <td>172</td>\n",
       "    </tr>\n",
       "    <tr>\n",
       "      <th>7</th>\n",
       "      <td>47</td>\n",
       "      <td>318.80</td>\n",
       "      <td>340</td>\n",
       "    </tr>\n",
       "    <tr>\n",
       "      <th>8</th>\n",
       "      <td>52</td>\n",
       "      <td>389.87</td>\n",
       "      <td>408</td>\n",
       "    </tr>\n",
       "    <tr>\n",
       "      <th>9</th>\n",
       "      <td>58</td>\n",
       "      <td>440.14</td>\n",
       "      <td>466</td>\n",
       "    </tr>\n",
       "  </tbody>\n",
       "</table>\n",
       "</div>"
      ],
      "text/plain": [
       "              duration         duration_round\n",
       "                 count     sum            sum\n",
       "user_id month                                \n",
       "1000    5           22  150.06            159\n",
       "        6           43  158.90            172\n",
       "        7           47  318.80            340\n",
       "        8           52  389.87            408\n",
       "        9           58  440.14            466"
      ]
     },
     "execution_count": 37,
     "metadata": {},
     "output_type": "execute_result"
    }
   ],
   "source": [
    "calls_pivot = pd.pivot_table(\n",
    "    calls, index = ['user_id', 'month'], values = ['duration', 'duration_round'], aggfunc = {'duration':['sum', 'count'],\n",
    "                                                                                        'duration_round': 'sum'})\n",
    "\n",
    "calls_pivot.head()"
   ]
  },
  {
   "cell_type": "code",
   "execution_count": 38,
   "metadata": {},
   "outputs": [
    {
     "name": "stdout",
     "output_type": "stream",
     "text": [
      "<class 'pandas.core.frame.DataFrame'>\n",
      "MultiIndex: 3168 entries, (1000, 5) to (1499, 12)\n",
      "Data columns (total 3 columns):\n",
      " #   Column               Non-Null Count  Dtype  \n",
      "---  ------               --------------  -----  \n",
      " 0   calls_no_zero_count  3168 non-null   int64  \n",
      " 1   calls_sum            3168 non-null   float64\n",
      " 2   calls_round_sum      3168 non-null   int64  \n",
      "dtypes: float64(1), int64(2)\n",
      "memory usage: 87.6 KB\n"
     ]
    }
   ],
   "source": [
    "calls_no_zero_pivot = pd.pivot_table(\n",
    "    calls_no_zero, index = ['user_id', 'month'], values = ['duration', 'duration_round'], aggfunc = {'duration':['sum', 'count'],\n",
    "                                                                                        'duration_round': 'sum'})\n",
    "calls_no_zero_pivot.columns = ['calls_no_zero_count', 'calls_sum', 'calls_round_sum']\n",
    "calls_no_zero_pivot.info()"
   ]
  },
  {
   "cell_type": "markdown",
   "metadata": {},
   "source": [
    "Построим единую таблицу из сформированных сводных."
   ]
  },
  {
   "cell_type": "code",
   "execution_count": 39,
   "metadata": {},
   "outputs": [
    {
     "data": {
      "text/html": [
       "<div>\n",
       "<style scoped>\n",
       "    .dataframe tbody tr th:only-of-type {\n",
       "        vertical-align: middle;\n",
       "    }\n",
       "\n",
       "    .dataframe tbody tr th {\n",
       "        vertical-align: top;\n",
       "    }\n",
       "\n",
       "    .dataframe thead th {\n",
       "        text-align: right;\n",
       "    }\n",
       "</style>\n",
       "<table border=\"1\" class=\"dataframe\">\n",
       "  <thead>\n",
       "    <tr style=\"text-align: right;\">\n",
       "      <th></th>\n",
       "      <th></th>\n",
       "      <th>calls_count</th>\n",
       "      <th>duration_sum</th>\n",
       "      <th>duration_round_sum</th>\n",
       "      <th>messages_count</th>\n",
       "    </tr>\n",
       "    <tr>\n",
       "      <th>user_id</th>\n",
       "      <th>month</th>\n",
       "      <th></th>\n",
       "      <th></th>\n",
       "      <th></th>\n",
       "      <th></th>\n",
       "    </tr>\n",
       "  </thead>\n",
       "  <tbody>\n",
       "    <tr>\n",
       "      <th rowspan=\"5\" valign=\"top\">1000</th>\n",
       "      <th>5</th>\n",
       "      <td>22.0</td>\n",
       "      <td>150.06</td>\n",
       "      <td>159.0</td>\n",
       "      <td>22.0</td>\n",
       "    </tr>\n",
       "    <tr>\n",
       "      <th>6</th>\n",
       "      <td>43.0</td>\n",
       "      <td>158.90</td>\n",
       "      <td>172.0</td>\n",
       "      <td>60.0</td>\n",
       "    </tr>\n",
       "    <tr>\n",
       "      <th>7</th>\n",
       "      <td>47.0</td>\n",
       "      <td>318.80</td>\n",
       "      <td>340.0</td>\n",
       "      <td>75.0</td>\n",
       "    </tr>\n",
       "    <tr>\n",
       "      <th>8</th>\n",
       "      <td>52.0</td>\n",
       "      <td>389.87</td>\n",
       "      <td>408.0</td>\n",
       "      <td>81.0</td>\n",
       "    </tr>\n",
       "    <tr>\n",
       "      <th>9</th>\n",
       "      <td>58.0</td>\n",
       "      <td>440.14</td>\n",
       "      <td>466.0</td>\n",
       "      <td>57.0</td>\n",
       "    </tr>\n",
       "  </tbody>\n",
       "</table>\n",
       "</div>"
      ],
      "text/plain": [
       "               calls_count  duration_sum  duration_round_sum  messages_count\n",
       "user_id month                                                               \n",
       "1000    5             22.0        150.06               159.0            22.0\n",
       "        6             43.0        158.90               172.0            60.0\n",
       "        7             47.0        318.80               340.0            75.0\n",
       "        8             52.0        389.87               408.0            81.0\n",
       "        9             58.0        440.14               466.0            57.0"
      ]
     },
     "execution_count": 39,
     "metadata": {},
     "output_type": "execute_result"
    }
   ],
   "source": [
    "#строим новый фрейм на основе копии самой объемной из группипровок\n",
    "united_table = calls_pivot.copy()\n",
    "united_table = united_table.merge(messages_pivot[['id']], on = ['user_id', 'month'], how = 'outer')\n",
    "united_table.columns = ['calls_count', 'duration_sum', 'duration_round_sum', 'messages_count']\n",
    "united_table.head()"
   ]
  },
  {
   "cell_type": "code",
   "execution_count": 40,
   "metadata": {},
   "outputs": [
    {
     "data": {
      "text/html": [
       "<div>\n",
       "<style scoped>\n",
       "    .dataframe tbody tr th:only-of-type {\n",
       "        vertical-align: middle;\n",
       "    }\n",
       "\n",
       "    .dataframe tbody tr th {\n",
       "        vertical-align: top;\n",
       "    }\n",
       "\n",
       "    .dataframe thead th {\n",
       "        text-align: right;\n",
       "    }\n",
       "</style>\n",
       "<table border=\"1\" class=\"dataframe\">\n",
       "  <thead>\n",
       "    <tr style=\"text-align: right;\">\n",
       "      <th></th>\n",
       "      <th></th>\n",
       "      <th>calls_count</th>\n",
       "      <th>duration_sum</th>\n",
       "      <th>duration_round_sum</th>\n",
       "      <th>messages_count</th>\n",
       "      <th>calls_no_zero_count</th>\n",
       "    </tr>\n",
       "    <tr>\n",
       "      <th>user_id</th>\n",
       "      <th>month</th>\n",
       "      <th></th>\n",
       "      <th></th>\n",
       "      <th></th>\n",
       "      <th></th>\n",
       "      <th></th>\n",
       "    </tr>\n",
       "  </thead>\n",
       "  <tbody>\n",
       "    <tr>\n",
       "      <th rowspan=\"5\" valign=\"top\">1000</th>\n",
       "      <th>5</th>\n",
       "      <td>22.0</td>\n",
       "      <td>150.06</td>\n",
       "      <td>159.0</td>\n",
       "      <td>22.0</td>\n",
       "      <td>17.0</td>\n",
       "    </tr>\n",
       "    <tr>\n",
       "      <th>6</th>\n",
       "      <td>43.0</td>\n",
       "      <td>158.90</td>\n",
       "      <td>172.0</td>\n",
       "      <td>60.0</td>\n",
       "      <td>28.0</td>\n",
       "    </tr>\n",
       "    <tr>\n",
       "      <th>7</th>\n",
       "      <td>47.0</td>\n",
       "      <td>318.80</td>\n",
       "      <td>340.0</td>\n",
       "      <td>75.0</td>\n",
       "      <td>41.0</td>\n",
       "    </tr>\n",
       "    <tr>\n",
       "      <th>8</th>\n",
       "      <td>52.0</td>\n",
       "      <td>389.87</td>\n",
       "      <td>408.0</td>\n",
       "      <td>81.0</td>\n",
       "      <td>42.0</td>\n",
       "    </tr>\n",
       "    <tr>\n",
       "      <th>9</th>\n",
       "      <td>58.0</td>\n",
       "      <td>440.14</td>\n",
       "      <td>466.0</td>\n",
       "      <td>57.0</td>\n",
       "      <td>46.0</td>\n",
       "    </tr>\n",
       "  </tbody>\n",
       "</table>\n",
       "</div>"
      ],
      "text/plain": [
       "               calls_count  duration_sum  duration_round_sum  messages_count  \\\n",
       "user_id month                                                                  \n",
       "1000    5             22.0        150.06               159.0            22.0   \n",
       "        6             43.0        158.90               172.0            60.0   \n",
       "        7             47.0        318.80               340.0            75.0   \n",
       "        8             52.0        389.87               408.0            81.0   \n",
       "        9             58.0        440.14               466.0            57.0   \n",
       "\n",
       "               calls_no_zero_count  \n",
       "user_id month                       \n",
       "1000    5                     17.0  \n",
       "        6                     28.0  \n",
       "        7                     41.0  \n",
       "        8                     42.0  \n",
       "        9                     46.0  "
      ]
     },
     "execution_count": 40,
     "metadata": {},
     "output_type": "execute_result"
    }
   ],
   "source": [
    "united_table = united_table.merge(calls_no_zero_pivot[['calls_no_zero_count']], on = ['user_id', 'month'], how = 'left')\n",
    "united_table.head()"
   ]
  },
  {
   "cell_type": "code",
   "execution_count": 41,
   "metadata": {},
   "outputs": [
    {
     "data": {
      "text/html": [
       "<div>\n",
       "<style scoped>\n",
       "    .dataframe tbody tr th:only-of-type {\n",
       "        vertical-align: middle;\n",
       "    }\n",
       "\n",
       "    .dataframe tbody tr th {\n",
       "        vertical-align: top;\n",
       "    }\n",
       "\n",
       "    .dataframe thead th {\n",
       "        text-align: right;\n",
       "    }\n",
       "</style>\n",
       "<table border=\"1\" class=\"dataframe\">\n",
       "  <thead>\n",
       "    <tr style=\"text-align: right;\">\n",
       "      <th></th>\n",
       "      <th></th>\n",
       "      <th>calls_count</th>\n",
       "      <th>duration_sum</th>\n",
       "      <th>duration_round_sum</th>\n",
       "      <th>messages_count</th>\n",
       "      <th>calls_no_zero_count</th>\n",
       "      <th>mb_round_sum</th>\n",
       "      <th>mb_used_sum</th>\n",
       "      <th>mb_used_count</th>\n",
       "    </tr>\n",
       "    <tr>\n",
       "      <th>user_id</th>\n",
       "      <th>month</th>\n",
       "      <th></th>\n",
       "      <th></th>\n",
       "      <th></th>\n",
       "      <th></th>\n",
       "      <th></th>\n",
       "      <th></th>\n",
       "      <th></th>\n",
       "      <th></th>\n",
       "    </tr>\n",
       "  </thead>\n",
       "  <tbody>\n",
       "    <tr>\n",
       "      <th rowspan=\"5\" valign=\"top\">1000</th>\n",
       "      <th>5</th>\n",
       "      <td>22.0</td>\n",
       "      <td>150.06</td>\n",
       "      <td>159.0</td>\n",
       "      <td>22.0</td>\n",
       "      <td>17.0</td>\n",
       "      <td>2256.0</td>\n",
       "      <td>2253.49</td>\n",
       "      <td>4.0</td>\n",
       "    </tr>\n",
       "    <tr>\n",
       "      <th>6</th>\n",
       "      <td>43.0</td>\n",
       "      <td>158.90</td>\n",
       "      <td>172.0</td>\n",
       "      <td>60.0</td>\n",
       "      <td>28.0</td>\n",
       "      <td>23257.0</td>\n",
       "      <td>23233.77</td>\n",
       "      <td>44.0</td>\n",
       "    </tr>\n",
       "    <tr>\n",
       "      <th>7</th>\n",
       "      <td>47.0</td>\n",
       "      <td>318.80</td>\n",
       "      <td>340.0</td>\n",
       "      <td>75.0</td>\n",
       "      <td>41.0</td>\n",
       "      <td>14016.0</td>\n",
       "      <td>14003.64</td>\n",
       "      <td>28.0</td>\n",
       "    </tr>\n",
       "    <tr>\n",
       "      <th>8</th>\n",
       "      <td>52.0</td>\n",
       "      <td>389.87</td>\n",
       "      <td>408.0</td>\n",
       "      <td>81.0</td>\n",
       "      <td>42.0</td>\n",
       "      <td>14070.0</td>\n",
       "      <td>14055.93</td>\n",
       "      <td>27.0</td>\n",
       "    </tr>\n",
       "    <tr>\n",
       "      <th>9</th>\n",
       "      <td>58.0</td>\n",
       "      <td>440.14</td>\n",
       "      <td>466.0</td>\n",
       "      <td>57.0</td>\n",
       "      <td>46.0</td>\n",
       "      <td>14581.0</td>\n",
       "      <td>14568.91</td>\n",
       "      <td>25.0</td>\n",
       "    </tr>\n",
       "  </tbody>\n",
       "</table>\n",
       "</div>"
      ],
      "text/plain": [
       "               calls_count  duration_sum  duration_round_sum  messages_count  \\\n",
       "user_id month                                                                  \n",
       "1000    5             22.0        150.06               159.0            22.0   \n",
       "        6             43.0        158.90               172.0            60.0   \n",
       "        7             47.0        318.80               340.0            75.0   \n",
       "        8             52.0        389.87               408.0            81.0   \n",
       "        9             58.0        440.14               466.0            57.0   \n",
       "\n",
       "               calls_no_zero_count  mb_round_sum  mb_used_sum  mb_used_count  \n",
       "user_id month                                                                 \n",
       "1000    5                     17.0        2256.0      2253.49            4.0  \n",
       "        6                     28.0       23257.0     23233.77           44.0  \n",
       "        7                     41.0       14016.0     14003.64           28.0  \n",
       "        8                     42.0       14070.0     14055.93           27.0  \n",
       "        9                     46.0       14581.0     14568.91           25.0  "
      ]
     },
     "execution_count": 41,
     "metadata": {},
     "output_type": "execute_result"
    }
   ],
   "source": [
    "#вытаскиваем нужные столбцы из других таблиц через merge\n",
    "united_table = united_table.merge(internet_pivot[\n",
    "    ['mb_round_sum', 'mb_used_sum']],on = ['user_id', 'month'], how = 'outer')\n",
    "united_table = united_table.merge(int_no_zero_pivot[\n",
    "    ['mb_used_count']],on = ['user_id', 'month'], how = 'outer')\n",
    "united_table.head()"
   ]
  },
  {
   "cell_type": "code",
   "execution_count": 42,
   "metadata": {},
   "outputs": [],
   "source": [
    "united_table = united_table.reset_index().merge(users, on = 'user_id', how = 'left')"
   ]
  },
  {
   "cell_type": "code",
   "execution_count": 43,
   "metadata": {},
   "outputs": [
    {
     "data": {
      "text/html": [
       "<div>\n",
       "<style scoped>\n",
       "    .dataframe tbody tr th:only-of-type {\n",
       "        vertical-align: middle;\n",
       "    }\n",
       "\n",
       "    .dataframe tbody tr th {\n",
       "        vertical-align: top;\n",
       "    }\n",
       "\n",
       "    .dataframe thead th {\n",
       "        text-align: right;\n",
       "    }\n",
       "</style>\n",
       "<table border=\"1\" class=\"dataframe\">\n",
       "  <thead>\n",
       "    <tr style=\"text-align: right;\">\n",
       "      <th></th>\n",
       "      <th>user_id</th>\n",
       "      <th>month</th>\n",
       "      <th>calls_count</th>\n",
       "      <th>duration_sum</th>\n",
       "      <th>duration_round_sum</th>\n",
       "      <th>messages_count</th>\n",
       "      <th>calls_no_zero_count</th>\n",
       "      <th>mb_round_sum</th>\n",
       "      <th>mb_used_sum</th>\n",
       "      <th>mb_used_count</th>\n",
       "      <th>age</th>\n",
       "      <th>churn_date</th>\n",
       "      <th>city</th>\n",
       "      <th>first_name</th>\n",
       "      <th>last_name</th>\n",
       "      <th>reg_date</th>\n",
       "      <th>tariff</th>\n",
       "      <th>stopped_tarif</th>\n",
       "    </tr>\n",
       "  </thead>\n",
       "  <tbody>\n",
       "    <tr>\n",
       "      <th>0</th>\n",
       "      <td>1000</td>\n",
       "      <td>5</td>\n",
       "      <td>22.0</td>\n",
       "      <td>150.06</td>\n",
       "      <td>159.0</td>\n",
       "      <td>22.0</td>\n",
       "      <td>17.0</td>\n",
       "      <td>2256.0</td>\n",
       "      <td>2253.49</td>\n",
       "      <td>4.0</td>\n",
       "      <td>52</td>\n",
       "      <td></td>\n",
       "      <td>Краснодар</td>\n",
       "      <td>Рафаил</td>\n",
       "      <td>Верещагин</td>\n",
       "      <td>2018-05-25</td>\n",
       "      <td>ultra</td>\n",
       "      <td>False</td>\n",
       "    </tr>\n",
       "    <tr>\n",
       "      <th>1</th>\n",
       "      <td>1000</td>\n",
       "      <td>6</td>\n",
       "      <td>43.0</td>\n",
       "      <td>158.90</td>\n",
       "      <td>172.0</td>\n",
       "      <td>60.0</td>\n",
       "      <td>28.0</td>\n",
       "      <td>23257.0</td>\n",
       "      <td>23233.77</td>\n",
       "      <td>44.0</td>\n",
       "      <td>52</td>\n",
       "      <td></td>\n",
       "      <td>Краснодар</td>\n",
       "      <td>Рафаил</td>\n",
       "      <td>Верещагин</td>\n",
       "      <td>2018-05-25</td>\n",
       "      <td>ultra</td>\n",
       "      <td>False</td>\n",
       "    </tr>\n",
       "    <tr>\n",
       "      <th>2</th>\n",
       "      <td>1000</td>\n",
       "      <td>7</td>\n",
       "      <td>47.0</td>\n",
       "      <td>318.80</td>\n",
       "      <td>340.0</td>\n",
       "      <td>75.0</td>\n",
       "      <td>41.0</td>\n",
       "      <td>14016.0</td>\n",
       "      <td>14003.64</td>\n",
       "      <td>28.0</td>\n",
       "      <td>52</td>\n",
       "      <td></td>\n",
       "      <td>Краснодар</td>\n",
       "      <td>Рафаил</td>\n",
       "      <td>Верещагин</td>\n",
       "      <td>2018-05-25</td>\n",
       "      <td>ultra</td>\n",
       "      <td>False</td>\n",
       "    </tr>\n",
       "    <tr>\n",
       "      <th>3</th>\n",
       "      <td>1000</td>\n",
       "      <td>8</td>\n",
       "      <td>52.0</td>\n",
       "      <td>389.87</td>\n",
       "      <td>408.0</td>\n",
       "      <td>81.0</td>\n",
       "      <td>42.0</td>\n",
       "      <td>14070.0</td>\n",
       "      <td>14055.93</td>\n",
       "      <td>27.0</td>\n",
       "      <td>52</td>\n",
       "      <td></td>\n",
       "      <td>Краснодар</td>\n",
       "      <td>Рафаил</td>\n",
       "      <td>Верещагин</td>\n",
       "      <td>2018-05-25</td>\n",
       "      <td>ultra</td>\n",
       "      <td>False</td>\n",
       "    </tr>\n",
       "    <tr>\n",
       "      <th>4</th>\n",
       "      <td>1000</td>\n",
       "      <td>9</td>\n",
       "      <td>58.0</td>\n",
       "      <td>440.14</td>\n",
       "      <td>466.0</td>\n",
       "      <td>57.0</td>\n",
       "      <td>46.0</td>\n",
       "      <td>14581.0</td>\n",
       "      <td>14568.91</td>\n",
       "      <td>25.0</td>\n",
       "      <td>52</td>\n",
       "      <td></td>\n",
       "      <td>Краснодар</td>\n",
       "      <td>Рафаил</td>\n",
       "      <td>Верещагин</td>\n",
       "      <td>2018-05-25</td>\n",
       "      <td>ultra</td>\n",
       "      <td>False</td>\n",
       "    </tr>\n",
       "  </tbody>\n",
       "</table>\n",
       "</div>"
      ],
      "text/plain": [
       "   user_id  month  calls_count  duration_sum  duration_round_sum  \\\n",
       "0     1000      5         22.0        150.06               159.0   \n",
       "1     1000      6         43.0        158.90               172.0   \n",
       "2     1000      7         47.0        318.80               340.0   \n",
       "3     1000      8         52.0        389.87               408.0   \n",
       "4     1000      9         58.0        440.14               466.0   \n",
       "\n",
       "   messages_count  calls_no_zero_count  mb_round_sum  mb_used_sum  \\\n",
       "0            22.0                 17.0        2256.0      2253.49   \n",
       "1            60.0                 28.0       23257.0     23233.77   \n",
       "2            75.0                 41.0       14016.0     14003.64   \n",
       "3            81.0                 42.0       14070.0     14055.93   \n",
       "4            57.0                 46.0       14581.0     14568.91   \n",
       "\n",
       "   mb_used_count  age churn_date       city first_name  last_name   reg_date  \\\n",
       "0            4.0   52             Краснодар     Рафаил  Верещагин 2018-05-25   \n",
       "1           44.0   52             Краснодар     Рафаил  Верещагин 2018-05-25   \n",
       "2           28.0   52             Краснодар     Рафаил  Верещагин 2018-05-25   \n",
       "3           27.0   52             Краснодар     Рафаил  Верещагин 2018-05-25   \n",
       "4           25.0   52             Краснодар     Рафаил  Верещагин 2018-05-25   \n",
       "\n",
       "  tariff  stopped_tarif  \n",
       "0  ultra          False  \n",
       "1  ultra          False  \n",
       "2  ultra          False  \n",
       "3  ultra          False  \n",
       "4  ultra          False  "
      ]
     },
     "execution_count": 43,
     "metadata": {},
     "output_type": "execute_result"
    }
   ],
   "source": [
    "united_table.head()"
   ]
  },
  {
   "cell_type": "code",
   "execution_count": 44,
   "metadata": {
    "scrolled": false
   },
   "outputs": [
    {
     "name": "stdout",
     "output_type": "stream",
     "text": [
      "<class 'pandas.core.frame.DataFrame'>\n",
      "Int64Index: 3214 entries, 0 to 3213\n",
      "Data columns (total 18 columns):\n",
      " #   Column               Non-Null Count  Dtype         \n",
      "---  ------               --------------  -----         \n",
      " 0   user_id              3214 non-null   int64         \n",
      " 1   month                3214 non-null   int64         \n",
      " 2   calls_count          3174 non-null   float64       \n",
      " 3   duration_sum         3174 non-null   float64       \n",
      " 4   duration_round_sum   3174 non-null   float64       \n",
      " 5   messages_count       2717 non-null   float64       \n",
      " 6   calls_no_zero_count  3168 non-null   float64       \n",
      " 7   mb_round_sum         3203 non-null   float64       \n",
      " 8   mb_used_sum          3203 non-null   float64       \n",
      " 9   mb_used_count        3201 non-null   float64       \n",
      " 10  age                  3214 non-null   int64         \n",
      " 11  churn_date           3214 non-null   object        \n",
      " 12  city                 3214 non-null   object        \n",
      " 13  first_name           3214 non-null   object        \n",
      " 14  last_name            3214 non-null   object        \n",
      " 15  reg_date             3214 non-null   datetime64[ns]\n",
      " 16  tariff               3214 non-null   object        \n",
      " 17  stopped_tarif        3214 non-null   bool          \n",
      "dtypes: bool(1), datetime64[ns](1), float64(8), int64(3), object(5)\n",
      "memory usage: 455.1+ KB\n"
     ]
    }
   ],
   "source": [
    "united_table.info()"
   ]
  },
  {
   "cell_type": "code",
   "execution_count": 45,
   "metadata": {},
   "outputs": [
    {
     "data": {
      "text/html": [
       "<div>\n",
       "<style scoped>\n",
       "    .dataframe tbody tr th:only-of-type {\n",
       "        vertical-align: middle;\n",
       "    }\n",
       "\n",
       "    .dataframe tbody tr th {\n",
       "        vertical-align: top;\n",
       "    }\n",
       "\n",
       "    .dataframe thead th {\n",
       "        text-align: right;\n",
       "    }\n",
       "</style>\n",
       "<table border=\"1\" class=\"dataframe\">\n",
       "  <thead>\n",
       "    <tr style=\"text-align: right;\">\n",
       "      <th></th>\n",
       "      <th>user_id</th>\n",
       "      <th>month</th>\n",
       "      <th>calls_count</th>\n",
       "      <th>duration_sum</th>\n",
       "      <th>duration_round_sum</th>\n",
       "      <th>messages_count</th>\n",
       "      <th>calls_no_zero_count</th>\n",
       "      <th>mb_round_sum</th>\n",
       "      <th>mb_used_sum</th>\n",
       "      <th>mb_used_count</th>\n",
       "      <th>age</th>\n",
       "      <th>churn_date</th>\n",
       "      <th>city</th>\n",
       "      <th>first_name</th>\n",
       "      <th>last_name</th>\n",
       "      <th>reg_date</th>\n",
       "      <th>tariff</th>\n",
       "      <th>stopped_tarif</th>\n",
       "    </tr>\n",
       "  </thead>\n",
       "  <tbody>\n",
       "    <tr>\n",
       "      <th>3174</th>\n",
       "      <td>1091</td>\n",
       "      <td>5</td>\n",
       "      <td>NaN</td>\n",
       "      <td>NaN</td>\n",
       "      <td>NaN</td>\n",
       "      <td>30.0</td>\n",
       "      <td>NaN</td>\n",
       "      <td>10714.0</td>\n",
       "      <td>10703.37</td>\n",
       "      <td>22.0</td>\n",
       "      <td>36</td>\n",
       "      <td></td>\n",
       "      <td>Набережные Челны</td>\n",
       "      <td>Вера</td>\n",
       "      <td>Суслова</td>\n",
       "      <td>2018-05-08</td>\n",
       "      <td>ultra</td>\n",
       "      <td>False</td>\n",
       "    </tr>\n",
       "    <tr>\n",
       "      <th>3175</th>\n",
       "      <td>1091</td>\n",
       "      <td>6</td>\n",
       "      <td>NaN</td>\n",
       "      <td>NaN</td>\n",
       "      <td>NaN</td>\n",
       "      <td>30.0</td>\n",
       "      <td>NaN</td>\n",
       "      <td>10245.0</td>\n",
       "      <td>10236.19</td>\n",
       "      <td>18.0</td>\n",
       "      <td>36</td>\n",
       "      <td></td>\n",
       "      <td>Набережные Челны</td>\n",
       "      <td>Вера</td>\n",
       "      <td>Суслова</td>\n",
       "      <td>2018-05-08</td>\n",
       "      <td>ultra</td>\n",
       "      <td>False</td>\n",
       "    </tr>\n",
       "    <tr>\n",
       "      <th>3176</th>\n",
       "      <td>1091</td>\n",
       "      <td>7</td>\n",
       "      <td>NaN</td>\n",
       "      <td>NaN</td>\n",
       "      <td>NaN</td>\n",
       "      <td>35.0</td>\n",
       "      <td>NaN</td>\n",
       "      <td>16460.0</td>\n",
       "      <td>16444.98</td>\n",
       "      <td>30.0</td>\n",
       "      <td>36</td>\n",
       "      <td></td>\n",
       "      <td>Набережные Челны</td>\n",
       "      <td>Вера</td>\n",
       "      <td>Суслова</td>\n",
       "      <td>2018-05-08</td>\n",
       "      <td>ultra</td>\n",
       "      <td>False</td>\n",
       "    </tr>\n",
       "    <tr>\n",
       "      <th>3177</th>\n",
       "      <td>1091</td>\n",
       "      <td>8</td>\n",
       "      <td>NaN</td>\n",
       "      <td>NaN</td>\n",
       "      <td>NaN</td>\n",
       "      <td>31.0</td>\n",
       "      <td>NaN</td>\n",
       "      <td>12644.0</td>\n",
       "      <td>12633.88</td>\n",
       "      <td>22.0</td>\n",
       "      <td>36</td>\n",
       "      <td></td>\n",
       "      <td>Набережные Челны</td>\n",
       "      <td>Вера</td>\n",
       "      <td>Суслова</td>\n",
       "      <td>2018-05-08</td>\n",
       "      <td>ultra</td>\n",
       "      <td>False</td>\n",
       "    </tr>\n",
       "    <tr>\n",
       "      <th>3178</th>\n",
       "      <td>1091</td>\n",
       "      <td>9</td>\n",
       "      <td>NaN</td>\n",
       "      <td>NaN</td>\n",
       "      <td>NaN</td>\n",
       "      <td>32.0</td>\n",
       "      <td>NaN</td>\n",
       "      <td>16611.0</td>\n",
       "      <td>16597.11</td>\n",
       "      <td>27.0</td>\n",
       "      <td>36</td>\n",
       "      <td></td>\n",
       "      <td>Набережные Челны</td>\n",
       "      <td>Вера</td>\n",
       "      <td>Суслова</td>\n",
       "      <td>2018-05-08</td>\n",
       "      <td>ultra</td>\n",
       "      <td>False</td>\n",
       "    </tr>\n",
       "  </tbody>\n",
       "</table>\n",
       "</div>"
      ],
      "text/plain": [
       "      user_id  month  calls_count  duration_sum  duration_round_sum  \\\n",
       "3174     1091      5          NaN           NaN                 NaN   \n",
       "3175     1091      6          NaN           NaN                 NaN   \n",
       "3176     1091      7          NaN           NaN                 NaN   \n",
       "3177     1091      8          NaN           NaN                 NaN   \n",
       "3178     1091      9          NaN           NaN                 NaN   \n",
       "\n",
       "      messages_count  calls_no_zero_count  mb_round_sum  mb_used_sum  \\\n",
       "3174            30.0                  NaN       10714.0     10703.37   \n",
       "3175            30.0                  NaN       10245.0     10236.19   \n",
       "3176            35.0                  NaN       16460.0     16444.98   \n",
       "3177            31.0                  NaN       12644.0     12633.88   \n",
       "3178            32.0                  NaN       16611.0     16597.11   \n",
       "\n",
       "      mb_used_count  age churn_date              city first_name last_name  \\\n",
       "3174           22.0   36             Набережные Челны       Вера   Суслова   \n",
       "3175           18.0   36             Набережные Челны       Вера   Суслова   \n",
       "3176           30.0   36             Набережные Челны       Вера   Суслова   \n",
       "3177           22.0   36             Набережные Челны       Вера   Суслова   \n",
       "3178           27.0   36             Набережные Челны       Вера   Суслова   \n",
       "\n",
       "       reg_date tariff  stopped_tarif  \n",
       "3174 2018-05-08  ultra          False  \n",
       "3175 2018-05-08  ultra          False  \n",
       "3176 2018-05-08  ultra          False  \n",
       "3177 2018-05-08  ultra          False  \n",
       "3178 2018-05-08  ultra          False  "
      ]
     },
     "execution_count": 45,
     "metadata": {},
     "output_type": "execute_result"
    }
   ],
   "source": [
    "united_table[united_table['calls_count'].isna()].head()"
   ]
  },
  {
   "cell_type": "markdown",
   "metadata": {},
   "source": [
    "Мы сформировали общую таблицу, в которой по клиентам и месяцам сгруппированы данные по активности клиентов - количество использованных минут, мегабайтов трафика и отправленных сообщений. Мы видим, что не везде есть заполненные значения, поскольку не все клиенты пользуются всеми услугами тарифа (например, только отправляли смс или пользовались интернетом).\n",
    "Заполним пустые значения нулями и дополнительно внесём в таблицу информацию по тарифам."
   ]
  },
  {
   "cell_type": "code",
   "execution_count": 46,
   "metadata": {},
   "outputs": [],
   "source": [
    "united_table = united_table.fillna(0)"
   ]
  },
  {
   "cell_type": "code",
   "execution_count": 47,
   "metadata": {},
   "outputs": [
    {
     "name": "stdout",
     "output_type": "stream",
     "text": [
      "<class 'pandas.core.frame.DataFrame'>\n",
      "Int64Index: 3214 entries, 0 to 3213\n",
      "Data columns (total 18 columns):\n",
      " #   Column               Non-Null Count  Dtype         \n",
      "---  ------               --------------  -----         \n",
      " 0   user_id              3214 non-null   int64         \n",
      " 1   month                3214 non-null   int64         \n",
      " 2   calls_count          3214 non-null   float64       \n",
      " 3   duration_sum         3214 non-null   float64       \n",
      " 4   duration_round_sum   3214 non-null   float64       \n",
      " 5   messages_count       3214 non-null   float64       \n",
      " 6   calls_no_zero_count  3214 non-null   float64       \n",
      " 7   mb_round_sum         3214 non-null   float64       \n",
      " 8   mb_used_sum          3214 non-null   float64       \n",
      " 9   mb_used_count        3214 non-null   float64       \n",
      " 10  age                  3214 non-null   int64         \n",
      " 11  churn_date           3214 non-null   object        \n",
      " 12  city                 3214 non-null   object        \n",
      " 13  first_name           3214 non-null   object        \n",
      " 14  last_name            3214 non-null   object        \n",
      " 15  reg_date             3214 non-null   datetime64[ns]\n",
      " 16  tariff               3214 non-null   object        \n",
      " 17  stopped_tarif        3214 non-null   bool          \n",
      "dtypes: bool(1), datetime64[ns](1), float64(8), int64(3), object(5)\n",
      "memory usage: 455.1+ KB\n"
     ]
    }
   ],
   "source": [
    "united_table.info()"
   ]
  },
  {
   "cell_type": "code",
   "execution_count": 48,
   "metadata": {},
   "outputs": [
    {
     "data": {
      "text/html": [
       "<div>\n",
       "<style scoped>\n",
       "    .dataframe tbody tr th:only-of-type {\n",
       "        vertical-align: middle;\n",
       "    }\n",
       "\n",
       "    .dataframe tbody tr th {\n",
       "        vertical-align: top;\n",
       "    }\n",
       "\n",
       "    .dataframe thead th {\n",
       "        text-align: right;\n",
       "    }\n",
       "</style>\n",
       "<table border=\"1\" class=\"dataframe\">\n",
       "  <thead>\n",
       "    <tr style=\"text-align: right;\">\n",
       "      <th></th>\n",
       "      <th>user_id</th>\n",
       "      <th>month</th>\n",
       "      <th>calls_count</th>\n",
       "      <th>duration_sum</th>\n",
       "      <th>duration_round_sum</th>\n",
       "      <th>messages_count</th>\n",
       "      <th>calls_no_zero_count</th>\n",
       "      <th>mb_round_sum</th>\n",
       "      <th>mb_used_sum</th>\n",
       "      <th>mb_used_count</th>\n",
       "      <th>...</th>\n",
       "      <th>reg_date</th>\n",
       "      <th>tariff</th>\n",
       "      <th>stopped_tarif</th>\n",
       "      <th>messages_included</th>\n",
       "      <th>mb_per_month_included</th>\n",
       "      <th>minutes_included</th>\n",
       "      <th>rub_monthly_fee</th>\n",
       "      <th>rub_per_gb</th>\n",
       "      <th>rub_per_message</th>\n",
       "      <th>rub_per_minute</th>\n",
       "    </tr>\n",
       "  </thead>\n",
       "  <tbody>\n",
       "    <tr>\n",
       "      <th>0</th>\n",
       "      <td>1000</td>\n",
       "      <td>5</td>\n",
       "      <td>22.0</td>\n",
       "      <td>150.06</td>\n",
       "      <td>159.0</td>\n",
       "      <td>22.0</td>\n",
       "      <td>17.0</td>\n",
       "      <td>2256.0</td>\n",
       "      <td>2253.49</td>\n",
       "      <td>4.0</td>\n",
       "      <td>...</td>\n",
       "      <td>2018-05-25</td>\n",
       "      <td>ultra</td>\n",
       "      <td>False</td>\n",
       "      <td>1000</td>\n",
       "      <td>30720</td>\n",
       "      <td>3000</td>\n",
       "      <td>1950</td>\n",
       "      <td>150</td>\n",
       "      <td>1</td>\n",
       "      <td>1</td>\n",
       "    </tr>\n",
       "    <tr>\n",
       "      <th>1</th>\n",
       "      <td>1000</td>\n",
       "      <td>6</td>\n",
       "      <td>43.0</td>\n",
       "      <td>158.90</td>\n",
       "      <td>172.0</td>\n",
       "      <td>60.0</td>\n",
       "      <td>28.0</td>\n",
       "      <td>23257.0</td>\n",
       "      <td>23233.77</td>\n",
       "      <td>44.0</td>\n",
       "      <td>...</td>\n",
       "      <td>2018-05-25</td>\n",
       "      <td>ultra</td>\n",
       "      <td>False</td>\n",
       "      <td>1000</td>\n",
       "      <td>30720</td>\n",
       "      <td>3000</td>\n",
       "      <td>1950</td>\n",
       "      <td>150</td>\n",
       "      <td>1</td>\n",
       "      <td>1</td>\n",
       "    </tr>\n",
       "    <tr>\n",
       "      <th>2</th>\n",
       "      <td>1000</td>\n",
       "      <td>7</td>\n",
       "      <td>47.0</td>\n",
       "      <td>318.80</td>\n",
       "      <td>340.0</td>\n",
       "      <td>75.0</td>\n",
       "      <td>41.0</td>\n",
       "      <td>14016.0</td>\n",
       "      <td>14003.64</td>\n",
       "      <td>28.0</td>\n",
       "      <td>...</td>\n",
       "      <td>2018-05-25</td>\n",
       "      <td>ultra</td>\n",
       "      <td>False</td>\n",
       "      <td>1000</td>\n",
       "      <td>30720</td>\n",
       "      <td>3000</td>\n",
       "      <td>1950</td>\n",
       "      <td>150</td>\n",
       "      <td>1</td>\n",
       "      <td>1</td>\n",
       "    </tr>\n",
       "    <tr>\n",
       "      <th>3</th>\n",
       "      <td>1000</td>\n",
       "      <td>8</td>\n",
       "      <td>52.0</td>\n",
       "      <td>389.87</td>\n",
       "      <td>408.0</td>\n",
       "      <td>81.0</td>\n",
       "      <td>42.0</td>\n",
       "      <td>14070.0</td>\n",
       "      <td>14055.93</td>\n",
       "      <td>27.0</td>\n",
       "      <td>...</td>\n",
       "      <td>2018-05-25</td>\n",
       "      <td>ultra</td>\n",
       "      <td>False</td>\n",
       "      <td>1000</td>\n",
       "      <td>30720</td>\n",
       "      <td>3000</td>\n",
       "      <td>1950</td>\n",
       "      <td>150</td>\n",
       "      <td>1</td>\n",
       "      <td>1</td>\n",
       "    </tr>\n",
       "    <tr>\n",
       "      <th>4</th>\n",
       "      <td>1000</td>\n",
       "      <td>9</td>\n",
       "      <td>58.0</td>\n",
       "      <td>440.14</td>\n",
       "      <td>466.0</td>\n",
       "      <td>57.0</td>\n",
       "      <td>46.0</td>\n",
       "      <td>14581.0</td>\n",
       "      <td>14568.91</td>\n",
       "      <td>25.0</td>\n",
       "      <td>...</td>\n",
       "      <td>2018-05-25</td>\n",
       "      <td>ultra</td>\n",
       "      <td>False</td>\n",
       "      <td>1000</td>\n",
       "      <td>30720</td>\n",
       "      <td>3000</td>\n",
       "      <td>1950</td>\n",
       "      <td>150</td>\n",
       "      <td>1</td>\n",
       "      <td>1</td>\n",
       "    </tr>\n",
       "  </tbody>\n",
       "</table>\n",
       "<p>5 rows × 25 columns</p>\n",
       "</div>"
      ],
      "text/plain": [
       "   user_id  month  calls_count  duration_sum  duration_round_sum  \\\n",
       "0     1000      5         22.0        150.06               159.0   \n",
       "1     1000      6         43.0        158.90               172.0   \n",
       "2     1000      7         47.0        318.80               340.0   \n",
       "3     1000      8         52.0        389.87               408.0   \n",
       "4     1000      9         58.0        440.14               466.0   \n",
       "\n",
       "   messages_count  calls_no_zero_count  mb_round_sum  mb_used_sum  \\\n",
       "0            22.0                 17.0        2256.0      2253.49   \n",
       "1            60.0                 28.0       23257.0     23233.77   \n",
       "2            75.0                 41.0       14016.0     14003.64   \n",
       "3            81.0                 42.0       14070.0     14055.93   \n",
       "4            57.0                 46.0       14581.0     14568.91   \n",
       "\n",
       "   mb_used_count  ...   reg_date tariff stopped_tarif messages_included  \\\n",
       "0            4.0  ... 2018-05-25  ultra         False              1000   \n",
       "1           44.0  ... 2018-05-25  ultra         False              1000   \n",
       "2           28.0  ... 2018-05-25  ultra         False              1000   \n",
       "3           27.0  ... 2018-05-25  ultra         False              1000   \n",
       "4           25.0  ... 2018-05-25  ultra         False              1000   \n",
       "\n",
       "  mb_per_month_included minutes_included rub_monthly_fee  rub_per_gb  \\\n",
       "0                 30720             3000            1950         150   \n",
       "1                 30720             3000            1950         150   \n",
       "2                 30720             3000            1950         150   \n",
       "3                 30720             3000            1950         150   \n",
       "4                 30720             3000            1950         150   \n",
       "\n",
       "   rub_per_message  rub_per_minute  \n",
       "0                1               1  \n",
       "1                1               1  \n",
       "2                1               1  \n",
       "3                1               1  \n",
       "4                1               1  \n",
       "\n",
       "[5 rows x 25 columns]"
      ]
     },
     "execution_count": 48,
     "metadata": {},
     "output_type": "execute_result"
    }
   ],
   "source": [
    "united_table = united_table.merge(tariffs, left_on = 'tariff', right_on = 'tariff_name', how = 'left')\n",
    "united_table = united_table.drop(columns =['tariff_name'])\n",
    "united_table.head()"
   ]
  },
  {
   "cell_type": "markdown",
   "metadata": {},
   "source": [
    "Необходимо определить, какой доход приносит каждый клиент в месяц. Расчитаем выручку, исходя из тарифа клиента и его активности. Для этого зададим функцию, которая будет определять, сколько заплатил клиент в данном месяце."
   ]
  },
  {
   "cell_type": "code",
   "execution_count": 49,
   "metadata": {},
   "outputs": [],
   "source": [
    "#создаём функцию, которая будет учитывать параметры:\n",
    "# сумма минут, сообщений и мегабайт\n",
    "# включенные в тариф лимиты и абонентская плата\n",
    "# цена за гб, минуту и сообщение сверх лимита\n",
    "def revenue_count(call_duration, messages, mb, base_cost, messages_inc, min_inc, mb_inc, mes_cost, min_cost, gb_cost):\n",
    "    message_price = 0\n",
    "    calls_price = 0\n",
    "    internet_price = 0\n",
    "    #сравниваем потраченные звонки, мегабайты и сообщения с лимитом и при превышении производим расчет по тарифу\n",
    "    if call_duration<= min_inc:\n",
    "        calls_price = 0\n",
    "    else:\n",
    "        calls_price = (call_duration - min_inc)*min_cost\n",
    "    if messages <= messages_inc:\n",
    "        message_price = 0\n",
    "    else:\n",
    "        message_price = (messages - messages_inc)*mes_cost\n",
    "    if mb <= mb_inc:\n",
    "        internet_price = 0\n",
    "    else:\n",
    "        #т.к. расчет идёт за гб при превышении лимита, то в формуле сразу округляем вверх\n",
    "        internet_price = math.ceil((mb-mb_inc)/1024) * gb_cost \n",
    "    revenue = base_cost + message_price + calls_price + internet_price\n",
    "    return revenue"
   ]
  },
  {
   "cell_type": "code",
   "execution_count": 50,
   "metadata": {},
   "outputs": [],
   "source": [
    "united_table['revenue'] = united_table.apply(lambda x: revenue_count(\n",
    "    x['duration_round_sum'],x['messages_count'], x['mb_round_sum'],\n",
    "x['rub_monthly_fee'], x['messages_included'], x['minutes_included'], x['mb_per_month_included'],\n",
    "x['rub_per_message'], x['rub_per_minute'], x['rub_per_gb']),axis=1)"
   ]
  },
  {
   "cell_type": "markdown",
   "metadata": {},
   "source": [
    "Теперь удалим лишние столбцы, которые нам не понадобятся в дальнейших расчетах."
   ]
  },
  {
   "cell_type": "code",
   "execution_count": 51,
   "metadata": {},
   "outputs": [],
   "source": [
    "united_table = united_table.drop(columns = ['rub_monthly_fee', 'rub_per_minute', 'rub_per_message', 'rub_per_gb',\n",
    "                                           'churn_date', 'first_name', 'last_name', 'reg_date', 'stopped_tarif'])"
   ]
  },
  {
   "cell_type": "code",
   "execution_count": 52,
   "metadata": {
    "scrolled": false
   },
   "outputs": [
    {
     "name": "stdout",
     "output_type": "stream",
     "text": [
      "<class 'pandas.core.frame.DataFrame'>\n",
      "Int64Index: 3214 entries, 0 to 3213\n",
      "Data columns (total 17 columns):\n",
      " #   Column                 Non-Null Count  Dtype  \n",
      "---  ------                 --------------  -----  \n",
      " 0   user_id                3214 non-null   int64  \n",
      " 1   month                  3214 non-null   int64  \n",
      " 2   calls_count            3214 non-null   float64\n",
      " 3   duration_sum           3214 non-null   float64\n",
      " 4   duration_round_sum     3214 non-null   float64\n",
      " 5   messages_count         3214 non-null   float64\n",
      " 6   calls_no_zero_count    3214 non-null   float64\n",
      " 7   mb_round_sum           3214 non-null   float64\n",
      " 8   mb_used_sum            3214 non-null   float64\n",
      " 9   mb_used_count          3214 non-null   float64\n",
      " 10  age                    3214 non-null   int64  \n",
      " 11  city                   3214 non-null   object \n",
      " 12  tariff                 3214 non-null   object \n",
      " 13  messages_included      3214 non-null   int64  \n",
      " 14  mb_per_month_included  3214 non-null   int64  \n",
      " 15  minutes_included       3214 non-null   int64  \n",
      " 16  revenue                3214 non-null   float64\n",
      "dtypes: float64(9), int64(6), object(2)\n",
      "memory usage: 452.0+ KB\n"
     ]
    }
   ],
   "source": [
    "united_table.info()"
   ]
  },
  {
   "cell_type": "code",
   "execution_count": 60,
   "metadata": {
    "scrolled": true
   },
   "outputs": [
    {
     "data": {
      "text/html": [
       "<div>\n",
       "<style scoped>\n",
       "    .dataframe tbody tr th:only-of-type {\n",
       "        vertical-align: middle;\n",
       "    }\n",
       "\n",
       "    .dataframe tbody tr th {\n",
       "        vertical-align: top;\n",
       "    }\n",
       "\n",
       "    .dataframe thead th {\n",
       "        text-align: right;\n",
       "    }\n",
       "</style>\n",
       "<table border=\"1\" class=\"dataframe\">\n",
       "  <thead>\n",
       "    <tr style=\"text-align: right;\">\n",
       "      <th></th>\n",
       "      <th>user_id</th>\n",
       "      <th>month</th>\n",
       "      <th>calls_count</th>\n",
       "      <th>duration_sum</th>\n",
       "      <th>duration_round_sum</th>\n",
       "      <th>messages_count</th>\n",
       "      <th>calls_no_zero_count</th>\n",
       "      <th>mb_round_sum</th>\n",
       "      <th>mb_used_sum</th>\n",
       "      <th>mb_used_count</th>\n",
       "      <th>age</th>\n",
       "      <th>city</th>\n",
       "      <th>tariff</th>\n",
       "      <th>messages_included</th>\n",
       "      <th>mb_per_month_included</th>\n",
       "      <th>minutes_included</th>\n",
       "      <th>revenue</th>\n",
       "    </tr>\n",
       "  </thead>\n",
       "  <tbody>\n",
       "    <tr>\n",
       "      <th>0</th>\n",
       "      <td>1000</td>\n",
       "      <td>5</td>\n",
       "      <td>22.0</td>\n",
       "      <td>150.06</td>\n",
       "      <td>159.0</td>\n",
       "      <td>22.0</td>\n",
       "      <td>17.0</td>\n",
       "      <td>2256.0</td>\n",
       "      <td>2253.49</td>\n",
       "      <td>4.0</td>\n",
       "      <td>52</td>\n",
       "      <td>Краснодар</td>\n",
       "      <td>ultra</td>\n",
       "      <td>1000</td>\n",
       "      <td>30720</td>\n",
       "      <td>3000</td>\n",
       "      <td>1950.0</td>\n",
       "    </tr>\n",
       "    <tr>\n",
       "      <th>1</th>\n",
       "      <td>1000</td>\n",
       "      <td>6</td>\n",
       "      <td>43.0</td>\n",
       "      <td>158.90</td>\n",
       "      <td>172.0</td>\n",
       "      <td>60.0</td>\n",
       "      <td>28.0</td>\n",
       "      <td>23257.0</td>\n",
       "      <td>23233.77</td>\n",
       "      <td>44.0</td>\n",
       "      <td>52</td>\n",
       "      <td>Краснодар</td>\n",
       "      <td>ultra</td>\n",
       "      <td>1000</td>\n",
       "      <td>30720</td>\n",
       "      <td>3000</td>\n",
       "      <td>1950.0</td>\n",
       "    </tr>\n",
       "    <tr>\n",
       "      <th>2</th>\n",
       "      <td>1000</td>\n",
       "      <td>7</td>\n",
       "      <td>47.0</td>\n",
       "      <td>318.80</td>\n",
       "      <td>340.0</td>\n",
       "      <td>75.0</td>\n",
       "      <td>41.0</td>\n",
       "      <td>14016.0</td>\n",
       "      <td>14003.64</td>\n",
       "      <td>28.0</td>\n",
       "      <td>52</td>\n",
       "      <td>Краснодар</td>\n",
       "      <td>ultra</td>\n",
       "      <td>1000</td>\n",
       "      <td>30720</td>\n",
       "      <td>3000</td>\n",
       "      <td>1950.0</td>\n",
       "    </tr>\n",
       "    <tr>\n",
       "      <th>3</th>\n",
       "      <td>1000</td>\n",
       "      <td>8</td>\n",
       "      <td>52.0</td>\n",
       "      <td>389.87</td>\n",
       "      <td>408.0</td>\n",
       "      <td>81.0</td>\n",
       "      <td>42.0</td>\n",
       "      <td>14070.0</td>\n",
       "      <td>14055.93</td>\n",
       "      <td>27.0</td>\n",
       "      <td>52</td>\n",
       "      <td>Краснодар</td>\n",
       "      <td>ultra</td>\n",
       "      <td>1000</td>\n",
       "      <td>30720</td>\n",
       "      <td>3000</td>\n",
       "      <td>1950.0</td>\n",
       "    </tr>\n",
       "    <tr>\n",
       "      <th>4</th>\n",
       "      <td>1000</td>\n",
       "      <td>9</td>\n",
       "      <td>58.0</td>\n",
       "      <td>440.14</td>\n",
       "      <td>466.0</td>\n",
       "      <td>57.0</td>\n",
       "      <td>46.0</td>\n",
       "      <td>14581.0</td>\n",
       "      <td>14568.91</td>\n",
       "      <td>25.0</td>\n",
       "      <td>52</td>\n",
       "      <td>Краснодар</td>\n",
       "      <td>ultra</td>\n",
       "      <td>1000</td>\n",
       "      <td>30720</td>\n",
       "      <td>3000</td>\n",
       "      <td>1950.0</td>\n",
       "    </tr>\n",
       "  </tbody>\n",
       "</table>\n",
       "</div>"
      ],
      "text/plain": [
       "   user_id  month  calls_count  duration_sum  duration_round_sum  \\\n",
       "0     1000      5         22.0        150.06               159.0   \n",
       "1     1000      6         43.0        158.90               172.0   \n",
       "2     1000      7         47.0        318.80               340.0   \n",
       "3     1000      8         52.0        389.87               408.0   \n",
       "4     1000      9         58.0        440.14               466.0   \n",
       "\n",
       "   messages_count  calls_no_zero_count  mb_round_sum  mb_used_sum  \\\n",
       "0            22.0                 17.0        2256.0      2253.49   \n",
       "1            60.0                 28.0       23257.0     23233.77   \n",
       "2            75.0                 41.0       14016.0     14003.64   \n",
       "3            81.0                 42.0       14070.0     14055.93   \n",
       "4            57.0                 46.0       14581.0     14568.91   \n",
       "\n",
       "   mb_used_count  age       city tariff  messages_included  \\\n",
       "0            4.0   52  Краснодар  ultra               1000   \n",
       "1           44.0   52  Краснодар  ultra               1000   \n",
       "2           28.0   52  Краснодар  ultra               1000   \n",
       "3           27.0   52  Краснодар  ultra               1000   \n",
       "4           25.0   52  Краснодар  ultra               1000   \n",
       "\n",
       "   mb_per_month_included  minutes_included  revenue  \n",
       "0                  30720              3000   1950.0  \n",
       "1                  30720              3000   1950.0  \n",
       "2                  30720              3000   1950.0  \n",
       "3                  30720              3000   1950.0  \n",
       "4                  30720              3000   1950.0  "
      ]
     },
     "execution_count": 60,
     "metadata": {},
     "output_type": "execute_result"
    }
   ],
   "source": [
    "united_table.head()"
   ]
  },
  {
   "cell_type": "code",
   "execution_count": 77,
   "metadata": {
    "scrolled": false
   },
   "outputs": [
    {
     "name": "stdout",
     "output_type": "stream",
     "text": [
      "Характеристика показателя Длительность разговоров в мес., мин.\n",
      "count    3214.000000\n",
      "mean      425.883647\n",
      "std       228.567566\n",
      "min         0.000000\n",
      "25%       267.360000\n",
      "50%       417.875000\n",
      "75%       555.030000\n",
      "max      1578.060000\n",
      "Name: duration_sum, dtype: float64\n"
     ]
    },
    {
     "data": {
      "image/png": "[encoded data removed]",
      "text/plain": [
       "<Figure size 432x288 with 1 Axes>"
      ]
     },
     "metadata": {
      "needs_background": "light"
     },
     "output_type": "display_data"
    },
    {
     "name": "stdout",
     "output_type": "stream",
     "text": [
      "Характеристика показателя Кол-во сообщений в мес.\n",
      "count    3214.000000\n",
      "mean       38.281269\n",
      "std        36.148326\n",
      "min         0.000000\n",
      "25%         9.000000\n",
      "50%        30.000000\n",
      "75%        57.000000\n",
      "max       224.000000\n",
      "Name: messages_count, dtype: float64\n"
     ]
    },
    {
     "data": {
      "image/png": "[encoded data removed]",
      "text/plain": [
       "<Figure size 432x288 with 1 Axes>"
      ]
     },
     "metadata": {
      "needs_background": "light"
     },
     "output_type": "display_data"
    },
    {
     "name": "stdout",
     "output_type": "stream",
     "text": [
      "Характеристика показателя Использовано трафика в мес., мб.\n",
      "count     3214.000000\n",
      "mean     17207.612859\n",
      "std       7570.958771\n",
      "min          0.000000\n",
      "25%      12491.890000\n",
      "50%      16943.175000\n",
      "75%      21424.625000\n",
      "max      49745.690000\n",
      "Name: mb_used_sum, dtype: float64\n"
     ]
    },
    {
     "data": {
      "image/png": "[encoded data removed]",
      "text/plain": [
       "<Figure size 432x288 with 1 Axes>"
      ]
     },
     "metadata": {
      "needs_background": "light"
     },
     "output_type": "display_data"
    }
   ],
   "source": [
    "column_list = ['duration_sum', 'messages_count', 'mb_used_sum']\n",
    "#создаём словарь имя столбца - название для диаграммы\n",
    "title_list = {'duration_sum': 'Длительность разговоров в мес., мин.', 'messages_count': 'Кол-во сообщений в мес.',\n",
    "              'mb_used_sum': 'Использовано трафика в мес., мб.'}\n",
    "#создаём цикл, который проходит по всем названием столбцов и создаёт по ним гистограммы,\n",
    "#затем из словаря выбираем в соответствие название\n",
    "for element in column_list:\n",
    "    print('Характеристика показателя', title_list[element])\n",
    "    print(united_table[element].describe())\n",
    "    result = united_table[element].plot(kind = 'hist', bins = 50, grid = True)\n",
    "    plt.xlabel(element)\n",
    "    plt.title(title_list[element])\n",
    "    plt.show()"
   ]
  },
  {
   "cell_type": "markdown",
   "metadata": {},
   "source": [
    "Мы сформировали единую таблицу с информацией о том, как каждый из пользователей пользовался тарифом. Заметно, что часть клиентов не использует возможность отправки смс. \n",
    "\n",
    "- Средняя длительность разговоров в месяц - 426 мин., медианная - 418 мин.\n",
    "- Среднее количество смс в месяц - 38, медианное - 30\n",
    "- Среднее количество мб трафика - 17207, медианное - 16943\n",
    "\n",
    "Рассмотрим ежемесячный доход, который мы получаем от клиентов, в зависимости от тарифа."
   ]
  },
  {
   "cell_type": "code",
   "execution_count": 53,
   "metadata": {
    "scrolled": false
   },
   "outputs": [
    {
     "data": {
      "text/plain": [
       "<matplotlib.legend.Legend at 0x1295ec6c0a0>"
      ]
     },
     "execution_count": 53,
     "metadata": {},
     "output_type": "execute_result"
    },
    {
     "data": {
      "image/png": "[encoded data removed]",
      "text/plain": [
       "<Figure size 1080x360 with 1 Axes>"
      ]
     },
     "metadata": {
      "needs_background": "light"
     },
     "output_type": "display_data"
    }
   ],
   "source": [
    "united_table[united_table['tariff'] == 'ultra']['revenue'].plot(kind = 'hist', bins = 50, alpha = 0.5, figsize =(15, 5))\n",
    "united_table[united_table['tariff'] == 'smart']['revenue'].plot(kind = 'hist', bins = 50, alpha = 0.5)\n",
    "plt.title('Распределение пользователей двух тарифов по затратам')\n",
    "#plt.ylim(0, 700)\n",
    "plt.xlabel('Расходы в месяц, руб.')\n",
    "plt.legend(('ultra', 'smart'))"
   ]
  },
  {
   "cell_type": "code",
   "execution_count": 55,
   "metadata": {
    "scrolled": true
   },
   "outputs": [
    {
     "name": "stdout",
     "output_type": "stream",
     "text": [
      "Общий доход по тарифу Ультра\n",
      "2040000.0\n",
      "Общий доход по тарифу Смарт\n",
      "2885751.0\n"
     ]
    }
   ],
   "source": [
    "print('Общий доход по тарифу Ультра')\n",
    "print(united_table[united_table['tariff'] == 'ultra']['revenue'].sum())\n",
    "print('Общий доход по тарифу Смарт')\n",
    "print(united_table[united_table['tariff'] == 'smart']['revenue'].sum())"
   ]
  },
  {
   "cell_type": "code",
   "execution_count": 54,
   "metadata": {
    "scrolled": false
   },
   "outputs": [
    {
     "name": "stdout",
     "output_type": "stream",
     "text": [
      "Характеристики дохода по тарифу Ультра\n",
      "count     985.000000\n",
      "mean     2071.065990\n",
      "std       378.802377\n",
      "min      1950.000000\n",
      "25%      1950.000000\n",
      "50%      1950.000000\n",
      "75%      1950.000000\n",
      "max      4800.000000\n",
      "Name: revenue, dtype: float64\n",
      "\n",
      "Характеристики дохода по тарифу Смарт\n",
      "count    2229.000000\n",
      "mean     1294.639300\n",
      "std       820.933202\n",
      "min       550.000000\n",
      "25%       550.000000\n",
      "50%      1038.000000\n",
      "75%      1750.000000\n",
      "max      6770.000000\n",
      "Name: revenue, dtype: float64\n"
     ]
    }
   ],
   "source": [
    "print('Характеристики дохода по тарифу Ультра')\n",
    "print(united_table[united_table['tariff'] == 'ultra']['revenue'].describe())\n",
    "print()\n",
    "print('Характеристики дохода по тарифу Смарт')\n",
    "print(united_table[united_table['tariff'] == 'smart']['revenue'].describe())"
   ]
  },
  {
   "cell_type": "markdown",
   "metadata": {},
   "source": [
    "Мы видим, что клиенты тарифа \"Смарт\" чаще выходят за абонентскую плату, чем клиенты на тарифе \"Ультра\", которые, в 75% случаев не выходят за лимиты. \n",
    "\n",
    "Среднемесячная доходность с одного клиента на тарифе \"Смарт\" - 1294 руб., \"Ультра\" - 2071 руб.\n",
    "\n",
    "Попробуем выяснить, по каким показателям люди чаще нарушают лимиты:"
   ]
  },
  {
   "cell_type": "code",
   "execution_count": 61,
   "metadata": {},
   "outputs": [
    {
     "name": "stdout",
     "output_type": "stream",
     "text": [
      "Тариф \"Смарт\"\n",
      "Доля записей, где был превышен лимит трафика:\n",
      "0.5872588604755495\n",
      "Доля записей, где был превышен лимит минут:\n",
      "0.3382682817406909\n",
      "Доля записей, где был превышен лимит смс:\n",
      "0.253028263795424\n"
     ]
    }
   ],
   "source": [
    "print('Тариф \"Смарт\"')\n",
    "print('Доля записей, где был превышен лимит трафика:')\n",
    "print(united_table[(united_table['tariff'] == 'smart') & (\n",
    "    united_table['mb_round_sum'] > united_table[\n",
    "        'mb_per_month_included'])]['mb_round_sum'].count()/len(\n",
    "    united_table[united_table['tariff'] == 'smart']['tariff']))\n",
    "print('Доля записей, где был превышен лимит минут:')\n",
    "print(united_table[(united_table['tariff'] == 'smart') & (\n",
    "    united_table['duration_round_sum'] > united_table[\n",
    "        'minutes_included'])]['duration_round_sum'].count()/len(\n",
    "    united_table[united_table['tariff'] == 'smart']['tariff']))\n",
    "print('Доля записей, где был превышен лимит смс:')\n",
    "print(united_table[(united_table['tariff'] == 'smart') & (\n",
    "    united_table['messages_count'] > united_table[\n",
    "        'messages_included'])]['messages_count'].count()/len(\n",
    "    united_table[united_table['tariff'] == 'smart']['tariff']))"
   ]
  },
  {
   "cell_type": "code",
   "execution_count": 62,
   "metadata": {},
   "outputs": [
    {
     "name": "stdout",
     "output_type": "stream",
     "text": [
      "Тариф \"Ультра\"\n",
      "Доля записей, где был превышен лимит трафика:\n",
      "0.13604060913705585\n",
      "Доля записей, где был превышен лимит минут:\n",
      "0.0\n",
      "Доля записей, где был превышен лимит смс:\n",
      "0.0\n"
     ]
    }
   ],
   "source": [
    "print('Тариф \"Ультра\"')\n",
    "print('Доля записей, где был превышен лимит трафика:')\n",
    "print(united_table[(united_table['tariff'] == 'ultra') & (\n",
    "    united_table['mb_round_sum'] > united_table[\n",
    "        'mb_per_month_included'])]['mb_round_sum'].count()/len(\n",
    "    united_table[united_table['tariff'] == 'ultra']['tariff']))\n",
    "print('Доля записей, где был превышен лимит минут:')\n",
    "print(united_table[(united_table['tariff'] == 'ultra') & (\n",
    "    united_table['duration_round_sum'] > united_table[\n",
    "        'minutes_included'])]['duration_round_sum'].count()/len(\n",
    "    united_table[united_table['tariff'] == 'ultra']['tariff']))\n",
    "print('Доля записей, где был превышен лимит смс:')\n",
    "print(united_table[(united_table['tariff'] == 'ultra') & (\n",
    "    united_table['messages_count'] > united_table[\n",
    "        'messages_included'])]['messages_count'].count()/len(\n",
    "    united_table[united_table['tariff'] == 'ultra']['tariff']))"
   ]
  },
  {
   "cell_type": "markdown",
   "metadata": {},
   "source": [
    "Из анализа мы видим, что клиенты, выбравшие тариф \"Смарт\" в среднем менее дисципилинированы, чем клиенты с тарифом \"Ультра\".  При этом заметно, что количество трафика, включенного в лимит тарифа \"Смарт\", было превышено в **59%** наблюдений. Лимиты по минутам и смс клиенты нарушали заметно меньше."
   ]
  },
  {
   "cell_type": "markdown",
   "metadata": {},
   "source": [
    "### Вывод <a id=info6></a>"
   ]
  },
  {
   "cell_type": "markdown",
   "metadata": {},
   "source": [
    "Была сформирована таблица **united_table**, содержащая данные, сгруппированные по id клиента и месяцу. Мы выявили следующие характеристики пользовательской базы:\n",
    "\n",
    "- Средняя длительность разговоров в месяц - 426 мин., медианная - 418 мин.\n",
    "- Среднее количество смс в месяц - 38, медианное - 30\n",
    "- Среднее количество мб трафика - 17207, медианное - 16943\n",
    "\n",
    "Клиенты тарифа смарт принесли за год - 2040 тыс. руб.\n",
    "Тарифа ультра - 2886 тыс. руб.\n",
    "\n",
    "В среднем клиенты на тарифе \"Смарт\" менее дисциплинированы и часто превышают лимиты (по интернет трафику превышение лимита было обнаружено в 59% случаев).\n",
    "\n",
    "Проведём более подробный анализ поведения клиентов в зависимости от тарифного плана."
   ]
  },
  {
   "cell_type": "markdown",
   "metadata": {},
   "source": [
    "### 4. Анализ поведения клиентов <a id=info7></a>"
   ]
  },
  {
   "cell_type": "markdown",
   "metadata": {},
   "source": [
    "Рассмотрим характеристики показателей в зависимости от тарифа. Мы исследуем 3 параметра:\n",
    "\n",
    "- Количество минут разговора\n",
    "- Количество сообщений\n",
    "- Объем интернет-трафика\n",
    "\n",
    "#### 1. Минуты разговора <a id=info8></a>\n",
    "Для начала сформируем функцию, которая будет выводить сравнительные показатели по двум тарифам в выборке."
   ]
  },
  {
   "cell_type": "code",
   "execution_count": 85,
   "metadata": {},
   "outputs": [],
   "source": [
    "#Формируем 2 фрейма, где сохраняем данные по тарифам\n",
    "ultra = united_table.query('tariff == \"ultra\"')\n",
    "smart = united_table.query('tariff == \"smart\"')"
   ]
  },
  {
   "cell_type": "code",
   "execution_count": 89,
   "metadata": {},
   "outputs": [],
   "source": [
    "# вспомогательная функция, которая рассчитывает лимиты по квантилям для дальнейшей их подстановки в качестве\n",
    "#лимита выборки\n",
    "def quantile_range_count(frame, column):\n",
    "    q1 = frame[column].quantile(0.25)\n",
    "    q3 = frame[column].quantile(0.75)\n",
    "    iqr = q3 - q1\n",
    "    upper_range = q3+1.5*iqr\n",
    "    if (q1-1.5*iqr)<0:\n",
    "     #поскольку у нас было некоторое количество нулевых значений, то попробуем взглянуть на фрейм без них\n",
    "        low_range = 0.1\n",
    "    else:\n",
    "        low_range = q1-1.5*iqr\n",
    "    return upper_range, low_range"
   ]
  },
  {
   "cell_type": "code",
   "execution_count": 142,
   "metadata": {},
   "outputs": [],
   "source": [
    "def quantile_hist(frame1, frame2, column_name, name_frame1, name_frame2 , describtion): \n",
    "    #принимает название двух фреймов, имя показателя, 2 имени для использования в подписях данных и \n",
    "    #наименование показателя для подписи в диаграмме\n",
    "    \n",
    "    #для отбора выбивающихся значений формируем гистограмму с ограничением - слева q1-1.5*iqr, справа q3+1.5*iqr\n",
    "    frame_col_1 = frame1[column_name]\n",
    "    frame_col_2 = frame2[column_name]\n",
    "    #вызываем функцию quantile_range_count для расчета границ распределения\n",
    "    low_range_1 = quantile_range_count(frame1, column_name)[1]\n",
    "    upper_range_1 = quantile_range_count(frame1, column_name)[0]\n",
    "    #формируем 2 фрейма - \n",
    "    real_query_1 = frame1.query('@low_range_1 <= @frame_col_1 <= @upper_range_1')\n",
    "    upper_range_2 = quantile_range_count(frame2, column_name)[0]\n",
    "    low_range_2 = quantile_range_count(frame2, column_name)[1]\n",
    "    real_query_2 = frame2.query('@low_range_2 <= @frame_col_2 <= @upper_range_2')\n",
    "    print('Характеристики', name_frame1, 'без выбросов')\n",
    "    print(real_query_1[column_name].describe())\n",
    "    print()\n",
    "    #расчет дисперсии производим с ddof = 1, т.к. мы работаем не со всей совокупностью пользователей, а с выборкой\n",
    "    print('Дисперсия:', np.var(real_query_1[column_name], ddof =1))\n",
    "    print()\n",
    "    print('Характеристики', name_frame2, 'без выбросов')\n",
    "    print(real_query_2[column_name].describe())\n",
    "    print()\n",
    "    print('Дисперсия:', np.var(real_query_2[column_name], ddof =1))\n",
    "    #выводим 2 гистограммы\n",
    "    result_1 = frame_col_1.plot(kind = 'hist', bins = 100, range = (low_range_1,upper_range_1)\n",
    "                         , figsize = (12,6), sharex = False, grid = True, alpha = 0.5)\n",
    "   \n",
    "    result_2 = frame_col_2.plot(kind = 'hist', bins = 100, range = (low_range_2,upper_range_2)\n",
    "                         , figsize = (12,6), sharex = False, grid = True, alpha = 0.5)\n",
    "    plt.title('Распределение без редких и нулевых значений:')\n",
    "    plt.legend((name_frame1, name_frame2))\n",
    "    #строим прямую вертикальную линию на уровне среднего\n",
    "    plt.axvline(real_query_1[column_name].mean(), color='k', linestyle='dashed', linewidth=1)\n",
    "    min_ylim, max_ylim = plt.ylim()\n",
    "    # делаем подпись значения среднего к этой линии\n",
    "    plt.text(real_query_1[column_name].mean()*1.1, max_ylim*0.9, 'Mean ultra: {:.2f}'.format(\n",
    "        real_query_1[column_name].mean()))\n",
    "    plt.axvline(real_query_2[column_name].mean(), color='k', linestyle='dashed', linewidth=1)\n",
    "    plt.text(real_query_2[column_name].mean()*1.1, max_ylim*0.7, 'Mean smart: {:.2f}'.format(\n",
    "        real_query_2[column_name].mean()))\n",
    "    plt.xlabel(describtion)\n",
    "    plt.show()\n",
    "    \n",
    "    \n",
    "    \n",
    "#формируем фрейм со средними значениями, которые выводим на график в виде двух колонок\n",
    "    comparison_hist = pd.DataFrame({name_frame1: [real_query_1[column_name].mean()], name_frame2: [real_query_2[column_name].mean()]})        \n",
    "    comparison_hist.plot(kind = 'bar',figsize = (4,4), grid = True)\n",
    "    plt.title('Сравнение средних')\n",
    "    plt.xlabel(describtion)\n",
    "    plt.show()\n",
    "\n",
    "    #формируем фрейм со стандартними отклонениями, которые выводим на график в виде двух колонок\n",
    "    comparison_hist_2 = pd.DataFrame({name_frame1: [np.std(real_query_1[column_name])], name_frame2: [np.std(real_query_2[column_name])]})        \n",
    "    comparison_hist_2.plot(kind = 'bar',figsize = (4,4), grid = True)\n",
    "    plt.title('Сравнение стандартных отклонений')\n",
    "    plt.xlabel(describtion)\n",
    "    plt.show()"
   ]
  },
  {
   "cell_type": "code",
   "execution_count": 146,
   "metadata": {},
   "outputs": [],
   "source": [
    "def comparison(column_name, describtion): \n",
    "    #функция, выдающая краткую сравнительную сводку по показателям двух тарифов\n",
    "    \n",
    "    ultra = united_table.query('tariff == \"ultra\"')\n",
    "    smart = united_table.query('tariff == \"smart\"')\n",
    "    name_frame1 = 'Тариф Ультра'\n",
    "    name_frame2 = 'Тариф Смарт'\n",
    "    #выаодим характеристики двух фреймов\n",
    "    print('Характеристика', name_frame1, 'по показателю', describtion)\n",
    "    print(ultra[column_name].describe())\n",
    "    print()\n",
    "    #производим расчет дисперсии\n",
    "    print('Дисперсия:', np.var(ultra[column_name], ddof =1))\n",
    "    print()\n",
    "    print('Характеристика', name_frame2, 'по показателю', describtion)\n",
    "    print(smart[column_name].describe())\n",
    "    print()\n",
    "    print('Дисперсия:', np.var(smart[column_name], ddof =1))\n",
    "    print()\n",
    "    print('Разброс значений без 2,5% с начала и конца выборки:')\n",
    "    print(name_frame1)\n",
    "    print('97,5% значений показателя', describtion, 'больше {:.2f}'.format(ultra[column_name].quantile(0.025)))\n",
    "    print('2,5% значений показателя', describtion, 'больше {:.2f}'.format(ultra[column_name].quantile(0.975)))\n",
    "    print()                                                               \n",
    "    print(name_frame2)\n",
    "    print('97,5% значений показателя', describtion, 'больше {:.2f}'.format(smart[column_name].quantile(0.025)))\n",
    "    print('2,5% значений показателя', describtion, 'больше {:.2f}'.format(smart[column_name].quantile(0.975)))\n",
    "    #создаём гистограмму по всем значениям\n",
    "    result_1 = ultra[column_name].plot(kind = 'hist', bins = 100\n",
    "                                       , figsize = (12,6), sharex = False, grid = True, alpha = 0.5)\n",
    "   \n",
    "    result_2 = smart[column_name].plot(kind = 'hist', bins = 100\n",
    "                         , figsize = (12,6), sharex = False, grid = True, alpha = 0.5)\n",
    "    plt.title('Распределение в рамках тарифов:')\n",
    "    plt.legend((name_frame1, name_frame2))\n",
    "    #строим вертикальную линию на уровне среднего\n",
    "    plt.axvline(ultra[column_name].mean(), color='k', linestyle='dashed', linewidth=1)\n",
    "    min_ylim, max_ylim = plt.ylim()\n",
    "    #задаём подпись к линии среднего\n",
    "    plt.text(ultra[column_name].mean()*1.1, max_ylim*0.9, 'Mean ultra: {:.2f}'.format(\n",
    "       ultra[column_name].mean()))\n",
    "    plt.axvline(smart[column_name].mean(), color='k', linestyle='dashed', linewidth=1)\n",
    "    plt.text(smart[column_name].mean()*1.1, max_ylim*0.7, 'Mean smart: {:.2f}'.format(\n",
    "        smart[column_name].mean()))\n",
    "    plt.xlabel(describtion)\n",
    "    plt.show()\n",
    "    #Выводим характеристики по обрезанным значениям, вызывая ранее созданную функцию\n",
    "    quantile_hist(ultra, smart, column_name, name_frame1, name_frame2, describtion)\n"
   ]
  },
  {
   "cell_type": "markdown",
   "metadata": {},
   "source": [
    "После того, как мы создали функцию, рассмотрим количество потраченных минут в месяц. При этом в расчете используем нецелое количество минут, что позволит избежать искажений, вызванных округлением вверх."
   ]
  },
  {
   "cell_type": "code",
   "execution_count": 147,
   "metadata": {
    "scrolled": false
   },
   "outputs": [
    {
     "name": "stdout",
     "output_type": "stream",
     "text": [
      "Характеристика Тариф Ультра по показателю Длительность звонков за месяц, мин.\n",
      "count     985.000000\n",
      "mean      497.068223\n",
      "std       299.904152\n",
      "min         0.000000\n",
      "25%       267.750000\n",
      "50%       488.100000\n",
      "75%       711.470000\n",
      "max      1578.060000\n",
      "Name: duration_sum, dtype: float64\n",
      "\n",
      "Дисперсия: 89942.5003695031\n",
      "\n",
      "Характеристика Тариф Смарт по показателю Длительность звонков за месяц, мин.\n",
      "count    2229.000000\n",
      "mean      394.427026\n",
      "std       179.962207\n",
      "min         0.000000\n",
      "25%       267.230000\n",
      "50%       397.980000\n",
      "75%       515.070000\n",
      "max      1354.220000\n",
      "Name: duration_sum, dtype: float64\n",
      "\n",
      "Дисперсия: 32386.395978716126\n",
      "\n",
      "Разброс значений без 2,5% с начала и конца выборки:\n",
      "Тариф Ультра\n",
      "97,5% значений показателя Длительность звонков за месяц, мин. больше 0.00\n",
      "2,5% значений показателя Длительность звонков за месяц, мин. больше 1142.83\n",
      "\n",
      "Тариф Смарт\n",
      "97,5% значений показателя Длительность звонков за месяц, мин. больше 45.37\n",
      "2,5% значений показателя Длительность звонков за месяц, мин. больше 735.34\n"
     ]
    },
    {
     "data": {
      "image/png": "[encoded data removed]",
      "text/plain": [
       "<Figure size 864x432 with 1 Axes>"
      ]
     },
     "metadata": {
      "needs_background": "light"
     },
     "output_type": "display_data"
    },
    {
     "name": "stdout",
     "output_type": "stream",
     "text": [
      "Характеристики Тариф Ультра без выбросов\n",
      "count     945.000000\n",
      "mean      514.820836\n",
      "std       284.828948\n",
      "min         0.100000\n",
      "25%       294.270000\n",
      "50%       498.550000\n",
      "75%       714.580000\n",
      "max      1337.830000\n",
      "Name: duration_sum, dtype: float64\n",
      "\n",
      "Дисперсия: 81127.5296057624\n",
      "\n",
      "Характеристики Тариф Смарт без выбросов\n",
      "count    2211.000000\n",
      "mean      393.109204\n",
      "std       174.197547\n",
      "min         1.370000\n",
      "25%       268.110000\n",
      "50%       397.780000\n",
      "75%       513.570000\n",
      "max       881.740000\n",
      "Name: duration_sum, dtype: float64\n",
      "\n",
      "Дисперсия: 30344.785342352465\n"
     ]
    },
    {
     "data": {
      "image/png": "[encoded data removed]",
      "text/plain": [
       "<Figure size 864x432 with 1 Axes>"
      ]
     },
     "metadata": {
      "needs_background": "light"
     },
     "output_type": "display_data"
    },
    {
     "data": {
      "image/png": "[encoded data removed]",
      "text/plain": [
       "<Figure size 288x288 with 1 Axes>"
      ]
     },
     "metadata": {
      "needs_background": "light"
     },
     "output_type": "display_data"
    },
    {
     "data": {
      "image/png": "[encoded data removed]",
      "text/plain": [
       "<Figure size 288x288 with 1 Axes>"
      ]
     },
     "metadata": {
      "needs_background": "light"
     },
     "output_type": "display_data"
    }
   ],
   "source": [
    "comparison('duration_sum', 'Длительность звонков за месяц, мин.')"
   ]
  },
  {
   "cell_type": "markdown",
   "metadata": {},
   "source": [
    "Мы видим следующие характеристики тарифов:\n",
    "\"Ультра\" \n",
    "\n",
    "- среднее кол-во минут разговора в месяц - 497 (без выбросов - 514)\n",
    "- стандартное отклонение - 300 (без выбросов - 285)\n",
    "- дисперсия - 89942 (без выбросов - 81127)\n",
    "\n",
    "\"Смарт\"\n",
    "\n",
    "- среднее кол-во минут разговора в месяц - 394 (без выбросов - 393)\n",
    "- стандартное отклонение - 180 (без выбросов - 174)\n",
    "- дисперсия - 32386 (без выбросов - 30344)\n",
    "\n",
    "Мы видим, что на тарифе \"Смарт\" клиенты стараются не выходить за лимит в 500 минут. Также на данном тарифе гораздо меньше разброс по количеству потраченных минут, что мы видим по величине стандартного отклонения. Распределение по данному показателю на тарифе \"Смарт\" похоже на нормальное.\n",
    "\n",
    "Клиенты тарифа \"Ультра\", похоже, выбирают данных тариф, не ради голосовой связи. Мы не видим ни одного случая, когда бы кто-либо превысил лимит в 3000 минут. И в целом высокое стандартное отклонение - около 300 минут при среднем в 500 минут отражает высокий разброс в характере использования голосовой связи. По гистограмме мы видим, что значения распределены практически равномерно и нет какого-либо преобладающего паттерна поведения.\n",
    "\n",
    "#### 2. Кол-во отправляемых сообщений <a id=info9></a>\n",
    "\n",
    "Переходим к рассмотрению количества сообщений."
   ]
  },
  {
   "cell_type": "code",
   "execution_count": 148,
   "metadata": {
    "scrolled": false
   },
   "outputs": [
    {
     "name": "stdout",
     "output_type": "stream",
     "text": [
      "Характеристика Тариф Ультра по показателю Кол-во отправленных сообщений в месяц\n",
      "count    985.000000\n",
      "mean      49.363452\n",
      "std       47.804457\n",
      "min        0.000000\n",
      "25%        6.000000\n",
      "50%       38.000000\n",
      "75%       79.000000\n",
      "max      224.000000\n",
      "Name: messages_count, dtype: float64\n",
      "\n",
      "Дисперсия: 2285.2661425446818\n",
      "\n",
      "Характеристика Тариф Смарт по показателю Кол-во отправленных сообщений в месяц\n",
      "count    2229.000000\n",
      "mean       33.384029\n",
      "std        28.227876\n",
      "min         0.000000\n",
      "25%        10.000000\n",
      "50%        28.000000\n",
      "75%        51.000000\n",
      "max       143.000000\n",
      "Name: messages_count, dtype: float64\n",
      "\n",
      "Дисперсия: 796.8129584480083\n",
      "\n",
      "Разброс значений без 2,5% с начала и конца выборки:\n",
      "Тариф Ультра\n",
      "97,5% значений показателя Кол-во отправленных сообщений в месяц больше 0.00\n",
      "2,5% значений показателя Кол-во отправленных сообщений в месяц больше 162.00\n",
      "\n",
      "Тариф Смарт\n",
      "97,5% значений показателя Кол-во отправленных сообщений в месяц больше 0.00\n",
      "2,5% значений показателя Кол-во отправленных сообщений в месяц больше 99.00\n"
     ]
    },
    {
     "data": {
      "image/png": "[encoded data removed]",
      "text/plain": [
       "<Figure size 864x432 with 1 Axes>"
      ]
     },
     "metadata": {
      "needs_background": "light"
     },
     "output_type": "display_data"
    },
    {
     "name": "stdout",
     "output_type": "stream",
     "text": [
      "Характеристики Тариф Ультра без выбросов\n",
      "count    787.000000\n",
      "mean      59.714104\n",
      "std       43.829688\n",
      "min        1.000000\n",
      "25%       24.000000\n",
      "50%       50.000000\n",
      "75%       85.000000\n",
      "max      188.000000\n",
      "Name: messages_count, dtype: float64\n",
      "\n",
      "Дисперсия: 1921.0415692664833\n",
      "\n",
      "Характеристики Тариф Смарт без выбросов\n",
      "count    1908.000000\n",
      "mean       38.059748\n",
      "std        25.749521\n",
      "min         1.000000\n",
      "25%        17.000000\n",
      "50%        33.000000\n",
      "75%        55.000000\n",
      "max       112.000000\n",
      "Name: messages_count, dtype: float64\n",
      "\n",
      "Дисперсия: 663.0378545774754\n"
     ]
    },
    {
     "data": {
      "image/png": "[encoded data removed]",
      "text/plain": [
       "<Figure size 864x432 with 1 Axes>"
      ]
     },
     "metadata": {
      "needs_background": "light"
     },
     "output_type": "display_data"
    },
    {
     "data": {
      "image/png": "[encoded data removed]",
      "text/plain": [
       "<Figure size 288x288 with 1 Axes>"
      ]
     },
     "metadata": {
      "needs_background": "light"
     },
     "output_type": "display_data"
    },
    {
     "data": {
      "image/png": "[encoded data removed]",
      "text/plain": [
       "<Figure size 288x288 with 1 Axes>"
      ]
     },
     "metadata": {
      "needs_background": "light"
     },
     "output_type": "display_data"
    }
   ],
   "source": [
    "comparison('messages_count', 'Кол-во отправленных сообщений в месяц')"
   ]
  },
  {
   "cell_type": "markdown",
   "metadata": {},
   "source": [
    "По количеству отправленных сообщений мы можем выделить следующие характеристики тарифов:\n",
    "\"Ультра\" \n",
    "\n",
    "- среднее кол-во смс в месяц - 49 (без выбросов - 60)\n",
    "- стандартное отклонение - 47,8 (без выбросов - 43,8)\n",
    "- дисперсия - 2285 (без выбросов - 1921)\n",
    "\n",
    "\"Смарт\"\n",
    "\n",
    "- среднее кол-во смс в месяц - 33 (без выбросов - 38)\n",
    "- стандартное отклонение - 28,2 (без выбросов - 25,7)\n",
    "- дисперсия - 796 (без выбросов - 663)\n",
    "\n",
    "Мы видим, что смс не пользуются популярностью среди клиентов. В существенном количестве случаев на тарифах не было отправлено ни одного сообщения в месяц.\n",
    "\n",
    "Если отбросить нули и экстремально высокие значения, то мы видим, что клиенты на тарифе \"Ультра\" вновь демонстрируют стремление не выходить за лимитв 50 сообщений, тогда как среди людей на тарифе \"Смарт\" единства меньше.\n",
    "\n",
    "Распределение на тарифе \"Смарт\" скошено вправо. На тарифе \"Ультра\" же сложно выделить единый паттерн поведения клиентов - количество отправленных смс практически равномерно распределено по оси иск.\n",
    "\n",
    "#### 3. Интернет-трафик <a id=info10></a>\n",
    "\n",
    "Перейдём к рассмотрению интернет-трафика. Как мы выяснили ранее, пользователи на тарифе \"Смарт\" очень часто превышают лимит. Выясним, как это отразиться в распределении по использованным данным."
   ]
  },
  {
   "cell_type": "code",
   "execution_count": 149,
   "metadata": {
    "scrolled": false
   },
   "outputs": [
    {
     "name": "stdout",
     "output_type": "stream",
     "text": [
      "Характеристика Тариф Ультра по показателю Использовано трафика, мб.\n",
      "count      985.000000\n",
      "mean     19468.805208\n",
      "std      10087.170752\n",
      "min          0.000000\n",
      "25%      11770.260000\n",
      "50%      19308.010000\n",
      "75%      26837.690000\n",
      "max      49745.690000\n",
      "Name: mb_used_sum, dtype: float64\n",
      "\n",
      "Дисперсия: 101751013.78335372\n",
      "\n",
      "Характеристика Тариф Смарт по показателю Использовано трафика, мб.\n",
      "count     2229.000000\n",
      "mean     16208.386990\n",
      "std       5870.476681\n",
      "min          0.000000\n",
      "25%      12643.010000\n",
      "50%      16506.840000\n",
      "75%      20042.930000\n",
      "max      38552.450000\n",
      "Name: mb_used_sum, dtype: float64\n",
      "\n",
      "Дисперсия: 34462496.46274239\n",
      "\n",
      "Разброс значений без 2,5% с начала и конца выборки:\n",
      "Тариф Ультра\n",
      "97,5% значений показателя Использовано трафика, мб. больше 1549.69\n",
      "2,5% значений показателя Использовано трафика, мб. больше 39945.65\n",
      "\n",
      "Тариф Смарт\n",
      "97,5% значений показателя Использовано трафика, мб. больше 2860.60\n",
      "2,5% значений показателя Использовано трафика, мб. больше 27148.55\n"
     ]
    },
    {
     "data": {
      "image/png": "[encoded data removed]",
      "text/plain": [
       "<Figure size 864x432 with 1 Axes>"
      ]
     },
     "metadata": {
      "needs_background": "light"
     },
     "output_type": "display_data"
    },
    {
     "name": "stdout",
     "output_type": "stream",
     "text": [
      "Характеристики Тариф Ультра без выбросов\n",
      "count      973.000000\n",
      "mean     19657.787708\n",
      "std       9886.296975\n",
      "min        365.090000\n",
      "25%      12049.890000\n",
      "50%      19394.290000\n",
      "75%      26865.250000\n",
      "max      48351.590000\n",
      "Name: mb_used_sum, dtype: float64\n",
      "\n",
      "Дисперсия: 97738867.87517263\n",
      "\n",
      "Характеристики Тариф Смарт без выбросов\n",
      "count     2192.000000\n",
      "mean     16255.878504\n",
      "std       5512.790122\n",
      "min       1600.280000\n",
      "25%      12756.567500\n",
      "50%      16538.345000\n",
      "75%      20014.260000\n",
      "max      31077.480000\n",
      "Name: mb_used_sum, dtype: float64\n",
      "\n",
      "Дисперсия: 30390854.932458185\n"
     ]
    },
    {
     "data": {
      "image/png": "[encoded data removed]",
      "text/plain": [
       "<Figure size 864x432 with 1 Axes>"
      ]
     },
     "metadata": {
      "needs_background": "light"
     },
     "output_type": "display_data"
    },
    {
     "data": {
      "image/png": "[encoded data removed]",
      "text/plain": [
       "<Figure size 288x288 with 1 Axes>"
      ]
     },
     "metadata": {
      "needs_background": "light"
     },
     "output_type": "display_data"
    },
    {
     "data": {
      "image/png": "[encoded data removed]",
      "text/plain": [
       "<Figure size 288x288 with 1 Axes>"
      ]
     },
     "metadata": {
      "needs_background": "light"
     },
     "output_type": "display_data"
    }
   ],
   "source": [
    "comparison('mb_used_sum', 'Использовано трафика, мб.')"
   ]
  },
  {
   "cell_type": "code",
   "execution_count": 151,
   "metadata": {},
   "outputs": [
    {
     "name": "stdout",
     "output_type": "stream",
     "text": [
      "Доля выходов за лимит + 9 гб: 0.0677433826828174\n"
     ]
    }
   ],
   "source": [
    "print('Доля выходов за лимит + 9 гб:'\n",
    "      ,smart[smart['mb_used_sum'] > 24*1024]['mb_used_sum'].count()/len(smart['mb_used_sum']))"
   ]
  },
  {
   "cell_type": "markdown",
   "metadata": {},
   "source": [
    "По объему трафика мы можем выделить следующие характеристики тарифов:\n",
    "\n",
    "\"Ультра\" \n",
    "\n",
    "- среднее кол-во мб в месяц - 19468 (без выбросов - 19658)\n",
    "- стандартное отклонение - 10087 (без выбросов - 9886)\n",
    "- дисперсия - 101751013 (без выбросов - 97738867)\n",
    "\n",
    "\"Смарт\"\n",
    "\n",
    "- среднее кол-во мб в месяц - 16208 (без выбросов - 16255)\n",
    "- стандартное отклонение - 5870 (без выбросов - 5512)\n",
    "- дисперсия - 34462496 (без выбросов - 663)\n",
    "\n",
    "Мы видим, что в среднем пользователям тарифа \"Смарт\" не хватает заложенного в тариф пакета трафика и в более чем половине случаев используется хотя бы 1 дополнительный гб. При этом часть клиентов (**6,7% случаев**) настолько выходит за лимит, что им выгоднее было бы перейти на тариф \"Ультра\".\n",
    "В целом распределение использования трафика на тарифе \"Смарт\" похоже на нормальное. Тогда как на тарифе \"Ультра\" мы опять фиксируем больший разброс в значениях исследуемого показателя."
   ]
  },
  {
   "cell_type": "markdown",
   "metadata": {},
   "source": [
    "### Вывод <a id=info11></a>"
   ]
  },
  {
   "cell_type": "markdown",
   "metadata": {},
   "source": [
    "Мы выявили следующие характеристики тарифов:\n",
    "\n",
    "#### \"Ультра\" \n",
    "\n",
    "**Разговоры**\n",
    "\n",
    "- среднее кол-во минут разговора в месяц - 497 (без выбросов - 514)\n",
    "- стандартное отклонение - 300 (без выбросов - 285)\n",
    "- дисперсия - 89942 (без выбросов - 81127)\n",
    "\n",
    "**Сообщения**\n",
    "\n",
    "- среднее кол-во смс в месяц - 49 (без выбросов - 60)\n",
    "- стандартное отклонение - 47,8 (без выбросов - 43,8)\n",
    "- дисперсия - 2285 (без выбросов - 1921)\n",
    "\n",
    "**Интернет**\n",
    "\n",
    "- среднее кол-во мб в месяц - 19468 (без выбросов - 19658)\n",
    "- стандартное отклонение - 10087 (без выбросов - 9886)\n",
    "- дисперсия - 101751013 (без выбросов - 97738867)\n",
    "\n",
    "#### \"Смарт\"\n",
    "\n",
    "**Разговоры**\n",
    "\n",
    "- среднее кол-во минут разговора в месяц - 394 (без выбросов - 393)\n",
    "- стандартное отклонение - 180 (без выбросов - 174)\n",
    "- дисперсия - 32386 (без выбросов - 30344)\n",
    "\n",
    "**Сообщения**\n",
    "\n",
    "- среднее кол-во смс в месяц - 33 (без выбросов - 38)\n",
    "- стандартное отклонение - 28,2 (без выбросов - 25,7)\n",
    "- дисперсия - 796 (без выбросов - 663)\n",
    "\n",
    "**Интернет**\n",
    "\n",
    "- среднее кол-во мб в месяц - 16208 (без выбросов - 16255)\n",
    "- стандартное отклонение - 5870 (без выбросов - 5512)\n",
    "- дисперсия - 34462496 (без выбросов - 663)\n",
    "\n",
    "Наиболее востребованной услугой является пакет интернет-трафика, наименее востребованной - смс-сообщения. В среднем клиенты тарифа \"Смарт\" общаются больше, однако почти никогда не выходят за лимит.\n",
    "\n",
    "Среднее значение использованного трафика по тарифам отличается на 20% в пользу тарифа \"Ультра\". Однако на тарифе \"Смарт\" люди в среднем склонны превышать лимит трафика.\n",
    "\n",
    "Поведение клиентов двух тарифов характеризуется следующими отличиями:\n",
    "- в среднем люди на тарифе \"Смарт\" стараются максимально полно использовать пакеты услуг, заложенные в абонентскую плату\n",
    "- клиенты на тарифе \"Ультра\" крайне редко выходят за лимиты (только по интернет-трафику)\n",
    "- на тарифе \"Ультра\" по всем трём показателям мы обнаружили очень большие стандартные отклонения, т.е. вариаций поведения клиента может быть много, в отличие от тарифа \"Смарт\"\n",
    "- по косвенным признакам можно предположить, что клиенты на тарифе \"Ультра\" представляют собой более обеспеченный слой населения, который не настроен получать максимальную \"отдачу\" от пакетов, входящих в абонентскую плату."
   ]
  },
  {
   "cell_type": "markdown",
   "metadata": {},
   "source": [
    "### 5. Проверка гипотез <a id=info12></a>"
   ]
  },
  {
   "cell_type": "markdown",
   "metadata": {},
   "source": [
    "Необходимо исследовать следующие гипотезы:\n",
    "\n",
    "- средняя выручка пользователей тарифов «Ультра» и «Смарт» различается;\n",
    "- средняя выручка пользователей из Москвы отличается от выручки пользователей из других регионов;\n",
    "\n",
    "#### 1. Средняя выручка пользователей тарифов «Ультра» и «Смарт» различается\n",
    "\n",
    "Для проверки данного утверждения сформулируем гипотезы:\n",
    "**Н0**: средняя выручка пользователей тарифов \"Ультра\" и \"Смарт\" одинакова. M(Ultra) = M(Smart)\n",
    "\n",
    "Альтернативная гипотеза **H1**: средняя выручка пользователей тарифов \"Ультра\" и \"Смарт\" различается.\n",
    "\n",
    "Поскольку мы исследуем гипотезу о равенстве средних и количество наблюдений в выборках более 50, то для проверки достоверности гипотезы мы будем использовать t-тест - t-критерий Стьюдента. Уровень статистической значимости установим на значении 0.05."
   ]
  },
  {
   "cell_type": "code",
   "execution_count": 156,
   "metadata": {},
   "outputs": [
    {
     "name": "stdout",
     "output_type": "stream",
     "text": [
      "p-value: 2.9776448000521676e-158\n",
      "Есть основания, чтобы отвергнуть нулевую гипотезу\n"
     ]
    }
   ],
   "source": [
    "#используем ранее заданные фреймы ultra и smart\n",
    "test_result = st.ttest_ind(ultra['revenue'], smart['revenue'])\n",
    "alpha = 0.05\n",
    "if test_result.pvalue > alpha:\n",
    "    print('p-value:', test_result.pvalue)\n",
    "    print('Нет оснований, чтобы отвергнуть нулевую гипотезу')\n",
    "if test_result.pvalue < alpha:\n",
    "    print('p-value:', test_result.pvalue)\n",
    "    print('Есть основания, чтобы отвергнуть нулевую гипотезу')"
   ]
  },
  {
   "cell_type": "markdown",
   "metadata": {},
   "source": [
    "Мы получили очень маленькое значение p-value для гипотезы H0, таким образом у нас есть основания предположить, что на генеральной совокупности средняя выручка пользователей двух тарифов различается.\n",
    "\n",
    "#### 2. Средняя выручка пользователей из Москвы отличается от средней выручки пользователей в других регионах\n",
    "\n",
    "Сформулируем нулевую гипотезу \n",
    "H0: средняя выручка пользователей из Москвы и регионов одинакова. M(moscow) = M (regions)\n",
    "Альтернативная гипотеза H1: средняя выручка пользователей Москвы и регионов отличается\n",
    "\n",
    "Также воспользуемся t-тестом:"
   ]
  },
  {
   "cell_type": "code",
   "execution_count": 157,
   "metadata": {},
   "outputs": [
    {
     "name": "stdout",
     "output_type": "stream",
     "text": [
      "p-value: 0.531666503831252\n",
      "Нет оснований, чтобы отвергнуть нулевую гипотезу\n"
     ]
    }
   ],
   "source": [
    "#сформируем массивы по выручке в Москве и регионах\n",
    "moscow = united_table.query('city == \"Москва\"')\n",
    "regions = united_table.query('city != \"Москва\"')\n",
    "alpha = 0.05\n",
    "test_result = st.ttest_ind(moscow['revenue'], regions['revenue'])\n",
    "if test_result.pvalue > alpha:\n",
    "    print('p-value:', test_result.pvalue)\n",
    "    print('Нет оснований, чтобы отвергнуть нулевую гипотезу')\n",
    "if test_result.pvalue < alpha:\n",
    "    print('p-value:', test_result.pvalue)\n",
    "    print('Есть основания, чтобы отвергнуть нулевую гипотезу')"
   ]
  },
  {
   "cell_type": "markdown",
   "metadata": {},
   "source": [
    "p-value - 0.53, достаточно большая величина, чтобы не было оснований отвергнуть нулевую гипотезу. Т.е. можем предположить, что на генеральной совокупности средняя выручка по москве и регионам существенно не отличается."
   ]
  },
  {
   "cell_type": "markdown",
   "metadata": {},
   "source": [
    "### Вывод <a id=info13></a>"
   ]
  },
  {
   "cell_type": "markdown",
   "metadata": {},
   "source": [
    "Мы проверили две гипотезы о генеральной совокупности. После данной проверки можно сделать следующие выводы:\n",
    "\n",
    "1. Средняя выручка пользователей тарифов \"Ультра\" и \"Смарт\" отличается\n",
    "2. Средняя выручка пользователей из Москвы и регионов не отличается"
   ]
  },
  {
   "cell_type": "markdown",
   "metadata": {},
   "source": [
    "### Общий вывод <a id=info14></a>"
   ]
  },
  {
   "cell_type": "markdown",
   "metadata": {},
   "source": [
    "В ходе анализа мы исследовали два тарифа компании \"Мегалайн\" - \"Ультра\" и \"Смарт\".\n",
    "\n",
    "Тарифы обладают следующими характеристиками:\n",
    "\n",
    "#### \"Ультра\"\n",
    "\n",
    "- среднее кол-во минут разговора в месяц - 497 (без выбросов - 514)\n",
    "- среднее кол-во смс в месяц - 49 (без выбросов - 60)\n",
    "- среднее кол-во мб в месяц - 19468 (без выбросов - 19658)\n",
    "\n",
    "\n",
    "#### \"Смарт\"\n",
    "\n",
    "- среднее кол-во минут разговора в месяц - 394 (без выбросов - 393)\n",
    "- среднее кол-во смс в месяц - 33 (без выбросов - 38)\n",
    "- среднее кол-во мб в месяц - 16208 (без выбросов - 16255)\n",
    "\n",
    "Мы обнаружили следующие особенности поведения клиентов двух тарифов:\n",
    "\n",
    "- \"Смарт\" - максимальное использование пакетов услуг в рамках абонентской платы, в 59% случаев происходит дополнительная покупка хотя бы 1 гб. траффика., в 39% случав произошел выход за лимит длительности разговоров.\n",
    "- \"Ультра\" - активность клиентов сильно диверсифицирована. При средних значениях, превышающих аналогичные показатели для тарифа \"Смарт\", прогнозировать поведение пользователей сложнее, так как разброс значений очень высок. \n",
    "\n",
    "Среднемесячная доходность с одного клиента на тарифе \"Смарт\" - **1294 руб.**, \"Ультра\" - **2071 руб.** (исследование статистической гипотезы показало, что разрыв в средней выручке с большой вероятностью присутствует в генеральной совокупности)\n",
    "Средняя выручка от одного клиента в регионах и г. Москва с большой вероятностью не будет иметь существенных отличий на генеральной совокупности.\n",
    "\n",
    "Также стоит обратить внимание, что наиболее востребованной является услуга по предоставлению **Интернет-трафика**, а наименее востребованной **Смс-сообщения**, т.к. они практически полностью вытеснены мессенджерами."
   ]
  }
 ],
 "metadata": {
  "kernelspec": {
   "display_name": "Python 3",
   "language": "python",
   "name": "python3"
  },
  "language_info": {
   "codemirror_mode": {
    "name": "ipython",
    "version": 3
   },
   "file_extension": ".py",
   "mimetype": "text/x-python",
   "name": "python",
   "nbconvert_exporter": "python",
   "pygments_lexer": "ipython3",
   "version": "3.8.5"
  }
 },
 "nbformat": 4,
 "nbformat_minor": 4
}
