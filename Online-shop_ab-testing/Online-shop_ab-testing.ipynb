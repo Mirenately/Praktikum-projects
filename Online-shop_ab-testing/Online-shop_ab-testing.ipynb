{
 "cells": [
  {
   "cell_type": "markdown",
   "metadata": {},
   "source": [
    "### Аналитика интернет-магазина"
   ]
  },
  {
   "cell_type": "markdown",
   "metadata": {},
   "source": [
    "В рамках анализа деятельности интернет-магазина необходимо провести приоритизацию выдвинутых гипотез, а также провести A/B тестирование.\n",
    "\n",
    "Для рассмотрения представлены следующие данные:\n",
    "\n",
    "1. Информация о 9 гипотезах по увеличению выручки интернет-магазина (hypotesis)\n",
    "2. Данные о заказах (orders)\n",
    "3. Данные о посещениях интернет-магазина (visitors)\n",
    "\n",
    "\n",
    "\n",
    "<a href='#info1'>1. Общая информация</a>\n",
    "\n",
    "- <a href='#info2'>Вывод</a>\n",
    "\n",
    "<a href='#info3'>2. Приоритизация гипотез</a>\n",
    "\n",
    "- <a href='#info4'>Вывод</a>\n",
    "\n",
    "<a href='#info5'>3. Анализ A/B - тестирования</a>\n",
    "\n",
    "<a href='#info6'>4. Общий вывод</a>"
   ]
  },
  {
   "cell_type": "markdown",
   "metadata": {},
   "source": [
    "### 1. Общая информация <a index = info1></a>"
   ]
  },
  {
   "cell_type": "markdown",
   "metadata": {},
   "source": [
    "Подгрузим необходимые библиотеки и данные в датафреймы."
   ]
  },
  {
   "cell_type": "code",
   "execution_count": 1,
   "metadata": {},
   "outputs": [],
   "source": [
    "import pandas as pd\n",
    "from scipy import stats as st\n",
    "import matplotlib.pyplot as plt\n",
    "import numpy as np\n",
    "import math\n",
    "import seaborn as sns"
   ]
  },
  {
   "cell_type": "code",
   "execution_count": 2,
   "metadata": {},
   "outputs": [],
   "source": [
    "import warnings\n",
    "warnings.filterwarnings('ignore')"
   ]
  },
  {
   "cell_type": "code",
   "execution_count": 3,
   "metadata": {},
   "outputs": [],
   "source": [
    "pd.set_option('max_colwidth', 400)"
   ]
  },
  {
   "cell_type": "markdown",
   "metadata": {},
   "source": [
    "1. Рассмотрим таблицу hypothesis:"
   ]
  },
  {
   "cell_type": "code",
   "execution_count": 5,
   "metadata": {},
   "outputs": [
    {
     "name": "stdout",
     "output_type": "stream",
     "text": [
      "<class 'pandas.core.frame.DataFrame'>\n",
      "RangeIndex: 9 entries, 0 to 8\n",
      "Data columns (total 5 columns):\n",
      " #   Column      Non-Null Count  Dtype \n",
      "---  ------      --------------  ----- \n",
      " 0   Hypothesis  9 non-null      object\n",
      " 1   Reach       9 non-null      int64 \n",
      " 2   Impact      9 non-null      int64 \n",
      " 3   Confidence  9 non-null      int64 \n",
      " 4   Efforts     9 non-null      int64 \n",
      "dtypes: int64(4), object(1)\n",
      "memory usage: 488.0+ bytes\n",
      "None\n"
     ]
    },
    {
     "data": {
      "text/html": [
       "<div>\n",
       "<style scoped>\n",
       "    .dataframe tbody tr th:only-of-type {\n",
       "        vertical-align: middle;\n",
       "    }\n",
       "\n",
       "    .dataframe tbody tr th {\n",
       "        vertical-align: top;\n",
       "    }\n",
       "\n",
       "    .dataframe thead th {\n",
       "        text-align: right;\n",
       "    }\n",
       "</style>\n",
       "<table border=\"1\" class=\"dataframe\">\n",
       "  <thead>\n",
       "    <tr style=\"text-align: right;\">\n",
       "      <th></th>\n",
       "      <th>Hypothesis</th>\n",
       "      <th>Reach</th>\n",
       "      <th>Impact</th>\n",
       "      <th>Confidence</th>\n",
       "      <th>Efforts</th>\n",
       "    </tr>\n",
       "  </thead>\n",
       "  <tbody>\n",
       "    <tr>\n",
       "      <th>0</th>\n",
       "      <td>Добавить два новых канала привлечения трафика, что позволит привлекать на 30% больше пользователей</td>\n",
       "      <td>3</td>\n",
       "      <td>10</td>\n",
       "      <td>8</td>\n",
       "      <td>6</td>\n",
       "    </tr>\n",
       "    <tr>\n",
       "      <th>1</th>\n",
       "      <td>Запустить собственную службу доставки, что сократит срок доставки заказов</td>\n",
       "      <td>2</td>\n",
       "      <td>5</td>\n",
       "      <td>4</td>\n",
       "      <td>10</td>\n",
       "    </tr>\n",
       "    <tr>\n",
       "      <th>2</th>\n",
       "      <td>Добавить блоки рекомендаций товаров на сайт интернет магазина, чтобы повысить конверсию и средний чек заказа</td>\n",
       "      <td>8</td>\n",
       "      <td>3</td>\n",
       "      <td>7</td>\n",
       "      <td>3</td>\n",
       "    </tr>\n",
       "    <tr>\n",
       "      <th>3</th>\n",
       "      <td>Изменить структура категорий, что увеличит конверсию, т.к. пользователи быстрее найдут нужный товар</td>\n",
       "      <td>8</td>\n",
       "      <td>3</td>\n",
       "      <td>3</td>\n",
       "      <td>8</td>\n",
       "    </tr>\n",
       "    <tr>\n",
       "      <th>4</th>\n",
       "      <td>Изменить цвет фона главной страницы, чтобы увеличить вовлеченность пользователей</td>\n",
       "      <td>3</td>\n",
       "      <td>1</td>\n",
       "      <td>1</td>\n",
       "      <td>1</td>\n",
       "    </tr>\n",
       "    <tr>\n",
       "      <th>5</th>\n",
       "      <td>Добавить страницу отзывов клиентов о магазине, что позволит увеличить количество заказов</td>\n",
       "      <td>3</td>\n",
       "      <td>2</td>\n",
       "      <td>2</td>\n",
       "      <td>3</td>\n",
       "    </tr>\n",
       "    <tr>\n",
       "      <th>6</th>\n",
       "      <td>Показать на главной странице баннеры с актуальными акциями и распродажами, чтобы увеличить конверсию</td>\n",
       "      <td>5</td>\n",
       "      <td>3</td>\n",
       "      <td>8</td>\n",
       "      <td>3</td>\n",
       "    </tr>\n",
       "    <tr>\n",
       "      <th>7</th>\n",
       "      <td>Добавить форму подписки на все основные страницы, чтобы собрать базу клиентов для email-рассылок</td>\n",
       "      <td>10</td>\n",
       "      <td>7</td>\n",
       "      <td>8</td>\n",
       "      <td>5</td>\n",
       "    </tr>\n",
       "    <tr>\n",
       "      <th>8</th>\n",
       "      <td>Запустить акцию, дающую скидку на товар в день рождения</td>\n",
       "      <td>1</td>\n",
       "      <td>9</td>\n",
       "      <td>9</td>\n",
       "      <td>5</td>\n",
       "    </tr>\n",
       "  </tbody>\n",
       "</table>\n",
       "</div>"
      ],
      "text/plain": [
       "                                                                                                     Hypothesis  \\\n",
       "0            Добавить два новых канала привлечения трафика, что позволит привлекать на 30% больше пользователей   \n",
       "1                                     Запустить собственную службу доставки, что сократит срок доставки заказов   \n",
       "2  Добавить блоки рекомендаций товаров на сайт интернет магазина, чтобы повысить конверсию и средний чек заказа   \n",
       "3           Изменить структура категорий, что увеличит конверсию, т.к. пользователи быстрее найдут нужный товар   \n",
       "4                              Изменить цвет фона главной страницы, чтобы увеличить вовлеченность пользователей   \n",
       "5                      Добавить страницу отзывов клиентов о магазине, что позволит увеличить количество заказов   \n",
       "6          Показать на главной странице баннеры с актуальными акциями и распродажами, чтобы увеличить конверсию   \n",
       "7              Добавить форму подписки на все основные страницы, чтобы собрать базу клиентов для email-рассылок   \n",
       "8                                                       Запустить акцию, дающую скидку на товар в день рождения   \n",
       "\n",
       "   Reach  Impact  Confidence  Efforts  \n",
       "0      3      10           8        6  \n",
       "1      2       5           4       10  \n",
       "2      8       3           7        3  \n",
       "3      8       3           3        8  \n",
       "4      3       1           1        1  \n",
       "5      3       2           2        3  \n",
       "6      5       3           8        3  \n",
       "7     10       7           8        5  \n",
       "8      1       9           9        5  "
      ]
     },
     "metadata": {},
     "output_type": "display_data"
    }
   ],
   "source": [
    "print(hypothesis.info())\n",
    "display(hypothesis)"
   ]
  },
  {
   "cell_type": "markdown",
   "metadata": {},
   "source": [
    "В таблицу внесено 9 гипотез с различными оценками характеристик reach (охват), impact (эффект), confidence (уверенность)б efforts (усилия).\n",
    "Ошибки в данных отсутствуют, однако названиях колонок используются символы разных регистров. Переведём их в нижний регистр. "
   ]
  },
  {
   "cell_type": "code",
   "execution_count": 6,
   "metadata": {},
   "outputs": [
    {
     "name": "stdout",
     "output_type": "stream",
     "text": [
      "Index(['hypothesis', 'reach', 'impact', 'confidence', 'efforts'], dtype='object')\n"
     ]
    }
   ],
   "source": [
    "hypothesis.columns = hypothesis.columns.str.lower()\n",
    "print(hypothesis.columns)"
   ]
  },
  {
   "cell_type": "markdown",
   "metadata": {},
   "source": [
    "Мы рассмотрели первый из фреймов. Ошибок в данных не обнаружено, названия столбцов приведены к нижнему регистру. Перейдём к рассмотрению следующих таблиц.\n",
    "\n",
    "2. Orders - информация о заказах"
   ]
  },
  {
   "cell_type": "code",
   "execution_count": 7,
   "metadata": {
    "scrolled": false
   },
   "outputs": [
    {
     "name": "stdout",
     "output_type": "stream",
     "text": [
      "<class 'pandas.core.frame.DataFrame'>\n",
      "RangeIndex: 1197 entries, 0 to 1196\n",
      "Data columns (total 5 columns):\n",
      " #   Column         Non-Null Count  Dtype \n",
      "---  ------         --------------  ----- \n",
      " 0   transactionId  1197 non-null   int64 \n",
      " 1   visitorId      1197 non-null   int64 \n",
      " 2   date           1197 non-null   object\n",
      " 3   revenue        1197 non-null   int64 \n",
      " 4   group          1197 non-null   object\n",
      "dtypes: int64(3), object(2)\n",
      "memory usage: 46.9+ KB\n",
      "None\n"
     ]
    },
    {
     "data": {
      "text/html": [
       "<div>\n",
       "<style scoped>\n",
       "    .dataframe tbody tr th:only-of-type {\n",
       "        vertical-align: middle;\n",
       "    }\n",
       "\n",
       "    .dataframe tbody tr th {\n",
       "        vertical-align: top;\n",
       "    }\n",
       "\n",
       "    .dataframe thead th {\n",
       "        text-align: right;\n",
       "    }\n",
       "</style>\n",
       "<table border=\"1\" class=\"dataframe\">\n",
       "  <thead>\n",
       "    <tr style=\"text-align: right;\">\n",
       "      <th></th>\n",
       "      <th>transactionId</th>\n",
       "      <th>visitorId</th>\n",
       "      <th>date</th>\n",
       "      <th>revenue</th>\n",
       "      <th>group</th>\n",
       "    </tr>\n",
       "  </thead>\n",
       "  <tbody>\n",
       "    <tr>\n",
       "      <th>0</th>\n",
       "      <td>3667963787</td>\n",
       "      <td>3312258926</td>\n",
       "      <td>2019-08-15</td>\n",
       "      <td>1650</td>\n",
       "      <td>B</td>\n",
       "    </tr>\n",
       "    <tr>\n",
       "      <th>1</th>\n",
       "      <td>2804400009</td>\n",
       "      <td>3642806036</td>\n",
       "      <td>2019-08-15</td>\n",
       "      <td>730</td>\n",
       "      <td>B</td>\n",
       "    </tr>\n",
       "    <tr>\n",
       "      <th>2</th>\n",
       "      <td>2961555356</td>\n",
       "      <td>4069496402</td>\n",
       "      <td>2019-08-15</td>\n",
       "      <td>400</td>\n",
       "      <td>A</td>\n",
       "    </tr>\n",
       "    <tr>\n",
       "      <th>3</th>\n",
       "      <td>3797467345</td>\n",
       "      <td>1196621759</td>\n",
       "      <td>2019-08-15</td>\n",
       "      <td>9759</td>\n",
       "      <td>B</td>\n",
       "    </tr>\n",
       "    <tr>\n",
       "      <th>4</th>\n",
       "      <td>2282983706</td>\n",
       "      <td>2322279887</td>\n",
       "      <td>2019-08-15</td>\n",
       "      <td>2308</td>\n",
       "      <td>B</td>\n",
       "    </tr>\n",
       "  </tbody>\n",
       "</table>\n",
       "</div>"
      ],
      "text/plain": [
       "   transactionId   visitorId        date  revenue group\n",
       "0     3667963787  3312258926  2019-08-15     1650     B\n",
       "1     2804400009  3642806036  2019-08-15      730     B\n",
       "2     2961555356  4069496402  2019-08-15      400     A\n",
       "3     3797467345  1196621759  2019-08-15     9759     B\n",
       "4     2282983706  2322279887  2019-08-15     2308     B"
      ]
     },
     "metadata": {},
     "output_type": "display_data"
    }
   ],
   "source": [
    "print(orders.info())\n",
    "display(orders.head())"
   ]
  },
  {
   "cell_type": "markdown",
   "metadata": {},
   "source": [
    "В таблице содержится 1197 значений в 5 столбцах. Пропуски отсутствуют. На первый взгляд мы можем выделить 2 проблемы с данными:\n",
    "\n",
    "1. Разный регистр в названиях столбцов (transactionId, visitorId)\n",
    "2. Неправильный формат данных столбца date.\n",
    "\n",
    "Выборочно переименуем наименования столбцов:"
   ]
  },
  {
   "cell_type": "code",
   "execution_count": 8,
   "metadata": {},
   "outputs": [
    {
     "name": "stdout",
     "output_type": "stream",
     "text": [
      "Index(['transaction_id', 'visitor_id', 'date', 'revenue', 'group'], dtype='object')\n"
     ]
    }
   ],
   "source": [
    "orders.rename(columns = ({'transactionId': 'transaction_id', 'visitorId': 'visitor_id'}), inplace = True)\n",
    "print(orders.columns)"
   ]
  },
  {
   "cell_type": "markdown",
   "metadata": {},
   "source": [
    "Переведём столбец date в формат datetime:"
   ]
  },
  {
   "cell_type": "code",
   "execution_count": 9,
   "metadata": {},
   "outputs": [
    {
     "name": "stdout",
     "output_type": "stream",
     "text": [
      "<class 'pandas.core.frame.DataFrame'>\n",
      "RangeIndex: 1197 entries, 0 to 1196\n",
      "Data columns (total 5 columns):\n",
      " #   Column          Non-Null Count  Dtype         \n",
      "---  ------          --------------  -----         \n",
      " 0   transaction_id  1197 non-null   int64         \n",
      " 1   visitor_id      1197 non-null   int64         \n",
      " 2   date            1197 non-null   datetime64[ns]\n",
      " 3   revenue         1197 non-null   int64         \n",
      " 4   group           1197 non-null   object        \n",
      "dtypes: datetime64[ns](1), int64(3), object(1)\n",
      "memory usage: 46.9+ KB\n",
      "None\n"
     ]
    },
    {
     "data": {
      "text/html": [
       "<div>\n",
       "<style scoped>\n",
       "    .dataframe tbody tr th:only-of-type {\n",
       "        vertical-align: middle;\n",
       "    }\n",
       "\n",
       "    .dataframe tbody tr th {\n",
       "        vertical-align: top;\n",
       "    }\n",
       "\n",
       "    .dataframe thead th {\n",
       "        text-align: right;\n",
       "    }\n",
       "</style>\n",
       "<table border=\"1\" class=\"dataframe\">\n",
       "  <thead>\n",
       "    <tr style=\"text-align: right;\">\n",
       "      <th></th>\n",
       "      <th>transaction_id</th>\n",
       "      <th>visitor_id</th>\n",
       "      <th>date</th>\n",
       "      <th>revenue</th>\n",
       "      <th>group</th>\n",
       "    </tr>\n",
       "  </thead>\n",
       "  <tbody>\n",
       "    <tr>\n",
       "      <th>0</th>\n",
       "      <td>3667963787</td>\n",
       "      <td>3312258926</td>\n",
       "      <td>2019-08-15</td>\n",
       "      <td>1650</td>\n",
       "      <td>B</td>\n",
       "    </tr>\n",
       "    <tr>\n",
       "      <th>1</th>\n",
       "      <td>2804400009</td>\n",
       "      <td>3642806036</td>\n",
       "      <td>2019-08-15</td>\n",
       "      <td>730</td>\n",
       "      <td>B</td>\n",
       "    </tr>\n",
       "    <tr>\n",
       "      <th>2</th>\n",
       "      <td>2961555356</td>\n",
       "      <td>4069496402</td>\n",
       "      <td>2019-08-15</td>\n",
       "      <td>400</td>\n",
       "      <td>A</td>\n",
       "    </tr>\n",
       "    <tr>\n",
       "      <th>3</th>\n",
       "      <td>3797467345</td>\n",
       "      <td>1196621759</td>\n",
       "      <td>2019-08-15</td>\n",
       "      <td>9759</td>\n",
       "      <td>B</td>\n",
       "    </tr>\n",
       "    <tr>\n",
       "      <th>4</th>\n",
       "      <td>2282983706</td>\n",
       "      <td>2322279887</td>\n",
       "      <td>2019-08-15</td>\n",
       "      <td>2308</td>\n",
       "      <td>B</td>\n",
       "    </tr>\n",
       "  </tbody>\n",
       "</table>\n",
       "</div>"
      ],
      "text/plain": [
       "   transaction_id  visitor_id       date  revenue group\n",
       "0      3667963787  3312258926 2019-08-15     1650     B\n",
       "1      2804400009  3642806036 2019-08-15      730     B\n",
       "2      2961555356  4069496402 2019-08-15      400     A\n",
       "3      3797467345  1196621759 2019-08-15     9759     B\n",
       "4      2282983706  2322279887 2019-08-15     2308     B"
      ]
     },
     "metadata": {},
     "output_type": "display_data"
    }
   ],
   "source": [
    "orders['date'] = pd.to_datetime(orders['date'], format = '%Y-%m-%d')\n",
    "print(orders.info())\n",
    "display(orders.head())"
   ]
  },
  {
   "cell_type": "markdown",
   "metadata": {},
   "source": [
    "3. Рассмотрим информацию о посещениях в таблице visitors."
   ]
  },
  {
   "cell_type": "code",
   "execution_count": 10,
   "metadata": {},
   "outputs": [
    {
     "name": "stdout",
     "output_type": "stream",
     "text": [
      "<class 'pandas.core.frame.DataFrame'>\n",
      "RangeIndex: 62 entries, 0 to 61\n",
      "Data columns (total 3 columns):\n",
      " #   Column    Non-Null Count  Dtype \n",
      "---  ------    --------------  ----- \n",
      " 0   date      62 non-null     object\n",
      " 1   group     62 non-null     object\n",
      " 2   visitors  62 non-null     int64 \n",
      "dtypes: int64(1), object(2)\n",
      "memory usage: 1.6+ KB\n",
      "None\n"
     ]
    },
    {
     "data": {
      "text/html": [
       "<div>\n",
       "<style scoped>\n",
       "    .dataframe tbody tr th:only-of-type {\n",
       "        vertical-align: middle;\n",
       "    }\n",
       "\n",
       "    .dataframe tbody tr th {\n",
       "        vertical-align: top;\n",
       "    }\n",
       "\n",
       "    .dataframe thead th {\n",
       "        text-align: right;\n",
       "    }\n",
       "</style>\n",
       "<table border=\"1\" class=\"dataframe\">\n",
       "  <thead>\n",
       "    <tr style=\"text-align: right;\">\n",
       "      <th></th>\n",
       "      <th>date</th>\n",
       "      <th>group</th>\n",
       "      <th>visitors</th>\n",
       "    </tr>\n",
       "  </thead>\n",
       "  <tbody>\n",
       "    <tr>\n",
       "      <th>0</th>\n",
       "      <td>2019-08-01</td>\n",
       "      <td>A</td>\n",
       "      <td>719</td>\n",
       "    </tr>\n",
       "    <tr>\n",
       "      <th>1</th>\n",
       "      <td>2019-08-02</td>\n",
       "      <td>A</td>\n",
       "      <td>619</td>\n",
       "    </tr>\n",
       "    <tr>\n",
       "      <th>2</th>\n",
       "      <td>2019-08-03</td>\n",
       "      <td>A</td>\n",
       "      <td>507</td>\n",
       "    </tr>\n",
       "    <tr>\n",
       "      <th>3</th>\n",
       "      <td>2019-08-04</td>\n",
       "      <td>A</td>\n",
       "      <td>717</td>\n",
       "    </tr>\n",
       "    <tr>\n",
       "      <th>4</th>\n",
       "      <td>2019-08-05</td>\n",
       "      <td>A</td>\n",
       "      <td>756</td>\n",
       "    </tr>\n",
       "  </tbody>\n",
       "</table>\n",
       "</div>"
      ],
      "text/plain": [
       "         date group  visitors\n",
       "0  2019-08-01     A       719\n",
       "1  2019-08-02     A       619\n",
       "2  2019-08-03     A       507\n",
       "3  2019-08-04     A       717\n",
       "4  2019-08-05     A       756"
      ]
     },
     "metadata": {},
     "output_type": "display_data"
    }
   ],
   "source": [
    "print(visitors.info())\n",
    "display(visitors.head())"
   ]
  },
  {
   "cell_type": "markdown",
   "metadata": {},
   "source": [
    "Данные представлены в 62 строках и 3 столбцах - date, group, visitors. Пропусков в данных не обнаружено. Видимые проблемы в данных - неправильный формат столбца date. Переведём его в datetime."
   ]
  },
  {
   "cell_type": "code",
   "execution_count": 11,
   "metadata": {
    "scrolled": false
   },
   "outputs": [
    {
     "name": "stdout",
     "output_type": "stream",
     "text": [
      "<class 'pandas.core.frame.DataFrame'>\n",
      "RangeIndex: 62 entries, 0 to 61\n",
      "Data columns (total 3 columns):\n",
      " #   Column    Non-Null Count  Dtype         \n",
      "---  ------    --------------  -----         \n",
      " 0   date      62 non-null     datetime64[ns]\n",
      " 1   group     62 non-null     object        \n",
      " 2   visitors  62 non-null     int64         \n",
      "dtypes: datetime64[ns](1), int64(1), object(1)\n",
      "memory usage: 1.6+ KB\n",
      "None\n"
     ]
    },
    {
     "data": {
      "text/html": [
       "<div>\n",
       "<style scoped>\n",
       "    .dataframe tbody tr th:only-of-type {\n",
       "        vertical-align: middle;\n",
       "    }\n",
       "\n",
       "    .dataframe tbody tr th {\n",
       "        vertical-align: top;\n",
       "    }\n",
       "\n",
       "    .dataframe thead th {\n",
       "        text-align: right;\n",
       "    }\n",
       "</style>\n",
       "<table border=\"1\" class=\"dataframe\">\n",
       "  <thead>\n",
       "    <tr style=\"text-align: right;\">\n",
       "      <th></th>\n",
       "      <th>date</th>\n",
       "      <th>group</th>\n",
       "      <th>visitors</th>\n",
       "    </tr>\n",
       "  </thead>\n",
       "  <tbody>\n",
       "    <tr>\n",
       "      <th>0</th>\n",
       "      <td>2019-08-01</td>\n",
       "      <td>A</td>\n",
       "      <td>719</td>\n",
       "    </tr>\n",
       "    <tr>\n",
       "      <th>1</th>\n",
       "      <td>2019-08-02</td>\n",
       "      <td>A</td>\n",
       "      <td>619</td>\n",
       "    </tr>\n",
       "    <tr>\n",
       "      <th>2</th>\n",
       "      <td>2019-08-03</td>\n",
       "      <td>A</td>\n",
       "      <td>507</td>\n",
       "    </tr>\n",
       "    <tr>\n",
       "      <th>3</th>\n",
       "      <td>2019-08-04</td>\n",
       "      <td>A</td>\n",
       "      <td>717</td>\n",
       "    </tr>\n",
       "    <tr>\n",
       "      <th>4</th>\n",
       "      <td>2019-08-05</td>\n",
       "      <td>A</td>\n",
       "      <td>756</td>\n",
       "    </tr>\n",
       "  </tbody>\n",
       "</table>\n",
       "</div>"
      ],
      "text/plain": [
       "        date group  visitors\n",
       "0 2019-08-01     A       719\n",
       "1 2019-08-02     A       619\n",
       "2 2019-08-03     A       507\n",
       "3 2019-08-04     A       717\n",
       "4 2019-08-05     A       756"
      ]
     },
     "metadata": {},
     "output_type": "display_data"
    }
   ],
   "source": [
    "visitors['date'] = pd.to_datetime(visitors['date'], format = '%Y-%m-%d')\n",
    "print(visitors.info())\n",
    "display(visitors.head())"
   ]
  },
  {
   "cell_type": "markdown",
   "metadata": {},
   "source": [
    "### Вывод <a index=info2></a>\n",
    "\n",
    "Мы рассмотрели 3 представленных фрейма с данными - hypothesis, orders, visitors. Пропусков в данных не обнаружено. Была произведена следующая предварительная подготовка:\n",
    "\n",
    "1. Скорректированы названия столбцов в таблицах hypothesis, orders.\n",
    "2. Изменены на формат datetime столбцы date в таблицах orders и visitors.\n",
    "\n",
    "Переходим к анализу гипотез."
   ]
  },
  {
   "cell_type": "markdown",
   "metadata": {},
   "source": [
    "### 2. Приоритизация гипотез <a index = info3></a>"
   ]
  },
  {
   "cell_type": "markdown",
   "metadata": {},
   "source": [
    "Рассмотрим, какие гипотезы будут приоритетными для проверки. Воспользуемся методиками ICE и RICE. Добавим расчеты оценок по данным методикам в фрейм hypothesis."
   ]
  },
  {
   "cell_type": "code",
   "execution_count": 12,
   "metadata": {},
   "outputs": [
    {
     "data": {
      "text/html": [
       "<div>\n",
       "<style scoped>\n",
       "    .dataframe tbody tr th:only-of-type {\n",
       "        vertical-align: middle;\n",
       "    }\n",
       "\n",
       "    .dataframe tbody tr th {\n",
       "        vertical-align: top;\n",
       "    }\n",
       "\n",
       "    .dataframe thead th {\n",
       "        text-align: right;\n",
       "    }\n",
       "</style>\n",
       "<table border=\"1\" class=\"dataframe\">\n",
       "  <thead>\n",
       "    <tr style=\"text-align: right;\">\n",
       "      <th></th>\n",
       "      <th>hypothesis</th>\n",
       "      <th>reach</th>\n",
       "      <th>impact</th>\n",
       "      <th>confidence</th>\n",
       "      <th>efforts</th>\n",
       "      <th>ice_score</th>\n",
       "      <th>rice_score</th>\n",
       "    </tr>\n",
       "  </thead>\n",
       "  <tbody>\n",
       "    <tr>\n",
       "      <th>0</th>\n",
       "      <td>Добавить два новых канала привлечения трафика, что позволит привлекать на 30% больше пользователей</td>\n",
       "      <td>3</td>\n",
       "      <td>10</td>\n",
       "      <td>8</td>\n",
       "      <td>6</td>\n",
       "      <td>13.33</td>\n",
       "      <td>40.0</td>\n",
       "    </tr>\n",
       "    <tr>\n",
       "      <th>1</th>\n",
       "      <td>Запустить собственную службу доставки, что сократит срок доставки заказов</td>\n",
       "      <td>2</td>\n",
       "      <td>5</td>\n",
       "      <td>4</td>\n",
       "      <td>10</td>\n",
       "      <td>2.00</td>\n",
       "      <td>4.0</td>\n",
       "    </tr>\n",
       "    <tr>\n",
       "      <th>2</th>\n",
       "      <td>Добавить блоки рекомендаций товаров на сайт интернет магазина, чтобы повысить конверсию и средний чек заказа</td>\n",
       "      <td>8</td>\n",
       "      <td>3</td>\n",
       "      <td>7</td>\n",
       "      <td>3</td>\n",
       "      <td>7.00</td>\n",
       "      <td>56.0</td>\n",
       "    </tr>\n",
       "    <tr>\n",
       "      <th>3</th>\n",
       "      <td>Изменить структура категорий, что увеличит конверсию, т.к. пользователи быстрее найдут нужный товар</td>\n",
       "      <td>8</td>\n",
       "      <td>3</td>\n",
       "      <td>3</td>\n",
       "      <td>8</td>\n",
       "      <td>1.12</td>\n",
       "      <td>9.0</td>\n",
       "    </tr>\n",
       "    <tr>\n",
       "      <th>4</th>\n",
       "      <td>Изменить цвет фона главной страницы, чтобы увеличить вовлеченность пользователей</td>\n",
       "      <td>3</td>\n",
       "      <td>1</td>\n",
       "      <td>1</td>\n",
       "      <td>1</td>\n",
       "      <td>1.00</td>\n",
       "      <td>3.0</td>\n",
       "    </tr>\n",
       "    <tr>\n",
       "      <th>5</th>\n",
       "      <td>Добавить страницу отзывов клиентов о магазине, что позволит увеличить количество заказов</td>\n",
       "      <td>3</td>\n",
       "      <td>2</td>\n",
       "      <td>2</td>\n",
       "      <td>3</td>\n",
       "      <td>1.33</td>\n",
       "      <td>4.0</td>\n",
       "    </tr>\n",
       "    <tr>\n",
       "      <th>6</th>\n",
       "      <td>Показать на главной странице баннеры с актуальными акциями и распродажами, чтобы увеличить конверсию</td>\n",
       "      <td>5</td>\n",
       "      <td>3</td>\n",
       "      <td>8</td>\n",
       "      <td>3</td>\n",
       "      <td>8.00</td>\n",
       "      <td>40.0</td>\n",
       "    </tr>\n",
       "    <tr>\n",
       "      <th>7</th>\n",
       "      <td>Добавить форму подписки на все основные страницы, чтобы собрать базу клиентов для email-рассылок</td>\n",
       "      <td>10</td>\n",
       "      <td>7</td>\n",
       "      <td>8</td>\n",
       "      <td>5</td>\n",
       "      <td>11.20</td>\n",
       "      <td>112.0</td>\n",
       "    </tr>\n",
       "    <tr>\n",
       "      <th>8</th>\n",
       "      <td>Запустить акцию, дающую скидку на товар в день рождения</td>\n",
       "      <td>1</td>\n",
       "      <td>9</td>\n",
       "      <td>9</td>\n",
       "      <td>5</td>\n",
       "      <td>16.20</td>\n",
       "      <td>16.2</td>\n",
       "    </tr>\n",
       "  </tbody>\n",
       "</table>\n",
       "</div>"
      ],
      "text/plain": [
       "                                                                                                     hypothesis  \\\n",
       "0            Добавить два новых канала привлечения трафика, что позволит привлекать на 30% больше пользователей   \n",
       "1                                     Запустить собственную службу доставки, что сократит срок доставки заказов   \n",
       "2  Добавить блоки рекомендаций товаров на сайт интернет магазина, чтобы повысить конверсию и средний чек заказа   \n",
       "3           Изменить структура категорий, что увеличит конверсию, т.к. пользователи быстрее найдут нужный товар   \n",
       "4                              Изменить цвет фона главной страницы, чтобы увеличить вовлеченность пользователей   \n",
       "5                      Добавить страницу отзывов клиентов о магазине, что позволит увеличить количество заказов   \n",
       "6          Показать на главной странице баннеры с актуальными акциями и распродажами, чтобы увеличить конверсию   \n",
       "7              Добавить форму подписки на все основные страницы, чтобы собрать базу клиентов для email-рассылок   \n",
       "8                                                       Запустить акцию, дающую скидку на товар в день рождения   \n",
       "\n",
       "   reach  impact  confidence  efforts  ice_score  rice_score  \n",
       "0      3      10           8        6      13.33        40.0  \n",
       "1      2       5           4       10       2.00         4.0  \n",
       "2      8       3           7        3       7.00        56.0  \n",
       "3      8       3           3        8       1.12         9.0  \n",
       "4      3       1           1        1       1.00         3.0  \n",
       "5      3       2           2        3       1.33         4.0  \n",
       "6      5       3           8        3       8.00        40.0  \n",
       "7     10       7           8        5      11.20       112.0  \n",
       "8      1       9           9        5      16.20        16.2  "
      ]
     },
     "metadata": {},
     "output_type": "display_data"
    }
   ],
   "source": [
    "hypothesis['ice_score'] = (hypothesis['impact']*hypothesis['confidence']/hypothesis['efforts']).round(2)\n",
    "hypothesis['rice_score'] = (hypothesis['impact']*hypothesis['confidence']*hypothesis['reach']/hypothesis['efforts']).round(2)\n",
    "display(hypothesis)"
   ]
  },
  {
   "cell_type": "code",
   "execution_count": 13,
   "metadata": {},
   "outputs": [
    {
     "name": "stdout",
     "output_type": "stream",
     "text": [
      "['Добавить два новых канала привлечения трафика, что позволит привлекать на 30% больше пользователей'\n",
      " 'Запустить собственную службу доставки, что сократит срок доставки заказов'\n",
      " 'Добавить блоки рекомендаций товаров на сайт интернет магазина, чтобы повысить конверсию и средний чек заказа'\n",
      " 'Изменить структура категорий, что увеличит конверсию, т.к. пользователи быстрее найдут нужный товар'\n",
      " 'Изменить цвет фона главной страницы, чтобы увеличить вовлеченность пользователей'\n",
      " 'Добавить страницу отзывов клиентов о магазине, что позволит увеличить количество заказов'\n",
      " 'Показать на главной странице баннеры с актуальными акциями и распродажами, чтобы увеличить конверсию'\n",
      " 'Добавить форму подписки на все основные страницы, чтобы собрать базу клиентов для email-рассылок'\n",
      " 'Запустить акцию, дающую скидку на товар в день рождения']\n"
     ]
    }
   ],
   "source": [
    "print(hypothesis['hypothesis'].unique())"
   ]
  },
  {
   "cell_type": "code",
   "execution_count": 14,
   "metadata": {},
   "outputs": [
    {
     "data": {
      "text/html": [
       "<div>\n",
       "<style scoped>\n",
       "    .dataframe tbody tr th:only-of-type {\n",
       "        vertical-align: middle;\n",
       "    }\n",
       "\n",
       "    .dataframe tbody tr th {\n",
       "        vertical-align: top;\n",
       "    }\n",
       "\n",
       "    .dataframe thead th {\n",
       "        text-align: right;\n",
       "    }\n",
       "</style>\n",
       "<table border=\"1\" class=\"dataframe\">\n",
       "  <thead>\n",
       "    <tr style=\"text-align: right;\">\n",
       "      <th></th>\n",
       "      <th>hypothesis</th>\n",
       "      <th>ice_score</th>\n",
       "    </tr>\n",
       "  </thead>\n",
       "  <tbody>\n",
       "    <tr>\n",
       "      <th>8</th>\n",
       "      <td>Запустить акцию, дающую скидку на товар в день рождения</td>\n",
       "      <td>16.20</td>\n",
       "    </tr>\n",
       "    <tr>\n",
       "      <th>0</th>\n",
       "      <td>Добавить два новых канала привлечения трафика, что позволит привлекать на 30% больше пользователей</td>\n",
       "      <td>13.33</td>\n",
       "    </tr>\n",
       "    <tr>\n",
       "      <th>7</th>\n",
       "      <td>Добавить форму подписки на все основные страницы, чтобы собрать базу клиентов для email-рассылок</td>\n",
       "      <td>11.20</td>\n",
       "    </tr>\n",
       "    <tr>\n",
       "      <th>6</th>\n",
       "      <td>Показать на главной странице баннеры с актуальными акциями и распродажами, чтобы увеличить конверсию</td>\n",
       "      <td>8.00</td>\n",
       "    </tr>\n",
       "    <tr>\n",
       "      <th>2</th>\n",
       "      <td>Добавить блоки рекомендаций товаров на сайт интернет магазина, чтобы повысить конверсию и средний чек заказа</td>\n",
       "      <td>7.00</td>\n",
       "    </tr>\n",
       "    <tr>\n",
       "      <th>1</th>\n",
       "      <td>Запустить собственную службу доставки, что сократит срок доставки заказов</td>\n",
       "      <td>2.00</td>\n",
       "    </tr>\n",
       "    <tr>\n",
       "      <th>5</th>\n",
       "      <td>Добавить страницу отзывов клиентов о магазине, что позволит увеличить количество заказов</td>\n",
       "      <td>1.33</td>\n",
       "    </tr>\n",
       "    <tr>\n",
       "      <th>3</th>\n",
       "      <td>Изменить структура категорий, что увеличит конверсию, т.к. пользователи быстрее найдут нужный товар</td>\n",
       "      <td>1.12</td>\n",
       "    </tr>\n",
       "    <tr>\n",
       "      <th>4</th>\n",
       "      <td>Изменить цвет фона главной страницы, чтобы увеличить вовлеченность пользователей</td>\n",
       "      <td>1.00</td>\n",
       "    </tr>\n",
       "  </tbody>\n",
       "</table>\n",
       "</div>"
      ],
      "text/plain": [
       "                                                                                                     hypothesis  \\\n",
       "8                                                       Запустить акцию, дающую скидку на товар в день рождения   \n",
       "0            Добавить два новых канала привлечения трафика, что позволит привлекать на 30% больше пользователей   \n",
       "7              Добавить форму подписки на все основные страницы, чтобы собрать базу клиентов для email-рассылок   \n",
       "6          Показать на главной странице баннеры с актуальными акциями и распродажами, чтобы увеличить конверсию   \n",
       "2  Добавить блоки рекомендаций товаров на сайт интернет магазина, чтобы повысить конверсию и средний чек заказа   \n",
       "1                                     Запустить собственную службу доставки, что сократит срок доставки заказов   \n",
       "5                      Добавить страницу отзывов клиентов о магазине, что позволит увеличить количество заказов   \n",
       "3           Изменить структура категорий, что увеличит конверсию, т.к. пользователи быстрее найдут нужный товар   \n",
       "4                              Изменить цвет фона главной страницы, чтобы увеличить вовлеченность пользователей   \n",
       "\n",
       "   ice_score  \n",
       "8      16.20  \n",
       "0      13.33  \n",
       "7      11.20  \n",
       "6       8.00  \n",
       "2       7.00  \n",
       "1       2.00  \n",
       "5       1.33  \n",
       "3       1.12  \n",
       "4       1.00  "
      ]
     },
     "metadata": {},
     "output_type": "display_data"
    }
   ],
   "source": [
    "display(hypothesis[['hypothesis', 'ice_score']].sort_values('ice_score', ascending = False))"
   ]
  },
  {
   "cell_type": "markdown",
   "metadata": {},
   "source": [
    "По методике ICE приоритетной является гипотеза 8, на втором месте - гипотеза с индексом 0, на третьем - гипотеза 7.\n",
    "\n",
    "Рассмотрим оценку гипотез по методике RICE."
   ]
  },
  {
   "cell_type": "code",
   "execution_count": 15,
   "metadata": {
    "scrolled": false
   },
   "outputs": [
    {
     "data": {
      "text/html": [
       "<div>\n",
       "<style scoped>\n",
       "    .dataframe tbody tr th:only-of-type {\n",
       "        vertical-align: middle;\n",
       "    }\n",
       "\n",
       "    .dataframe tbody tr th {\n",
       "        vertical-align: top;\n",
       "    }\n",
       "\n",
       "    .dataframe thead th {\n",
       "        text-align: right;\n",
       "    }\n",
       "</style>\n",
       "<table border=\"1\" class=\"dataframe\">\n",
       "  <thead>\n",
       "    <tr style=\"text-align: right;\">\n",
       "      <th></th>\n",
       "      <th>hypothesis</th>\n",
       "      <th>rice_score</th>\n",
       "    </tr>\n",
       "  </thead>\n",
       "  <tbody>\n",
       "    <tr>\n",
       "      <th>7</th>\n",
       "      <td>Добавить форму подписки на все основные страницы, чтобы собрать базу клиентов для email-рассылок</td>\n",
       "      <td>112.0</td>\n",
       "    </tr>\n",
       "    <tr>\n",
       "      <th>2</th>\n",
       "      <td>Добавить блоки рекомендаций товаров на сайт интернет магазина, чтобы повысить конверсию и средний чек заказа</td>\n",
       "      <td>56.0</td>\n",
       "    </tr>\n",
       "    <tr>\n",
       "      <th>0</th>\n",
       "      <td>Добавить два новых канала привлечения трафика, что позволит привлекать на 30% больше пользователей</td>\n",
       "      <td>40.0</td>\n",
       "    </tr>\n",
       "    <tr>\n",
       "      <th>6</th>\n",
       "      <td>Показать на главной странице баннеры с актуальными акциями и распродажами, чтобы увеличить конверсию</td>\n",
       "      <td>40.0</td>\n",
       "    </tr>\n",
       "    <tr>\n",
       "      <th>8</th>\n",
       "      <td>Запустить акцию, дающую скидку на товар в день рождения</td>\n",
       "      <td>16.2</td>\n",
       "    </tr>\n",
       "    <tr>\n",
       "      <th>3</th>\n",
       "      <td>Изменить структура категорий, что увеличит конверсию, т.к. пользователи быстрее найдут нужный товар</td>\n",
       "      <td>9.0</td>\n",
       "    </tr>\n",
       "    <tr>\n",
       "      <th>1</th>\n",
       "      <td>Запустить собственную службу доставки, что сократит срок доставки заказов</td>\n",
       "      <td>4.0</td>\n",
       "    </tr>\n",
       "    <tr>\n",
       "      <th>5</th>\n",
       "      <td>Добавить страницу отзывов клиентов о магазине, что позволит увеличить количество заказов</td>\n",
       "      <td>4.0</td>\n",
       "    </tr>\n",
       "    <tr>\n",
       "      <th>4</th>\n",
       "      <td>Изменить цвет фона главной страницы, чтобы увеличить вовлеченность пользователей</td>\n",
       "      <td>3.0</td>\n",
       "    </tr>\n",
       "  </tbody>\n",
       "</table>\n",
       "</div>"
      ],
      "text/plain": [
       "                                                                                                     hypothesis  \\\n",
       "7              Добавить форму подписки на все основные страницы, чтобы собрать базу клиентов для email-рассылок   \n",
       "2  Добавить блоки рекомендаций товаров на сайт интернет магазина, чтобы повысить конверсию и средний чек заказа   \n",
       "0            Добавить два новых канала привлечения трафика, что позволит привлекать на 30% больше пользователей   \n",
       "6          Показать на главной странице баннеры с актуальными акциями и распродажами, чтобы увеличить конверсию   \n",
       "8                                                       Запустить акцию, дающую скидку на товар в день рождения   \n",
       "3           Изменить структура категорий, что увеличит конверсию, т.к. пользователи быстрее найдут нужный товар   \n",
       "1                                     Запустить собственную службу доставки, что сократит срок доставки заказов   \n",
       "5                      Добавить страницу отзывов клиентов о магазине, что позволит увеличить количество заказов   \n",
       "4                              Изменить цвет фона главной страницы, чтобы увеличить вовлеченность пользователей   \n",
       "\n",
       "   rice_score  \n",
       "7       112.0  \n",
       "2        56.0  \n",
       "0        40.0  \n",
       "6        40.0  \n",
       "8        16.2  \n",
       "3         9.0  \n",
       "1         4.0  \n",
       "5         4.0  \n",
       "4         3.0  "
      ]
     },
     "metadata": {},
     "output_type": "display_data"
    }
   ],
   "source": [
    "display(hypothesis[['hypothesis', 'rice_score']].sort_values('rice_score', ascending = False))"
   ]
  },
  {
   "cell_type": "markdown",
   "metadata": {},
   "source": [
    "По методике RICE вперёд вырывается гипотеза 7 за счёт охвата большего количества пользователей (оценка 10), на втором месте - гипотеза 2, на третьем - гипотезы 0 и 6. Гипотеза 8 переместилась на 5 место из-за оцень низкого уровня охвата (1), т.к. пользователи ознакомятся со спецпредложением только в свой день рождения.\n",
    "\n",
    "Рассмотрим обе оценки на графике:"
   ]
  },
  {
   "cell_type": "code",
   "execution_count": 16,
   "metadata": {},
   "outputs": [],
   "source": [
    "#labels = hypothesis.index\n",
    "#x = np.arange(len(labels))\n",
    "#width = 0.4\n",
    "\n",
    "#fig = plt.figure(figsize = (10,6))\n",
    "\n",
    "#задаём столбчатые диаграммы\n",
    "#bars1 = plt.bar(x-width/2, hypothesis['rice_score'], width, label = 'rice score', alpha = 1)\n",
    "#bars2 = plt.bar(x+width/2, hypothesis['ice_score'], width, label = 'ice score', alpha = 1)\n",
    "#plt.ylabel('Score')\n",
    "#plt.title('Оценки гипотез')\n",
    "#plt.legend()\n",
    "#plt.xticks(x)\n",
    "#plt.show();"
   ]
  },
  {
   "cell_type": "code",
   "execution_count": 17,
   "metadata": {},
   "outputs": [],
   "source": [
    "scores = hypothesis[['ice_score', 'rice_score']].copy().reset_index()\n",
    "\n",
    "scores.columns = ['hypothesis', 'ice_score', 'rice_score']\n",
    "#создаём промежуточную таблицу для построения графика со столбцами - номер гипотезы, тип оценки, оценка.\n",
    "scores_melted = pd.melt(scores, id_vars='hypothesis',\\\n",
    "                           var_name=\"score_type\", value_name=\"scores\")\n",
    "#scores_melted"
   ]
  },
  {
   "cell_type": "code",
   "execution_count": 18,
   "metadata": {},
   "outputs": [
    {
     "data": {
      "image/png": "[encoded data removed]",
      "text/plain": [
       "<Figure size 720x432 with 2 Axes>"
      ]
     },
     "metadata": {
      "needs_background": "light"
     },
     "output_type": "display_data"
    }
   ],
   "source": [
    "#создаём маску для отбора\n",
    "mask = scores_melted.score_type.isin(['ice_score'])\n",
    "#вычисляем величину, на которую будет производиться поправка\n",
    "scale = int(scores_melted[~mask].scores.mean()\n",
    "            /scores_melted[mask].scores.mean())\n",
    "#добавляем поправку\n",
    "scores_melted.loc[mask, 'scores'] = scores_melted.loc[mask, 'scores']*scale\n",
    "\n",
    "# Plot\n",
    "\n",
    "fig, ax1 = plt.subplots(figsize = (10,6))\n",
    "\n",
    "g = sns.barplot(x='hypothesis', y=\"scores\", hue=\"score_type\",\\\n",
    "                data=scores_melted, ax=ax1)\n",
    "\n",
    "# Создаём вторую ось y\n",
    "ax1.set_ylabel('RICE score')\n",
    "ax2 = ax1.twinx()\n",
    "\n",
    "# Скалируем отметки на второй оси\n",
    "ax2.set_ylim(ax1.get_ylim())\n",
    "ax2.set_yticklabels(np.round(ax1.get_yticks()/scale,1))\n",
    "ax2.set_ylabel('ICE score')\n",
    "plt.grid()\n",
    "plt.title('Сравнительная оценка гипотез')\n",
    "ax1.set_xlabel('Гипотеза')\n",
    "plt.show();"
   ]
  },
  {
   "cell_type": "markdown",
   "metadata": {},
   "source": [
    "На диаграмме мы видим, насколько резким был прирост оценок в отношении гипотезы 7."
   ]
  },
  {
   "cell_type": "markdown",
   "metadata": {},
   "source": [
    "### Вывод <a index = info4></a>\n",
    "\n",
    "Мы провели приоритизацию гипотез. По методике ICE лидируют следующие гипотезы:\n",
    "\n",
    "- Запустить акцию, дающую скидку на товар в день рождения (8)\n",
    "- Добавить два новых канала привлечения трафика, что позволит привлекать на 30% больше пользователей (0)\n",
    "- Добавить форму подписки на все основные страницы, чтобы собрать базу клиентов для email-рассылок (7)\n",
    "\n",
    "ПО методике RICE лидируют следующие гипотезы:\n",
    "\n",
    "- Добавить форму подписки на все основные страницы, чтобы собрать базу клиентов для email-рассылок (7)\n",
    "- Добавить блоки рекомендаций товаров на сайт интернет магазина, чтобы повысить конверсию и средний чек заказа (2)\n",
    "- Добавить два новых канала привлечения трафика, что позволит привлекать на 30% больше пользователей (0)\n",
    "\n",
    "Гипотеза 8 обладает слишком малым охватом, а гипотеза 2 при большом охвате обладает слабым влиянием на конечный результат. При выборе гипотезы для проведения A/B-теста предлагаем взять 7 (средний ранг между методиками 2) или 0 (средний ранг между методиками 2,5)."
   ]
  },
  {
   "cell_type": "markdown",
   "metadata": {},
   "source": [
    "### 3. Анализ А/В-теста <a index = info5></a>"
   ]
  },
  {
   "cell_type": "markdown",
   "metadata": {},
   "source": [
    "Исследуем результаты проведённого A/B-текста. Сначала рассмотрим период, за который были собраны данные."
   ]
  },
  {
   "cell_type": "code",
   "execution_count": 19,
   "metadata": {},
   "outputs": [
    {
     "name": "stdout",
     "output_type": "stream",
     "text": [
      "count                      62\n",
      "unique                     31\n",
      "top       2019-08-02 00:00:00\n",
      "freq                        2\n",
      "first     2019-08-01 00:00:00\n",
      "last      2019-08-31 00:00:00\n",
      "Name: date, dtype: object\n"
     ]
    }
   ],
   "source": [
    "# выбираем уникальные комбинации дата-группа\n",
    "dateGroups = orders[['date', 'group']].drop_duplicates()\n",
    "print(dateGroups['date'].describe())\n",
    "#print(dateGroups)"
   ]
  },
  {
   "cell_type": "markdown",
   "metadata": {},
   "source": [
    "Мы видим, что даные собраны за август 2019 года. И значения за каждую дату есть по каждой из групп.\n",
    "\n",
    "#### 3.1. Оценка результатов по \"сырым\" данным\n",
    "\n",
    "Для начала исследуем результаты as is без исключения выбросов.\n",
    "Соберём агрегированные кумулятивные данные о покупках по дням:"
   ]
  },
  {
   "cell_type": "code",
   "execution_count": 20,
   "metadata": {},
   "outputs": [
    {
     "name": "stdout",
     "output_type": "stream",
     "text": [
      "<class 'pandas.core.frame.DataFrame'>\n",
      "RangeIndex: 1197 entries, 0 to 1196\n",
      "Data columns (total 5 columns):\n",
      " #   Column          Non-Null Count  Dtype         \n",
      "---  ------          --------------  -----         \n",
      " 0   transaction_id  1197 non-null   int64         \n",
      " 1   visitor_id      1197 non-null   int64         \n",
      " 2   date            1197 non-null   datetime64[ns]\n",
      " 3   revenue         1197 non-null   int64         \n",
      " 4   group           1197 non-null   object        \n",
      "dtypes: datetime64[ns](1), int64(3), object(1)\n",
      "memory usage: 46.9+ KB\n"
     ]
    }
   ],
   "source": [
    "orders.info()"
   ]
  },
  {
   "cell_type": "code",
   "execution_count": 21,
   "metadata": {},
   "outputs": [
    {
     "name": "stdout",
     "output_type": "stream",
     "text": [
      "count    1197.000000\n",
      "mean        8.348006\n",
      "std        39.191132\n",
      "min         0.050000\n",
      "25%         1.220000\n",
      "50%         2.978000\n",
      "75%         8.290000\n",
      "max      1294.500000\n",
      "Name: revenue_thousand, dtype: float64\n"
     ]
    },
    {
     "data": {
      "image/png": "[encoded data removed]",
      "text/plain": [
       "<Figure size 432x288 with 1 Axes>"
      ]
     },
     "metadata": {
      "needs_background": "light"
     },
     "output_type": "display_data"
    }
   ],
   "source": [
    "orders['revenue_thousand'] = orders['revenue']/1000\n",
    "print(orders['revenue_thousand'].describe())\n",
    "orders['revenue_thousand'].hist(bins = 100)\n",
    "plt.title('Распределение значений выручки')\n",
    "plt.xlabel('Объем выручки, тыс. ед.')\n",
    "plt.ylabel('Кол-во');"
   ]
  },
  {
   "cell_type": "code",
   "execution_count": 22,
   "metadata": {
    "scrolled": true
   },
   "outputs": [
    {
     "data": {
      "text/html": [
       "<div>\n",
       "<style scoped>\n",
       "    .dataframe tbody tr th:only-of-type {\n",
       "        vertical-align: middle;\n",
       "    }\n",
       "\n",
       "    .dataframe tbody tr th {\n",
       "        vertical-align: top;\n",
       "    }\n",
       "\n",
       "    .dataframe thead th {\n",
       "        text-align: right;\n",
       "    }\n",
       "</style>\n",
       "<table border=\"1\" class=\"dataframe\">\n",
       "  <thead>\n",
       "    <tr style=\"text-align: right;\">\n",
       "      <th></th>\n",
       "      <th>date</th>\n",
       "      <th>group</th>\n",
       "      <th>transaction_id</th>\n",
       "      <th>revenue</th>\n",
       "      <th>revenue_thousand</th>\n",
       "    </tr>\n",
       "  </thead>\n",
       "  <tbody>\n",
       "    <tr>\n",
       "      <th>55</th>\n",
       "      <td>2019-08-01</td>\n",
       "      <td>A</td>\n",
       "      <td>24</td>\n",
       "      <td>148579</td>\n",
       "      <td>148.579</td>\n",
       "    </tr>\n",
       "    <tr>\n",
       "      <th>66</th>\n",
       "      <td>2019-08-01</td>\n",
       "      <td>B</td>\n",
       "      <td>21</td>\n",
       "      <td>101217</td>\n",
       "      <td>101.217</td>\n",
       "    </tr>\n",
       "    <tr>\n",
       "      <th>175</th>\n",
       "      <td>2019-08-02</td>\n",
       "      <td>A</td>\n",
       "      <td>44</td>\n",
       "      <td>242401</td>\n",
       "      <td>242.401</td>\n",
       "    </tr>\n",
       "    <tr>\n",
       "      <th>173</th>\n",
       "      <td>2019-08-02</td>\n",
       "      <td>B</td>\n",
       "      <td>45</td>\n",
       "      <td>266748</td>\n",
       "      <td>266.748</td>\n",
       "    </tr>\n",
       "    <tr>\n",
       "      <th>291</th>\n",
       "      <td>2019-08-03</td>\n",
       "      <td>A</td>\n",
       "      <td>68</td>\n",
       "      <td>354874</td>\n",
       "      <td>354.874</td>\n",
       "    </tr>\n",
       "  </tbody>\n",
       "</table>\n",
       "</div>"
      ],
      "text/plain": [
       "          date group  transaction_id  revenue  revenue_thousand\n",
       "55  2019-08-01     A              24   148579           148.579\n",
       "66  2019-08-01     B              21   101217           101.217\n",
       "175 2019-08-02     A              44   242401           242.401\n",
       "173 2019-08-02     B              45   266748           266.748\n",
       "291 2019-08-03     A              68   354874           354.874"
      ]
     },
     "execution_count": 22,
     "metadata": {},
     "output_type": "execute_result"
    }
   ],
   "source": [
    "#получаем аггрегированные данные о транзакциях по дням\n",
    "ordersAggr = (dateGroups.apply(lambda x: orders[(orders['date'] <= x['date']) & (orders['group'] == x['group'])]\n",
    "              .agg({'date': 'max', 'group': 'max', 'transaction_id': 'nunique', 'revenue': 'sum',\\\n",
    "                    'revenue_thousand': 'sum'}), axis =1)\n",
    "              .sort_values(by = ['date', 'group'])\n",
    "             )\n",
    "ordersAggr.head()"
   ]
  },
  {
   "cell_type": "code",
   "execution_count": 23,
   "metadata": {},
   "outputs": [
    {
     "data": {
      "image/png": "[encoded data removed]",
      "text/plain": [
       "<Figure size 864x360 with 1 Axes>"
      ]
     },
     "metadata": {
      "needs_background": "light"
     },
     "output_type": "display_data"
    }
   ],
   "source": [
    "#x = ordersAggr['date'].dt.strftime('%m-%d')\n",
    "#plt.figure(figsize =(12,5))\n",
    "result = (ordersAggr\n",
    "          .pivot_table(values = 'revenue_thousand', index = 'date', aggfunc = 'sum')\n",
    "          .plot(grid = True, label = 'Выручка', figsize =(12,5)));\n",
    "#plt.xticks(x)\n",
    "plt.title('Кумулятивная выручка')\n",
    "plt.xlabel('Дата')\n",
    "plt.ylabel('Выручка, тыс. ед.');"
   ]
  },
  {
   "cell_type": "markdown",
   "metadata": {},
   "source": [
    "Мы видим, что выручка практически равномерно увеличилась по дням с резким скачком между 18 и 19 августа. Похоже, что именно в эту дату был зафиксирован выброс по значениям (1294 тыс. единиц).\n",
    "\n",
    "Соберём группировку кол-во посетителей по датам:"
   ]
  },
  {
   "cell_type": "code",
   "execution_count": 24,
   "metadata": {
    "scrolled": false
   },
   "outputs": [
    {
     "data": {
      "image/png": "[encoded data removed]",
      "text/plain": [
       "<Figure size 864x360 with 1 Axes>"
      ]
     },
     "metadata": {
      "needs_background": "light"
     },
     "output_type": "display_data"
    }
   ],
   "source": [
    "visitorsAggr =  (dateGroups.apply(lambda x: visitors[(visitors['date'] <= x['date']) & (visitors['group'] == x['group'])]\n",
    "              .agg({'date': 'max', 'group': 'max', 'visitors': 'sum'}), axis =1)\n",
    "              .sort_values(by = ['date', 'group']))\n",
    "result2 = (visitorsAggr\n",
    "           .pivot_table(values = 'visitors', index = 'date', aggfunc = 'sum')\n",
    "           .plot(grid = True, label = 'Кол-во посетителей', figsize =(12,5)));\n",
    "plt.title('Кумулятивная посещаемость')\n",
    "plt.xlabel('Дата')\n",
    "plt.ylabel('Кол-во посещений, чел.');"
   ]
  },
  {
   "cell_type": "markdown",
   "metadata": {},
   "source": [
    "Приток посетителей был равномерным без резких скачков. Исследуем данные по группам."
   ]
  },
  {
   "cell_type": "code",
   "execution_count": 25,
   "metadata": {},
   "outputs": [
    {
     "data": {
      "text/html": [
       "<div>\n",
       "<style scoped>\n",
       "    .dataframe tbody tr th:only-of-type {\n",
       "        vertical-align: middle;\n",
       "    }\n",
       "\n",
       "    .dataframe tbody tr th {\n",
       "        vertical-align: top;\n",
       "    }\n",
       "\n",
       "    .dataframe thead th {\n",
       "        text-align: right;\n",
       "    }\n",
       "</style>\n",
       "<table border=\"1\" class=\"dataframe\">\n",
       "  <thead>\n",
       "    <tr style=\"text-align: right;\">\n",
       "      <th></th>\n",
       "      <th>date</th>\n",
       "      <th>group</th>\n",
       "      <th>orders</th>\n",
       "      <th>revenue</th>\n",
       "      <th>revenue_thousand</th>\n",
       "      <th>visitors</th>\n",
       "    </tr>\n",
       "  </thead>\n",
       "  <tbody>\n",
       "    <tr>\n",
       "      <th>0</th>\n",
       "      <td>2019-08-01</td>\n",
       "      <td>A</td>\n",
       "      <td>24</td>\n",
       "      <td>148579</td>\n",
       "      <td>148.579</td>\n",
       "      <td>719</td>\n",
       "    </tr>\n",
       "    <tr>\n",
       "      <th>1</th>\n",
       "      <td>2019-08-01</td>\n",
       "      <td>B</td>\n",
       "      <td>21</td>\n",
       "      <td>101217</td>\n",
       "      <td>101.217</td>\n",
       "      <td>713</td>\n",
       "    </tr>\n",
       "    <tr>\n",
       "      <th>2</th>\n",
       "      <td>2019-08-02</td>\n",
       "      <td>A</td>\n",
       "      <td>44</td>\n",
       "      <td>242401</td>\n",
       "      <td>242.401</td>\n",
       "      <td>1338</td>\n",
       "    </tr>\n",
       "    <tr>\n",
       "      <th>3</th>\n",
       "      <td>2019-08-02</td>\n",
       "      <td>B</td>\n",
       "      <td>45</td>\n",
       "      <td>266748</td>\n",
       "      <td>266.748</td>\n",
       "      <td>1294</td>\n",
       "    </tr>\n",
       "    <tr>\n",
       "      <th>4</th>\n",
       "      <td>2019-08-03</td>\n",
       "      <td>A</td>\n",
       "      <td>68</td>\n",
       "      <td>354874</td>\n",
       "      <td>354.874</td>\n",
       "      <td>1845</td>\n",
       "    </tr>\n",
       "  </tbody>\n",
       "</table>\n",
       "</div>"
      ],
      "text/plain": [
       "        date group  orders  revenue  revenue_thousand  visitors\n",
       "0 2019-08-01     A      24   148579           148.579       719\n",
       "1 2019-08-01     B      21   101217           101.217       713\n",
       "2 2019-08-02     A      44   242401           242.401      1338\n",
       "3 2019-08-02     B      45   266748           266.748      1294\n",
       "4 2019-08-03     A      68   354874           354.874      1845"
      ]
     },
     "execution_count": 25,
     "metadata": {},
     "output_type": "execute_result"
    }
   ],
   "source": [
    "aggrData = ordersAggr.merge(visitorsAggr, left_on = ['date', 'group'], right_on = ['date','group'])\n",
    "aggrData = aggrData.rename(columns = ({'transaction_id': 'orders'}))\n",
    "aggrData.head()\n"
   ]
  },
  {
   "cell_type": "code",
   "execution_count": 26,
   "metadata": {},
   "outputs": [
    {
     "data": {
      "image/png": "[encoded data removed]",
      "text/plain": [
       "<Figure size 936x432 with 1 Axes>"
      ]
     },
     "metadata": {
      "needs_background": "light"
     },
     "output_type": "display_data"
    }
   ],
   "source": [
    "revAggr_A = aggrData[aggrData['group'] == 'A'][['date', 'revenue_thousand']]\n",
    "revAggr_B = aggrData[aggrData['group'] == 'B'][['date', 'revenue_thousand']]\n",
    "plt.figure(figsize = (13,6))\n",
    "plt.plot(revAggr_A['date'].dt.strftime('%d'), revAggr_A['revenue_thousand'], label = 'A')\n",
    "plt.plot(revAggr_B['date'].dt.strftime('%d'), revAggr_B['revenue_thousand'], label = 'B')\n",
    "plt.legend()\n",
    "plt.title('Кумулятивная выручка по группам')\n",
    "plt.xlabel('День месяца')\n",
    "plt.ylabel('Выручка, тыс. ед.')\n",
    "plt.grid();"
   ]
  },
  {
   "cell_type": "markdown",
   "metadata": {},
   "source": [
    "Мы видим, что кумулятивная выручка по группе B резко вырывается вперёд. Однако данный эффект, судя по скачку 18.08, возник из-за экстремально крупного заказа. Поэтому для правильной оценки результатов по группам необходимо в дальнейшем исключить выбивающиеся значения.\n",
    "\n",
    "Рассмотрим разницу в значениях среднего чека по группам."
   ]
  },
  {
   "cell_type": "code",
   "execution_count": 27,
   "metadata": {},
   "outputs": [],
   "source": [
    "#делаем расчёт среднего чека\n",
    "aggrData['avg_order'] = aggrData['revenue']/aggrData['orders']\n",
    "aggrData['avg_order_round'] = aggrData['revenue_thousand']/aggrData['orders']"
   ]
  },
  {
   "cell_type": "code",
   "execution_count": 28,
   "metadata": {},
   "outputs": [],
   "source": [
    "# формируем функцию для рисования графиков\n",
    "def graph_building(frame, check_column, param_name, y_name, check_type): \n",
    "    # параметры: название фрейма, исследуемая колонка,\\\n",
    "    #имя параметра, тип оценки (0 - абсолютная, 1 - относительная)\n",
    "    if check_type == 0:\n",
    "        Aggr_A = frame[frame['group'] == 'A'][['date', check_column]]\n",
    "        Aggr_B = frame[frame['group'] == 'B'][['date', check_column]]\n",
    "        plt.figure(figsize = (13,6))\n",
    "        plt.plot(Aggr_A['date'].dt.strftime('%d'), Aggr_A[check_column], label = 'A')\n",
    "        plt.plot(Aggr_B['date'].dt.strftime('%d'), Aggr_B[check_column], label = 'B')\n",
    "        plt.legend()\n",
    "        plt.title(param_name)\n",
    "        plt.xlabel('День месяца')\n",
    "        plt.ylabel(y_name);\n",
    "        #добавляем постройку графика для расчета относительных различий\n",
    "    else:\n",
    "        Aggr_A = frame[frame['group'] == 'A'][['date', check_column]]\n",
    "        Aggr_B = frame[frame['group'] == 'B'][['date', check_column]]\n",
    "        Aggr_AB = Aggr_A.merge(Aggr_B, left_on = 'date', right_on = 'date', how = 'left', suffixes = ['A', 'B'])\n",
    "        a_name = check_column + 'A'\n",
    "        b_name = check_column + 'B'\n",
    "        plt.figure(figsize = (13,6))\n",
    "        plt.plot(Aggr_AB['date'].dt.strftime('%d'),(Aggr_AB[b_name]/Aggr_AB[a_name])-1)\n",
    "        plt.axhline(y=0, color = 'black', linestyle = '--')\n",
    "        plt.title('Относительное ' + param_name)\n",
    "        plt.xlabel('День месяца')\n",
    "        plt.ylabel('Относительное изменение');"
   ]
  },
  {
   "cell_type": "code",
   "execution_count": 29,
   "metadata": {},
   "outputs": [
    {
     "data": {
      "image/png": "[encoded data removed]",
      "text/plain": [
       "<Figure size 936x432 with 1 Axes>"
      ]
     },
     "metadata": {
      "needs_background": "light"
     },
     "output_type": "display_data"
    }
   ],
   "source": [
    "graph_building(aggrData, 'avg_order_round', 'Изменение кумулятивного среднего чека по группам', 'Средний чек, тыс.ед.', 0)"
   ]
  },
  {
   "cell_type": "markdown",
   "metadata": {},
   "source": [
    "Кумулятивный средний чек группы B резко вырывается вперёд 18 августа из-за аномально крупного заказа. В текущем состоянии рассматриваемых фреймов группа B показывает большую эффективность (но это может оказаться ложным и требует дальнейшего исследования).\n",
    "\n",
    "Исследуем относительное различие среднего чека:"
   ]
  },
  {
   "cell_type": "code",
   "execution_count": 30,
   "metadata": {},
   "outputs": [
    {
     "data": {
      "image/png": "[encoded data removed]",
      "text/plain": [
       "<Figure size 936x432 with 1 Axes>"
      ]
     },
     "metadata": {
      "needs_background": "light"
     },
     "output_type": "display_data"
    }
   ],
   "source": [
    "graph_building(aggrData, 'avg_order_round', 'изменение кумулятивного среднего чека','', 1)"
   ]
  },
  {
   "cell_type": "markdown",
   "metadata": {},
   "source": [
    "Группа B уступает в самом начале, но почти сразу вырывается вперёд и стабилизируется на уровне 0.3. Наличие скачков (например, 13.08 и 18.08) может сигнализировать о выбросах в данных по группам.\n",
    "\n",
    "Перейдём к рассмотрению такого показателя как **конверсия**.  "
   ]
  },
  {
   "cell_type": "code",
   "execution_count": 31,
   "metadata": {},
   "outputs": [],
   "source": [
    "aggrData['conversion'] = aggrData['orders']/aggrData['visitors']"
   ]
  },
  {
   "cell_type": "code",
   "execution_count": 32,
   "metadata": {
    "scrolled": false
   },
   "outputs": [
    {
     "data": {
      "image/png": "[encoded data removed]",
      "text/plain": [
       "<Figure size 936x432 with 1 Axes>"
      ]
     },
     "metadata": {
      "needs_background": "light"
     },
     "output_type": "display_data"
    }
   ],
   "source": [
    "graph_building(aggrData, 'conversion', 'Изменение конверсии по группам', 'Уровень конверсии', 0)"
   ]
  },
  {
   "cell_type": "markdown",
   "metadata": {},
   "source": [
    "После скачков на начальном этапе мы видим, что различия практически стабилизировались к концу рассматриваемого периода, показав преимущество группы B (различие в 0.005 в конце исследуемого периода)."
   ]
  },
  {
   "cell_type": "code",
   "execution_count": 33,
   "metadata": {
    "scrolled": false
   },
   "outputs": [
    {
     "data": {
      "image/png": "[encoded data removed]",
      "text/plain": [
       "<Figure size 936x432 with 1 Axes>"
      ]
     },
     "metadata": {
      "needs_background": "light"
     },
     "output_type": "display_data"
    }
   ],
   "source": [
    "graph_building(aggrData, 'conversion', 'изменение конверсии группы B к группе A', '', 1)"
   ]
  },
  {
   "cell_type": "markdown",
   "metadata": {},
   "source": [
    "Относительное изменение конверсии подтверждает предыдущий график - итоговый прирост конверсии составил около 15%.\n",
    "\n",
    "Посчитаем статистическую значимость различия конверсии и среднего чека между группами. Проверку будем осуществлять критерием Манна-Уитни:"
   ]
  },
  {
   "cell_type": "code",
   "execution_count": 34,
   "metadata": {},
   "outputs": [],
   "source": [
    "#выбираем кол-во заказов от пользователей группы А\n",
    "orders_users_A = (orders[orders['group'] == 'A']\n",
    "                  .groupby('visitor_id', as_index = False)\n",
    "                  .agg({'transaction_id': 'nunique'}))\n",
    "orders_users_A.columns = ['visitor_id', 'orders']\n",
    "# выбираем кол-во заказов от пользователей группы B\n",
    "orders_users_B = (orders[orders['group'] == 'B']\n",
    "                  .groupby('visitor_id', as_index = False)\n",
    "                  .agg({'transaction_id': 'nunique'}))\n",
    "orders_users_B.columns = ['visitor_id', 'orders']"
   ]
  },
  {
   "cell_type": "code",
   "execution_count": 35,
   "metadata": {},
   "outputs": [
    {
     "data": {
      "text/html": [
       "<div>\n",
       "<style scoped>\n",
       "    .dataframe tbody tr th:only-of-type {\n",
       "        vertical-align: middle;\n",
       "    }\n",
       "\n",
       "    .dataframe tbody tr th {\n",
       "        vertical-align: top;\n",
       "    }\n",
       "\n",
       "    .dataframe thead th {\n",
       "        text-align: right;\n",
       "    }\n",
       "</style>\n",
       "<table border=\"1\" class=\"dataframe\">\n",
       "  <thead>\n",
       "    <tr style=\"text-align: right;\">\n",
       "      <th></th>\n",
       "      <th>date</th>\n",
       "      <th>group</th>\n",
       "      <th>visitors</th>\n",
       "    </tr>\n",
       "  </thead>\n",
       "  <tbody>\n",
       "    <tr>\n",
       "      <th>0</th>\n",
       "      <td>2019-08-01</td>\n",
       "      <td>A</td>\n",
       "      <td>719</td>\n",
       "    </tr>\n",
       "    <tr>\n",
       "      <th>1</th>\n",
       "      <td>2019-08-02</td>\n",
       "      <td>A</td>\n",
       "      <td>619</td>\n",
       "    </tr>\n",
       "    <tr>\n",
       "      <th>2</th>\n",
       "      <td>2019-08-03</td>\n",
       "      <td>A</td>\n",
       "      <td>507</td>\n",
       "    </tr>\n",
       "    <tr>\n",
       "      <th>3</th>\n",
       "      <td>2019-08-04</td>\n",
       "      <td>A</td>\n",
       "      <td>717</td>\n",
       "    </tr>\n",
       "    <tr>\n",
       "      <th>4</th>\n",
       "      <td>2019-08-05</td>\n",
       "      <td>A</td>\n",
       "      <td>756</td>\n",
       "    </tr>\n",
       "  </tbody>\n",
       "</table>\n",
       "</div>"
      ],
      "text/plain": [
       "        date group  visitors\n",
       "0 2019-08-01     A       719\n",
       "1 2019-08-02     A       619\n",
       "2 2019-08-03     A       507\n",
       "3 2019-08-04     A       717\n",
       "4 2019-08-05     A       756"
      ]
     },
     "execution_count": 35,
     "metadata": {},
     "output_type": "execute_result"
    }
   ],
   "source": [
    "visitors_date_A = visitors[visitors['group'] == 'A']\n",
    "visitors_date_B = visitors[visitors['group'] == 'B']\n",
    "visitors_date_A.head()"
   ]
  },
  {
   "cell_type": "code",
   "execution_count": 36,
   "metadata": {},
   "outputs": [
    {
     "data": {
      "text/plain": [
       "0    1\n",
       "1    1\n",
       "2    1\n",
       "3    1\n",
       "4    1\n",
       "Name: orders, dtype: int64"
      ]
     },
     "metadata": {},
     "output_type": "display_data"
    }
   ],
   "source": [
    "#формируем series для оценки конверсии\n",
    "#поставим каждому из пользователей от первого до последнего количество заказов\n",
    "# для не заказывавших пользователей проставим нули\n",
    "# т.е. сшиваем комбинацию пользователь-количество заказов с \"кол-во пользователей, не заказавших, но зашедших\"-0\n",
    "sampleA = pd.concat([orders_users_A['orders'], pd.Series(0, index = np.arange(visitors_date_A['visitors'].sum()-\\\n",
    "                                                                            len(orders_users_A['orders'])),\n",
    "                                                       name ='orders')],axis = 0)\n",
    "sampleB = pd.concat([orders_users_B['orders'], pd.Series(0, index = np.arange(visitors_date_B['visitors'].sum()-\\\n",
    "                                                                            len(orders_users_B['orders'])),\n",
    "                                                       name ='orders')],axis = 0)\n",
    "display(sampleA.head())"
   ]
  },
  {
   "cell_type": "markdown",
   "metadata": {},
   "source": [
    "Мы создали две переменных, средние в которых будут давать нам суммарную конверсию по группам. Для критерия Манна-Уитни зададим нулевую гипотезу **H0**: конверсии групп A и B не имеют статистически значимых различий. Альтернативная гипотеза **H1** - между конверсиями групп есть статистически значимые различия. Уровень значимости (alpha) установим на уровне **0.05**."
   ]
  },
  {
   "cell_type": "code",
   "execution_count": 37,
   "metadata": {},
   "outputs": [],
   "source": [
    "#создаём функцию для проведения статистического теста\n",
    "def mv_test(groupA, groupB, alpha_value):\n",
    "    alpha = alpha_value\n",
    "    results = st.mannwhitneyu(groupA, groupB)\n",
    "    print('p-value: {:.4f}'.format(results.pvalue))\n",
    "    if (results.pvalue < alpha):\n",
    "        print('Отвергаем нулевую гипотезу: разница статистически значима')\n",
    "    else:\n",
    "        print('Невозможно отвергнуть нулевую гипотезу')"
   ]
  },
  {
   "cell_type": "code",
   "execution_count": 38,
   "metadata": {},
   "outputs": [
    {
     "name": "stdout",
     "output_type": "stream",
     "text": [
      "Конверсия группы A: 2.973%\n",
      "Конверсия группы B: 3.383%\n",
      "Отностительная разница конверсий: 13.81%\n",
      "p-value: 0.0084\n",
      "Отвергаем нулевую гипотезу: разница статистически значима\n"
     ]
    }
   ],
   "source": [
    "print('Конверсия группы A: {:.3%}'.format(sampleA.mean()))\n",
    "print('Конверсия группы B: {:.3%}'.format(sampleB.mean()))\n",
    "print('Отностительная разница конверсий: {:.2%}'.format((sampleB.mean()/sampleA.mean())-1))\n",
    "mv_test(sampleA, sampleB, 0.05)"
   ]
  },
  {
   "cell_type": "markdown",
   "metadata": {},
   "source": [
    "Статистический тест показал, что разница конверсий статистически значима. Т.е. конверсия действительно увеличилась в группе B.\n",
    "Исследуем разницу среднего чека. Нулевая гипотеза **H0**: нет статистически значимой разницы между средними чеками групп A и B. Альтернативная гипотеза  **H1**: есть значимое различие между средними чеками в группах A и B. Уровень значимости (alpha) установим на уровне **0.05**."
   ]
  },
  {
   "cell_type": "code",
   "execution_count": 39,
   "metadata": {},
   "outputs": [
    {
     "name": "stdout",
     "output_type": "stream",
     "text": [
      "Отностительная разница средних чеков: 25.87%\n",
      "p-value: 0.3646\n",
      "Невозможно отвергнуть нулевую гипотезу\n"
     ]
    }
   ],
   "source": [
    "revenueA = orders[orders['group'] == 'A']['revenue']\n",
    "revenueB = orders[orders['group'] == 'B']['revenue']\n",
    "print('Отностительная разница средних чеков: {:.2%}'.format((revenueB.mean()/revenueA.mean())-1))\n",
    "mv_test(revenueA, revenueB, 0.05)"
   ]
  },
  {
   "cell_type": "markdown",
   "metadata": {},
   "source": [
    "Статистический тест показал, что мы не можем отвергнуть нулевую гипотезу. Это значит, что нет статистически значимой разницы между средними чеками данных групп, а относительная разница в 25% объясняется выбросами по величине заказов в группе B.\n",
    "\n",
    "#### 3.2. Анализ очищенных данных\n",
    "\n",
    "Теперь оценим результаты тестирования, если очистить данные от выбросов. Оценим, насколько велики выбросы и определим границы, по которым будем отсекать клиентов."
   ]
  },
  {
   "cell_type": "code",
   "execution_count": 40,
   "metadata": {},
   "outputs": [],
   "source": [
    "def extremes(frame, col, name): #создаём функцию для постройки гистограммы и диаграммы разброса\n",
    "    # аргументы - имя фрейма, имя столбца, название величины\n",
    "    #fig, (ax1, ax2) = plt.subplots(1, 2, figsize = (14, 7))\n",
    "    plt.hist(frame[col])\n",
    "    plt.title('Распределение значений показателя ' + name)\n",
    "    plt.xlabel(name)\n",
    "    plt.ylabel('Количество совпадений');\n",
    "    plt.show()\n",
    "    colormap = np.array(['orange', 'blue'])\n",
    "    x_values1 = pd.Series(range(0, len(frame[frame['group']=='A'][col])))\n",
    "    x_values2 = pd.Series(range(0, len(frame[frame['group']=='B'][col])))\n",
    "    plt.scatter(x_values1, frame[frame['group']=='A'][col], c='orange', alpha=0.5, label = 'A')\n",
    "    plt.scatter(x_values2, frame[frame['group']=='B'][col], c='blue', alpha = 0.5, label = 'B')\n",
    "    plt.legend()\n",
    "    plt.xlabel('Наблюдения')\n",
    "    plt.ylabel(name)\n",
    "    plt.title('Разброс значений показателя ' + name);\n",
    "    print()\n",
    "    print('95 персентиль по показателю', name, ':{:.0f}'.format(frame[col].quantile(0.95)))\n",
    "    print('99 персентиль по показателю', name, ':{:.0f}'.format(frame[col].quantile(0.99)))"
   ]
  },
  {
   "cell_type": "markdown",
   "metadata": {},
   "source": [
    "Проверим выбросы в выручке:"
   ]
  },
  {
   "cell_type": "code",
   "execution_count": 41,
   "metadata": {},
   "outputs": [
    {
     "data": {
      "image/png": "[encoded data removed]",
      "text/plain": [
       "<Figure size 432x288 with 1 Axes>"
      ]
     },
     "metadata": {
      "needs_background": "light"
     },
     "output_type": "display_data"
    },
    {
     "name": "stdout",
     "output_type": "stream",
     "text": [
      "\n",
      "95 персентиль по показателю Выручка :28\n",
      "99 персентиль по показателю Выручка :58\n"
     ]
    },
    {
     "data": {
      "image/png": "[encoded data removed]",
      "text/plain": [
       "<Figure size 432x288 with 1 Axes>"
      ]
     },
     "metadata": {
      "needs_background": "light"
     },
     "output_type": "display_data"
    }
   ],
   "source": [
    "orders['revenue_thousand'] = orders['revenue']/1000\n",
    "extremes(orders, 'revenue_thousand', 'Выручка')"
   ]
  },
  {
   "cell_type": "markdown",
   "metadata": {},
   "source": [
    "Мы видим, что в выручке было несколько выбросов, существенно повлиявших на совокупность. Поскольку 99% значений показателя находятся ниже 58 тыс. ед., то считаем возможным установить верхнюю границу в 60 тыс. ед.\n",
    "\n",
    "Рассмотрим количество заказов на одного клиента:"
   ]
  },
  {
   "cell_type": "code",
   "execution_count": 42,
   "metadata": {},
   "outputs": [
    {
     "data": {
      "image/png": "[encoded data removed]",
      "text/plain": [
       "<Figure size 432x288 with 1 Axes>"
      ]
     },
     "metadata": {
      "needs_background": "light"
     },
     "output_type": "display_data"
    },
    {
     "name": "stdout",
     "output_type": "stream",
     "text": [
      "\n",
      "95 персентиль по показателю Количество заказов :2\n",
      "99 персентиль по показателю Количество заказов :4\n"
     ]
    },
    {
     "data": {
      "image/png": "[encoded data removed]",
      "text/plain": [
       "<Figure size 432x288 with 1 Axes>"
      ]
     },
     "metadata": {
      "needs_background": "light"
     },
     "output_type": "display_data"
    }
   ],
   "source": [
    "orders_per_user = orders.groupby(['visitor_id', 'group'], as_index = False).agg({'transaction_id':'nunique'})\n",
    "orders_per_user.columns = ['visitor_id','group', 'order_num']\n",
    "extremes(orders_per_user, 'order_num', 'Количество заказов')"
   ]
  },
  {
   "cell_type": "markdown",
   "metadata": {},
   "source": [
    "Среди клиентов есть определённый разброс по количеству заказов. Большинство клиентов не совершало более 4 заказов за период. Однако мы видим на диаграмме, что клиентов с 4 заказами критически мало. В связи с этим предлагаем установить границу количества заказов на уровне **3**.\n",
    "\n",
    "Подсчитаем число выбивающихся пользователей, исключим их из совокупностей и повторим статистические тесты."
   ]
  },
  {
   "cell_type": "code",
   "execution_count": 43,
   "metadata": {},
   "outputs": [
    {
     "name": "stdout",
     "output_type": "stream",
     "text": [
      "1099    148427295\n",
      "45      199603092\n",
      "58      237748145\n",
      "949     887908475\n",
      "744     888512513\n",
      "Name: visitor_id, dtype: int64\n",
      "Кол-во пользователей с отклонениями 19\n"
     ]
    }
   ],
   "source": [
    "extreme_quant = orders_per_user[orders_per_user['order_num'] > 3]['visitor_id']\n",
    "extreme_sum = orders[orders['revenue_thousand'] > 60]['visitor_id']\n",
    "extreme_users = pd.concat([extreme_quant, extreme_sum], axis = 0).drop_duplicates().sort_values()\n",
    "print(extreme_users.head())\n",
    "print('Кол-во пользователей с отклонениями',len(extreme_users))"
   ]
  },
  {
   "cell_type": "markdown",
   "metadata": {},
   "source": [
    "Мы получили, что количество пользователей с отклонениями составило 23 человека. Проверим, насколько изменятся оценки статистик. Уровень значимости (alpha) установим на уровне 0.05.\n",
    "\n",
    "1. Рассчитаем конверсию"
   ]
  },
  {
   "cell_type": "code",
   "execution_count": 44,
   "metadata": {},
   "outputs": [
    {
     "name": "stdout",
     "output_type": "stream",
     "text": [
      "Конверсия группы A: 2.767%\n",
      "Конверсия группы B: 3.190%\n",
      "Отностительная разница конверсий: 15.29%\n",
      "p-value: 0.0064\n",
      "Отвергаем нулевую гипотезу: разница статистически значима\n"
     ]
    }
   ],
   "source": [
    "sampleA_n = pd.concat([orders_users_A[~orders_users_A['visitor_id'].isin(extreme_users)]['orders']\\\n",
    "                       , pd.Series(0, index = np.arange(visitors_date_A['visitors'].sum()-\\\n",
    "                                                                            len(orders_users_A['orders'])),\n",
    "                                                       name ='orders')],axis = 0)\n",
    "sampleB_n = pd.concat([orders_users_B[~orders_users_B['visitor_id'].isin(extreme_users)]['orders']\\\n",
    "                       , pd.Series(0, index = np.arange(visitors_date_B['visitors'].sum()-\\\n",
    "                                                                            len(orders_users_B['orders'])),\n",
    "                                                       name ='orders')],axis = 0)\n",
    "print('Конверсия группы A: {:.3%}'.format(sampleA_n.mean()))\n",
    "print('Конверсия группы B: {:.3%}'.format(sampleB_n.mean()))\n",
    "print('Отностительная разница конверсий: {:.2%}'.format((sampleB_n.mean()/sampleA_n.mean())-1))\n",
    "mv_test(sampleA_n, sampleB_n, 0.05)"
   ]
  },
  {
   "cell_type": "markdown",
   "metadata": {},
   "source": [
    "Значения схожи с теми, что мы получали ранее (Конверсия группы A: 2.973%\n",
    "Конверсия группы B: 3.383%). p-value стал даже меньше (с 0.0084 до 0.0062), что подтверждает то, что разница конверсий статистически значима.\n",
    "\n",
    "2. Исследуем средний чек"
   ]
  },
  {
   "cell_type": "code",
   "execution_count": 45,
   "metadata": {},
   "outputs": [
    {
     "name": "stdout",
     "output_type": "stream",
     "text": [
      "Отностительная разница средних чеков: -0.05%\n",
      "p-value: 0.4604\n",
      "Невозможно отвергнуть нулевую гипотезу\n"
     ]
    }
   ],
   "source": [
    "revenueA_n = orders[(orders['group'] == 'A')&(~orders['visitor_id'].isin(extreme_users))]['revenue']\n",
    "revenueB_n = orders[(orders['group'] == 'B')&(~orders['visitor_id'].isin(extreme_users))]['revenue']\n",
    "print('Отностительная разница средних чеков: {:.2%}'.format((revenueB_n.mean()/revenueA_n.mean())-1))\n",
    "mv_test(revenueA_n, revenueB_n, 0.05)"
   ]
  },
  {
   "cell_type": "markdown",
   "metadata": {},
   "source": [
    "Мы видим, что с удалением выбросов относительная разница среднего чека практически нивелировалась. p-value выросла с 0.36 до 0.47, что позволяет заключить, что изменения не повлияли на средний чек покупки."
   ]
  },
  {
   "cell_type": "markdown",
   "metadata": {},
   "source": [
    "### 4. Общий вывод <a index = info6></a>"
   ]
  },
  {
   "cell_type": "markdown",
   "metadata": {},
   "source": [
    "В ходе анализа деятельности интернет-магазина были получены следующие результаты.\n",
    "\n",
    "1) Мы провели приоритизацию гипотез. По методике ICE лидируют следующие гипотезы:\n",
    "\n",
    "- Запустить акцию, дающую скидку на товар в день рождения (8)\n",
    "- Добавить два новых канала привлечения трафика, что позволит привлекать на 30% больше пользователей (0)\n",
    "- Добавить форму подписки на все основные страницы, чтобы собрать базу клиентов для email-рассылок (7)\n",
    "\n",
    "ПО методике RICE лидируют следующие гипотезы:\n",
    "\n",
    "- Добавить форму подписки на все основные страницы, чтобы собрать базу клиентов для email-рассылок (7)\n",
    "- Добавить блоки рекомендаций товаров на сайт интернет магазина, чтобы повысить конверсию и средний чек заказа (2)\n",
    "- Добавить два новых канала привлечения трафика, что позволит привлекать на 30% больше пользователей (0)\n",
    "\n",
    "Учитывая характеристики гипотез, считаем целесообразным взять для проведения A/B-теста гипотезы 7 (средний ранг между методиками 2) или 0 (средний ранг между методиками 2,5).\n",
    "\n",
    "2) Анализ A/B тестирования\n",
    "\n",
    "Анализ показал, что в группе B конверсия увеличилась по сравнению с группой А -\n",
    "\n",
    "- Конверсия группы A: 2.973% (без выбросов - 2.725%)\n",
    "- Конверсия группы B: 3.383% (без выбросов - 3.143%)\n",
    "\n",
    "Прирост составил 13.81% (без выбросов - 15.35%). Изменение конверсии является статистически значимым.\n",
    "\n",
    "Изменения, применённые к группе B, не повлияли на средний чек.\n",
    "\n",
    "По результатам тестов группа B показала статистически значимое увеличение конверсии, в связи с чем предлагаем остановить тестирование, признав успешность варианта B с поправкой на то, что изменения не повлияли на размер среднего чека."
   ]
  }
 ],
 "metadata": {
  "kernelspec": {
   "display_name": "Python 3",
   "language": "python",
   "name": "python3"
  },
  "language_info": {
   "codemirror_mode": {
    "name": "ipython",
    "version": 3
   },
   "file_extension": ".py",
   "mimetype": "text/x-python",
   "name": "python",
   "nbconvert_exporter": "python",
   "pygments_lexer": "ipython3",
   "version": "3.8.5"
  }
 },
 "nbformat": 4,
 "nbformat_minor": 4
}
